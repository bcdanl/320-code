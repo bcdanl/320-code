{
  "nbformat": 4,
  "nbformat_minor": 0,
  "metadata": {
    "colab": {
      "provenance": [],
      "authorship_tag": "ABX9TyN9X4LfQgiVHsSPsJp+WYFG",
      "include_colab_link": true
    },
    "kernelspec": {
      "name": "python3",
      "display_name": "Python 3"
    },
    "language_info": {
      "name": "python"
    }
  },
  "cells": [
    {
      "cell_type": "markdown",
      "metadata": {
        "id": "view-in-github",
        "colab_type": "text"
      },
      "source": [
        "<a href=\"https://colab.research.google.com/github/bcdanl/320-code/blob/main/danl320_script_2025_0210.ipynb\" target=\"_parent\"><img src=\"https://colab.research.google.com/assets/colab-badge.svg\" alt=\"Open In Colab\"/></a>"
      ]
    },
    {
      "cell_type": "code",
      "execution_count": 1,
      "metadata": {
        "id": "yDKZn2cCi5aY"
      },
      "outputs": [],
      "source": [
        "from pyspark.sql import SparkSession\n",
        "spark = SparkSession.builder.master(\"local[*]\").getOrCreate()"
      ]
    },
    {
      "cell_type": "code",
      "source": [
        "import pandas as pd\n",
        "df_pd = pd.read_csv('https://bcdanl.github.io/data/nba.csv')\n",
        "df = spark.createDataFrame(df_pd)"
      ],
      "metadata": {
        "id": "0g_-APJxo34X"
      },
      "execution_count": 2,
      "outputs": []
    },
    {
      "cell_type": "code",
      "source": [
        "df_pd"
      ],
      "metadata": {
        "colab": {
          "base_uri": "https://localhost:8080/",
          "height": 419
        },
        "id": "9HHwv2Mbo8cM",
        "outputId": "13fd82bd-dec0-4403-bf17-343d0ade5d2c"
      },
      "execution_count": 3,
      "outputs": [
        {
          "output_type": "execute_result",
          "data": {
            "text/plain": [
              "               Name                 Team Position  Birthday    Salary\n",
              "0      Shake Milton   Philadelphia 76ers       SG   9/26/96   1445697\n",
              "1    Christian Wood      Detroit Pistons       PF   9/27/95   1645357\n",
              "2     PJ Washington    Charlotte Hornets       PF   8/23/98   3831840\n",
              "3      Derrick Rose      Detroit Pistons       PG   10/4/88   7317074\n",
              "4     Marial Shayok   Philadelphia 76ers        G   7/26/95     79568\n",
              "..              ...                  ...      ...       ...       ...\n",
              "445   Austin Rivers      Houston Rockets       PG    8/1/92   2174310\n",
              "446     Harry Giles     Sacramento Kings       PF   4/22/98   2578800\n",
              "447     Robin Lopez      Milwaukee Bucks        C    4/1/88   4767000\n",
              "448   Collin Sexton  Cleveland Cavaliers       PG    1/4/99   4764960\n",
              "449     Ricky Rubio         Phoenix Suns       PG  10/21/90  16200000\n",
              "\n",
              "[450 rows x 5 columns]"
            ],
            "text/html": [
              "\n",
              "  <div id=\"df-04c1e86d-7526-4c01-9c48-be3d716b9932\" class=\"colab-df-container\">\n",
              "    <div>\n",
              "<style scoped>\n",
              "    .dataframe tbody tr th:only-of-type {\n",
              "        vertical-align: middle;\n",
              "    }\n",
              "\n",
              "    .dataframe tbody tr th {\n",
              "        vertical-align: top;\n",
              "    }\n",
              "\n",
              "    .dataframe thead th {\n",
              "        text-align: right;\n",
              "    }\n",
              "</style>\n",
              "<table border=\"1\" class=\"dataframe\">\n",
              "  <thead>\n",
              "    <tr style=\"text-align: right;\">\n",
              "      <th></th>\n",
              "      <th>Name</th>\n",
              "      <th>Team</th>\n",
              "      <th>Position</th>\n",
              "      <th>Birthday</th>\n",
              "      <th>Salary</th>\n",
              "    </tr>\n",
              "  </thead>\n",
              "  <tbody>\n",
              "    <tr>\n",
              "      <th>0</th>\n",
              "      <td>Shake Milton</td>\n",
              "      <td>Philadelphia 76ers</td>\n",
              "      <td>SG</td>\n",
              "      <td>9/26/96</td>\n",
              "      <td>1445697</td>\n",
              "    </tr>\n",
              "    <tr>\n",
              "      <th>1</th>\n",
              "      <td>Christian Wood</td>\n",
              "      <td>Detroit Pistons</td>\n",
              "      <td>PF</td>\n",
              "      <td>9/27/95</td>\n",
              "      <td>1645357</td>\n",
              "    </tr>\n",
              "    <tr>\n",
              "      <th>2</th>\n",
              "      <td>PJ Washington</td>\n",
              "      <td>Charlotte Hornets</td>\n",
              "      <td>PF</td>\n",
              "      <td>8/23/98</td>\n",
              "      <td>3831840</td>\n",
              "    </tr>\n",
              "    <tr>\n",
              "      <th>3</th>\n",
              "      <td>Derrick Rose</td>\n",
              "      <td>Detroit Pistons</td>\n",
              "      <td>PG</td>\n",
              "      <td>10/4/88</td>\n",
              "      <td>7317074</td>\n",
              "    </tr>\n",
              "    <tr>\n",
              "      <th>4</th>\n",
              "      <td>Marial Shayok</td>\n",
              "      <td>Philadelphia 76ers</td>\n",
              "      <td>G</td>\n",
              "      <td>7/26/95</td>\n",
              "      <td>79568</td>\n",
              "    </tr>\n",
              "    <tr>\n",
              "      <th>...</th>\n",
              "      <td>...</td>\n",
              "      <td>...</td>\n",
              "      <td>...</td>\n",
              "      <td>...</td>\n",
              "      <td>...</td>\n",
              "    </tr>\n",
              "    <tr>\n",
              "      <th>445</th>\n",
              "      <td>Austin Rivers</td>\n",
              "      <td>Houston Rockets</td>\n",
              "      <td>PG</td>\n",
              "      <td>8/1/92</td>\n",
              "      <td>2174310</td>\n",
              "    </tr>\n",
              "    <tr>\n",
              "      <th>446</th>\n",
              "      <td>Harry Giles</td>\n",
              "      <td>Sacramento Kings</td>\n",
              "      <td>PF</td>\n",
              "      <td>4/22/98</td>\n",
              "      <td>2578800</td>\n",
              "    </tr>\n",
              "    <tr>\n",
              "      <th>447</th>\n",
              "      <td>Robin Lopez</td>\n",
              "      <td>Milwaukee Bucks</td>\n",
              "      <td>C</td>\n",
              "      <td>4/1/88</td>\n",
              "      <td>4767000</td>\n",
              "    </tr>\n",
              "    <tr>\n",
              "      <th>448</th>\n",
              "      <td>Collin Sexton</td>\n",
              "      <td>Cleveland Cavaliers</td>\n",
              "      <td>PG</td>\n",
              "      <td>1/4/99</td>\n",
              "      <td>4764960</td>\n",
              "    </tr>\n",
              "    <tr>\n",
              "      <th>449</th>\n",
              "      <td>Ricky Rubio</td>\n",
              "      <td>Phoenix Suns</td>\n",
              "      <td>PG</td>\n",
              "      <td>10/21/90</td>\n",
              "      <td>16200000</td>\n",
              "    </tr>\n",
              "  </tbody>\n",
              "</table>\n",
              "<p>450 rows × 5 columns</p>\n",
              "</div>\n",
              "    <div class=\"colab-df-buttons\">\n",
              "\n",
              "  <div class=\"colab-df-container\">\n",
              "    <button class=\"colab-df-convert\" onclick=\"convertToInteractive('df-04c1e86d-7526-4c01-9c48-be3d716b9932')\"\n",
              "            title=\"Convert this dataframe to an interactive table.\"\n",
              "            style=\"display:none;\">\n",
              "\n",
              "  <svg xmlns=\"http://www.w3.org/2000/svg\" height=\"24px\" viewBox=\"0 -960 960 960\">\n",
              "    <path d=\"M120-120v-720h720v720H120Zm60-500h600v-160H180v160Zm220 220h160v-160H400v160Zm0 220h160v-160H400v160ZM180-400h160v-160H180v160Zm440 0h160v-160H620v160ZM180-180h160v-160H180v160Zm440 0h160v-160H620v160Z\"/>\n",
              "  </svg>\n",
              "    </button>\n",
              "\n",
              "  <style>\n",
              "    .colab-df-container {\n",
              "      display:flex;\n",
              "      gap: 12px;\n",
              "    }\n",
              "\n",
              "    .colab-df-convert {\n",
              "      background-color: #E8F0FE;\n",
              "      border: none;\n",
              "      border-radius: 50%;\n",
              "      cursor: pointer;\n",
              "      display: none;\n",
              "      fill: #1967D2;\n",
              "      height: 32px;\n",
              "      padding: 0 0 0 0;\n",
              "      width: 32px;\n",
              "    }\n",
              "\n",
              "    .colab-df-convert:hover {\n",
              "      background-color: #E2EBFA;\n",
              "      box-shadow: 0px 1px 2px rgba(60, 64, 67, 0.3), 0px 1px 3px 1px rgba(60, 64, 67, 0.15);\n",
              "      fill: #174EA6;\n",
              "    }\n",
              "\n",
              "    .colab-df-buttons div {\n",
              "      margin-bottom: 4px;\n",
              "    }\n",
              "\n",
              "    [theme=dark] .colab-df-convert {\n",
              "      background-color: #3B4455;\n",
              "      fill: #D2E3FC;\n",
              "    }\n",
              "\n",
              "    [theme=dark] .colab-df-convert:hover {\n",
              "      background-color: #434B5C;\n",
              "      box-shadow: 0px 1px 3px 1px rgba(0, 0, 0, 0.15);\n",
              "      filter: drop-shadow(0px 1px 2px rgba(0, 0, 0, 0.3));\n",
              "      fill: #FFFFFF;\n",
              "    }\n",
              "  </style>\n",
              "\n",
              "    <script>\n",
              "      const buttonEl =\n",
              "        document.querySelector('#df-04c1e86d-7526-4c01-9c48-be3d716b9932 button.colab-df-convert');\n",
              "      buttonEl.style.display =\n",
              "        google.colab.kernel.accessAllowed ? 'block' : 'none';\n",
              "\n",
              "      async function convertToInteractive(key) {\n",
              "        const element = document.querySelector('#df-04c1e86d-7526-4c01-9c48-be3d716b9932');\n",
              "        const dataTable =\n",
              "          await google.colab.kernel.invokeFunction('convertToInteractive',\n",
              "                                                    [key], {});\n",
              "        if (!dataTable) return;\n",
              "\n",
              "        const docLinkHtml = 'Like what you see? Visit the ' +\n",
              "          '<a target=\"_blank\" href=https://colab.research.google.com/notebooks/data_table.ipynb>data table notebook</a>'\n",
              "          + ' to learn more about interactive tables.';\n",
              "        element.innerHTML = '';\n",
              "        dataTable['output_type'] = 'display_data';\n",
              "        await google.colab.output.renderOutput(dataTable, element);\n",
              "        const docLink = document.createElement('div');\n",
              "        docLink.innerHTML = docLinkHtml;\n",
              "        element.appendChild(docLink);\n",
              "      }\n",
              "    </script>\n",
              "  </div>\n",
              "\n",
              "\n",
              "<div id=\"df-21a058e0-2118-4fb1-847b-20bfca59be98\">\n",
              "  <button class=\"colab-df-quickchart\" onclick=\"quickchart('df-21a058e0-2118-4fb1-847b-20bfca59be98')\"\n",
              "            title=\"Suggest charts\"\n",
              "            style=\"display:none;\">\n",
              "\n",
              "<svg xmlns=\"http://www.w3.org/2000/svg\" height=\"24px\"viewBox=\"0 0 24 24\"\n",
              "     width=\"24px\">\n",
              "    <g>\n",
              "        <path d=\"M19 3H5c-1.1 0-2 .9-2 2v14c0 1.1.9 2 2 2h14c1.1 0 2-.9 2-2V5c0-1.1-.9-2-2-2zM9 17H7v-7h2v7zm4 0h-2V7h2v10zm4 0h-2v-4h2v4z\"/>\n",
              "    </g>\n",
              "</svg>\n",
              "  </button>\n",
              "\n",
              "<style>\n",
              "  .colab-df-quickchart {\n",
              "      --bg-color: #E8F0FE;\n",
              "      --fill-color: #1967D2;\n",
              "      --hover-bg-color: #E2EBFA;\n",
              "      --hover-fill-color: #174EA6;\n",
              "      --disabled-fill-color: #AAA;\n",
              "      --disabled-bg-color: #DDD;\n",
              "  }\n",
              "\n",
              "  [theme=dark] .colab-df-quickchart {\n",
              "      --bg-color: #3B4455;\n",
              "      --fill-color: #D2E3FC;\n",
              "      --hover-bg-color: #434B5C;\n",
              "      --hover-fill-color: #FFFFFF;\n",
              "      --disabled-bg-color: #3B4455;\n",
              "      --disabled-fill-color: #666;\n",
              "  }\n",
              "\n",
              "  .colab-df-quickchart {\n",
              "    background-color: var(--bg-color);\n",
              "    border: none;\n",
              "    border-radius: 50%;\n",
              "    cursor: pointer;\n",
              "    display: none;\n",
              "    fill: var(--fill-color);\n",
              "    height: 32px;\n",
              "    padding: 0;\n",
              "    width: 32px;\n",
              "  }\n",
              "\n",
              "  .colab-df-quickchart:hover {\n",
              "    background-color: var(--hover-bg-color);\n",
              "    box-shadow: 0 1px 2px rgba(60, 64, 67, 0.3), 0 1px 3px 1px rgba(60, 64, 67, 0.15);\n",
              "    fill: var(--button-hover-fill-color);\n",
              "  }\n",
              "\n",
              "  .colab-df-quickchart-complete:disabled,\n",
              "  .colab-df-quickchart-complete:disabled:hover {\n",
              "    background-color: var(--disabled-bg-color);\n",
              "    fill: var(--disabled-fill-color);\n",
              "    box-shadow: none;\n",
              "  }\n",
              "\n",
              "  .colab-df-spinner {\n",
              "    border: 2px solid var(--fill-color);\n",
              "    border-color: transparent;\n",
              "    border-bottom-color: var(--fill-color);\n",
              "    animation:\n",
              "      spin 1s steps(1) infinite;\n",
              "  }\n",
              "\n",
              "  @keyframes spin {\n",
              "    0% {\n",
              "      border-color: transparent;\n",
              "      border-bottom-color: var(--fill-color);\n",
              "      border-left-color: var(--fill-color);\n",
              "    }\n",
              "    20% {\n",
              "      border-color: transparent;\n",
              "      border-left-color: var(--fill-color);\n",
              "      border-top-color: var(--fill-color);\n",
              "    }\n",
              "    30% {\n",
              "      border-color: transparent;\n",
              "      border-left-color: var(--fill-color);\n",
              "      border-top-color: var(--fill-color);\n",
              "      border-right-color: var(--fill-color);\n",
              "    }\n",
              "    40% {\n",
              "      border-color: transparent;\n",
              "      border-right-color: var(--fill-color);\n",
              "      border-top-color: var(--fill-color);\n",
              "    }\n",
              "    60% {\n",
              "      border-color: transparent;\n",
              "      border-right-color: var(--fill-color);\n",
              "    }\n",
              "    80% {\n",
              "      border-color: transparent;\n",
              "      border-right-color: var(--fill-color);\n",
              "      border-bottom-color: var(--fill-color);\n",
              "    }\n",
              "    90% {\n",
              "      border-color: transparent;\n",
              "      border-bottom-color: var(--fill-color);\n",
              "    }\n",
              "  }\n",
              "</style>\n",
              "\n",
              "  <script>\n",
              "    async function quickchart(key) {\n",
              "      const quickchartButtonEl =\n",
              "        document.querySelector('#' + key + ' button');\n",
              "      quickchartButtonEl.disabled = true;  // To prevent multiple clicks.\n",
              "      quickchartButtonEl.classList.add('colab-df-spinner');\n",
              "      try {\n",
              "        const charts = await google.colab.kernel.invokeFunction(\n",
              "            'suggestCharts', [key], {});\n",
              "      } catch (error) {\n",
              "        console.error('Error during call to suggestCharts:', error);\n",
              "      }\n",
              "      quickchartButtonEl.classList.remove('colab-df-spinner');\n",
              "      quickchartButtonEl.classList.add('colab-df-quickchart-complete');\n",
              "    }\n",
              "    (() => {\n",
              "      let quickchartButtonEl =\n",
              "        document.querySelector('#df-21a058e0-2118-4fb1-847b-20bfca59be98 button');\n",
              "      quickchartButtonEl.style.display =\n",
              "        google.colab.kernel.accessAllowed ? 'block' : 'none';\n",
              "    })();\n",
              "  </script>\n",
              "</div>\n",
              "\n",
              "  <div id=\"id_e9baf9a1-2327-42ca-9c25-c58b05b5b553\">\n",
              "    <style>\n",
              "      .colab-df-generate {\n",
              "        background-color: #E8F0FE;\n",
              "        border: none;\n",
              "        border-radius: 50%;\n",
              "        cursor: pointer;\n",
              "        display: none;\n",
              "        fill: #1967D2;\n",
              "        height: 32px;\n",
              "        padding: 0 0 0 0;\n",
              "        width: 32px;\n",
              "      }\n",
              "\n",
              "      .colab-df-generate:hover {\n",
              "        background-color: #E2EBFA;\n",
              "        box-shadow: 0px 1px 2px rgba(60, 64, 67, 0.3), 0px 1px 3px 1px rgba(60, 64, 67, 0.15);\n",
              "        fill: #174EA6;\n",
              "      }\n",
              "\n",
              "      [theme=dark] .colab-df-generate {\n",
              "        background-color: #3B4455;\n",
              "        fill: #D2E3FC;\n",
              "      }\n",
              "\n",
              "      [theme=dark] .colab-df-generate:hover {\n",
              "        background-color: #434B5C;\n",
              "        box-shadow: 0px 1px 3px 1px rgba(0, 0, 0, 0.15);\n",
              "        filter: drop-shadow(0px 1px 2px rgba(0, 0, 0, 0.3));\n",
              "        fill: #FFFFFF;\n",
              "      }\n",
              "    </style>\n",
              "    <button class=\"colab-df-generate\" onclick=\"generateWithVariable('df_pd')\"\n",
              "            title=\"Generate code using this dataframe.\"\n",
              "            style=\"display:none;\">\n",
              "\n",
              "  <svg xmlns=\"http://www.w3.org/2000/svg\" height=\"24px\"viewBox=\"0 0 24 24\"\n",
              "       width=\"24px\">\n",
              "    <path d=\"M7,19H8.4L18.45,9,17,7.55,7,17.6ZM5,21V16.75L18.45,3.32a2,2,0,0,1,2.83,0l1.4,1.43a1.91,1.91,0,0,1,.58,1.4,1.91,1.91,0,0,1-.58,1.4L9.25,21ZM18.45,9,17,7.55Zm-12,3A5.31,5.31,0,0,0,4.9,8.1,5.31,5.31,0,0,0,1,6.5,5.31,5.31,0,0,0,4.9,4.9,5.31,5.31,0,0,0,6.5,1,5.31,5.31,0,0,0,8.1,4.9,5.31,5.31,0,0,0,12,6.5,5.46,5.46,0,0,0,6.5,12Z\"/>\n",
              "  </svg>\n",
              "    </button>\n",
              "    <script>\n",
              "      (() => {\n",
              "      const buttonEl =\n",
              "        document.querySelector('#id_e9baf9a1-2327-42ca-9c25-c58b05b5b553 button.colab-df-generate');\n",
              "      buttonEl.style.display =\n",
              "        google.colab.kernel.accessAllowed ? 'block' : 'none';\n",
              "\n",
              "      buttonEl.onclick = () => {\n",
              "        google.colab.notebook.generateWithVariable('df_pd');\n",
              "      }\n",
              "      })();\n",
              "    </script>\n",
              "  </div>\n",
              "\n",
              "    </div>\n",
              "  </div>\n"
            ],
            "application/vnd.google.colaboratory.intrinsic+json": {
              "type": "dataframe",
              "variable_name": "df_pd",
              "summary": "{\n  \"name\": \"df_pd\",\n  \"rows\": 450,\n  \"fields\": [\n    {\n      \"column\": \"Name\",\n      \"properties\": {\n        \"dtype\": \"string\",\n        \"num_unique_values\": 450,\n        \"samples\": [\n          \"Michael Kidd-Gilchrist\",\n          \"Melvin Frazier\",\n          \"Devin Booker\"\n        ],\n        \"semantic_type\": \"\",\n        \"description\": \"\"\n      }\n    },\n    {\n      \"column\": \"Team\",\n      \"properties\": {\n        \"dtype\": \"category\",\n        \"num_unique_values\": 30,\n        \"samples\": [\n          \"Minnesota Timberwolves\",\n          \"New Orleans Pelicans\",\n          \"Orlando Magic\"\n        ],\n        \"semantic_type\": \"\",\n        \"description\": \"\"\n      }\n    },\n    {\n      \"column\": \"Position\",\n      \"properties\": {\n        \"dtype\": \"category\",\n        \"num_unique_values\": 9,\n        \"samples\": [\n          \"F\",\n          \"PF\",\n          \"C\"\n        ],\n        \"semantic_type\": \"\",\n        \"description\": \"\"\n      }\n    },\n    {\n      \"column\": \"Birthday\",\n      \"properties\": {\n        \"dtype\": \"object\",\n        \"num_unique_values\": 430,\n        \"samples\": [\n          \"7/10/85\",\n          \"8/12/89\",\n          \"7/12/98\"\n        ],\n        \"semantic_type\": \"\",\n        \"description\": \"\"\n      }\n    },\n    {\n      \"column\": \"Salary\",\n      \"properties\": {\n        \"dtype\": \"number\",\n        \"std\": 9288810,\n        \"min\": 79568,\n        \"max\": 40231758,\n        \"num_unique_values\": 269,\n        \"samples\": [\n          2028594,\n          3581986,\n          27093019\n        ],\n        \"semantic_type\": \"\",\n        \"description\": \"\"\n      }\n    }\n  ]\n}"
            }
          },
          "metadata": {},
          "execution_count": 3
        }
      ]
    },
    {
      "cell_type": "code",
      "source": [
        "df.show()"
      ],
      "metadata": {
        "colab": {
          "base_uri": "https://localhost:8080/"
        },
        "id": "E5ITmlx_o-Ev",
        "outputId": "11ab247c-0964-43fb-b4ca-3091c6c61b8a"
      },
      "execution_count": 5,
      "outputs": [
        {
          "output_type": "stream",
          "name": "stdout",
          "text": [
            "+---------------+--------------------+--------+--------+--------+\n",
            "|           Name|                Team|Position|Birthday|  Salary|\n",
            "+---------------+--------------------+--------+--------+--------+\n",
            "|   Shake Milton|  Philadelphia 76ers|      SG| 9/26/96| 1445697|\n",
            "| Christian Wood|     Detroit Pistons|      PF| 9/27/95| 1645357|\n",
            "|  PJ Washington|   Charlotte Hornets|      PF| 8/23/98| 3831840|\n",
            "|   Derrick Rose|     Detroit Pistons|      PG| 10/4/88| 7317074|\n",
            "|  Marial Shayok|  Philadelphia 76ers|       G| 7/26/95|   79568|\n",
            "| Draymond Green|Golden State Warr...|      PF|  3/4/90|18539130|\n",
            "|  Kendrick Nunn|          Miami Heat|      SG|  8/3/95| 1416852|\n",
            "|     Cedi Osman| Cleveland Cavaliers|      SF|  4/8/95| 2907143|\n",
            "|    Brook Lopez|     Milwaukee Bucks|       C|  4/1/88|12093024|\n",
            "|   Torrey Craig|      Denver Nuggets|      SF|12/19/90| 2000000|\n",
            "|Jordan Clarkson| Cleveland Cavaliers|      PG|  6/7/92|13437500|\n",
            "|    Alex Caruso|  Los Angeles Lakers|      PG| 2/28/94| 2750000|\n",
            "|   Norvel Pelle|  Philadelphia 76ers|      FC|  2/3/93|   79568|\n",
            "|  Tyler Johnson|        Phoenix Suns|      PG|  5/7/92|19245370|\n",
            "|     Alec Burks|Golden State Warr...|      SG| 7/20/91| 2320044|\n",
            "| JaMychal Green|Los Angeles Clippers|      PF| 6/21/90| 4767000|\n",
            "|  Dwight Howard|  Los Angeles Lakers|       C| 12/8/85| 5603850|\n",
            "|   Nikola Jokic|      Denver Nuggets|       C| 2/19/95|27504630|\n",
            "|  Chris Boucher|     Toronto Raptors|      PF| 1/11/93| 1588231|\n",
            "|  Marcus Morris|     New York Knicks|      PF|  9/2/89|15000000|\n",
            "+---------------+--------------------+--------+--------+--------+\n",
            "only showing top 20 rows\n",
            "\n"
          ]
        }
      ]
    },
    {
      "cell_type": "code",
      "source": [
        "df.show(truncate = False)"
      ],
      "metadata": {
        "colab": {
          "base_uri": "https://localhost:8080/"
        },
        "id": "JCB2-MIQpmCA",
        "outputId": "17d89128-ce46-4a6b-b807-48d95c9d5f4c"
      },
      "execution_count": 6,
      "outputs": [
        {
          "output_type": "stream",
          "name": "stdout",
          "text": [
            "+---------------+---------------------+--------+--------+--------+\n",
            "|Name           |Team                 |Position|Birthday|Salary  |\n",
            "+---------------+---------------------+--------+--------+--------+\n",
            "|Shake Milton   |Philadelphia 76ers   |SG      |9/26/96 |1445697 |\n",
            "|Christian Wood |Detroit Pistons      |PF      |9/27/95 |1645357 |\n",
            "|PJ Washington  |Charlotte Hornets    |PF      |8/23/98 |3831840 |\n",
            "|Derrick Rose   |Detroit Pistons      |PG      |10/4/88 |7317074 |\n",
            "|Marial Shayok  |Philadelphia 76ers   |G       |7/26/95 |79568   |\n",
            "|Draymond Green |Golden State Warriors|PF      |3/4/90  |18539130|\n",
            "|Kendrick Nunn  |Miami Heat           |SG      |8/3/95  |1416852 |\n",
            "|Cedi Osman     |Cleveland Cavaliers  |SF      |4/8/95  |2907143 |\n",
            "|Brook Lopez    |Milwaukee Bucks      |C       |4/1/88  |12093024|\n",
            "|Torrey Craig   |Denver Nuggets       |SF      |12/19/90|2000000 |\n",
            "|Jordan Clarkson|Cleveland Cavaliers  |PG      |6/7/92  |13437500|\n",
            "|Alex Caruso    |Los Angeles Lakers   |PG      |2/28/94 |2750000 |\n",
            "|Norvel Pelle   |Philadelphia 76ers   |FC      |2/3/93  |79568   |\n",
            "|Tyler Johnson  |Phoenix Suns         |PG      |5/7/92  |19245370|\n",
            "|Alec Burks     |Golden State Warriors|SG      |7/20/91 |2320044 |\n",
            "|JaMychal Green |Los Angeles Clippers |PF      |6/21/90 |4767000 |\n",
            "|Dwight Howard  |Los Angeles Lakers   |C       |12/8/85 |5603850 |\n",
            "|Nikola Jokic   |Denver Nuggets       |C       |2/19/95 |27504630|\n",
            "|Chris Boucher  |Toronto Raptors      |PF      |1/11/93 |1588231 |\n",
            "|Marcus Morris  |New York Knicks      |PF      |9/2/89  |15000000|\n",
            "+---------------+---------------------+--------+--------+--------+\n",
            "only showing top 20 rows\n",
            "\n"
          ]
        }
      ]
    },
    {
      "cell_type": "code",
      "source": [
        "df.show(truncate= False)"
      ],
      "metadata": {
        "colab": {
          "base_uri": "https://localhost:8080/"
        },
        "id": "NpMPwRkyppAn",
        "outputId": "3e44455b-4379-4ded-b740-28640f3813f7"
      },
      "execution_count": 8,
      "outputs": [
        {
          "output_type": "stream",
          "name": "stdout",
          "text": [
            "+---------------+---------------------+--------+--------+--------+\n",
            "|Name           |Team                 |Position|Birthday|Salary  |\n",
            "+---------------+---------------------+--------+--------+--------+\n",
            "|Shake Milton   |Philadelphia 76ers   |SG      |9/26/96 |1445697 |\n",
            "|Christian Wood |Detroit Pistons      |PF      |9/27/95 |1645357 |\n",
            "|PJ Washington  |Charlotte Hornets    |PF      |8/23/98 |3831840 |\n",
            "|Derrick Rose   |Detroit Pistons      |PG      |10/4/88 |7317074 |\n",
            "|Marial Shayok  |Philadelphia 76ers   |G       |7/26/95 |79568   |\n",
            "|Draymond Green |Golden State Warriors|PF      |3/4/90  |18539130|\n",
            "|Kendrick Nunn  |Miami Heat           |SG      |8/3/95  |1416852 |\n",
            "|Cedi Osman     |Cleveland Cavaliers  |SF      |4/8/95  |2907143 |\n",
            "|Brook Lopez    |Milwaukee Bucks      |C       |4/1/88  |12093024|\n",
            "|Torrey Craig   |Denver Nuggets       |SF      |12/19/90|2000000 |\n",
            "|Jordan Clarkson|Cleveland Cavaliers  |PG      |6/7/92  |13437500|\n",
            "|Alex Caruso    |Los Angeles Lakers   |PG      |2/28/94 |2750000 |\n",
            "|Norvel Pelle   |Philadelphia 76ers   |FC      |2/3/93  |79568   |\n",
            "|Tyler Johnson  |Phoenix Suns         |PG      |5/7/92  |19245370|\n",
            "|Alec Burks     |Golden State Warriors|SG      |7/20/91 |2320044 |\n",
            "|JaMychal Green |Los Angeles Clippers |PF      |6/21/90 |4767000 |\n",
            "|Dwight Howard  |Los Angeles Lakers   |C       |12/8/85 |5603850 |\n",
            "|Nikola Jokic   |Denver Nuggets       |C       |2/19/95 |27504630|\n",
            "|Chris Boucher  |Toronto Raptors      |PF      |1/11/93 |1588231 |\n",
            "|Marcus Morris  |New York Knicks      |PF      |9/2/89  |15000000|\n",
            "+---------------+---------------------+--------+--------+--------+\n",
            "only showing top 20 rows\n",
            "\n"
          ]
        }
      ]
    },
    {
      "cell_type": "code",
      "source": [
        "df.show(truncate= 3)"
      ],
      "metadata": {
        "colab": {
          "base_uri": "https://localhost:8080/"
        },
        "id": "Y_ywGGkHpwa3",
        "outputId": "b0d0d5c6-6c6f-43fd-ece5-ce17b7980438"
      },
      "execution_count": 9,
      "outputs": [
        {
          "output_type": "stream",
          "name": "stdout",
          "text": [
            "+----+----+--------+--------+------+\n",
            "|Name|Team|Position|Birthday|Salary|\n",
            "+----+----+--------+--------+------+\n",
            "| Sha| Phi|      SG|     9/2|   144|\n",
            "| Chr| Det|      PF|     9/2|   164|\n",
            "| PJ | Cha|      PF|     8/2|   383|\n",
            "| Der| Det|      PG|     10/|   731|\n",
            "| Mar| Phi|       G|     7/2|   795|\n",
            "| Dra| Gol|      PF|     3/4|   185|\n",
            "| Ken| Mia|      SG|     8/3|   141|\n",
            "| Ced| Cle|      SF|     4/8|   290|\n",
            "| Bro| Mil|       C|     4/1|   120|\n",
            "| Tor| Den|      SF|     12/|   200|\n",
            "| Jor| Cle|      PG|     6/7|   134|\n",
            "| Ale| Los|      PG|     2/2|   275|\n",
            "| Nor| Phi|      FC|     2/3|   795|\n",
            "| Tyl| Pho|      PG|     5/7|   192|\n",
            "| Ale| Gol|      SG|     7/2|   232|\n",
            "| JaM| Los|      PF|     6/2|   476|\n",
            "| Dwi| Los|       C|     12/|   560|\n",
            "| Nik| Den|       C|     2/1|   275|\n",
            "| Chr| Tor|      PF|     1/1|   158|\n",
            "| Mar| New|      PF|     9/2|   150|\n",
            "+----+----+--------+--------+------+\n",
            "only showing top 20 rows\n",
            "\n"
          ]
        }
      ]
    },
    {
      "cell_type": "code",
      "source": [
        "df.show(vertical = True)\n"
      ],
      "metadata": {
        "colab": {
          "base_uri": "https://localhost:8080/"
        },
        "id": "-dSwJvAyp3AV",
        "outputId": "5eda102c-62dd-4092-e3bf-f18d55c22179"
      },
      "execution_count": 10,
      "outputs": [
        {
          "output_type": "stream",
          "name": "stdout",
          "text": [
            "-RECORD 0------------------------\n",
            " Name     | Shake Milton         \n",
            " Team     | Philadelphia 76ers   \n",
            " Position | SG                   \n",
            " Birthday | 9/26/96              \n",
            " Salary   | 1445697              \n",
            "-RECORD 1------------------------\n",
            " Name     | Christian Wood       \n",
            " Team     | Detroit Pistons      \n",
            " Position | PF                   \n",
            " Birthday | 9/27/95              \n",
            " Salary   | 1645357              \n",
            "-RECORD 2------------------------\n",
            " Name     | PJ Washington        \n",
            " Team     | Charlotte Hornets    \n",
            " Position | PF                   \n",
            " Birthday | 8/23/98              \n",
            " Salary   | 3831840              \n",
            "-RECORD 3------------------------\n",
            " Name     | Derrick Rose         \n",
            " Team     | Detroit Pistons      \n",
            " Position | PG                   \n",
            " Birthday | 10/4/88              \n",
            " Salary   | 7317074              \n",
            "-RECORD 4------------------------\n",
            " Name     | Marial Shayok        \n",
            " Team     | Philadelphia 76ers   \n",
            " Position | G                    \n",
            " Birthday | 7/26/95              \n",
            " Salary   | 79568                \n",
            "-RECORD 5------------------------\n",
            " Name     | Draymond Green       \n",
            " Team     | Golden State Warr... \n",
            " Position | PF                   \n",
            " Birthday | 3/4/90               \n",
            " Salary   | 18539130             \n",
            "-RECORD 6------------------------\n",
            " Name     | Kendrick Nunn        \n",
            " Team     | Miami Heat           \n",
            " Position | SG                   \n",
            " Birthday | 8/3/95               \n",
            " Salary   | 1416852              \n",
            "-RECORD 7------------------------\n",
            " Name     | Cedi Osman           \n",
            " Team     | Cleveland Cavaliers  \n",
            " Position | SF                   \n",
            " Birthday | 4/8/95               \n",
            " Salary   | 2907143              \n",
            "-RECORD 8------------------------\n",
            " Name     | Brook Lopez          \n",
            " Team     | Milwaukee Bucks      \n",
            " Position | C                    \n",
            " Birthday | 4/1/88               \n",
            " Salary   | 12093024             \n",
            "-RECORD 9------------------------\n",
            " Name     | Torrey Craig         \n",
            " Team     | Denver Nuggets       \n",
            " Position | SF                   \n",
            " Birthday | 12/19/90             \n",
            " Salary   | 2000000              \n",
            "-RECORD 10-----------------------\n",
            " Name     | Jordan Clarkson      \n",
            " Team     | Cleveland Cavaliers  \n",
            " Position | PG                   \n",
            " Birthday | 6/7/92               \n",
            " Salary   | 13437500             \n",
            "-RECORD 11-----------------------\n",
            " Name     | Alex Caruso          \n",
            " Team     | Los Angeles Lakers   \n",
            " Position | PG                   \n",
            " Birthday | 2/28/94              \n",
            " Salary   | 2750000              \n",
            "-RECORD 12-----------------------\n",
            " Name     | Norvel Pelle         \n",
            " Team     | Philadelphia 76ers   \n",
            " Position | FC                   \n",
            " Birthday | 2/3/93               \n",
            " Salary   | 79568                \n",
            "-RECORD 13-----------------------\n",
            " Name     | Tyler Johnson        \n",
            " Team     | Phoenix Suns         \n",
            " Position | PG                   \n",
            " Birthday | 5/7/92               \n",
            " Salary   | 19245370             \n",
            "-RECORD 14-----------------------\n",
            " Name     | Alec Burks           \n",
            " Team     | Golden State Warr... \n",
            " Position | SG                   \n",
            " Birthday | 7/20/91              \n",
            " Salary   | 2320044              \n",
            "-RECORD 15-----------------------\n",
            " Name     | JaMychal Green       \n",
            " Team     | Los Angeles Clippers \n",
            " Position | PF                   \n",
            " Birthday | 6/21/90              \n",
            " Salary   | 4767000              \n",
            "-RECORD 16-----------------------\n",
            " Name     | Dwight Howard        \n",
            " Team     | Los Angeles Lakers   \n",
            " Position | C                    \n",
            " Birthday | 12/8/85              \n",
            " Salary   | 5603850              \n",
            "-RECORD 17-----------------------\n",
            " Name     | Nikola Jokic         \n",
            " Team     | Denver Nuggets       \n",
            " Position | C                    \n",
            " Birthday | 2/19/95              \n",
            " Salary   | 27504630             \n",
            "-RECORD 18-----------------------\n",
            " Name     | Chris Boucher        \n",
            " Team     | Toronto Raptors      \n",
            " Position | PF                   \n",
            " Birthday | 1/11/93              \n",
            " Salary   | 1588231              \n",
            "-RECORD 19-----------------------\n",
            " Name     | Marcus Morris        \n",
            " Team     | New York Knicks      \n",
            " Position | PF                   \n",
            " Birthday | 9/2/89               \n",
            " Salary   | 15000000             \n",
            "only showing top 20 rows\n",
            "\n"
          ]
        }
      ]
    },
    {
      "cell_type": "code",
      "source": [
        "df.printSchema()\n"
      ],
      "metadata": {
        "colab": {
          "base_uri": "https://localhost:8080/"
        },
        "id": "lYUET3cAqAJJ",
        "outputId": "cf948cbc-3df6-4355-9b46-5bae7fa0b7bd"
      },
      "execution_count": 11,
      "outputs": [
        {
          "output_type": "stream",
          "name": "stdout",
          "text": [
            "root\n",
            " |-- Name: string (nullable = true)\n",
            " |-- Team: string (nullable = true)\n",
            " |-- Position: string (nullable = true)\n",
            " |-- Birthday: string (nullable = true)\n",
            " |-- Salary: long (nullable = true)\n",
            "\n"
          ]
        }
      ]
    },
    {
      "cell_type": "code",
      "source": [
        "df.dtypes"
      ],
      "metadata": {
        "colab": {
          "base_uri": "https://localhost:8080/"
        },
        "id": "jQZ-A9jpqDPv",
        "outputId": "d6ab9c7e-ee9e-42c2-b494-cc5c2ea9ccf7"
      },
      "execution_count": 12,
      "outputs": [
        {
          "output_type": "execute_result",
          "data": {
            "text/plain": [
              "[('Name', 'string'),\n",
              " ('Team', 'string'),\n",
              " ('Position', 'string'),\n",
              " ('Birthday', 'string'),\n",
              " ('Salary', 'bigint')]"
            ]
          },
          "metadata": {},
          "execution_count": 12
        }
      ]
    },
    {
      "cell_type": "code",
      "source": [
        "df.columns"
      ],
      "metadata": {
        "colab": {
          "base_uri": "https://localhost:8080/"
        },
        "id": "Fl9Yk8LsqEVO",
        "outputId": "8d2b849b-8df5-4b59-a04e-1c81df3b296b"
      },
      "execution_count": 13,
      "outputs": [
        {
          "output_type": "execute_result",
          "data": {
            "text/plain": [
              "['Name', 'Team', 'Position', 'Birthday', 'Salary']"
            ]
          },
          "metadata": {},
          "execution_count": 13
        }
      ]
    },
    {
      "cell_type": "code",
      "source": [
        "df.describe().show()"
      ],
      "metadata": {
        "colab": {
          "base_uri": "https://localhost:8080/"
        },
        "id": "TgESigYIqK5h",
        "outputId": "26fff20d-f74e-4443-f2be-dcc430431a07"
      },
      "execution_count": 14,
      "outputs": [
        {
          "output_type": "stream",
          "name": "stdout",
          "text": [
            "+-------+--------------+------------------+--------+--------+-----------------+\n",
            "|summary|          Name|              Team|Position|Birthday|           Salary|\n",
            "+-------+--------------+------------------+--------+--------+-----------------+\n",
            "|  count|           450|               450|     450|     450|              450|\n",
            "|   mean|          NULL|              NULL|    NULL|    NULL|7653583.764444444|\n",
            "| stddev|          NULL|              NULL|    NULL|    NULL|9288810.298497688|\n",
            "|    min|  Aaron Gordon|     Atlanta Hawks|       C| 1/10/98|            79568|\n",
            "|    max|Zylan Cheatham|Washington Wizards|      SG|  9/9/93|         40231758|\n",
            "+-------+--------------+------------------+--------+--------+-----------------+\n",
            "\n"
          ]
        }
      ]
    },
    {
      "cell_type": "code",
      "source": [
        "df_pd.describe(include=\"all\") # pandas"
      ],
      "metadata": {
        "colab": {
          "base_uri": "https://localhost:8080/",
          "height": 390
        },
        "id": "r7g2gqhtqP2B",
        "outputId": "6697e756-3c29-4046-f6bd-9582611de425"
      },
      "execution_count": 16,
      "outputs": [
        {
          "output_type": "execute_result",
          "data": {
            "text/plain": [
              "                Name                Team Position Birthday        Salary\n",
              "count            450                 450      450      450  4.500000e+02\n",
              "unique           450                  30        9      430           NaN\n",
              "top     Shake Milton  Philadelphia 76ers       PG  9/28/95           NaN\n",
              "freq               1                  17       98        3           NaN\n",
              "mean             NaN                 NaN      NaN      NaN  7.653584e+06\n",
              "std              NaN                 NaN      NaN      NaN  9.288810e+06\n",
              "min              NaN                 NaN      NaN      NaN  7.956800e+04\n",
              "25%              NaN                 NaN      NaN      NaN  1.618520e+06\n",
              "50%              NaN                 NaN      NaN      NaN  3.303074e+06\n",
              "75%              NaN                 NaN      NaN      NaN  1.012957e+07\n",
              "max              NaN                 NaN      NaN      NaN  4.023176e+07"
            ],
            "text/html": [
              "\n",
              "  <div id=\"df-b52ecca8-e588-4084-89ed-7ff504d051a7\" class=\"colab-df-container\">\n",
              "    <div>\n",
              "<style scoped>\n",
              "    .dataframe tbody tr th:only-of-type {\n",
              "        vertical-align: middle;\n",
              "    }\n",
              "\n",
              "    .dataframe tbody tr th {\n",
              "        vertical-align: top;\n",
              "    }\n",
              "\n",
              "    .dataframe thead th {\n",
              "        text-align: right;\n",
              "    }\n",
              "</style>\n",
              "<table border=\"1\" class=\"dataframe\">\n",
              "  <thead>\n",
              "    <tr style=\"text-align: right;\">\n",
              "      <th></th>\n",
              "      <th>Name</th>\n",
              "      <th>Team</th>\n",
              "      <th>Position</th>\n",
              "      <th>Birthday</th>\n",
              "      <th>Salary</th>\n",
              "    </tr>\n",
              "  </thead>\n",
              "  <tbody>\n",
              "    <tr>\n",
              "      <th>count</th>\n",
              "      <td>450</td>\n",
              "      <td>450</td>\n",
              "      <td>450</td>\n",
              "      <td>450</td>\n",
              "      <td>4.500000e+02</td>\n",
              "    </tr>\n",
              "    <tr>\n",
              "      <th>unique</th>\n",
              "      <td>450</td>\n",
              "      <td>30</td>\n",
              "      <td>9</td>\n",
              "      <td>430</td>\n",
              "      <td>NaN</td>\n",
              "    </tr>\n",
              "    <tr>\n",
              "      <th>top</th>\n",
              "      <td>Shake Milton</td>\n",
              "      <td>Philadelphia 76ers</td>\n",
              "      <td>PG</td>\n",
              "      <td>9/28/95</td>\n",
              "      <td>NaN</td>\n",
              "    </tr>\n",
              "    <tr>\n",
              "      <th>freq</th>\n",
              "      <td>1</td>\n",
              "      <td>17</td>\n",
              "      <td>98</td>\n",
              "      <td>3</td>\n",
              "      <td>NaN</td>\n",
              "    </tr>\n",
              "    <tr>\n",
              "      <th>mean</th>\n",
              "      <td>NaN</td>\n",
              "      <td>NaN</td>\n",
              "      <td>NaN</td>\n",
              "      <td>NaN</td>\n",
              "      <td>7.653584e+06</td>\n",
              "    </tr>\n",
              "    <tr>\n",
              "      <th>std</th>\n",
              "      <td>NaN</td>\n",
              "      <td>NaN</td>\n",
              "      <td>NaN</td>\n",
              "      <td>NaN</td>\n",
              "      <td>9.288810e+06</td>\n",
              "    </tr>\n",
              "    <tr>\n",
              "      <th>min</th>\n",
              "      <td>NaN</td>\n",
              "      <td>NaN</td>\n",
              "      <td>NaN</td>\n",
              "      <td>NaN</td>\n",
              "      <td>7.956800e+04</td>\n",
              "    </tr>\n",
              "    <tr>\n",
              "      <th>25%</th>\n",
              "      <td>NaN</td>\n",
              "      <td>NaN</td>\n",
              "      <td>NaN</td>\n",
              "      <td>NaN</td>\n",
              "      <td>1.618520e+06</td>\n",
              "    </tr>\n",
              "    <tr>\n",
              "      <th>50%</th>\n",
              "      <td>NaN</td>\n",
              "      <td>NaN</td>\n",
              "      <td>NaN</td>\n",
              "      <td>NaN</td>\n",
              "      <td>3.303074e+06</td>\n",
              "    </tr>\n",
              "    <tr>\n",
              "      <th>75%</th>\n",
              "      <td>NaN</td>\n",
              "      <td>NaN</td>\n",
              "      <td>NaN</td>\n",
              "      <td>NaN</td>\n",
              "      <td>1.012957e+07</td>\n",
              "    </tr>\n",
              "    <tr>\n",
              "      <th>max</th>\n",
              "      <td>NaN</td>\n",
              "      <td>NaN</td>\n",
              "      <td>NaN</td>\n",
              "      <td>NaN</td>\n",
              "      <td>4.023176e+07</td>\n",
              "    </tr>\n",
              "  </tbody>\n",
              "</table>\n",
              "</div>\n",
              "    <div class=\"colab-df-buttons\">\n",
              "\n",
              "  <div class=\"colab-df-container\">\n",
              "    <button class=\"colab-df-convert\" onclick=\"convertToInteractive('df-b52ecca8-e588-4084-89ed-7ff504d051a7')\"\n",
              "            title=\"Convert this dataframe to an interactive table.\"\n",
              "            style=\"display:none;\">\n",
              "\n",
              "  <svg xmlns=\"http://www.w3.org/2000/svg\" height=\"24px\" viewBox=\"0 -960 960 960\">\n",
              "    <path d=\"M120-120v-720h720v720H120Zm60-500h600v-160H180v160Zm220 220h160v-160H400v160Zm0 220h160v-160H400v160ZM180-400h160v-160H180v160Zm440 0h160v-160H620v160ZM180-180h160v-160H180v160Zm440 0h160v-160H620v160Z\"/>\n",
              "  </svg>\n",
              "    </button>\n",
              "\n",
              "  <style>\n",
              "    .colab-df-container {\n",
              "      display:flex;\n",
              "      gap: 12px;\n",
              "    }\n",
              "\n",
              "    .colab-df-convert {\n",
              "      background-color: #E8F0FE;\n",
              "      border: none;\n",
              "      border-radius: 50%;\n",
              "      cursor: pointer;\n",
              "      display: none;\n",
              "      fill: #1967D2;\n",
              "      height: 32px;\n",
              "      padding: 0 0 0 0;\n",
              "      width: 32px;\n",
              "    }\n",
              "\n",
              "    .colab-df-convert:hover {\n",
              "      background-color: #E2EBFA;\n",
              "      box-shadow: 0px 1px 2px rgba(60, 64, 67, 0.3), 0px 1px 3px 1px rgba(60, 64, 67, 0.15);\n",
              "      fill: #174EA6;\n",
              "    }\n",
              "\n",
              "    .colab-df-buttons div {\n",
              "      margin-bottom: 4px;\n",
              "    }\n",
              "\n",
              "    [theme=dark] .colab-df-convert {\n",
              "      background-color: #3B4455;\n",
              "      fill: #D2E3FC;\n",
              "    }\n",
              "\n",
              "    [theme=dark] .colab-df-convert:hover {\n",
              "      background-color: #434B5C;\n",
              "      box-shadow: 0px 1px 3px 1px rgba(0, 0, 0, 0.15);\n",
              "      filter: drop-shadow(0px 1px 2px rgba(0, 0, 0, 0.3));\n",
              "      fill: #FFFFFF;\n",
              "    }\n",
              "  </style>\n",
              "\n",
              "    <script>\n",
              "      const buttonEl =\n",
              "        document.querySelector('#df-b52ecca8-e588-4084-89ed-7ff504d051a7 button.colab-df-convert');\n",
              "      buttonEl.style.display =\n",
              "        google.colab.kernel.accessAllowed ? 'block' : 'none';\n",
              "\n",
              "      async function convertToInteractive(key) {\n",
              "        const element = document.querySelector('#df-b52ecca8-e588-4084-89ed-7ff504d051a7');\n",
              "        const dataTable =\n",
              "          await google.colab.kernel.invokeFunction('convertToInteractive',\n",
              "                                                    [key], {});\n",
              "        if (!dataTable) return;\n",
              "\n",
              "        const docLinkHtml = 'Like what you see? Visit the ' +\n",
              "          '<a target=\"_blank\" href=https://colab.research.google.com/notebooks/data_table.ipynb>data table notebook</a>'\n",
              "          + ' to learn more about interactive tables.';\n",
              "        element.innerHTML = '';\n",
              "        dataTable['output_type'] = 'display_data';\n",
              "        await google.colab.output.renderOutput(dataTable, element);\n",
              "        const docLink = document.createElement('div');\n",
              "        docLink.innerHTML = docLinkHtml;\n",
              "        element.appendChild(docLink);\n",
              "      }\n",
              "    </script>\n",
              "  </div>\n",
              "\n",
              "\n",
              "<div id=\"df-ade990c0-eb8c-4ecd-8c60-b4b9ceec20db\">\n",
              "  <button class=\"colab-df-quickchart\" onclick=\"quickchart('df-ade990c0-eb8c-4ecd-8c60-b4b9ceec20db')\"\n",
              "            title=\"Suggest charts\"\n",
              "            style=\"display:none;\">\n",
              "\n",
              "<svg xmlns=\"http://www.w3.org/2000/svg\" height=\"24px\"viewBox=\"0 0 24 24\"\n",
              "     width=\"24px\">\n",
              "    <g>\n",
              "        <path d=\"M19 3H5c-1.1 0-2 .9-2 2v14c0 1.1.9 2 2 2h14c1.1 0 2-.9 2-2V5c0-1.1-.9-2-2-2zM9 17H7v-7h2v7zm4 0h-2V7h2v10zm4 0h-2v-4h2v4z\"/>\n",
              "    </g>\n",
              "</svg>\n",
              "  </button>\n",
              "\n",
              "<style>\n",
              "  .colab-df-quickchart {\n",
              "      --bg-color: #E8F0FE;\n",
              "      --fill-color: #1967D2;\n",
              "      --hover-bg-color: #E2EBFA;\n",
              "      --hover-fill-color: #174EA6;\n",
              "      --disabled-fill-color: #AAA;\n",
              "      --disabled-bg-color: #DDD;\n",
              "  }\n",
              "\n",
              "  [theme=dark] .colab-df-quickchart {\n",
              "      --bg-color: #3B4455;\n",
              "      --fill-color: #D2E3FC;\n",
              "      --hover-bg-color: #434B5C;\n",
              "      --hover-fill-color: #FFFFFF;\n",
              "      --disabled-bg-color: #3B4455;\n",
              "      --disabled-fill-color: #666;\n",
              "  }\n",
              "\n",
              "  .colab-df-quickchart {\n",
              "    background-color: var(--bg-color);\n",
              "    border: none;\n",
              "    border-radius: 50%;\n",
              "    cursor: pointer;\n",
              "    display: none;\n",
              "    fill: var(--fill-color);\n",
              "    height: 32px;\n",
              "    padding: 0;\n",
              "    width: 32px;\n",
              "  }\n",
              "\n",
              "  .colab-df-quickchart:hover {\n",
              "    background-color: var(--hover-bg-color);\n",
              "    box-shadow: 0 1px 2px rgba(60, 64, 67, 0.3), 0 1px 3px 1px rgba(60, 64, 67, 0.15);\n",
              "    fill: var(--button-hover-fill-color);\n",
              "  }\n",
              "\n",
              "  .colab-df-quickchart-complete:disabled,\n",
              "  .colab-df-quickchart-complete:disabled:hover {\n",
              "    background-color: var(--disabled-bg-color);\n",
              "    fill: var(--disabled-fill-color);\n",
              "    box-shadow: none;\n",
              "  }\n",
              "\n",
              "  .colab-df-spinner {\n",
              "    border: 2px solid var(--fill-color);\n",
              "    border-color: transparent;\n",
              "    border-bottom-color: var(--fill-color);\n",
              "    animation:\n",
              "      spin 1s steps(1) infinite;\n",
              "  }\n",
              "\n",
              "  @keyframes spin {\n",
              "    0% {\n",
              "      border-color: transparent;\n",
              "      border-bottom-color: var(--fill-color);\n",
              "      border-left-color: var(--fill-color);\n",
              "    }\n",
              "    20% {\n",
              "      border-color: transparent;\n",
              "      border-left-color: var(--fill-color);\n",
              "      border-top-color: var(--fill-color);\n",
              "    }\n",
              "    30% {\n",
              "      border-color: transparent;\n",
              "      border-left-color: var(--fill-color);\n",
              "      border-top-color: var(--fill-color);\n",
              "      border-right-color: var(--fill-color);\n",
              "    }\n",
              "    40% {\n",
              "      border-color: transparent;\n",
              "      border-right-color: var(--fill-color);\n",
              "      border-top-color: var(--fill-color);\n",
              "    }\n",
              "    60% {\n",
              "      border-color: transparent;\n",
              "      border-right-color: var(--fill-color);\n",
              "    }\n",
              "    80% {\n",
              "      border-color: transparent;\n",
              "      border-right-color: var(--fill-color);\n",
              "      border-bottom-color: var(--fill-color);\n",
              "    }\n",
              "    90% {\n",
              "      border-color: transparent;\n",
              "      border-bottom-color: var(--fill-color);\n",
              "    }\n",
              "  }\n",
              "</style>\n",
              "\n",
              "  <script>\n",
              "    async function quickchart(key) {\n",
              "      const quickchartButtonEl =\n",
              "        document.querySelector('#' + key + ' button');\n",
              "      quickchartButtonEl.disabled = true;  // To prevent multiple clicks.\n",
              "      quickchartButtonEl.classList.add('colab-df-spinner');\n",
              "      try {\n",
              "        const charts = await google.colab.kernel.invokeFunction(\n",
              "            'suggestCharts', [key], {});\n",
              "      } catch (error) {\n",
              "        console.error('Error during call to suggestCharts:', error);\n",
              "      }\n",
              "      quickchartButtonEl.classList.remove('colab-df-spinner');\n",
              "      quickchartButtonEl.classList.add('colab-df-quickchart-complete');\n",
              "    }\n",
              "    (() => {\n",
              "      let quickchartButtonEl =\n",
              "        document.querySelector('#df-ade990c0-eb8c-4ecd-8c60-b4b9ceec20db button');\n",
              "      quickchartButtonEl.style.display =\n",
              "        google.colab.kernel.accessAllowed ? 'block' : 'none';\n",
              "    })();\n",
              "  </script>\n",
              "</div>\n",
              "\n",
              "    </div>\n",
              "  </div>\n"
            ],
            "application/vnd.google.colaboratory.intrinsic+json": {
              "type": "dataframe",
              "summary": "{\n  \"name\": \"df_pd\",\n  \"rows\": 11,\n  \"fields\": [\n    {\n      \"column\": \"Name\",\n      \"properties\": {\n        \"dtype\": \"category\",\n        \"num_unique_values\": 3,\n        \"samples\": [\n          \"450\",\n          \"Shake Milton\",\n          \"1\"\n        ],\n        \"semantic_type\": \"\",\n        \"description\": \"\"\n      }\n    },\n    {\n      \"column\": \"Team\",\n      \"properties\": {\n        \"dtype\": \"category\",\n        \"num_unique_values\": 4,\n        \"samples\": [\n          30,\n          \"17\",\n          \"450\"\n        ],\n        \"semantic_type\": \"\",\n        \"description\": \"\"\n      }\n    },\n    {\n      \"column\": \"Position\",\n      \"properties\": {\n        \"dtype\": \"category\",\n        \"num_unique_values\": 4,\n        \"samples\": [\n          9,\n          \"98\",\n          \"450\"\n        ],\n        \"semantic_type\": \"\",\n        \"description\": \"\"\n      }\n    },\n    {\n      \"column\": \"Birthday\",\n      \"properties\": {\n        \"dtype\": \"date\",\n        \"min\": \"1970-01-01 00:00:00.000000003\",\n        \"max\": \"1995-09-28 00:00:00\",\n        \"num_unique_values\": 4,\n        \"samples\": [\n          430,\n          \"3\",\n          \"450\"\n        ],\n        \"semantic_type\": \"\",\n        \"description\": \"\"\n      }\n    },\n    {\n      \"column\": \"Salary\",\n      \"properties\": {\n        \"dtype\": \"number\",\n        \"std\": 13234643.145186106,\n        \"min\": 450.0,\n        \"max\": 40231758.0,\n        \"num_unique_values\": 8,\n        \"samples\": [\n          7653583.764444444,\n          3303074.5,\n          450.0\n        ],\n        \"semantic_type\": \"\",\n        \"description\": \"\"\n      }\n    }\n  ]\n}"
            }
          },
          "metadata": {},
          "execution_count": 16
        }
      ]
    },
    {
      "cell_type": "markdown",
      "source": [
        "# select"
      ],
      "metadata": {
        "id": "ZxCWCYdwq8OL"
      }
    },
    {
      "cell_type": "code",
      "source": [
        "df.select(\"Name\").show()"
      ],
      "metadata": {
        "colab": {
          "base_uri": "https://localhost:8080/"
        },
        "id": "VZhVZag9qYqa",
        "outputId": "d21bdd5d-40ae-4a02-8352-af1d27e9b635"
      },
      "execution_count": 18,
      "outputs": [
        {
          "output_type": "stream",
          "name": "stdout",
          "text": [
            "+---------------+\n",
            "|           Name|\n",
            "+---------------+\n",
            "|   Shake Milton|\n",
            "| Christian Wood|\n",
            "|  PJ Washington|\n",
            "|   Derrick Rose|\n",
            "|  Marial Shayok|\n",
            "| Draymond Green|\n",
            "|  Kendrick Nunn|\n",
            "|     Cedi Osman|\n",
            "|    Brook Lopez|\n",
            "|   Torrey Craig|\n",
            "|Jordan Clarkson|\n",
            "|    Alex Caruso|\n",
            "|   Norvel Pelle|\n",
            "|  Tyler Johnson|\n",
            "|     Alec Burks|\n",
            "| JaMychal Green|\n",
            "|  Dwight Howard|\n",
            "|   Nikola Jokic|\n",
            "|  Chris Boucher|\n",
            "|  Marcus Morris|\n",
            "+---------------+\n",
            "only showing top 20 rows\n",
            "\n"
          ]
        }
      ]
    },
    {
      "cell_type": "code",
      "source": [
        "df.select(\"Name\", \"Birthday\").show()"
      ],
      "metadata": {
        "colab": {
          "base_uri": "https://localhost:8080/"
        },
        "id": "eCrTCoEGqj6N",
        "outputId": "d2547670-e491-43b1-ad4d-a761bae483af"
      },
      "execution_count": 20,
      "outputs": [
        {
          "output_type": "stream",
          "name": "stdout",
          "text": [
            "+---------------+--------+\n",
            "|           Name|Birthday|\n",
            "+---------------+--------+\n",
            "|   Shake Milton| 9/26/96|\n",
            "| Christian Wood| 9/27/95|\n",
            "|  PJ Washington| 8/23/98|\n",
            "|   Derrick Rose| 10/4/88|\n",
            "|  Marial Shayok| 7/26/95|\n",
            "| Draymond Green|  3/4/90|\n",
            "|  Kendrick Nunn|  8/3/95|\n",
            "|     Cedi Osman|  4/8/95|\n",
            "|    Brook Lopez|  4/1/88|\n",
            "|   Torrey Craig|12/19/90|\n",
            "|Jordan Clarkson|  6/7/92|\n",
            "|    Alex Caruso| 2/28/94|\n",
            "|   Norvel Pelle|  2/3/93|\n",
            "|  Tyler Johnson|  5/7/92|\n",
            "|     Alec Burks| 7/20/91|\n",
            "| JaMychal Green| 6/21/90|\n",
            "|  Dwight Howard| 12/8/85|\n",
            "|   Nikola Jokic| 2/19/95|\n",
            "|  Chris Boucher| 1/11/93|\n",
            "|  Marcus Morris|  9/2/89|\n",
            "+---------------+--------+\n",
            "only showing top 20 rows\n",
            "\n"
          ]
        }
      ]
    },
    {
      "cell_type": "markdown",
      "source": [
        "# Count"
      ],
      "metadata": {
        "id": "Vnq_yAxxq6ni"
      }
    },
    {
      "cell_type": "code",
      "source": [
        "df.count()\n",
        "type(df.count())"
      ],
      "metadata": {
        "colab": {
          "base_uri": "https://localhost:8080/"
        },
        "id": "dGW6KbIbq9iw",
        "outputId": "16b1e22a-b187-4f46-e0df-04c5aaf16cf3"
      },
      "execution_count": 22,
      "outputs": [
        {
          "output_type": "execute_result",
          "data": {
            "text/plain": [
              "int"
            ]
          },
          "metadata": {},
          "execution_count": 22
        }
      ]
    },
    {
      "cell_type": "code",
      "source": [
        "\n",
        "from pyspark.sql.functions import countDistinct\n",
        "num_teams = df.select(countDistinct(\"Team\"))"
      ],
      "metadata": {
        "id": "nCjdrSQ0rD4f"
      },
      "execution_count": 23,
      "outputs": []
    },
    {
      "cell_type": "code",
      "source": [
        "num_teams.show()"
      ],
      "metadata": {
        "colab": {
          "base_uri": "https://localhost:8080/"
        },
        "id": "7lRxWM40rS9l",
        "outputId": "e5e352ef-13e1-4b0b-e30c-51377131991e"
      },
      "execution_count": 25,
      "outputs": [
        {
          "output_type": "stream",
          "name": "stdout",
          "text": [
            "+--------------------+\n",
            "|count(DISTINCT Team)|\n",
            "+--------------------+\n",
            "|                  30|\n",
            "+--------------------+\n",
            "\n"
          ]
        }
      ]
    },
    {
      "cell_type": "code",
      "source": [
        "num_teams.collect()[0]"
      ],
      "metadata": {
        "colab": {
          "base_uri": "https://localhost:8080/"
        },
        "id": "Lw61Bl8trXLp",
        "outputId": "2278e0fa-9b0b-4b6f-ccef-5e4928d0aa6c"
      },
      "execution_count": 26,
      "outputs": [
        {
          "output_type": "execute_result",
          "data": {
            "text/plain": [
              "Row(count(DISTINCT Team)=30)"
            ]
          },
          "metadata": {},
          "execution_count": 26
        }
      ]
    },
    {
      "cell_type": "code",
      "source": [
        "num_teams.collect()[0][0]"
      ],
      "metadata": {
        "colab": {
          "base_uri": "https://localhost:8080/"
        },
        "id": "Xi9b_pFGrbai",
        "outputId": "111571b9-a9d1-46da-f0ae-e39ad5db8bec"
      },
      "execution_count": 27,
      "outputs": [
        {
          "output_type": "execute_result",
          "data": {
            "text/plain": [
              "30"
            ]
          },
          "metadata": {},
          "execution_count": 27
        }
      ]
    },
    {
      "cell_type": "code",
      "source": [
        "df.groupBy(\"Team\").count().show(30)"
      ],
      "metadata": {
        "colab": {
          "base_uri": "https://localhost:8080/"
        },
        "id": "29y85e0nrl-U",
        "outputId": "72e34d30-f036-4c01-a433-d9cf514e7bae"
      },
      "execution_count": 30,
      "outputs": [
        {
          "output_type": "stream",
          "name": "stdout",
          "text": [
            "+--------------------+-----+\n",
            "|                Team|count|\n",
            "+--------------------+-----+\n",
            "|        Phoenix Suns|   15|\n",
            "|      Boston Celtics|   16|\n",
            "|    Dallas Mavericks|   13|\n",
            "|New Orleans Pelicans|   16|\n",
            "|       Brooklyn Nets|   17|\n",
            "|     New York Knicks|   16|\n",
            "|Minnesota Timberw...|   17|\n",
            "|   Memphis Grizzlies|   15|\n",
            "|  Los Angeles Lakers|   16|\n",
            "|Golden State Warr...|   15|\n",
            "|       Orlando Magic|   13|\n",
            "|Los Angeles Clippers|   14|\n",
            "|     Detroit Pistons|   16|\n",
            "|       Chicago Bulls|   16|\n",
            "|     Milwaukee Bucks|   14|\n",
            "| Cleveland Cavaliers|   13|\n",
            "|      Indiana Pacers|   13|\n",
            "|  Washington Wizards|   14|\n",
            "|       Atlanta Hawks|   15|\n",
            "|           Utah Jazz|   17|\n",
            "|   Charlotte Hornets|   16|\n",
            "|  Philadelphia 76ers|   17|\n",
            "|     Toronto Raptors|   16|\n",
            "|Portland Trail Bl...|   14|\n",
            "|   San Antonio Spurs|   14|\n",
            "|Oklahoma City Thu...|   13|\n",
            "|     Houston Rockets|   14|\n",
            "|    Sacramento Kings|   15|\n",
            "|          Miami Heat|   15|\n",
            "|      Denver Nuggets|   15|\n",
            "+--------------------+-----+\n",
            "\n"
          ]
        }
      ]
    },
    {
      "cell_type": "markdown",
      "source": [
        "# CW 5.1"
      ],
      "metadata": {
        "id": "8f7aCyqVsqbV"
      }
    },
    {
      "cell_type": "code",
      "source": [
        "import pandas as pd\n",
        "from pyspark.sql import SparkSession\n",
        "spark = SparkSession.builder.master(\"local[*]\").getOrCreate()\n",
        "nfl_pd = pd.read_csv('https://bcdanl.github.io/data/nfl.csv')\n",
        "nfl = spark.createDataFrame(nfl_pd)\n",
        "nfl.show()"
      ],
      "metadata": {
        "colab": {
          "base_uri": "https://localhost:8080/"
        },
        "id": "qDn5C9DxstPK",
        "outputId": "c156f0e5-935f-48b6-ac55-d2bce62b7170"
      },
      "execution_count": 31,
      "outputs": [
        {
          "output_type": "stream",
          "name": "stdout",
          "text": [
            "+----------------+--------------------+--------+----------+--------+\n",
            "|            Name|                Team|Position|  Birthday|  Salary|\n",
            "+----------------+--------------------+--------+----------+--------+\n",
            "|    Tremon Smith| Philadelphia Eagles|      RB| 7/20/1996|  570000|\n",
            "|  Shawn Williams|  Cincinnati Bengals|      SS| 5/13/1991| 3500000|\n",
            "|     Adam Butler|New England Patriots|      DT| 4/12/1994|  645000|\n",
            "|     Derek Wolfe|      Denver Broncos|      DE| 2/24/1990| 8000000|\n",
            "|       Jake Ryan|Jacksonville Jaguars|     OLB| 2/27/1992| 1000000|\n",
            "| Ezekiel Elliott|      Dallas Cowboys|      RB| 7/22/1995| 3853137|\n",
            "|    John Jenkins|      Miami Dolphins|      DE| 7/11/1989|  805000|\n",
            "|  Andrew Wingard|Jacksonville Jaguars|      FS| 12/5/1996|  495000|\n",
            "|      John Jerry|  Cincinnati Bengals|      OT| 6/14/1986|  930000|\n",
            "|    Matt Barkley|       Buffalo Bills|      QB|  9/8/1990| 1250000|\n",
            "|     Josh Harris|     Atlanta Falcons|      LS| 4/27/1989|  930000|\n",
            "|  Adarius Taylor|    Cleveland Browns|     OLB| 9/21/1990| 1350000|\n",
            "| Olabisi Johnson|   Minnesota Vikings|      WR| 3/17/1997|  647500|\n",
            "|    Andrew Adams|Tampa Bay Buccaneers|      SS|10/28/1992|  720000|\n",
            "|    Forrest Lamp|Los Angeles Chargers|       G| 2/20/1994| 1071084|\n",
            "|   Ryan Kerrigan| Washington Redskins|     OLB| 8/16/1988|10500000|\n",
            "|    Robert Davis| Philadelphia Eagles|      WR|  4/2/1995|  570000|\n",
            "|     Kevin Byard|    Tennessee Titans|      FS| 8/17/1993| 2025000|\n",
            "|   Pat O'Donnell|       Chicago Bears|       P| 2/22/1991| 1250000|\n",
            "|Barkevious Mingo|      Houston Texans|     OLB| 10/4/1990| 3400000|\n",
            "+----------------+--------------------+--------+----------+--------+\n",
            "only showing top 20 rows\n",
            "\n"
          ]
        }
      ]
    },
    {
      "cell_type": "markdown",
      "source": [
        "# CW 5.2\n",
        "- How many observations are in nfl?\n",
        "- What are the mean, standard deviation, minimum, and maximum of Salary in nfl?"
      ],
      "metadata": {
        "id": "e3LjLOLqs8B9"
      }
    },
    {
      "cell_type": "code",
      "source": [
        "nfl.count()"
      ],
      "metadata": {
        "colab": {
          "base_uri": "https://localhost:8080/"
        },
        "id": "fPrOLJnGs8_c",
        "outputId": "02f70429-4455-4d62-fffc-2d82f55de7f0"
      },
      "execution_count": 32,
      "outputs": [
        {
          "output_type": "execute_result",
          "data": {
            "text/plain": [
              "1655"
            ]
          },
          "metadata": {},
          "execution_count": 32
        }
      ]
    },
    {
      "cell_type": "code",
      "source": [
        "nfl.select(\"Salary\").describe().show()"
      ],
      "metadata": {
        "colab": {
          "base_uri": "https://localhost:8080/"
        },
        "id": "eQQtJINVtMK7",
        "outputId": "df207d64-eb62-4e89-9a80-820adc922ca8"
      },
      "execution_count": 34,
      "outputs": [
        {
          "output_type": "stream",
          "name": "stdout",
          "text": [
            "+-------+-----------------+\n",
            "|summary|           Salary|\n",
            "+-------+-----------------+\n",
            "|  count|             1655|\n",
            "|   mean|1861569.044712991|\n",
            "| stddev| 2748518.89575669|\n",
            "|    min|           378000|\n",
            "|    max|         27500000|\n",
            "+-------+-----------------+\n",
            "\n"
          ]
        }
      ]
    },
    {
      "cell_type": "markdown",
      "source": [
        "# CW 5.3\n",
        "\n",
        "- How can we count the number of players per team in nfl?\n",
        "- How many unique teams are in nfl?"
      ],
      "metadata": {
        "id": "Q3hJz4GVtPCA"
      }
    },
    {
      "cell_type": "code",
      "source": [
        "nfl.groupBy(\"Team\").count().show(32)"
      ],
      "metadata": {
        "colab": {
          "base_uri": "https://localhost:8080/"
        },
        "id": "5DR5X1LytQa_",
        "outputId": "a48963c3-b318-4ad3-d1f0-787b48feee44"
      },
      "execution_count": 37,
      "outputs": [
        {
          "output_type": "stream",
          "name": "stdout",
          "text": [
            "+--------------------+-----+\n",
            "|                Team|count|\n",
            "+--------------------+-----+\n",
            "|    Tennessee Titans|   46|\n",
            "|      Houston Texans|   52|\n",
            "| San Francisco 49Ers|   55|\n",
            "|Jacksonville Jaguars|   50|\n",
            "|   Arizona Cardinals|   51|\n",
            "|Tampa Bay Buccaneers|   47|\n",
            "|New England Patriots|   49|\n",
            "|       Buffalo Bills|   53|\n",
            "|  Kansas City Chiefs|   56|\n",
            "| Philadelphia Eagles|   52|\n",
            "|  Indianapolis Colts|   49|\n",
            "|    Cleveland Browns|   49|\n",
            "|       New York Jets|   58|\n",
            "|      Miami Dolphins|   49|\n",
            "|       Chicago Bears|   53|\n",
            "|     Oakland Raiders|   51|\n",
            "|     Atlanta Falcons|   53|\n",
            "|   Green Bay Packers|   51|\n",
            "|   Carolina Panthers|   49|\n",
            "|      Denver Broncos|   54|\n",
            "|      Dallas Cowboys|   53|\n",
            "|Los Angeles Chargers|   54|\n",
            "|  New Orleans Saints|   55|\n",
            "| Washington Redskins|   56|\n",
            "|       Detroit Lions|   53|\n",
            "|    Seattle Seahawks|   53|\n",
            "|    Los Angeles Rams|   52|\n",
            "|    Baltimore Ravens|   48|\n",
            "| Pittsburgh Steelers|   47|\n",
            "|   Minnesota Vikings|   54|\n",
            "|  Cincinnati Bengals|   51|\n",
            "|     New York Giants|   52|\n",
            "+--------------------+-----+\n",
            "\n"
          ]
        }
      ]
    },
    {
      "cell_type": "code",
      "source": [
        "from pyspark.sql.functions import countDistinct\n",
        "num_teams = nfl.select(countDistinct(\"Team\")).collect()[0][0]\n",
        "num_teams"
      ],
      "metadata": {
        "colab": {
          "base_uri": "https://localhost:8080/"
        },
        "id": "TUi8b__yuJ8J",
        "outputId": "ea49d065-c2c5-4f9b-8d00-5afef5982113"
      },
      "execution_count": 38,
      "outputs": [
        {
          "output_type": "execute_result",
          "data": {
            "text/plain": [
              "32"
            ]
          },
          "metadata": {},
          "execution_count": 38
        }
      ]
    },
    {
      "cell_type": "code",
      "source": [
        "nfl.groupBy(\"Team\").count()"
      ],
      "metadata": {
        "colab": {
          "base_uri": "https://localhost:8080/"
        },
        "id": "WzSUZTjkujSs",
        "outputId": "fd742db6-9a9e-4f48-df9b-2451b1bf42d8"
      },
      "execution_count": 39,
      "outputs": [
        {
          "output_type": "execute_result",
          "data": {
            "text/plain": [
              "DataFrame[Team: string, count: bigint]"
            ]
          },
          "metadata": {},
          "execution_count": 39
        }
      ]
    },
    {
      "cell_type": "code",
      "source": [
        "nfl.groupBy(\"Team\").count().count()"
      ],
      "metadata": {
        "colab": {
          "base_uri": "https://localhost:8080/"
        },
        "id": "Eu4NRMjnuqKi",
        "outputId": "31d60a33-5c12-48a4-872f-9a5d3b61cbce"
      },
      "execution_count": 40,
      "outputs": [
        {
          "output_type": "execute_result",
          "data": {
            "text/plain": [
              "32"
            ]
          },
          "metadata": {},
          "execution_count": 40
        }
      ]
    },
    {
      "cell_type": "markdown",
      "source": [
        "# Sorting"
      ],
      "metadata": {
        "id": "GIbAAASOu_tZ"
      }
    },
    {
      "cell_type": "code",
      "source": [
        "df.orderBy(\"Name\").show()"
      ],
      "metadata": {
        "colab": {
          "base_uri": "https://localhost:8080/"
        },
        "id": "f2HWjBYVu-6F",
        "outputId": "c2616f50-d14b-4554-bda3-bff848d342ee"
      },
      "execution_count": 42,
      "outputs": [
        {
          "output_type": "stream",
          "name": "stdout",
          "text": [
            "+-----------------+--------------------+--------+--------+--------+\n",
            "|             Name|                Team|Position|Birthday|  Salary|\n",
            "+-----------------+--------------------+--------+--------+--------+\n",
            "|     Aaron Gordon|       Orlando Magic|      PF| 9/16/95|19863636|\n",
            "|    Aaron Holiday|      Indiana Pacers|      PG| 9/30/96| 2239200|\n",
            "|      Abdel Nader|Oklahoma City Thu...|      SF| 9/25/93| 1618520|\n",
            "|      Adam Mokoka|       Chicago Bulls|       G| 7/18/98|   79568|\n",
            "|Admiral Schofield|  Washington Wizards|      SF| 3/30/97| 1000000|\n",
            "|       Al Horford|  Philadelphia 76ers|       C|  6/3/86|28000000|\n",
            "|  Al-Farouq Aminu|       Orlando Magic|      PF| 9/21/90| 9258000|\n",
            "|       Alec Burks|Golden State Warr...|      SG| 7/20/91| 2320044|\n",
            "|      Alex Caruso|  Los Angeles Lakers|      PG| 2/28/94| 2750000|\n",
            "|         Alex Len|       Atlanta Hawks|       C| 6/16/93| 4160000|\n",
            "| Alfonzo McKinnie| Cleveland Cavaliers|      SF| 9/17/92| 1588231|\n",
            "|    Alize Johnson|      Indiana Pacers|      PF| 4/22/96| 1416852|\n",
            "|     Allen Crabbe|       Atlanta Hawks|      SG|  4/9/92|18500000|\n",
            "|    Allonzo Trier|     New York Knicks|      PG| 1/17/96| 3551100|\n",
            "|  Amile Jefferson|       Orlando Magic|      PF|  5/7/93| 1339515|\n",
            "|      Amir Coffey|Los Angeles Clippers|       G| 6/17/97|   79568|\n",
            "|   Andre Drummond|     Detroit Pistons|       C| 8/10/93|27093018|\n",
            "|   Andre Iguodala|   Memphis Grizzlies|      SF| 1/28/84|17185185|\n",
            "|   Andre Roberson|Oklahoma City Thu...|      SF| 12/4/91|10740740|\n",
            "|   Andrew Wiggins|Minnesota Timberw...|      SF| 2/23/95|27504630|\n",
            "+-----------------+--------------------+--------+--------+--------+\n",
            "only showing top 20 rows\n",
            "\n"
          ]
        }
      ]
    },
    {
      "cell_type": "code",
      "source": [
        "from pyspark.sql.functions import desc\n",
        "df.orderBy(desc(\"Salary\")).show(5)"
      ],
      "metadata": {
        "colab": {
          "base_uri": "https://localhost:8080/"
        },
        "id": "Z0iFncjIvPp_",
        "outputId": "e78dc568-be39-4d4b-940e-332c979bca20"
      },
      "execution_count": 43,
      "outputs": [
        {
          "output_type": "stream",
          "name": "stdout",
          "text": [
            "+-----------------+--------------------+--------+--------+--------+\n",
            "|             Name|                Team|Position|Birthday|  Salary|\n",
            "+-----------------+--------------------+--------+--------+--------+\n",
            "|    Stephen Curry|Golden State Warr...|      PG| 3/14/88|40231758|\n",
            "|Russell Westbrook|     Houston Rockets|      PG|11/12/88|38506482|\n",
            "|       Chris Paul|Oklahoma City Thu...|      PG|  5/6/85|38506482|\n",
            "|        John Wall|  Washington Wizards|      PG|  9/6/90|38199000|\n",
            "|     James Harden|     Houston Rockets|      PG| 8/26/89|38199000|\n",
            "+-----------------+--------------------+--------+--------+--------+\n",
            "only showing top 5 rows\n",
            "\n"
          ]
        }
      ]
    },
    {
      "cell_type": "code",
      "source": [
        "df.orderBy([\"Team\", desc(\"Salary\")]).show(5)\n"
      ],
      "metadata": {
        "colab": {
          "base_uri": "https://localhost:8080/"
        },
        "id": "OCG_dz7evY88",
        "outputId": "7bea9d37-0a82-4d0b-d19d-c03b39ba769e"
      },
      "execution_count": 44,
      "outputs": [
        {
          "output_type": "stream",
          "name": "stdout",
          "text": [
            "+----------------+-------------+--------+--------+--------+\n",
            "|            Name|         Team|Position|Birthday|  Salary|\n",
            "+----------------+-------------+--------+--------+--------+\n",
            "|Chandler Parsons|Atlanta Hawks|      SF|10/25/88|25102512|\n",
            "|     Evan Turner|Atlanta Hawks|      PG|10/27/88|18606556|\n",
            "|    Allen Crabbe|Atlanta Hawks|      SG|  4/9/92|18500000|\n",
            "| De'Andre Hunter|Atlanta Hawks|      SF| 12/2/97| 7068360|\n",
            "|   Jabari Parker|Atlanta Hawks|      PF| 3/15/95| 6500000|\n",
            "+----------------+-------------+--------+--------+--------+\n",
            "only showing top 5 rows\n",
            "\n"
          ]
        }
      ]
    },
    {
      "cell_type": "code",
      "source": [
        "df.orderBy(\"Salary\").limit(5).show()"
      ],
      "metadata": {
        "colab": {
          "base_uri": "https://localhost:8080/"
        },
        "id": "oTh0kK13vrG2",
        "outputId": "1b3afb50-918c-47f6-deed-900a40efc1c7"
      },
      "execution_count": 46,
      "outputs": [
        {
          "output_type": "stream",
          "name": "stdout",
          "text": [
            "+----------------+------------------+--------+--------+------+\n",
            "|            Name|              Team|Position|Birthday|Salary|\n",
            "+----------------+------------------+--------+--------+------+\n",
            "|Jarrell Brantley|         Utah Jazz|      PF|  6/7/96| 79568|\n",
            "| Michael Frazier|   Houston Rockets|       G|  3/8/94| 79568|\n",
            "|Garrison Mathews|Washington Wizards|      SG|10/24/96| 79568|\n",
            "|    Norvel Pelle|Philadelphia 76ers|      FC|  2/3/93| 79568|\n",
            "| Brandon Goodwin|     Atlanta Hawks|      PG| 10/2/95| 79568|\n",
            "+----------------+------------------+--------+--------+------+\n",
            "\n"
          ]
        }
      ]
    },
    {
      "cell_type": "code",
      "source": [
        "df.orderBy(\"Salary\").limit(4).show()"
      ],
      "metadata": {
        "colab": {
          "base_uri": "https://localhost:8080/"
        },
        "id": "1poqgxm7vzSs",
        "outputId": "30c283d5-a5c7-4548-a863-81f7c31c083d"
      },
      "execution_count": 47,
      "outputs": [
        {
          "output_type": "stream",
          "name": "stdout",
          "text": [
            "+--------------+--------------------+--------+--------+------+\n",
            "|          Name|                Team|Position|Birthday|Salary|\n",
            "+--------------+--------------------+--------+--------+------+\n",
            "|Zylan Cheatham|New Orleans Pelicans|      SF|11/17/95| 79568|\n",
            "|  Norvel Pelle|  Philadelphia 76ers|      FC|  2/3/93| 79568|\n",
            "|Henry Ellenson|       Brooklyn Nets|      PF| 1/13/97| 79568|\n",
            "|    Tyler Cook| Cleveland Cavaliers|      PF| 9/23/97| 79568|\n",
            "+--------------+--------------------+--------+--------+------+\n",
            "\n"
          ]
        }
      ]
    },
    {
      "cell_type": "code",
      "source": [
        "df.orderBy(desc(\"Salary\")).limit(5).show()"
      ],
      "metadata": {
        "colab": {
          "base_uri": "https://localhost:8080/"
        },
        "id": "jqiF2G9Vv7Ur",
        "outputId": "1ca3491d-0bd2-4840-c3a7-e867c8081aa6"
      },
      "execution_count": 48,
      "outputs": [
        {
          "output_type": "stream",
          "name": "stdout",
          "text": [
            "+-----------------+--------------------+--------+--------+--------+\n",
            "|             Name|                Team|Position|Birthday|  Salary|\n",
            "+-----------------+--------------------+--------+--------+--------+\n",
            "|    Stephen Curry|Golden State Warr...|      PG| 3/14/88|40231758|\n",
            "|       Chris Paul|Oklahoma City Thu...|      PG|  5/6/85|38506482|\n",
            "|Russell Westbrook|     Houston Rockets|      PG|11/12/88|38506482|\n",
            "|        John Wall|  Washington Wizards|      PG|  9/6/90|38199000|\n",
            "|     James Harden|     Houston Rockets|      PG| 8/26/89|38199000|\n",
            "+-----------------+--------------------+--------+--------+--------+\n",
            "\n"
          ]
        }
      ]
    },
    {
      "cell_type": "code",
      "source": [
        "df.orderBy(desc(\"Salary\")).limit(4).show()"
      ],
      "metadata": {
        "colab": {
          "base_uri": "https://localhost:8080/"
        },
        "id": "SCcaGhhav_F1",
        "outputId": "d802734e-f4f9-4e4a-b794-a8ea6ddfebe2"
      },
      "execution_count": 49,
      "outputs": [
        {
          "output_type": "stream",
          "name": "stdout",
          "text": [
            "+-----------------+--------------------+--------+--------+--------+\n",
            "|             Name|                Team|Position|Birthday|  Salary|\n",
            "+-----------------+--------------------+--------+--------+--------+\n",
            "|    Stephen Curry|Golden State Warr...|      PG| 3/14/88|40231758|\n",
            "|       Chris Paul|Oklahoma City Thu...|      PG|  5/6/85|38506482|\n",
            "|Russell Westbrook|     Houston Rockets|      PG|11/12/88|38506482|\n",
            "|     James Harden|     Houston Rockets|      PG| 8/26/89|38199000|\n",
            "+-----------------+--------------------+--------+--------+--------+\n",
            "\n"
          ]
        }
      ]
    },
    {
      "cell_type": "markdown",
      "source": [
        "# Row Operations"
      ],
      "metadata": {
        "id": "FM_-GsWIwwRT"
      }
    },
    {
      "cell_type": "code",
      "source": [
        "df.filter(\"Team == 'New York Knicks'\").show()"
      ],
      "metadata": {
        "colab": {
          "base_uri": "https://localhost:8080/"
        },
        "id": "Bm09MkVLwxup",
        "outputId": "b71dee8a-e6be-4ede-9768-fc77ec2c5712"
      },
      "execution_count": 51,
      "outputs": [
        {
          "output_type": "stream",
          "name": "stdout",
          "text": [
            "+-----------------+---------------+--------+--------+--------+\n",
            "|             Name|           Team|Position|Birthday|  Salary|\n",
            "+-----------------+---------------+--------+--------+--------+\n",
            "|    Marcus Morris|New York Knicks|      PF|  9/2/89|15000000|\n",
            "|   Damyean Dotson|New York Knicks|      SG|  5/6/94| 1618520|\n",
            "| Ignas Brazdeikis|New York Knicks|      SF|  1/8/99|  898310|\n",
            "|        Ivan Rabb|New York Knicks|      PF|  2/4/97|   79568|\n",
            "|       Kevin Knox|New York Knicks|      PF| 8/11/99| 4380120|\n",
            "|    Julius Randle|New York Knicks|       C|11/29/94|18000000|\n",
            "|Mitchell Robinson|New York Knicks|       C|  4/1/98| 1559712|\n",
            "|  Wayne Ellington|New York Knicks|      SG|11/29/87| 8000000|\n",
            "|       RJ Barrett|New York Knicks|      SG| 6/14/00| 7839960|\n",
            "|    Elfrid Payton|New York Knicks|      PG| 2/22/94| 8000000|\n",
            "|    Allonzo Trier|New York Knicks|      PG| 1/17/96| 3551100|\n",
            "|   Reggie Bullock|New York Knicks|      SF| 3/16/91| 4000000|\n",
            "|     Bobby Portis|New York Knicks|       C| 2/10/95|15000000|\n",
            "|       Taj Gibson|New York Knicks|       C| 6/24/85| 9000000|\n",
            "|  Frank Ntilikina|New York Knicks|      PG| 7/28/98| 4855800|\n",
            "|     Kadeem Allen|New York Knicks|      PG| 1/15/93|   79568|\n",
            "+-----------------+---------------+--------+--------+--------+\n",
            "\n"
          ]
        }
      ]
    },
    {
      "cell_type": "code",
      "source": [
        "df.limit(5).show()"
      ],
      "metadata": {
        "colab": {
          "base_uri": "https://localhost:8080/"
        },
        "id": "oocQsxJnw1GJ",
        "outputId": "7100c9a4-260f-4c0f-a737-e5da880b1253"
      },
      "execution_count": 53,
      "outputs": [
        {
          "output_type": "stream",
          "name": "stdout",
          "text": [
            "+--------------+------------------+--------+--------+-------+\n",
            "|          Name|              Team|Position|Birthday| Salary|\n",
            "+--------------+------------------+--------+--------+-------+\n",
            "|  Shake Milton|Philadelphia 76ers|      SG| 9/26/96|1445697|\n",
            "|Christian Wood|   Detroit Pistons|      PF| 9/27/95|1645357|\n",
            "| PJ Washington| Charlotte Hornets|      PF| 8/23/98|3831840|\n",
            "|  Derrick Rose|   Detroit Pistons|      PG| 10/4/88|7317074|\n",
            "| Marial Shayok|Philadelphia 76ers|       G| 7/26/95|  79568|\n",
            "+--------------+------------------+--------+--------+-------+\n",
            "\n"
          ]
        }
      ]
    },
    {
      "cell_type": "code",
      "source": [
        "df.take(5)"
      ],
      "metadata": {
        "colab": {
          "base_uri": "https://localhost:8080/"
        },
        "id": "uqCdSbrVw38j",
        "outputId": "b8bd65c1-e997-4ac0-ef74-23956998ccfa"
      },
      "execution_count": 54,
      "outputs": [
        {
          "output_type": "execute_result",
          "data": {
            "text/plain": [
              "[Row(Name='Shake Milton', Team='Philadelphia 76ers', Position='SG', Birthday='9/26/96', Salary=1445697),\n",
              " Row(Name='Christian Wood', Team='Detroit Pistons', Position='PF', Birthday='9/27/95', Salary=1645357),\n",
              " Row(Name='PJ Washington', Team='Charlotte Hornets', Position='PF', Birthday='8/23/98', Salary=3831840),\n",
              " Row(Name='Derrick Rose', Team='Detroit Pistons', Position='PG', Birthday='10/4/88', Salary=7317074),\n",
              " Row(Name='Marial Shayok', Team='Philadelphia 76ers', Position='G', Birthday='7/26/95', Salary=79568)]"
            ]
          },
          "metadata": {},
          "execution_count": 54
        }
      ]
    },
    {
      "cell_type": "code",
      "source": [
        "df.collect()"
      ],
      "metadata": {
        "colab": {
          "base_uri": "https://localhost:8080/"
        },
        "id": "uiKoiu71w8Ld",
        "outputId": "bb474aaf-360e-4d90-a7d2-a4eca6121cb4"
      },
      "execution_count": 55,
      "outputs": [
        {
          "output_type": "execute_result",
          "data": {
            "text/plain": [
              "[Row(Name='Shake Milton', Team='Philadelphia 76ers', Position='SG', Birthday='9/26/96', Salary=1445697),\n",
              " Row(Name='Christian Wood', Team='Detroit Pistons', Position='PF', Birthday='9/27/95', Salary=1645357),\n",
              " Row(Name='PJ Washington', Team='Charlotte Hornets', Position='PF', Birthday='8/23/98', Salary=3831840),\n",
              " Row(Name='Derrick Rose', Team='Detroit Pistons', Position='PG', Birthday='10/4/88', Salary=7317074),\n",
              " Row(Name='Marial Shayok', Team='Philadelphia 76ers', Position='G', Birthday='7/26/95', Salary=79568),\n",
              " Row(Name='Draymond Green', Team='Golden State Warriors', Position='PF', Birthday='3/4/90', Salary=18539130),\n",
              " Row(Name='Kendrick Nunn', Team='Miami Heat', Position='SG', Birthday='8/3/95', Salary=1416852),\n",
              " Row(Name='Cedi Osman', Team='Cleveland Cavaliers', Position='SF', Birthday='4/8/95', Salary=2907143),\n",
              " Row(Name='Brook Lopez', Team='Milwaukee Bucks', Position='C', Birthday='4/1/88', Salary=12093024),\n",
              " Row(Name='Torrey Craig', Team='Denver Nuggets', Position='SF', Birthday='12/19/90', Salary=2000000),\n",
              " Row(Name='Jordan Clarkson', Team='Cleveland Cavaliers', Position='PG', Birthday='6/7/92', Salary=13437500),\n",
              " Row(Name='Alex Caruso', Team='Los Angeles Lakers', Position='PG', Birthday='2/28/94', Salary=2750000),\n",
              " Row(Name='Norvel Pelle', Team='Philadelphia 76ers', Position='FC', Birthday='2/3/93', Salary=79568),\n",
              " Row(Name='Tyler Johnson', Team='Phoenix Suns', Position='PG', Birthday='5/7/92', Salary=19245370),\n",
              " Row(Name='Alec Burks', Team='Golden State Warriors', Position='SG', Birthday='7/20/91', Salary=2320044),\n",
              " Row(Name='JaMychal Green', Team='Los Angeles Clippers', Position='PF', Birthday='6/21/90', Salary=4767000),\n",
              " Row(Name='Dwight Howard', Team='Los Angeles Lakers', Position='C', Birthday='12/8/85', Salary=5603850),\n",
              " Row(Name='Nikola Jokic', Team='Denver Nuggets', Position='C', Birthday='2/19/95', Salary=27504630),\n",
              " Row(Name='Chris Boucher', Team='Toronto Raptors', Position='PF', Birthday='1/11/93', Salary=1588231),\n",
              " Row(Name='Marcus Morris', Team='New York Knicks', Position='PF', Birthday='9/2/89', Salary=15000000),\n",
              " Row(Name='Kevin Huerter', Team='Atlanta Hawks', Position='SG', Birthday='8/27/98', Salary=2636280),\n",
              " Row(Name='Rui Hachimura', Team='Washington Wizards', Position='PF', Birthday='2/8/98', Salary=4469160),\n",
              " Row(Name='George Hill', Team='Milwaukee Bucks', Position='PG', Birthday='5/4/86', Salary=10133907),\n",
              " Row(Name='Nickeil Alexander-Walker', Team='New Orleans Pelicans', Position='SG', Birthday='9/2/98', Salary=2964840),\n",
              " Row(Name='Jaylen Hoard', Team='Portland Trail Blazers', Position='SF', Birthday='3/30/99', Salary=79568),\n",
              " Row(Name='Tyler Cook', Team='Cleveland Cavaliers', Position='PF', Birthday='9/23/97', Salary=79568),\n",
              " Row(Name='Otto Porter', Team='Chicago Bulls', Position='SF', Birthday='6/3/93', Salary=27250576),\n",
              " Row(Name='Langston Galloway', Team='Detroit Pistons', Position='PG', Birthday='12/9/91', Salary=7333333),\n",
              " Row(Name='Evan Turner', Team='Atlanta Hawks', Position='PG', Birthday='10/27/88', Salary=18606556),\n",
              " Row(Name='Norman Powell', Team='Toronto Raptors', Position='SG', Birthday='5/25/93', Salary=10116576),\n",
              " Row(Name='Nicolas Claxton', Team='Brooklyn Nets', Position='PF', Birthday='4/17/99', Salary=898310),\n",
              " Row(Name='Michael Frazier', Team='Houston Rockets', Position='G', Birthday='3/8/94', Salary=79568),\n",
              " Row(Name='Paul Millsap', Team='Denver Nuggets', Position='PF', Birthday='2/10/85', Salary=30000000),\n",
              " Row(Name='Furkan Korkmaz', Team='Philadelphia 76ers', Position='SG', Birthday='7/24/97', Salary=1620564),\n",
              " Row(Name='Trey Burke', Team='Philadelphia 76ers', Position='PG', Birthday='11/12/92', Salary=2028594),\n",
              " Row(Name='Bradley Beal', Team='Washington Wizards', Position='SG', Birthday='6/28/93', Salary=27093018),\n",
              " Row(Name='Thomas Bryant', Team='Washington Wizards', Position='C', Birthday='7/31/97', Salary=8000000),\n",
              " Row(Name='Dean Wade', Team='Cleveland Cavaliers', Position='PF', Birthday='11/20/96', Salary=79568),\n",
              " Row(Name='Chris Paul', Team='Oklahoma City Thunder', Position='PG', Birthday='5/6/85', Salary=38506482),\n",
              " Row(Name='Josh Hart', Team='New Orleans Pelicans', Position='SF', Birthday='3/6/95', Salary=1934160),\n",
              " Row(Name='LaMarcus Aldridge', Team='San Antonio Spurs', Position='C', Birthday='7/19/85', Salary=26000000),\n",
              " Row(Name='DaQuan Jeffries', Team='Sacramento Kings', Position='SG', Birthday='8/30/97', Salary=898310),\n",
              " Row(Name='Hamidou Diallo', Team='Oklahoma City Thunder', Position='SF', Birthday='7/31/98', Salary=1416852),\n",
              " Row(Name='Jamal Murray', Team='Denver Nuggets', Position='PG', Birthday='2/23/97', Salary=4444746),\n",
              " Row(Name='Darius Bazley', Team='Oklahoma City Thunder', Position='PF', Birthday='6/12/00', Salary=2284800),\n",
              " Row(Name='Robert Franks', Team='Charlotte Hornets', Position='F', Birthday='12/18/96', Salary=79568),\n",
              " Row(Name='Gerald Green', Team='Houston Rockets', Position='SF', Birthday='1/26/86', Salary=2564753),\n",
              " Row(Name='Thaddeus Young', Team='Chicago Bulls', Position='PF', Birthday='6/21/88', Salary=12900000),\n",
              " Row(Name='Sviatoslav Mykhailiuk', Team='Detroit Pistons', Position='SF', Birthday='6/10/97', Salary=1416852),\n",
              " Row(Name='Ian Mahinmi', Team='Washington Wizards', Position='C', Birthday='11/5/86', Salary=15450051),\n",
              " Row(Name='Deonte Burton', Team='Oklahoma City Thunder', Position='SG', Birthday='1/31/94', Salary=1416852),\n",
              " Row(Name='Markelle Fultz', Team='Orlando Magic', Position='PG', Birthday='5/29/98', Salary=9745200),\n",
              " Row(Name='Aaron Gordon', Team='Orlando Magic', Position='PF', Birthday='9/16/95', Salary=19863636),\n",
              " Row(Name='Dzanan Musa', Team='Brooklyn Nets', Position='SF', Birthday='5/8/99', Salary=1911600),\n",
              " Row(Name='Patrick McCaw', Team='Toronto Raptors', Position='SF', Birthday='10/25/95', Salary=4000000),\n",
              " Row(Name='Bismack Biyombo', Team='Charlotte Hornets', Position='C', Birthday='8/28/92', Salary=17000000),\n",
              " Row(Name='JaVale McGee', Team='Los Angeles Lakers', Position='C', Birthday='1/19/88', Salary=4000000),\n",
              " Row(Name='Juwan Morgan', Team='Utah Jazz', Position='F', Birthday='4/17/97', Salary=796806),\n",
              " Row(Name='Marc Gasol', Team='Toronto Raptors', Position='C', Birthday='1/29/85', Salary=25595700),\n",
              " Row(Name='Marcus Smart', Team='Boston Celtics', Position='PG', Birthday='3/6/94', Salary=12553571),\n",
              " Row(Name='Rudy Gobert', Team='Utah Jazz', Position='C', Birthday='6/26/92', Salary=24258427),\n",
              " Row(Name='Wesley Iwundu', Team='Orlando Magic', Position='SF', Birthday='12/20/94', Salary=1618520),\n",
              " Row(Name='Dwight Powell', Team='Dallas Mavericks', Position='C', Birthday='7/20/91', Salary=10259375),\n",
              " Row(Name='Goran Dragic', Team='Miami Heat', Position='PG', Birthday='5/6/86', Salary=19217900),\n",
              " Row(Name='Theo Pinson', Team='Brooklyn Nets', Position='SG', Birthday='11/5/95', Salary=1445697),\n",
              " Row(Name='Danilo Gallinari', Team='Oklahoma City Thunder', Position='PF', Birthday='8/8/88', Salary=22615559),\n",
              " Row(Name='Joe Ingles', Team='Utah Jazz', Position='PF', Birthday='10/2/87', Salary=11454546),\n",
              " Row(Name='Jarrett Culver', Team='Minnesota Timberwolves', Position='SG', Birthday='2/20/99', Salary=5813640),\n",
              " Row(Name='Robert Covington', Team='Minnesota Timberwolves', Position='PF', Birthday='12/14/90', Salary=11301219),\n",
              " Row(Name='Damyean Dotson', Team='New York Knicks', Position='SG', Birthday='5/6/94', Salary=1618520),\n",
              " Row(Name='Patrick Beverley', Team='Los Angeles Clippers', Position='PG', Birthday='7/12/88', Salary=12345680),\n",
              " Row(Name='Kevin Love', Team='Cleveland Cavaliers', Position='C', Birthday='9/7/88', Salary=28942830),\n",
              " Row(Name='Quinn Cook', Team='Los Angeles Lakers', Position='PG', Birthday='3/23/93', Salary=3000000),\n",
              " Row(Name='Justin Wright-Foreman', Team='Utah Jazz', Position='G', Birthday='10/27/97', Salary=79568),\n",
              " Row(Name='Noah Vonleh', Team='Minnesota Timberwolves', Position='C', Birthday='8/24/95', Salary=2000000),\n",
              " Row(Name='Tyus Jones', Team='Memphis Grizzlies', Position='PG', Birthday='5/10/96', Salary=9258000),\n",
              " Row(Name='Dewayne Dedmon', Team='Sacramento Kings', Position='C', Birthday='8/12/89', Salary=13333334),\n",
              " Row(Name='Malcolm Brogdon', Team='Indiana Pacers', Position='PG', Birthday='12/11/92', Salary=20000000),\n",
              " Row(Name='Ben McLemore', Team='Houston Rockets', Position='SG', Birthday='2/11/93', Salary=2028594),\n",
              " Row(Name='Wilson Chandler', Team='Brooklyn Nets', Position='PF', Birthday='5/10/87', Salary=2564753),\n",
              " Row(Name='Isaac Bonga', Team='Washington Wizards', Position='PG', Birthday='11/8/99', Salary=1416852),\n",
              " Row(Name='Adam Mokoka', Team='Chicago Bulls', Position='G', Birthday='7/18/98', Salary=79568),\n",
              " Row(Name='Lonzo Ball', Team='New Orleans Pelicans', Position='PG', Birthday='10/27/97', Salary=8719320),\n",
              " Row(Name='Jalen Brunson', Team='Dallas Mavericks', Position='PG', Birthday='8/31/96', Salary=1416852),\n",
              " Row(Name='John Collins', Team='Atlanta Hawks', Position='PF', Birthday='9/23/97', Salary=2686560),\n",
              " Row(Name='Marvin Williams', Team='Charlotte Hornets', Position='PF', Birthday='6/19/86', Salary=15006250),\n",
              " Row(Name='Brad Wanamaker', Team='Boston Celtics', Position='PG', Birthday='7/25/89', Salary=1445697),\n",
              " Row(Name='Donte DiVincenzo', Team='Milwaukee Bucks', Position='SG', Birthday='1/31/97', Salary=2905800),\n",
              " Row(Name='Omari Spellman', Team='Golden State Warriors', Position='PF', Birthday='7/21/97', Salary=1897800),\n",
              " Row(Name='Joe Harris', Team='Brooklyn Nets', Position='SF', Birthday='9/6/91', Salary=7666667),\n",
              " Row(Name=\"Royce O'Neale\", Team='Utah Jazz', Position='PF', Birthday='6/5/93', Salary=1618520),\n",
              " Row(Name='Deandre Ayton', Team='Phoenix Suns', Position='C', Birthday='7/23/98', Salary=9562920),\n",
              " Row(Name='Cory Joseph', Team='Sacramento Kings', Position='PG', Birthday='8/20/91', Salary=12000000),\n",
              " Row(Name='Malcolm Miller', Team='Toronto Raptors', Position='SF', Birthday='3/6/93', Salary=1588231),\n",
              " Row(Name='Justise Winslow', Team='Miami Heat', Position='PF', Birthday='3/26/96', Salary=13000000),\n",
              " Row(Name='Kevin Durant', Team='Brooklyn Nets', Position='PF', Birthday='9/29/88', Salary=37199000),\n",
              " Row(Name='Evan Fournier', Team='Orlando Magic', Position='SF', Birthday='10/29/92', Salary=17000000),\n",
              " Row(Name='Chris Silva', Team='Miami Heat', Position='PF', Birthday='9/19/96', Salary=79568),\n",
              " Row(Name='Vince Carter', Team='Atlanta Hawks', Position='PF', Birthday='1/26/77', Salary=2564753),\n",
              " Row(Name='Cody Zeller', Team='Charlotte Hornets', Position='C', Birthday='10/5/92', Salary=14471910),\n",
              " Row(Name='Brian Bowen', Team='Indiana Pacers', Position='SG', Birthday='10/2/98', Salary=79568),\n",
              " Row(Name='Aaron Holiday', Team='Indiana Pacers', Position='PG', Birthday='9/30/96', Salary=2239200),\n",
              " Row(Name='Troy Daniels', Team='Los Angeles Lakers', Position='SG', Birthday='7/15/91', Salary=2028594),\n",
              " Row(Name='Buddy Hield', Team='Sacramento Kings', Position='SG', Birthday='12/17/92', Salary=4861207),\n",
              " Row(Name='Terance Mann', Team='Los Angeles Clippers', Position='SG', Birthday='10/18/96', Salary=1000000),\n",
              " Row(Name='John Konchar', Team='Memphis Grizzlies', Position='SG', Birthday='3/22/96', Salary=79568),\n",
              " Row(Name='KZ Okpala', Team='Miami Heat', Position='SF', Birthday='4/28/99', Salary=898310),\n",
              " Row(Name='Denzel Valentine', Team='Chicago Bulls', Position='SF', Birthday='11/16/93', Salary=3377568),\n",
              " Row(Name='Marquese Chriss', Team='Golden State Warriors', Position='PF', Birthday='7/2/97', Salary=1678854),\n",
              " Row(Name='Anthony Davis', Team='Los Angeles Lakers', Position='C', Birthday='3/11/93', Salary=27093019),\n",
              " Row(Name='Nemanja Bjelica', Team='Sacramento Kings', Position='PF', Birthday='5/9/88', Salary=6825000),\n",
              " Row(Name='Chandler Parsons', Team='Atlanta Hawks', Position='SF', Birthday='10/25/88', Salary=25102512),\n",
              " Row(Name='Courtney Lee', Team='Dallas Mavericks', Position='SG', Birthday='10/3/85', Salary=12759670),\n",
              " Row(Name='Myles Turner', Team='Indiana Pacers', Position='C', Birthday='3/24/96', Salary=18000000),\n",
              " Row(Name=\"Kyle O'Quinn\", Team='Philadelphia 76ers', Position='C', Birthday='3/26/90', Salary=2174318),\n",
              " Row(Name='Bryn Forbes', Team='San Antonio Spurs', Position='SG', Birthday='7/23/93', Salary=2875000),\n",
              " Row(Name='Duncan Robinson', Team='Miami Heat', Position='PF', Birthday='4/22/94', Salary=1416852),\n",
              " Row(Name='Devin Booker', Team='Phoenix Suns', Position='SG', Birthday='10/30/96', Salary=27285000),\n",
              " Row(Name='Grant Williams', Team='Boston Celtics', Position='PF', Birthday='11/30/98', Salary=2379840),\n",
              " Row(Name='DeMarcus Cousins', Team='Los Angeles Lakers', Position='C', Birthday='8/13/90', Salary=3500000),\n",
              " Row(Name='DeMar DeRozan', Team='San Antonio Spurs', Position='SF', Birthday='8/7/89', Salary=27739975),\n",
              " Row(Name='Kristaps Porzingis', Team='Dallas Mavericks', Position='PF', Birthday='8/2/95', Salary=27285000),\n",
              " Row(Name='Brandon Knight', Team='Cleveland Cavaliers', Position='PG', Birthday='12/2/91', Salary=15643750),\n",
              " Row(Name='Thabo Sefolosha', Team='Houston Rockets', Position='PF', Birthday='5/2/84', Salary=2564753),\n",
              " Row(Name='David Nwaba', Team='Brooklyn Nets', Position='SF', Birthday='1/14/93', Salary=1678854),\n",
              " Row(Name='Quinndary Weatherspoon', Team='San Antonio Spurs', Position='G', Birthday='9/10/96', Salary=79568),\n",
              " Row(Name='Dewan Hernandez', Team='Toronto Raptors', Position='C', Birthday='12/9/96', Salary=898310),\n",
              " Row(Name='Isaiah Thomas', Team='Washington Wizards', Position='PG', Birthday='2/7/89', Salary=2320044),\n",
              " Row(Name='Bruce Brown', Team='Detroit Pistons', Position='SG', Birthday='8/15/96', Salary=1416852),\n",
              " Row(Name='Keldon Johnson', Team='San Antonio Spurs', Position='SF', Birthday='10/11/99', Salary=1950600),\n",
              " Row(Name='Damian Jones', Team='Atlanta Hawks', Position='C', Birthday='6/30/95', Salary=2305057),\n",
              " Row(Name='Luguentz Dort', Team='Oklahoma City Thunder', Position='G', Birthday='4/19/99', Salary=79568),\n",
              " Row(Name='Terence Davis', Team='Toronto Raptors', Position='SG', Birthday='5/16/97', Salary=898310),\n",
              " Row(Name='Chandler Hutchison', Team='Chicago Bulls', Position='SF', Birthday='4/26/96', Salary=2332320),\n",
              " Row(Name='Steven Adams', Team='Oklahoma City Thunder', Position='C', Birthday='7/20/93', Salary=25842697),\n",
              " Row(Name='Jordan Poole', Team='Golden State Warriors', Position='SG', Birthday='6/19/99', Salary=1964760),\n",
              " Row(Name='Sekou Doumbouya', Team='Detroit Pistons', Position='SF', Birthday='12/23/00', Salary=3285120),\n",
              " Row(Name='Zion Williamson', Team='New Orleans Pelicans', Position='F', Birthday='7/6/00', Salary=9757440),\n",
              " Row(Name='Mike Muscala', Team='Oklahoma City Thunder', Position='C', Birthday='7/1/91', Salary=2028594),\n",
              " Row(Name='Skal Labissiere', Team='Portland Trail Blazers', Position='C', Birthday='3/18/96', Salary=2338846),\n",
              " Row(Name='Meyers Leonard', Team='Miami Heat', Position='C', Birthday='2/27/92', Salary=11286515),\n",
              " Row(Name='Reggie Jackson', Team='Detroit Pistons', Position='PG', Birthday='4/16/90', Salary=18086956),\n",
              " Row(Name='Alfonzo McKinnie', Team='Cleveland Cavaliers', Position='SF', Birthday='9/17/92', Salary=1588231),\n",
              " Row(Name='Yuta Watanabe', Team='Memphis Grizzlies', Position='SF', Birthday='10/13/94', Salary=79568),\n",
              " Row(Name='Kentavious Caldwell-Pope', Team='Los Angeles Lakers', Position='SG', Birthday='2/18/93', Salary=8089282),\n",
              " Row(Name='Kelan Martin', Team='Minnesota Timberwolves', Position='SF', Birthday='8/3/95', Salary=79568),\n",
              " Row(Name='OG Anunoby', Team='Toronto Raptors', Position='SF', Birthday='7/17/97', Salary=2281800),\n",
              " Row(Name='Tyler Herro', Team='Miami Heat', Position='SG', Birthday='1/20/00', Salary=3640200),\n",
              " Row(Name='Richaun Holmes', Team='Sacramento Kings', Position='C', Birthday='10/15/93', Salary=4767000),\n",
              " Row(Name='Tyson Chandler', Team='Houston Rockets', Position='C', Birthday='10/2/82', Salary=2564753),\n",
              " Row(Name='Solomon Hill', Team='Memphis Grizzlies', Position='SF', Birthday='3/18/91', Salary=13290395),\n",
              " Row(Name='Keita Bates-Diop', Team='Minnesota Timberwolves', Position='SF', Birthday='1/23/96', Salary=1416852),\n",
              " Row(Name='Kelly Olynyk', Team='Miami Heat', Position='C', Birthday='4/19/91', Salary=12667885),\n",
              " Row(Name='Jaxson Hayes', Team='New Orleans Pelicans', Position='C', Birthday='5/23/00', Salary=4862040),\n",
              " Row(Name='CJ McCollum', Team='Portland Trail Blazers', Position='SG', Birthday='9/19/91', Salary=27556959),\n",
              " Row(Name='Darius Miller', Team='New Orleans Pelicans', Position='SF', Birthday='3/21/90', Salary=7250000),\n",
              " Row(Name='Luka Doncic', Team='Dallas Mavericks', Position='PG', Birthday='2/28/99', Salary=7683360),\n",
              " Row(Name='DeMarre Carroll', Team='San Antonio Spurs', Position='PF', Birthday='7/27/86', Salary=7000000),\n",
              " Row(Name='Cristiano Felicio', Team='Chicago Bulls', Position='C', Birthday='7/7/92', Salary=8156500),\n",
              " Row(Name='Zach LaVine', Team='Chicago Bulls', Position='PG', Birthday='3/10/95', Salary=19500000),\n",
              " Row(Name='Tremont Waters', Team='Boston Celtics', Position='PG', Birthday='1/10/98', Salary=79568),\n",
              " Row(Name='Dejounte Murray', Team='San Antonio Spurs', Position='PG', Birthday='9/19/96', Salary=2321735),\n",
              " Row(Name='Jerome Robinson', Team='Los Angeles Clippers', Position='SG', Birthday='2/22/97', Salary=3567720),\n",
              " Row(Name='Rudy Gay', Team='San Antonio Spurs', Position='PF', Birthday='8/17/86', Salary=14500000),\n",
              " Row(Name='Ryan Broekhoff', Team='Dallas Mavericks', Position='SG', Birthday='8/23/90', Salary=1416852),\n",
              " Row(Name='Jake Layman', Team='Minnesota Timberwolves', Position='PF', Birthday='3/7/94', Salary=3581986),\n",
              " Row(Name='Cameron Johnson', Team='Phoenix Suns', Position='PF', Birthday='3/3/96', Salary=4033440),\n",
              " Row(Name='Allen Crabbe', Team='Atlanta Hawks', Position='SG', Birthday='4/9/92', Salary=18500000),\n",
              " Row(Name='Justin James', Team='Sacramento Kings', Position='SG', Birthday='1/24/97', Salary=898310),\n",
              " Row(Name='Emmanuel Mudiay', Team='Utah Jazz', Position='PG', Birthday='3/5/96', Salary=1737145),\n",
              " Row(Name='Avery Bradley', Team='Los Angeles Lakers', Position='PG', Birthday='11/26/90', Salary=6767000),\n",
              " Row(Name='Victor Oladipo', Team='Indiana Pacers', Position='PG', Birthday='5/4/92', Salary=21000000),\n",
              " Row(Name='Caleb Martin', Team='Charlotte Hornets', Position='SF', Birthday='9/28/95', Salary=898310),\n",
              " Row(Name='Coby White', Team='Chicago Bulls', Position='SG', Birthday='2/16/00', Salary=5307120),\n",
              " Row(Name='Isaiah Hartenstein', Team='Houston Rockets', Position='C', Birthday='5/5/98', Salary=1416852),\n",
              " Row(Name='Will Barton', Team='Denver Nuggets', Position='SF', Birthday='1/6/91', Salary=12776786),\n",
              " Row(Name='Dwayne Bacon', Team='Charlotte Hornets', Position='SG', Birthday='8/30/95', Salary=1618520),\n",
              " Row(Name='Harrison Barnes', Team='Sacramento Kings', Position='PF', Birthday='5/30/92', Salary=24147727),\n",
              " Row(Name='Tim Frazier', Team='Detroit Pistons', Position='PG', Birthday='11/1/90', Salary=1620564),\n",
              " Row(Name='Jimmy Butler', Team='Miami Heat', Position='SF', Birthday='9/14/89', Salary=32742000),\n",
              " Row(Name='Gary Harris', Team='Denver Nuggets', Position='SG', Birthday='9/14/94', Salary=17839286),\n",
              " Row(Name='Thon Maker', Team='Detroit Pistons', Position='C', Birthday='2/25/97', Salary=3569643),\n",
              " Row(Name='Shai Gilgeous-Alexander', Team='Oklahoma City Thunder', Position='PG', Birthday='7/12/98', Salary=3952920),\n",
              " Row(Name='Hassan Whiteside', Team='Portland Trail Blazers', Position='C', Birthday='6/13/89', Salary=27093018),\n",
              " Row(Name='Karl-Anthony Towns', Team='Minnesota Timberwolves', Position='C', Birthday='11/15/95', Salary=27285000),\n",
              " Row(Name='Ky Bowman', Team='Golden State Warriors', Position='PG', Birthday='6/16/97', Salary=79568),\n",
              " Row(Name='Ben Simmons', Team='Philadelphia 76ers', Position='PG', Birthday='7/20/96', Salary=8113929),\n",
              " Row(Name='Terrence Ross', Team='Orlando Magic', Position='SF', Birthday='2/5/91', Salary=12500000),\n",
              " Row(Name='Jordan McLaughlin', Team='Minnesota Timberwolves', Position='PG', Birthday='4/9/96', Salary=79568),\n",
              " Row(Name='Daniel Theis', Team='Boston Celtics', Position='C', Birthday='4/4/92', Salary=5000000),\n",
              " Row(Name='Jonathan Isaac', Team='Orlando Magic', Position='PF', Birthday='10/3/97', Salary=5806440),\n",
              " Row(Name='Cheick Diallo', Team='Phoenix Suns', Position='C', Birthday='9/13/96', Salary=1678854),\n",
              " Row(Name='Serge Ibaka', Team='Toronto Raptors', Position='C', Birthday='9/18/89', Salary=23271604),\n",
              " Row(Name='Amile Jefferson', Team='Orlando Magic', Position='PF', Birthday='5/7/93', Salary=1339515),\n",
              " Row(Name='Cam Reddish', Team='Atlanta Hawks', Position='SF', Birthday='9/1/99', Salary=4245720),\n",
              " Row(Name=\"De'Anthony Melton\", Team='Memphis Grizzlies', Position='PG', Birthday='5/28/98', Salary=1416852),\n",
              " Row(Name='Udonis Haslem', Team='Miami Heat', Position='C', Birthday='6/9/80', Salary=2564753),\n",
              " Row(Name='Charlie Brown', Team='Atlanta Hawks', Position='SG', Birthday='2/2/97', Salary=79568),\n",
              " Row(Name='Elie Okobo', Team='Phoenix Suns', Position='PG', Birthday='10/23/97', Salary=1416852),\n",
              " Row(Name='Gordon Hayward', Team='Boston Celtics', Position='PF', Birthday='3/23/90', Salary=32700690),\n",
              " Row(Name='Marco Belinelli', Team='San Antonio Spurs', Position='SF', Birthday='3/25/86', Salary=5846154),\n",
              " Row(Name='Javonte Green', Team='Boston Celtics', Position='SF', Birthday='7/23/93', Salary=898310),\n",
              " Row(Name='Rondae Hollis-Jefferson', Team='Toronto Raptors', Position='SF', Birthday='1/3/95', Salary=2500000),\n",
              " Row(Name='Carmelo Anthony', Team='Portland Trail Blazers', Position='PF', Birthday='5/29/84', Salary=2159029),\n",
              " Row(Name='Danny Green', Team='Los Angeles Lakers', Position='SG', Birthday='6/22/87', Salary=14634147),\n",
              " Row(Name='Stephen Curry', Team='Golden State Warriors', Position='PG', Birthday='3/14/88', Salary=40231758),\n",
              " Row(Name='Eric Paschall', Team='Golden State Warriors', Position='PF', Birthday='11/4/96', Salary=898310),\n",
              " Row(Name='Daniel Gafford', Team='Chicago Bulls', Position='C', Birthday='10/1/98', Salary=898310),\n",
              " Row(Name='Anfernee Simons', Team='Portland Trail Blazers', Position='SG', Birthday='6/8/99', Salary=2149560),\n",
              " Row(Name='Frank Kaminsky', Team='Phoenix Suns', Position='C', Birthday='4/4/93', Salary=4767000),\n",
              " Row(Name='Luke Kennard', Team='Detroit Pistons', Position='SG', Birthday='6/24/96', Salary=3827160),\n",
              " Row(Name='Josh Okogie', Team='Minnesota Timberwolves', Position='SG', Birthday='9/1/98', Salary=2530680),\n",
              " Row(Name='Rodney Hood', Team='Portland Trail Blazers', Position='SF', Birthday='10/20/92', Salary=5718000),\n",
              " Row(Name=\"De'Andre Hunter\", Team='Atlanta Hawks', Position='SF', Birthday='12/2/97', Salary=7068360),\n",
              " Row(Name='Klay Thompson', Team='Golden State Warriors', Position='SG', Birthday='2/8/90', Salary=32742000),\n",
              " Row(Name='Jrue Holiday', Team='New Orleans Pelicans', Position='PG', Birthday='6/12/90', Salary=26131111),\n",
              " Row(Name='PJ Dozier', Team='Denver Nuggets', Position='PG', Birthday='10/25/96', Salary=79568),\n",
              " Row(Name='Andre Drummond', Team='Detroit Pistons', Position='C', Birthday='8/10/93', Salary=27093018),\n",
              " Row(Name='Jared Harper', Team='Phoenix Suns', Position='PG', Birthday='9/14/97', Salary=79568),\n",
              " Row(Name='Russell Westbrook', Team='Houston Rockets', Position='PG', Birthday='11/12/88', Salary=38506482),\n",
              " Row(Name='Tony Bradley', Team='Utah Jazz', Position='C', Birthday='1/8/98', Salary=1962360),\n",
              " Row(Name='Oshae Brissett', Team='Toronto Raptors', Position='SF', Birthday='6/20/98', Salary=79568),\n",
              " Row(Name='Gary Clark', Team='Houston Rockets', Position='PF', Birthday='11/16/94', Salary=1416852),\n",
              " Row(Name='Pascal Siakam', Team='Toronto Raptors', Position='PF', Birthday='4/2/94', Salary=2351838),\n",
              " Row(Name='Eric Bledsoe', Team='Milwaukee Bucks', Position='PG', Birthday='12/9/89', Salary=15625000),\n",
              " Row(Name='Tomas Satoransky', Team='Chicago Bulls', Position='PG', Birthday='10/30/91', Salary=10000000),\n",
              " Row(Name='Davis Bertans', Team='Washington Wizards', Position='PF', Birthday='11/12/92', Salary=7000000),\n",
              " Row(Name='Amir Coffey', Team='Los Angeles Clippers', Position='G', Birthday='6/17/97', Salary=79568),\n",
              " Row(Name='Ignas Brazdeikis', Team='New York Knicks', Position='SF', Birthday='1/8/99', Salary=898310),\n",
              " Row(Name='Ivan Rabb', Team='New York Knicks', Position='PF', Birthday='2/4/97', Salary=79568),\n",
              " Row(Name='Khris Middleton', Team='Milwaukee Bucks', Position='SF', Birthday='8/12/91', Salary=30603448),\n",
              " Row(Name='Kevin Knox', Team='New York Knicks', Position='PF', Birthday='8/11/99', Salary=4380120),\n",
              " Row(Name='Jeff Green', Team='Utah Jazz', Position='PF', Birthday='8/28/86', Salary=2564753),\n",
              " Row(Name='Ersan Ilyasova', Team='Milwaukee Bucks', Position='PF', Birthday='5/15/87', Salary=7000000),\n",
              " Row(Name='Caleb Swanigan', Team='Sacramento Kings', Position='PF', Birthday='4/18/97', Salary=2033160),\n",
              " Row(Name='Al Horford', Team='Philadelphia 76ers', Position='C', Birthday='6/3/86', Salary=28000000),\n",
              " Row(Name='Clint Capela', Team='Houston Rockets', Position='C', Birthday='5/18/94', Salary=16896552),\n",
              " Row(Name='Georges Niang', Team='Utah Jazz', Position='PF', Birthday='6/17/93', Salary=1645357),\n",
              " Row(Name='Wesley Matthews', Team='Milwaukee Bucks', Position='SF', Birthday='10/14/86', Salary=2564753),\n",
              " Row(Name='Rajon Rondo', Team='Los Angeles Lakers', Position='PG', Birthday='2/22/86', Salary=2564753),\n",
              " Row(Name='Delon Wright', Team='Dallas Mavericks', Position='PG', Birthday='4/26/92', Salary=9473684),\n",
              " Row(Name='Ja Morant', Team='Memphis Grizzlies', Position='PG', Birthday='8/10/99', Salary=8730240),\n",
              " Row(Name='Fred VanVleet', Team='Toronto Raptors', Position='PG', Birthday='2/25/94', Salary=9346153),\n",
              " Row(Name='Brandon Clarke', Team='Memphis Grizzlies', Position='PF', Birthday='9/19/96', Salary=2478840),\n",
              " Row(Name='Miye Oni', Team='Utah Jazz', Position='SG', Birthday='8/4/97', Salary=898310),\n",
              " Row(Name='Julius Randle', Team='New York Knicks', Position='C', Birthday='11/29/94', Salary=18000000),\n",
              " Row(Name='Glenn Robinson III', Team='Golden State Warriors', Position='SF', Birthday='1/8/94', Salary=1882867),\n",
              " Row(Name='Dillon Brooks', Team='Memphis Grizzlies', Position='SF', Birthday='1/22/96', Salary=1618520),\n",
              " Row(Name='Zylan Cheatham', Team='New Orleans Pelicans', Position='SF', Birthday='11/17/95', Salary=79568),\n",
              " Row(Name='Markieff Morris', Team='Detroit Pistons', Position='PF', Birthday='9/2/89', Salary=3200000),\n",
              " Row(Name='Malik Beasley', Team='Denver Nuggets', Position='SG', Birthday='11/26/96', Salary=2731713),\n",
              " Row(Name='John Wall', Team='Washington Wizards', Position='PG', Birthday='9/6/90', Salary=38199000),\n",
              " Row(Name='Vlatko Cancar', Team='Denver Nuggets', Position='SF', Birthday='4/10/97', Salary=898310),\n",
              " Row(Name='Alize Johnson', Team='Indiana Pacers', Position='PF', Birthday='4/22/96', Salary=1416852),\n",
              " Row(Name='Andrew Wiggins', Team='Minnesota Timberwolves', Position='SF', Birthday='2/23/95', Salary=27504630),\n",
              " Row(Name='Khyri Thomas', Team='Detroit Pistons', Position='SG', Birthday='5/8/96', Salary=1416852),\n",
              " Row(Name='Mitchell Robinson', Team='New York Knicks', Position='C', Birthday='4/1/98', Salary=1559712),\n",
              " Row(Name='Damian Lillard', Team='Portland Trail Blazers', Position='PG', Birthday='7/15/90', Salary=29802321),\n",
              " Row(Name='Nassir Little', Team='Portland Trail Blazers', Position='PF', Birthday='2/11/00', Salary=2105520),\n",
              " Row(Name='Mikal Bridges', Team='Phoenix Suns', Position='SF', Birthday='8/30/96', Salary=4161000),\n",
              " Row(Name='Kyle Anderson', Team='Memphis Grizzlies', Position='PF', Birthday='9/20/93', Salary=9073050),\n",
              " Row(Name='Garrett Temple', Team='Brooklyn Nets', Position='PG', Birthday='5/8/86', Salary=4767000),\n",
              " Row(Name='Kyle Korver', Team='Milwaukee Bucks', Position='PF', Birthday='3/17/81', Salary=6004753),\n",
              " Row(Name='Al-Farouq Aminu', Team='Orlando Magic', Position='PF', Birthday='9/21/90', Salary=9258000),\n",
              " Row(Name='James Harden', Team='Houston Rockets', Position='PG', Birthday='8/26/89', Salary=38199000),\n",
              " Row(Name='Derrick White', Team='San Antonio Spurs', Position='PG', Birthday='7/2/94', Salary=1948080),\n",
              " Row(Name='JaKarr Sampson', Team='Indiana Pacers', Position='SF', Birthday='3/20/93', Salary=1737145),\n",
              " Row(Name='Dario Saric', Team='Phoenix Suns', Position='PF', Birthday='4/8/94', Salary=3481985),\n",
              " Row(Name='Ivica Zubac', Team='Los Angeles Clippers', Position='C', Birthday='3/18/97', Salary=6481482),\n",
              " Row(Name='Juan Hernangomez', Team='Denver Nuggets', Position='PF', Birthday='9/28/95', Salary=3321029),\n",
              " Row(Name='Jarrell Brantley', Team='Utah Jazz', Position='PF', Birthday='6/7/96', Salary=79568),\n",
              " Row(Name='Eric Gordon', Team='Houston Rockets', Position='PG', Birthday='12/25/88', Salary=14057730),\n",
              " Row(Name='Naz Reid', Team='Minnesota Timberwolves', Position='F', Birthday='8/26/99', Salary=898310),\n",
              " Row(Name='Justin Robinson', Team='Washington Wizards', Position='PG', Birthday='10/12/97', Salary=898310),\n",
              " Row(Name='Grayson Allen', Team='Memphis Grizzlies', Position='SG', Birthday='10/8/95', Salary=2429400),\n",
              " Row(Name='Trevor Ariza', Team='Sacramento Kings', Position='SF', Birthday='6/30/85', Salary=12200000),\n",
              " Row(Name='Brandon Goodwin', Team='Atlanta Hawks', Position='PG', Birthday='10/2/95', Salary=79568),\n",
              " Row(Name=\"E'Twaun Moore\", Team='New Orleans Pelicans', Position='PG', Birthday='2/25/89', Salary=8664928),\n",
              " Row(Name='Mario Hezonja', Team='Portland Trail Blazers', Position='PF', Birthday='2/25/95', Salary=1737145),\n",
              " Row(Name='Henry Ellenson', Team='Brooklyn Nets', Position='PF', Birthday='1/13/97', Salary=79568),\n",
              " Row(Name='Johnathan Motley', Team='Los Angeles Clippers', Position='PF', Birthday='5/4/95', Salary=79568),\n",
              " Row(Name='James Ennis', Team='Philadelphia 76ers', Position='SF', Birthday='7/1/90', Salary=1882867),\n",
              " Row(Name='Andre Roberson', Team='Oklahoma City Thunder', Position='SF', Birthday='12/4/91', Salary=10740740),\n",
              " Row(Name='Garrison Mathews', Team='Washington Wizards', Position='SG', Birthday='10/24/96', Salary=79568),\n",
              " Row(Name='Jahlil Okafor', Team='New Orleans Pelicans', Position='C', Birthday='12/15/95', Salary=1702486),\n",
              " Row(Name='Mfiondu Kabengele', Team='Los Angeles Clippers', Position='C', Birthday='8/14/97', Salary=1977000),\n",
              " Row(Name='Treveon Graham', Team='Minnesota Timberwolves', Position='SG', Birthday='10/28/93', Salary=1645357),\n",
              " Row(Name='Seth Curry', Team='Dallas Mavericks', Position='PG', Birthday='8/23/90', Salary=7461380),\n",
              " Row(Name=\"D'Angelo Russell\", Team='Golden State Warriors', Position='PG', Birthday='2/23/96', Salary=27285000),\n",
              " Row(Name='Justin Holiday', Team='Indiana Pacers', Position='SG', Birthday='4/5/89', Salary=4767000),\n",
              " Row(Name='Tyrone Wallace', Team='Atlanta Hawks', Position='PG', Birthday='6/10/94', Salary=1620564),\n",
              " Row(Name='Miles Bridges', Team='Charlotte Hornets', Position='SF', Birthday='3/21/98', Salary=3755400),\n",
              " Row(Name='Bogdan Bogdanovic', Team='Sacramento Kings', Position='SG', Birthday='8/18/92', Salary=8529386),\n",
              " Row(Name='Matt Thomas', Team='Toronto Raptors', Position='SG', Birthday='8/4/94', Salary=898310),\n",
              " Row(Name='Jordan Bell', Team='Minnesota Timberwolves', Position='C', Birthday='1/7/95', Salary=1620564),\n",
              " Row(Name='Wenyen Gabriel', Team='Sacramento Kings', Position='PF', Birthday='3/26/97', Salary=79568),\n",
              " Row(Name='Tony Snell', Team='Detroit Pistons', Position='SF', Birthday='11/10/91', Salary=11392857),\n",
              " Row(Name='Shaquille Harrison', Team='Chicago Bulls', Position='PG', Birthday='10/6/93', Salary=1620564),\n",
              " Row(Name='Yogi Ferrell', Team='Sacramento Kings', Position='PG', Birthday='5/9/93', Salary=3150000),\n",
              " Row(Name='Mike Scott', Team='Philadelphia 76ers', Position='PF', Birthday='7/16/88', Salary=4767000),\n",
              " Row(Name='Jarred Vanderbilt', Team='Denver Nuggets', Position='PF', Birthday='4/3/99', Salary=1416852),\n",
              " Row(Name='Jeff Teague', Team='Minnesota Timberwolves', Position='PG', Birthday='6/10/88', Salary=19000000),\n",
              " Row(Name='Zach Norvell', Team='Los Angeles Lakers', Position='SG', Birthday='12/9/97', Salary=79568),\n",
              " Row(Name='Maxi Kleber', Team='Dallas Mavericks', Position='C', Birthday='1/29/92', Salary=8000000),\n",
              " Row(Name='Matisse Thybulle', Team='Philadelphia 76ers', Position='SG', Birthday='3/4/97', Salary=2582160),\n",
              " Row(Name='Ryan Arcidiacono', Team='Chicago Bulls', Position='PG', Birthday='3/26/94', Salary=3000000),\n",
              " Row(Name='Wayne Ellington', Team='New York Knicks', Position='SG', Birthday='11/29/87', Salary=8000000),\n",
              " Row(Name='Kawhi Leonard', Team='Los Angeles Clippers', Position='SF', Birthday='6/29/91', Salary=32742000),\n",
              " Row(Name='Montrezl Harrell', Team='Los Angeles Clippers', Position='C', Birthday='1/26/94', Salary=6000000),\n",
              " Row(Name='Jusuf Nurkic', Team='Portland Trail Blazers', Position='C', Birthday='8/23/94', Salary=12000000),\n",
              " Row(Name='Matthew Dellavedova', Team='Cleveland Cavaliers', Position='PG', Birthday='9/8/90', Salary=9607500),\n",
              " Row(Name='Cody Martin', Team='Charlotte Hornets', Position='SF', Birthday='9/28/95', Salary=1173310),\n",
              " Row(Name='Zhaire Smith', Team='Philadelphia 76ers', Position='SG', Birthday='6/4/99', Salary=3058800),\n",
              " Row(Name='RJ Barrett', Team='New York Knicks', Position='SG', Birthday='6/14/00', Salary=7839960),\n",
              " Row(Name='Lonnie Walker', Team='San Antonio Spurs', Position='SG', Birthday='12/14/98', Salary=2764200),\n",
              " Row(Name='Taurean Prince', Team='Brooklyn Nets', Position='SF', Birthday='3/22/94', Salary=3481985),\n",
              " Row(Name='Elfrid Payton', Team='New York Knicks', Position='PG', Birthday='2/22/94', Salary=8000000),\n",
              " Row(Name='Blake Griffin', Team='Detroit Pistons', Position='PF', Birthday='3/16/89', Salary=34449964),\n",
              " Row(Name='Marko Guduric', Team='Memphis Grizzlies', Position='SG', Birthday='3/8/95', Salary=2625000),\n",
              " Row(Name='Zach Collins', Team='Portland Trail Blazers', Position='C', Birthday='11/19/97', Salary=4240200),\n",
              " Row(Name='Stanley Johnson', Team='Toronto Raptors', Position='PF', Birthday='5/29/96', Salary=3623000),\n",
              " Row(Name='Boban Marjanovic', Team='Dallas Mavericks', Position='C', Birthday='8/15/88', Salary=3500000),\n",
              " Row(Name='Josh Magette', Team='Orlando Magic', Position='PG', Birthday='11/28/89', Salary=79568),\n",
              " Row(Name='Kyle Lowry', Team='Toronto Raptors', Position='PG', Birthday='3/25/86', Salary=33296296),\n",
              " Row(Name='Darius Garland', Team='Cleveland Cavaliers', Position='PG', Birthday='1/26/00', Salary=6400920),\n",
              " Row(Name='Frank Jackson', Team='New Orleans Pelicans', Position='PG', Birthday='5/4/98', Salary=1618520),\n",
              " Row(Name='Dragan Bender', Team='Milwaukee Bucks', Position='PF', Birthday='11/17/97', Salary=1678854),\n",
              " Row(Name='Kenrich Williams', Team='New Orleans Pelicans', Position='PF', Birthday='12/2/94', Salary=1416852),\n",
              " Row(Name='Jerami Grant', Team='Denver Nuggets', Position='PF', Birthday='3/12/94', Salary=9346153),\n",
              " Row(Name='Allonzo Trier', Team='New York Knicks', Position='PG', Birthday='1/17/96', Salary=3551100),\n",
              " Row(Name='Pat Connaughton', Team='Milwaukee Bucks', Position='SG', Birthday='1/6/93', Salary=1723050),\n",
              " Row(Name='Domantas Sabonis', Team='Indiana Pacers', Position='C', Birthday='5/3/96', Salary=3529554),\n",
              " Row(Name='Dylan Windler', Team='Cleveland Cavaliers', Position='GF', Birthday='9/22/96', Salary=2035800),\n",
              " Row(Name='Antonius Cleveland', Team='Dallas Mavericks', Position='SG', Birthday='2/2/94', Salary=79568),\n",
              " Row(Name='Damion Lee', Team='Golden State Warriors', Position='SG', Birthday='10/21/92', Salary=79568),\n",
              " Row(Name='Khem Birch', Team='Orlando Magic', Position='C', Birthday='9/28/92', Salary=3000000),\n",
              " Row(Name='Aron Baynes', Team='Phoenix Suns', Position='C', Birthday='12/9/86', Salary=5453280),\n",
              " Row(Name='Kemba Walker', Team='Boston Celtics', Position='PG', Birthday='5/8/90', Salary=32742000),\n",
              " Row(Name='Nerlens Noel', Team='Oklahoma City Thunder', Position='C', Birthday='4/10/94', Salary=1882867),\n",
              " Row(Name='Jabari Parker', Team='Atlanta Hawks', Position='PF', Birthday='3/15/95', Salary=6500000),\n",
              " Row(Name='Carsen Edwards', Team='Boston Celtics', Position='SG', Birthday='3/12/98', Salary=1228026),\n",
              " Row(Name='Anthony Tolliver', Team='Portland Trail Blazers', Position='PF', Birthday='6/1/85', Salary=2564753),\n",
              " Row(Name='Lauri Markkanen', Team='Chicago Bulls', Position='PF', Birthday='5/22/97', Salary=5300400),\n",
              " Row(Name='Kris Dunn', Team='Chicago Bulls', Position='PG', Birthday='3/18/94', Salary=5348007),\n",
              " Row(Name='Reggie Bullock', Team='New York Knicks', Position='SF', Birthday='3/16/91', Salary=4000000),\n",
              " Row(Name='Mike Conley', Team='Utah Jazz', Position='PG', Birthday='10/11/87', Salary=32511623),\n",
              " Row(Name='Jaylen Nowell', Team='Minnesota Timberwolves', Position='SG', Birthday='7/9/99', Salary=1400000),\n",
              " Row(Name='Gorgui Dieng', Team='Minnesota Timberwolves', Position='C', Birthday='1/18/90', Salary=16229213),\n",
              " Row(Name='Patrick Patterson', Team='Los Angeles Clippers', Position='PF', Birthday='3/14/89', Salary=3068660),\n",
              " Row(Name='Jarrett Allen', Team='Brooklyn Nets', Position='C', Birthday='4/21/98', Salary=2376840),\n",
              " Row(Name='Bobby Portis', Team='New York Knicks', Position='C', Birthday='2/10/95', Salary=15000000),\n",
              " Row(Name='Joel Embiid', Team='Philadelphia 76ers', Position='C', Birthday='3/16/94', Salary=27504630),\n",
              " Row(Name='Jonas Valanciunas', Team='Memphis Grizzlies', Position='C', Birthday='5/6/92', Salary=16000000),\n",
              " Row(Name='Chris Chiozza', Team='Washington Wizards', Position='PG', Birthday='11/21/95', Salary=79568),\n",
              " Row(Name='Kent Bazemore', Team='Portland Trail Blazers', Position='SF', Birthday='7/1/89', Salary=19269663),\n",
              " Row(Name='Tristan Thompson', Team='Cleveland Cavaliers', Position='C', Birthday='3/13/91', Salary=18539130),\n",
              " Row(Name='Mason Plumlee', Team='Denver Nuggets', Position='C', Birthday='3/5/90', Salary=14041096),\n",
              " Row(Name='Shabazz Napier', Team='Minnesota Timberwolves', Position='PG', Birthday='7/14/91', Salary=1845301),\n",
              " Row(Name='Edmond Sumner', Team='Indiana Pacers', Position='PG', Birthday='12/31/95', Salary=2000000),\n",
              " Row(Name='Alex Len', Team='Atlanta Hawks', Position='C', Birthday='6/16/93', Salary=4160000),\n",
              " Row(Name='Josh Richardson', Team='Philadelphia 76ers', Position='SF', Birthday='9/15/93', Salary=10116576),\n",
              " Row(Name='Bojan Bogdanovic', Team='Utah Jazz', Position='SF', Birthday='4/18/89', Salary=17000000),\n",
              " Row(Name='Iman Shumpert', Team='Brooklyn Nets', Position='PG', Birthday='6/26/90', Salary=2031676),\n",
              " Row(Name='Daryl Macon', Team='Miami Heat', Position='SG', Birthday='11/29/95', Salary=79568),\n",
              " Row(Name='Rodney McGruder', Team='Los Angeles Clippers', Position='SG', Birthday='7/29/91', Salary=4807693),\n",
              " Row(Name='Bam Adebayo', Team='Miami Heat', Position='C', Birthday='7/18/97', Salary=3454080),\n",
              " Row(Name='Jacob Evans', Team='Golden State Warriors', Position='SG', Birthday='6/18/97', Salary=1928280),\n",
              " Row(Name='Nigel Williams-Goss', Team='Utah Jazz', Position='PG', Birthday='9/16/94', Salary=1500000),\n",
              " Row(Name='Terrance Ferguson', Team='Oklahoma City Thunder', Position='SF', Birthday='5/17/98', Salary=2475840),\n",
              " Row(Name='Michael Carter-Williams', Team='Orlando Magic', Position='PG', Birthday='10/10/91', Salary=2028594),\n",
              " Row(Name='Bol Bol', Team='Denver Nuggets', Position='C', Birthday='11/16/99', Salary=79568),\n",
              " Row(Name='Willie Cauley-Stein', Team='Golden State Warriors', Position='C', Birthday='8/18/93', Salary=2177483),\n",
              " Row(Name='Nikola Vucevic', Team='Orlando Magic', Position='C', Birthday='10/24/90', Salary=28000000),\n",
              " Row(Name='Nicolas Batum', Team='Charlotte Hornets', Position='SF', Birthday='12/14/88', Salary=25565217),\n",
              " Row(Name='Kyrie Irving', Team='Brooklyn Nets', Position='PG', Birthday='3/23/92', Salary=31742000),\n",
              " Row(Name='Jeremy Lamb', Team='Indiana Pacers', Position='SF', Birthday='5/30/92', Salary=10500000),\n",
              " Row(Name='Donovan Mitchell', Team='Utah Jazz', Position='SG', Birthday='9/7/96', Salary=3635760),\n",
              " Row(Name='Thanasis Antetokounmpo', Team='Milwaukee Bucks', Position='SF', Birthday='7/18/92', Salary=1445697),\n",
              " Row(Name='James Johnson', Team='Miami Heat', Position='PF', Birthday='2/20/87', Salary=15349400),\n",
              " Row(Name='Monte Morris', Team='Denver Nuggets', Position='PG', Birthday='6/27/95', Salary=1588231),\n",
              " Row(Name='Terry Rozier', Team='Charlotte Hornets', Position='PG', Birthday='3/17/94', Salary=19894737),\n",
              " Row(Name='DeAndre Jordan', Team='Brooklyn Nets', Position='C', Birthday='7/21/88', Salary=9881598),\n",
              " Row(Name='Jae Crowder', Team='Memphis Grizzlies', Position='SF', Birthday='7/6/90', Salary=7815533),\n",
              " Row(Name='Josh Gray', Team='New Orleans Pelicans', Position='PG', Birthday='9/9/93', Salary=79568),\n",
              " Row(Name='Goga Bitadze', Team='Indiana Pacers', Position='C', Birthday='7/20/99', Salary=2816760),\n",
              " Row(Name='Kobi Simmons', Team='Charlotte Hornets', Position='PG', Birthday='7/4/97', Salary=79568),\n",
              " Row(Name='Derrick Favors', Team='New Orleans Pelicans', Position='C', Birthday='7/15/91', Salary=17650000),\n",
              " Row(Name='Landry Shamet', Team='Los Angeles Clippers', Position='SG', Birthday='3/13/97', Salary=1995120),\n",
              " Row(Name='Jalen McDaniels', Team='Charlotte Hornets', Position='PF', Birthday='1/31/98', Salary=898310),\n",
              " Row(Name='Bruno Caboclo', Team='Memphis Grizzlies', Position='SF', Birthday='9/21/95', Salary=1845301),\n",
              " Row(Name='Drew Eubanks', Team='San Antonio Spurs', Position='PF', Birthday='2/1/97', Salary=79568),\n",
              " Row(Name='Raul Neto', Team='Philadelphia 76ers', Position='PG', Birthday='5/19/92', Salary=1737145),\n",
              " Row(Name='Jalen Lecque', Team='Phoenix Suns', Position='G', Birthday='6/13/00', Salary=898310),\n",
              " Row(Name='Giannis Antetokounmpo', Team='Milwaukee Bucks', Position='PF', Birthday='12/6/94', Salary=25842697),\n",
              " Row(Name='Malik Monk', Team='Charlotte Hornets', Position='SG', Birthday='2/4/98', Salary=4028400),\n",
              " Row(Name='Tacko Fall', Team='Boston Celtics', Position='C', Birthday='12/10/95', Salary=79568),\n",
              " Row(Name='Justin Jackson', Team='Dallas Mavericks', Position='PF', Birthday='3/28/95', Salary=3280920),\n",
              " Row(Name='Paul George', Team='Los Angeles Clippers', Position='SF', Birthday='5/2/90', Salary=33005556),\n",
              " Row(Name='Jayson Tatum', Team='Boston Celtics', Position='PF', Birthday='3/3/98', Salary=7830000),\n",
              " Row(Name='Admiral Schofield', Team='Washington Wizards', Position='SF', Birthday='3/30/97', Salary=1000000),\n",
              " Row(Name='Louis King', Team='Detroit Pistons', Position='F', Birthday='4/6/99', Salary=79568),\n",
              " Row(Name='Kostas Antetokounmpo', Team='Los Angeles Lakers', Position='PF', Birthday='11/20/97', Salary=79568),\n",
              " Row(Name='Rodions Kurucs', Team='Brooklyn Nets', Position='PF', Birthday='2/5/98', Salary=1699236),\n",
              " Row(Name='Spencer Dinwiddie', Team='Brooklyn Nets', Position='PG', Birthday='4/6/93', Salary=10605600),\n",
              " Row(Name='Doug McDermott', Team='Indiana Pacers', Position='PF', Birthday='1/3/92', Salary=7333333),\n",
              " Row(Name='Romeo Langford', Team='Boston Celtics', Position='SG', Birthday='10/25/99', Salary=3458400),\n",
              " Row(Name='Caris LeVert', Team='Brooklyn Nets', Position='SF', Birthday='8/25/94', Salary=2625717),\n",
              " Row(Name='Michael Kidd-Gilchrist', Team='Charlotte Hornets', Position='PF', Birthday='9/26/93', Salary=13000000),\n",
              " Row(Name='LeBron James', Team='Los Angeles Lakers', Position='PF', Birthday='12/30/84', Salary=37436858),\n",
              " Row(Name='Taj Gibson', Team='New York Knicks', Position='C', Birthday='6/24/85', Salary=9000000),\n",
              " Row(Name='Ty Jerome', Team='Phoenix Suns', Position='G', Birthday='7/8/97', Salary=2193480),\n",
              " Row(Name='Chris Clemons', Team='Houston Rockets', Position='SG', Birthday='7/23/97', Salary=79568),\n",
              " Row(Name='Luke Kornet', Team='Chicago Bulls', Position='C', Birthday='7/15/95', Salary=2250000),\n",
              " Row(Name='Trey Lyles', Team='San Antonio Spurs', Position='PF', Birthday='11/5/95', Salary=5500000),\n",
              " Row(Name='Sterling Brown', Team='Milwaukee Bucks', Position='SF', Birthday='2/10/95', Salary=1618520),\n",
              " Row(Name='Andre Iguodala', Team='Memphis Grizzlies', Position='SF', Birthday='1/28/84', Salary=17185185),\n",
              " Row(Name='Vincent Poirier', Team='Boston Celtics', Position='C', Birthday='10/17/93', Salary=2505793),\n",
              " Row(Name='Frank Ntilikina', Team='New York Knicks', Position='PG', Birthday='7/28/98', Salary=4855800),\n",
              " Row(Name='Jordan McRae', Team='Washington Wizards', Position='PG', Birthday='3/28/91', Salary=1645357),\n",
              " Row(Name='Enes Kanter', Team='Boston Celtics', Position='C', Birthday='5/20/92', Salary=4767000),\n",
              " Row(Name='John Henson', Team='Cleveland Cavaliers', Position='C', Birthday='12/28/90', Salary=9732396),\n",
              " Row(Name='Jaylen Brown', Team='Boston Celtics', Position='SF', Birthday='10/24/96', Salary=6534829),\n",
              " Row(Name='Jonah Bolden', Team='Philadelphia 76ers', Position='PF', Birthday='1/2/96', Salary=1698450),\n",
              " Row(Name='Chimezie Metu', Team='San Antonio Spurs', Position='PF', Birthday='3/22/97', Salary=1416852),\n",
              " Row(Name='Tobias Harris', Team='Philadelphia 76ers', Position='PF', Birthday='7/15/92', Salary=32742000),\n",
              " Row(Name='Semi Ojeleye', Team='Boston Celtics', Position='PF', Birthday='12/5/94', Salary=1618520),\n",
              " Row(Name='Jevon Carter', Team='Phoenix Suns', Position='PG', Birthday='9/14/95', Salary=1416852),\n",
              " Row(Name='Brandon Ingram', Team='New Orleans Pelicans', Position='PF', Birthday='9/2/97', Salary=7265485),\n",
              " Row(Name='Moritz Wagner', Team='Washington Wizards', Position='C', Birthday='4/26/97', Salary=2063520),\n",
              " Row(Name='Dorian Finney-Smith', Team='Dallas Mavericks', Position='PF', Birthday='5/4/93', Salary=4000000),\n",
              " Row(Name='Danuel House', Team='Houston Rockets', Position='SF', Birthday='6/7/93', Salary=3540000),\n",
              " Row(Name='Nicolo Melli', Team='New Orleans Pelicans', Position='C', Birthday='1/26/91', Salary=4102564),\n",
              " Row(Name='Talen Horton-Tucker', Team='Los Angeles Lakers', Position='GF', Birthday='11/25/00', Salary=898310),\n",
              " Row(Name='Ed Davis', Team='Utah Jazz', Position='C', Birthday='6/5/89', Salary=4767000),\n",
              " Row(Name='Kyle Guy', Team='Sacramento Kings', Position='G', Birthday='8/11/97', Salary=79568),\n",
              " Row(Name='Kadeem Allen', Team='New York Knicks', Position='PG', Birthday='1/15/93', Salary=79568),\n",
              " Row(Name='Dante Exum', Team='Utah Jazz', Position='PG', Birthday='7/13/95', Salary=9600000),\n",
              " Row(Name='Abdel Nader', Team='Oklahoma City Thunder', Position='SF', Birthday='9/25/93', Salary=1618520),\n",
              " Row(Name='Bruno Fernando', Team='Atlanta Hawks', Position='C', Birthday='8/15/98', Salary=1400000),\n",
              " Row(Name='Dion Waiters', Team='Miami Heat', Position='SG', Birthday='12/10/91', Salary=12100000),\n",
              " Row(Name='Jared Dudley', Team='Los Angeles Lakers', Position='PF', Birthday='7/10/85', Salary=2564753),\n",
              " Row(Name='Max Strus', Team='Chicago Bulls', Position='SG', Birthday='3/28/96', Salary=79568),\n",
              " Row(Name='Kevon Looney', Team='Golden State Warriors', Position='C', Birthday='2/6/96', Salary=4464286),\n",
              " Row(Name='Willy Hernangomez', Team='Charlotte Hornets', Position='C', Birthday='5/27/94', Salary=1557250),\n",
              " Row(Name='Melvin Frazier', Team='Orlando Magic', Position='SG', Birthday='8/30/96', Salary=1416852),\n",
              " Row(Name='Austin Rivers', Team='Houston Rockets', Position='PG', Birthday='8/1/92', Salary=2174310),\n",
              " Row(Name='Harry Giles', Team='Sacramento Kings', Position='PF', Birthday='4/22/98', Salary=2578800),\n",
              " Row(Name='Robin Lopez', Team='Milwaukee Bucks', Position='C', Birthday='4/1/88', Salary=4767000),\n",
              " Row(Name='Collin Sexton', Team='Cleveland Cavaliers', Position='PG', Birthday='1/4/99', Salary=4764960),\n",
              " Row(Name='Ricky Rubio', Team='Phoenix Suns', Position='PG', Birthday='10/21/90', Salary=16200000)]"
            ]
          },
          "metadata": {},
          "execution_count": 55
        }
      ]
    },
    {
      "cell_type": "code",
      "source": [
        "from pyspark.sql.functions import col\n",
        "\n",
        "df = (\n",
        "    df.withColumn(\"Salary_k\",\n",
        "                  col(\"Salary\") / 1000)\n",
        ")\n",
        "df.show(5)"
      ],
      "metadata": {
        "colab": {
          "base_uri": "https://localhost:8080/"
        },
        "id": "s1x0VnR1xBmh",
        "outputId": "e623b06f-3f93-4ae9-c2ee-4f9a2e779ab4"
      },
      "execution_count": 57,
      "outputs": [
        {
          "output_type": "stream",
          "name": "stdout",
          "text": [
            "+--------------+------------------+--------+--------+-------+--------+\n",
            "|          Name|              Team|Position|Birthday| Salary|Salary_k|\n",
            "+--------------+------------------+--------+--------+-------+--------+\n",
            "|  Shake Milton|Philadelphia 76ers|      SG| 9/26/96|1445697|1445.697|\n",
            "|Christian Wood|   Detroit Pistons|      PF| 9/27/95|1645357|1645.357|\n",
            "| PJ Washington| Charlotte Hornets|      PF| 8/23/98|3831840| 3831.84|\n",
            "|  Derrick Rose|   Detroit Pistons|      PG| 10/4/88|7317074|7317.074|\n",
            "| Marial Shayok|Philadelphia 76ers|       G| 7/26/95|  79568|  79.568|\n",
            "+--------------+------------------+--------+--------+-------+--------+\n",
            "only showing top 5 rows\n",
            "\n"
          ]
        }
      ]
    },
    {
      "cell_type": "code",
      "source": [
        "f = (\n",
        "    df.withColumn(\"Salary_k\",\n",
        "                  \"Salary\" / 1000)\n",
        ")\n",
        "df.show(5)"
      ],
      "metadata": {
        "colab": {
          "base_uri": "https://localhost:8080/",
          "height": 207
        },
        "id": "LuFf3aNCxpqz",
        "outputId": "aa3abe9a-affe-48fb-ecb3-73250aad045f"
      },
      "execution_count": 58,
      "outputs": [
        {
          "output_type": "error",
          "ename": "TypeError",
          "evalue": "unsupported operand type(s) for /: 'str' and 'int'",
          "traceback": [
            "\u001b[0;31m---------------------------------------------------------------------------\u001b[0m",
            "\u001b[0;31mTypeError\u001b[0m                                 Traceback (most recent call last)",
            "\u001b[0;32m<ipython-input-58-0ae560c13fb8>\u001b[0m in \u001b[0;36m<cell line: 0>\u001b[0;34m()\u001b[0m\n\u001b[1;32m      1\u001b[0m f = (\n\u001b[1;32m      2\u001b[0m     df.withColumn(\"Salary_k\",\n\u001b[0;32m----> 3\u001b[0;31m                   \"Salary\" / 1000)\n\u001b[0m\u001b[1;32m      4\u001b[0m )\n\u001b[1;32m      5\u001b[0m \u001b[0mdf\u001b[0m\u001b[0;34m.\u001b[0m\u001b[0mshow\u001b[0m\u001b[0;34m(\u001b[0m\u001b[0;36m5\u001b[0m\u001b[0;34m)\u001b[0m\u001b[0;34m\u001b[0m\u001b[0;34m\u001b[0m\u001b[0m\n",
            "\u001b[0;31mTypeError\u001b[0m: unsupported operand type(s) for /: 'str' and 'int'"
          ]
        }
      ]
    },
    {
      "cell_type": "code",
      "source": [
        "df = df.drop(\"Salary_k\")\n",
        "df.show()"
      ],
      "metadata": {
        "colab": {
          "base_uri": "https://localhost:8080/"
        },
        "id": "BPCLVUeVx7zh",
        "outputId": "29978982-4561-4da1-e30c-f25f494e48b5"
      },
      "execution_count": 59,
      "outputs": [
        {
          "output_type": "stream",
          "name": "stdout",
          "text": [
            "+---------------+--------------------+--------+--------+--------+\n",
            "|           Name|                Team|Position|Birthday|  Salary|\n",
            "+---------------+--------------------+--------+--------+--------+\n",
            "|   Shake Milton|  Philadelphia 76ers|      SG| 9/26/96| 1445697|\n",
            "| Christian Wood|     Detroit Pistons|      PF| 9/27/95| 1645357|\n",
            "|  PJ Washington|   Charlotte Hornets|      PF| 8/23/98| 3831840|\n",
            "|   Derrick Rose|     Detroit Pistons|      PG| 10/4/88| 7317074|\n",
            "|  Marial Shayok|  Philadelphia 76ers|       G| 7/26/95|   79568|\n",
            "| Draymond Green|Golden State Warr...|      PF|  3/4/90|18539130|\n",
            "|  Kendrick Nunn|          Miami Heat|      SG|  8/3/95| 1416852|\n",
            "|     Cedi Osman| Cleveland Cavaliers|      SF|  4/8/95| 2907143|\n",
            "|    Brook Lopez|     Milwaukee Bucks|       C|  4/1/88|12093024|\n",
            "|   Torrey Craig|      Denver Nuggets|      SF|12/19/90| 2000000|\n",
            "|Jordan Clarkson| Cleveland Cavaliers|      PG|  6/7/92|13437500|\n",
            "|    Alex Caruso|  Los Angeles Lakers|      PG| 2/28/94| 2750000|\n",
            "|   Norvel Pelle|  Philadelphia 76ers|      FC|  2/3/93|   79568|\n",
            "|  Tyler Johnson|        Phoenix Suns|      PG|  5/7/92|19245370|\n",
            "|     Alec Burks|Golden State Warr...|      SG| 7/20/91| 2320044|\n",
            "| JaMychal Green|Los Angeles Clippers|      PF| 6/21/90| 4767000|\n",
            "|  Dwight Howard|  Los Angeles Lakers|       C| 12/8/85| 5603850|\n",
            "|   Nikola Jokic|      Denver Nuggets|       C| 2/19/95|27504630|\n",
            "|  Chris Boucher|     Toronto Raptors|      PF| 1/11/93| 1588231|\n",
            "|  Marcus Morris|     New York Knicks|      PF|  9/2/89|15000000|\n",
            "+---------------+--------------------+--------+--------+--------+\n",
            "only showing top 20 rows\n",
            "\n"
          ]
        }
      ]
    },
    {
      "cell_type": "code",
      "source": [
        "df = (\n",
        "    df.withColumn(\"Salary_2x\",\n",
        "                  col(\"Salary\") * 2)\n",
        "    .withColumn(\"Salary_3x\",\n",
        "                  col(\"Salary\") * 3)\n",
        ")"
      ],
      "metadata": {
        "id": "-62IwF9SyFBT"
      },
      "execution_count": 61,
      "outputs": []
    },
    {
      "cell_type": "code",
      "source": [
        "df.show()"
      ],
      "metadata": {
        "colab": {
          "base_uri": "https://localhost:8080/"
        },
        "id": "oW3C80VJyP_M",
        "outputId": "947e88e7-4635-4ba3-f5e3-abf93093e96d"
      },
      "execution_count": 62,
      "outputs": [
        {
          "output_type": "stream",
          "name": "stdout",
          "text": [
            "+---------------+--------------------+--------+--------+--------+---------+---------+\n",
            "|           Name|                Team|Position|Birthday|  Salary|Salary_2x|Salary_3x|\n",
            "+---------------+--------------------+--------+--------+--------+---------+---------+\n",
            "|   Shake Milton|  Philadelphia 76ers|      SG| 9/26/96| 1445697|  2891394|  4337091|\n",
            "| Christian Wood|     Detroit Pistons|      PF| 9/27/95| 1645357|  3290714|  4936071|\n",
            "|  PJ Washington|   Charlotte Hornets|      PF| 8/23/98| 3831840|  7663680| 11495520|\n",
            "|   Derrick Rose|     Detroit Pistons|      PG| 10/4/88| 7317074| 14634148| 21951222|\n",
            "|  Marial Shayok|  Philadelphia 76ers|       G| 7/26/95|   79568|   159136|   238704|\n",
            "| Draymond Green|Golden State Warr...|      PF|  3/4/90|18539130| 37078260| 55617390|\n",
            "|  Kendrick Nunn|          Miami Heat|      SG|  8/3/95| 1416852|  2833704|  4250556|\n",
            "|     Cedi Osman| Cleveland Cavaliers|      SF|  4/8/95| 2907143|  5814286|  8721429|\n",
            "|    Brook Lopez|     Milwaukee Bucks|       C|  4/1/88|12093024| 24186048| 36279072|\n",
            "|   Torrey Craig|      Denver Nuggets|      SF|12/19/90| 2000000|  4000000|  6000000|\n",
            "|Jordan Clarkson| Cleveland Cavaliers|      PG|  6/7/92|13437500| 26875000| 40312500|\n",
            "|    Alex Caruso|  Los Angeles Lakers|      PG| 2/28/94| 2750000|  5500000|  8250000|\n",
            "|   Norvel Pelle|  Philadelphia 76ers|      FC|  2/3/93|   79568|   159136|   238704|\n",
            "|  Tyler Johnson|        Phoenix Suns|      PG|  5/7/92|19245370| 38490740| 57736110|\n",
            "|     Alec Burks|Golden State Warr...|      SG| 7/20/91| 2320044|  4640088|  6960132|\n",
            "| JaMychal Green|Los Angeles Clippers|      PF| 6/21/90| 4767000|  9534000| 14301000|\n",
            "|  Dwight Howard|  Los Angeles Lakers|       C| 12/8/85| 5603850| 11207700| 16811550|\n",
            "|   Nikola Jokic|      Denver Nuggets|       C| 2/19/95|27504630| 55009260| 82513890|\n",
            "|  Chris Boucher|     Toronto Raptors|      PF| 1/11/93| 1588231|  3176462|  4764693|\n",
            "|  Marcus Morris|     New York Knicks|      PF|  9/2/89|15000000| 30000000| 45000000|\n",
            "+---------------+--------------------+--------+--------+--------+---------+---------+\n",
            "only showing top 20 rows\n",
            "\n"
          ]
        }
      ]
    },
    {
      "cell_type": "code",
      "source": [
        "df = df.drop(\"Salary_2x\", \"Salary_3x\")  # remove multiple columns\n",
        "df.show()"
      ],
      "metadata": {
        "colab": {
          "base_uri": "https://localhost:8080/"
        },
        "id": "_DuPrnu9yAcs",
        "outputId": "38eff461-72d1-44d0-e877-1de65eddca1a"
      },
      "execution_count": 63,
      "outputs": [
        {
          "output_type": "stream",
          "name": "stdout",
          "text": [
            "+---------------+--------------------+--------+--------+--------+\n",
            "|           Name|                Team|Position|Birthday|  Salary|\n",
            "+---------------+--------------------+--------+--------+--------+\n",
            "|   Shake Milton|  Philadelphia 76ers|      SG| 9/26/96| 1445697|\n",
            "| Christian Wood|     Detroit Pistons|      PF| 9/27/95| 1645357|\n",
            "|  PJ Washington|   Charlotte Hornets|      PF| 8/23/98| 3831840|\n",
            "|   Derrick Rose|     Detroit Pistons|      PG| 10/4/88| 7317074|\n",
            "|  Marial Shayok|  Philadelphia 76ers|       G| 7/26/95|   79568|\n",
            "| Draymond Green|Golden State Warr...|      PF|  3/4/90|18539130|\n",
            "|  Kendrick Nunn|          Miami Heat|      SG|  8/3/95| 1416852|\n",
            "|     Cedi Osman| Cleveland Cavaliers|      SF|  4/8/95| 2907143|\n",
            "|    Brook Lopez|     Milwaukee Bucks|       C|  4/1/88|12093024|\n",
            "|   Torrey Craig|      Denver Nuggets|      SF|12/19/90| 2000000|\n",
            "|Jordan Clarkson| Cleveland Cavaliers|      PG|  6/7/92|13437500|\n",
            "|    Alex Caruso|  Los Angeles Lakers|      PG| 2/28/94| 2750000|\n",
            "|   Norvel Pelle|  Philadelphia 76ers|      FC|  2/3/93|   79568|\n",
            "|  Tyler Johnson|        Phoenix Suns|      PG|  5/7/92|19245370|\n",
            "|     Alec Burks|Golden State Warr...|      SG| 7/20/91| 2320044|\n",
            "| JaMychal Green|Los Angeles Clippers|      PF| 6/21/90| 4767000|\n",
            "|  Dwight Howard|  Los Angeles Lakers|       C| 12/8/85| 5603850|\n",
            "|   Nikola Jokic|      Denver Nuggets|       C| 2/19/95|27504630|\n",
            "|  Chris Boucher|     Toronto Raptors|      PF| 1/11/93| 1588231|\n",
            "|  Marcus Morris|     New York Knicks|      PF|  9/2/89|15000000|\n",
            "+---------------+--------------------+--------+--------+--------+\n",
            "only showing top 20 rows\n",
            "\n"
          ]
        }
      ]
    },
    {
      "cell_type": "code",
      "source": [
        "df = df.withColumnRenamed(\"Birthday\", \"DateOfBirth\")\n",
        "df.show()"
      ],
      "metadata": {
        "colab": {
          "base_uri": "https://localhost:8080/"
        },
        "id": "mctq-ChgyZUr",
        "outputId": "e4a84da0-cfd9-49d7-b86f-4205f0f94626"
      },
      "execution_count": 65,
      "outputs": [
        {
          "output_type": "stream",
          "name": "stdout",
          "text": [
            "+---------------+--------------------+--------+-----------+--------+\n",
            "|           Name|                Team|Position|DateOfBirth|  Salary|\n",
            "+---------------+--------------------+--------+-----------+--------+\n",
            "|   Shake Milton|  Philadelphia 76ers|      SG|    9/26/96| 1445697|\n",
            "| Christian Wood|     Detroit Pistons|      PF|    9/27/95| 1645357|\n",
            "|  PJ Washington|   Charlotte Hornets|      PF|    8/23/98| 3831840|\n",
            "|   Derrick Rose|     Detroit Pistons|      PG|    10/4/88| 7317074|\n",
            "|  Marial Shayok|  Philadelphia 76ers|       G|    7/26/95|   79568|\n",
            "| Draymond Green|Golden State Warr...|      PF|     3/4/90|18539130|\n",
            "|  Kendrick Nunn|          Miami Heat|      SG|     8/3/95| 1416852|\n",
            "|     Cedi Osman| Cleveland Cavaliers|      SF|     4/8/95| 2907143|\n",
            "|    Brook Lopez|     Milwaukee Bucks|       C|     4/1/88|12093024|\n",
            "|   Torrey Craig|      Denver Nuggets|      SF|   12/19/90| 2000000|\n",
            "|Jordan Clarkson| Cleveland Cavaliers|      PG|     6/7/92|13437500|\n",
            "|    Alex Caruso|  Los Angeles Lakers|      PG|    2/28/94| 2750000|\n",
            "|   Norvel Pelle|  Philadelphia 76ers|      FC|     2/3/93|   79568|\n",
            "|  Tyler Johnson|        Phoenix Suns|      PG|     5/7/92|19245370|\n",
            "|     Alec Burks|Golden State Warr...|      SG|    7/20/91| 2320044|\n",
            "| JaMychal Green|Los Angeles Clippers|      PF|    6/21/90| 4767000|\n",
            "|  Dwight Howard|  Los Angeles Lakers|       C|    12/8/85| 5603850|\n",
            "|   Nikola Jokic|      Denver Nuggets|       C|    2/19/95|27504630|\n",
            "|  Chris Boucher|     Toronto Raptors|      PF|    1/11/93| 1588231|\n",
            "|  Marcus Morris|     New York Knicks|      PF|     9/2/89|15000000|\n",
            "+---------------+--------------------+--------+-----------+--------+\n",
            "only showing top 20 rows\n",
            "\n"
          ]
        }
      ]
    },
    {
      "cell_type": "code",
      "source": [
        "df = df.select(\"Name\", \"Team\", \"Position\", \"Salary\", \"DateOfBirth\")\n",
        "df.show()"
      ],
      "metadata": {
        "colab": {
          "base_uri": "https://localhost:8080/"
        },
        "id": "0-9SE9HVyj9M",
        "outputId": "6c931c55-c525-4162-f53e-3efa0e47795e"
      },
      "execution_count": 66,
      "outputs": [
        {
          "output_type": "stream",
          "name": "stdout",
          "text": [
            "+---------------+--------------------+--------+--------+-----------+\n",
            "|           Name|                Team|Position|  Salary|DateOfBirth|\n",
            "+---------------+--------------------+--------+--------+-----------+\n",
            "|   Shake Milton|  Philadelphia 76ers|      SG| 1445697|    9/26/96|\n",
            "| Christian Wood|     Detroit Pistons|      PF| 1645357|    9/27/95|\n",
            "|  PJ Washington|   Charlotte Hornets|      PF| 3831840|    8/23/98|\n",
            "|   Derrick Rose|     Detroit Pistons|      PG| 7317074|    10/4/88|\n",
            "|  Marial Shayok|  Philadelphia 76ers|       G|   79568|    7/26/95|\n",
            "| Draymond Green|Golden State Warr...|      PF|18539130|     3/4/90|\n",
            "|  Kendrick Nunn|          Miami Heat|      SG| 1416852|     8/3/95|\n",
            "|     Cedi Osman| Cleveland Cavaliers|      SF| 2907143|     4/8/95|\n",
            "|    Brook Lopez|     Milwaukee Bucks|       C|12093024|     4/1/88|\n",
            "|   Torrey Craig|      Denver Nuggets|      SF| 2000000|   12/19/90|\n",
            "|Jordan Clarkson| Cleveland Cavaliers|      PG|13437500|     6/7/92|\n",
            "|    Alex Caruso|  Los Angeles Lakers|      PG| 2750000|    2/28/94|\n",
            "|   Norvel Pelle|  Philadelphia 76ers|      FC|   79568|     2/3/93|\n",
            "|  Tyler Johnson|        Phoenix Suns|      PG|19245370|     5/7/92|\n",
            "|     Alec Burks|Golden State Warr...|      SG| 2320044|    7/20/91|\n",
            "| JaMychal Green|Los Angeles Clippers|      PF| 4767000|    6/21/90|\n",
            "|  Dwight Howard|  Los Angeles Lakers|       C| 5603850|    12/8/85|\n",
            "|   Nikola Jokic|      Denver Nuggets|       C|27504630|    2/19/95|\n",
            "|  Chris Boucher|     Toronto Raptors|      PF| 1588231|    1/11/93|\n",
            "|  Marcus Morris|     New York Knicks|      PF|15000000|     9/2/89|\n",
            "+---------------+--------------------+--------+--------+-----------+\n",
            "only showing top 20 rows\n",
            "\n"
          ]
        }
      ]
    },
    {
      "cell_type": "markdown",
      "source": [
        "# Aggregation with math calculations"
      ],
      "metadata": {
        "id": "wmgZLRTKyxUs"
      }
    },
    {
      "cell_type": "code",
      "source": [
        "# Summaries for numeric columns\n",
        "df.selectExpr(\n",
        "    \"median(Salary) as median_salary\",\n",
        "    \"mean(Salary) as mean_salary\",\n",
        "    \"min(Salary) as min_salary\",\n",
        "    \"max(Salary) as max_salary\",\n",
        "    \"stddev_pop(Salary) as std_salary\"\n",
        ").show()"
      ],
      "metadata": {
        "colab": {
          "base_uri": "https://localhost:8080/"
        },
        "id": "BtE-DMB9yzrd",
        "outputId": "45ee5071-7f01-450f-df13-9c2de691a044"
      },
      "execution_count": 68,
      "outputs": [
        {
          "output_type": "stream",
          "name": "stdout",
          "text": [
            "+-------------+-----------------+----------+----------+-----------------+\n",
            "|median_salary|      mean_salary|min_salary|max_salary|       std_salary|\n",
            "+-------------+-----------------+----------+----------+-----------------+\n",
            "|    3303074.5|7653583.764444444|     79568|  40231758|9278483.657952718|\n",
            "+-------------+-----------------+----------+----------+-----------------+\n",
            "\n"
          ]
        }
      ]
    },
    {
      "cell_type": "code",
      "source": [
        "from pyspark.sql import functions as F\n",
        "# Pre-compute the average salary (pulls it back as a Python float)\n",
        "salary_mean = df.select(F.avg(\"Salary\").alias(\"mean_salary\")).collect()[0][\"mean_salary\"]\n",
        "salary_mean"
      ],
      "metadata": {
        "colab": {
          "base_uri": "https://localhost:8080/"
        },
        "id": "p-2ekwG7zb0g",
        "outputId": "e4e1d5fc-79f9-4503-ed75-88e673b143ea"
      },
      "execution_count": 69,
      "outputs": [
        {
          "output_type": "execute_result",
          "data": {
            "text/plain": [
              "7653583.764444444"
            ]
          },
          "metadata": {},
          "execution_count": 69
        }
      ]
    },
    {
      "cell_type": "code",
      "source": [
        "\n",
        "df2 = (\n",
        "    df\n",
        "    .withColumn(\"Salary_2x\",\n",
        "                F.col(\"Salary\") * 2)    # Add Salary_2x\n",
        "    .withColumn(\n",
        "        \"Name_w_Position\",           # Concatenate Name and Position\n",
        "        F.concat(F.col(\"Name\"), F.lit(\" (\"), F.col(\"Position\"), F.lit(\")\")))\n",
        "    .withColumn(\n",
        "        \"Salary_minus_Mean\",        # Subtract mean salary\n",
        "        F.col(\"Salary\") - F.lit(salary_mean))\n",
        ")\n",
        "\n",
        "df2.show()"
      ],
      "metadata": {
        "colab": {
          "base_uri": "https://localhost:8080/"
        },
        "id": "yHONTJt5zf4A",
        "outputId": "8d77dfab-6af0-42cd-d59a-b6c12e8ddeeb"
      },
      "execution_count": 70,
      "outputs": [
        {
          "output_type": "stream",
          "name": "stdout",
          "text": [
            "+---------------+--------------------+--------+--------+-----------+---------+--------------------+--------------------+\n",
            "|           Name|                Team|Position|  Salary|DateOfBirth|Salary_2x|     Name_w_Position|   Salary_minus_Mean|\n",
            "+---------------+--------------------+--------+--------+-----------+---------+--------------------+--------------------+\n",
            "|   Shake Milton|  Philadelphia 76ers|      SG| 1445697|    9/26/96|  2891394|   Shake Milton (SG)|  -6207886.764444444|\n",
            "| Christian Wood|     Detroit Pistons|      PF| 1645357|    9/27/95|  3290714| Christian Wood (PF)|  -6008226.764444444|\n",
            "|  PJ Washington|   Charlotte Hornets|      PF| 3831840|    8/23/98|  7663680|  PJ Washington (PF)| -3821743.7644444443|\n",
            "|   Derrick Rose|     Detroit Pistons|      PG| 7317074|    10/4/88| 14634148|   Derrick Rose (PG)|  -336509.7644444443|\n",
            "|  Marial Shayok|  Philadelphia 76ers|       G|   79568|    7/26/95|   159136|   Marial Shayok (G)|  -7574015.764444444|\n",
            "| Draymond Green|Golden State Warr...|      PF|18539130|     3/4/90| 37078260| Draymond Green (PF)|1.0885546235555556E7|\n",
            "|  Kendrick Nunn|          Miami Heat|      SG| 1416852|     8/3/95|  2833704|  Kendrick Nunn (SG)|  -6236731.764444444|\n",
            "|     Cedi Osman| Cleveland Cavaliers|      SF| 2907143|     4/8/95|  5814286|     Cedi Osman (SF)|  -4746440.764444444|\n",
            "|    Brook Lopez|     Milwaukee Bucks|       C|12093024|     4/1/88| 24186048|     Brook Lopez (C)|   4439440.235555556|\n",
            "|   Torrey Craig|      Denver Nuggets|      SF| 2000000|   12/19/90|  4000000|   Torrey Craig (SF)|  -5653583.764444444|\n",
            "|Jordan Clarkson| Cleveland Cavaliers|      PG|13437500|     6/7/92| 26875000|Jordan Clarkson (PG)|   5783916.235555556|\n",
            "|    Alex Caruso|  Los Angeles Lakers|      PG| 2750000|    2/28/94|  5500000|    Alex Caruso (PG)|  -4903583.764444444|\n",
            "|   Norvel Pelle|  Philadelphia 76ers|      FC|   79568|     2/3/93|   159136|   Norvel Pelle (FC)|  -7574015.764444444|\n",
            "|  Tyler Johnson|        Phoenix Suns|      PG|19245370|     5/7/92| 38490740|  Tyler Johnson (PG)|1.1591786235555556E7|\n",
            "|     Alec Burks|Golden State Warr...|      SG| 2320044|    7/20/91|  4640088|     Alec Burks (SG)|  -5333539.764444444|\n",
            "| JaMychal Green|Los Angeles Clippers|      PF| 4767000|    6/21/90|  9534000| JaMychal Green (PF)| -2886583.7644444443|\n",
            "|  Dwight Howard|  Los Angeles Lakers|       C| 5603850|    12/8/85| 11207700|   Dwight Howard (C)| -2049733.7644444443|\n",
            "|   Nikola Jokic|      Denver Nuggets|       C|27504630|    2/19/95| 55009260|    Nikola Jokic (C)|1.9851046235555556E7|\n",
            "|  Chris Boucher|     Toronto Raptors|      PF| 1588231|    1/11/93|  3176462|  Chris Boucher (PF)|  -6065352.764444444|\n",
            "|  Marcus Morris|     New York Knicks|      PF|15000000|     9/2/89| 30000000|  Marcus Morris (PF)|   7346416.235555556|\n",
            "+---------------+--------------------+--------+--------+-----------+---------+--------------------+--------------------+\n",
            "only showing top 20 rows\n",
            "\n"
          ]
        }
      ]
    },
    {
      "cell_type": "code",
      "source": [
        "df.select(F.avg(\"Salary\").alias(\"mean_salary\"))"
      ],
      "metadata": {
        "colab": {
          "base_uri": "https://localhost:8080/"
        },
        "id": "F-it7y4J0G9O",
        "outputId": "41138c20-b91c-404c-92e5-f867ca997477"
      },
      "execution_count": 73,
      "outputs": [
        {
          "output_type": "execute_result",
          "data": {
            "text/plain": [
              "DataFrame[mean_salary: double]"
            ]
          },
          "metadata": {},
          "execution_count": 73
        }
      ]
    },
    {
      "cell_type": "markdown",
      "source": [
        "# Convert data types"
      ],
      "metadata": {
        "id": "hubA3doi0P-f"
      }
    },
    {
      "cell_type": "code",
      "source": [
        "df.printSchema()"
      ],
      "metadata": {
        "colab": {
          "base_uri": "https://localhost:8080/"
        },
        "id": "z-xEXnUA0RQZ",
        "outputId": "1e4278bf-665d-40f6-9c78-c8d419462d1a"
      },
      "execution_count": 74,
      "outputs": [
        {
          "output_type": "stream",
          "name": "stdout",
          "text": [
            "root\n",
            " |-- Name: string (nullable = true)\n",
            " |-- Team: string (nullable = true)\n",
            " |-- Position: string (nullable = true)\n",
            " |-- Salary: long (nullable = true)\n",
            " |-- DateOfBirth: string (nullable = true)\n",
            "\n"
          ]
        }
      ]
    },
    {
      "cell_type": "code",
      "source": [
        "df = df.withColumn(\"Salary_int\",\n",
        "                   col(\"Salary\").cast(\"int\"))\n",
        "\n",
        "df.show()"
      ],
      "metadata": {
        "colab": {
          "base_uri": "https://localhost:8080/"
        },
        "id": "bAPu_L_t0dEx",
        "outputId": "71d669d5-0a94-4b6e-e743-999f532c90ad"
      },
      "execution_count": 75,
      "outputs": [
        {
          "output_type": "stream",
          "name": "stdout",
          "text": [
            "+---------------+--------------------+--------+--------+-----------+----------+\n",
            "|           Name|                Team|Position|  Salary|DateOfBirth|Salary_int|\n",
            "+---------------+--------------------+--------+--------+-----------+----------+\n",
            "|   Shake Milton|  Philadelphia 76ers|      SG| 1445697|    9/26/96|   1445697|\n",
            "| Christian Wood|     Detroit Pistons|      PF| 1645357|    9/27/95|   1645357|\n",
            "|  PJ Washington|   Charlotte Hornets|      PF| 3831840|    8/23/98|   3831840|\n",
            "|   Derrick Rose|     Detroit Pistons|      PG| 7317074|    10/4/88|   7317074|\n",
            "|  Marial Shayok|  Philadelphia 76ers|       G|   79568|    7/26/95|     79568|\n",
            "| Draymond Green|Golden State Warr...|      PF|18539130|     3/4/90|  18539130|\n",
            "|  Kendrick Nunn|          Miami Heat|      SG| 1416852|     8/3/95|   1416852|\n",
            "|     Cedi Osman| Cleveland Cavaliers|      SF| 2907143|     4/8/95|   2907143|\n",
            "|    Brook Lopez|     Milwaukee Bucks|       C|12093024|     4/1/88|  12093024|\n",
            "|   Torrey Craig|      Denver Nuggets|      SF| 2000000|   12/19/90|   2000000|\n",
            "|Jordan Clarkson| Cleveland Cavaliers|      PG|13437500|     6/7/92|  13437500|\n",
            "|    Alex Caruso|  Los Angeles Lakers|      PG| 2750000|    2/28/94|   2750000|\n",
            "|   Norvel Pelle|  Philadelphia 76ers|      FC|   79568|     2/3/93|     79568|\n",
            "|  Tyler Johnson|        Phoenix Suns|      PG|19245370|     5/7/92|  19245370|\n",
            "|     Alec Burks|Golden State Warr...|      SG| 2320044|    7/20/91|   2320044|\n",
            "| JaMychal Green|Los Angeles Clippers|      PF| 4767000|    6/21/90|   4767000|\n",
            "|  Dwight Howard|  Los Angeles Lakers|       C| 5603850|    12/8/85|   5603850|\n",
            "|   Nikola Jokic|      Denver Nuggets|       C|27504630|    2/19/95|  27504630|\n",
            "|  Chris Boucher|     Toronto Raptors|      PF| 1588231|    1/11/93|   1588231|\n",
            "|  Marcus Morris|     New York Knicks|      PF|15000000|     9/2/89|  15000000|\n",
            "+---------------+--------------------+--------+--------+-----------+----------+\n",
            "only showing top 20 rows\n",
            "\n"
          ]
        }
      ]
    },
    {
      "cell_type": "code",
      "source": [
        "df.printSchema()"
      ],
      "metadata": {
        "colab": {
          "base_uri": "https://localhost:8080/"
        },
        "id": "hyBeeF2v0nod",
        "outputId": "08a2e030-bc5e-4cd4-883d-36cf27810cd6"
      },
      "execution_count": 76,
      "outputs": [
        {
          "output_type": "stream",
          "name": "stdout",
          "text": [
            "root\n",
            " |-- Name: string (nullable = true)\n",
            " |-- Team: string (nullable = true)\n",
            " |-- Position: string (nullable = true)\n",
            " |-- Salary: long (nullable = true)\n",
            " |-- DateOfBirth: string (nullable = true)\n",
            " |-- Salary_int: integer (nullable = true)\n",
            "\n"
          ]
        }
      ]
    }
  ]
}
