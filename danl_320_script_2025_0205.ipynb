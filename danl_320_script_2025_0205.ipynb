{
  "nbformat": 4,
  "nbformat_minor": 0,
  "metadata": {
    "colab": {
      "provenance": [],
      "authorship_tag": "ABX9TyOA2fQvUW969At9Uatnk9ie",
      "include_colab_link": true
    },
    "kernelspec": {
      "name": "python3",
      "display_name": "Python 3"
    },
    "language_info": {
      "name": "python"
    }
  },
  "cells": [
    {
      "cell_type": "markdown",
      "metadata": {
        "id": "view-in-github",
        "colab_type": "text"
      },
      "source": [
        "<a href=\"https://colab.research.google.com/github/bcdanl/320-code/blob/main/danl_320_script_2025_0205.ipynb\" target=\"_parent\"><img src=\"https://colab.research.google.com/assets/colab-badge.svg\" alt=\"Open In Colab\"/></a>"
      ]
    },
    {
      "cell_type": "code",
      "execution_count": 1,
      "metadata": {
        "colab": {
          "base_uri": "https://localhost:8080/"
        },
        "id": "f75X0KQ08szX",
        "outputId": "720c0a7e-b1a8-4f94-d8d5-b5354ee20110"
      },
      "outputs": [
        {
          "output_type": "stream",
          "name": "stdout",
          "text": [
            "Mounted at /content/drive\n"
          ]
        }
      ],
      "source": [
        "from google.colab import drive, files\n",
        "drive.mount('/content/drive')\n"
      ]
    },
    {
      "cell_type": "code",
      "source": [
        "files.upload()"
      ],
      "metadata": {
        "colab": {
          "base_uri": "https://localhost:8080/",
          "height": 123
        },
        "id": "sHZNcdHd9a_p",
        "outputId": "24d48f9f-215b-4e9b-e2f1-b08340de0b6c"
      },
      "execution_count": 2,
      "outputs": [
        {
          "output_type": "display_data",
          "data": {
            "text/plain": [
              "<IPython.core.display.HTML object>"
            ],
            "text/html": [
              "\n",
              "     <input type=\"file\" id=\"files-5e643fa7-69eb-4bfa-8cc6-1f974309306e\" name=\"files[]\" multiple disabled\n",
              "        style=\"border:none\" />\n",
              "     <output id=\"result-5e643fa7-69eb-4bfa-8cc6-1f974309306e\">\n",
              "      Upload widget is only available when the cell has been executed in the\n",
              "      current browser session. Please rerun this cell to enable.\n",
              "      </output>\n",
              "      <script>// Copyright 2017 Google LLC\n",
              "//\n",
              "// Licensed under the Apache License, Version 2.0 (the \"License\");\n",
              "// you may not use this file except in compliance with the License.\n",
              "// You may obtain a copy of the License at\n",
              "//\n",
              "//      http://www.apache.org/licenses/LICENSE-2.0\n",
              "//\n",
              "// Unless required by applicable law or agreed to in writing, software\n",
              "// distributed under the License is distributed on an \"AS IS\" BASIS,\n",
              "// WITHOUT WARRANTIES OR CONDITIONS OF ANY KIND, either express or implied.\n",
              "// See the License for the specific language governing permissions and\n",
              "// limitations under the License.\n",
              "\n",
              "/**\n",
              " * @fileoverview Helpers for google.colab Python module.\n",
              " */\n",
              "(function(scope) {\n",
              "function span(text, styleAttributes = {}) {\n",
              "  const element = document.createElement('span');\n",
              "  element.textContent = text;\n",
              "  for (const key of Object.keys(styleAttributes)) {\n",
              "    element.style[key] = styleAttributes[key];\n",
              "  }\n",
              "  return element;\n",
              "}\n",
              "\n",
              "// Max number of bytes which will be uploaded at a time.\n",
              "const MAX_PAYLOAD_SIZE = 100 * 1024;\n",
              "\n",
              "function _uploadFiles(inputId, outputId) {\n",
              "  const steps = uploadFilesStep(inputId, outputId);\n",
              "  const outputElement = document.getElementById(outputId);\n",
              "  // Cache steps on the outputElement to make it available for the next call\n",
              "  // to uploadFilesContinue from Python.\n",
              "  outputElement.steps = steps;\n",
              "\n",
              "  return _uploadFilesContinue(outputId);\n",
              "}\n",
              "\n",
              "// This is roughly an async generator (not supported in the browser yet),\n",
              "// where there are multiple asynchronous steps and the Python side is going\n",
              "// to poll for completion of each step.\n",
              "// This uses a Promise to block the python side on completion of each step,\n",
              "// then passes the result of the previous step as the input to the next step.\n",
              "function _uploadFilesContinue(outputId) {\n",
              "  const outputElement = document.getElementById(outputId);\n",
              "  const steps = outputElement.steps;\n",
              "\n",
              "  const next = steps.next(outputElement.lastPromiseValue);\n",
              "  return Promise.resolve(next.value.promise).then((value) => {\n",
              "    // Cache the last promise value to make it available to the next\n",
              "    // step of the generator.\n",
              "    outputElement.lastPromiseValue = value;\n",
              "    return next.value.response;\n",
              "  });\n",
              "}\n",
              "\n",
              "/**\n",
              " * Generator function which is called between each async step of the upload\n",
              " * process.\n",
              " * @param {string} inputId Element ID of the input file picker element.\n",
              " * @param {string} outputId Element ID of the output display.\n",
              " * @return {!Iterable<!Object>} Iterable of next steps.\n",
              " */\n",
              "function* uploadFilesStep(inputId, outputId) {\n",
              "  const inputElement = document.getElementById(inputId);\n",
              "  inputElement.disabled = false;\n",
              "\n",
              "  const outputElement = document.getElementById(outputId);\n",
              "  outputElement.innerHTML = '';\n",
              "\n",
              "  const pickedPromise = new Promise((resolve) => {\n",
              "    inputElement.addEventListener('change', (e) => {\n",
              "      resolve(e.target.files);\n",
              "    });\n",
              "  });\n",
              "\n",
              "  const cancel = document.createElement('button');\n",
              "  inputElement.parentElement.appendChild(cancel);\n",
              "  cancel.textContent = 'Cancel upload';\n",
              "  const cancelPromise = new Promise((resolve) => {\n",
              "    cancel.onclick = () => {\n",
              "      resolve(null);\n",
              "    };\n",
              "  });\n",
              "\n",
              "  // Wait for the user to pick the files.\n",
              "  const files = yield {\n",
              "    promise: Promise.race([pickedPromise, cancelPromise]),\n",
              "    response: {\n",
              "      action: 'starting',\n",
              "    }\n",
              "  };\n",
              "\n",
              "  cancel.remove();\n",
              "\n",
              "  // Disable the input element since further picks are not allowed.\n",
              "  inputElement.disabled = true;\n",
              "\n",
              "  if (!files) {\n",
              "    return {\n",
              "      response: {\n",
              "        action: 'complete',\n",
              "      }\n",
              "    };\n",
              "  }\n",
              "\n",
              "  for (const file of files) {\n",
              "    const li = document.createElement('li');\n",
              "    li.append(span(file.name, {fontWeight: 'bold'}));\n",
              "    li.append(span(\n",
              "        `(${file.type || 'n/a'}) - ${file.size} bytes, ` +\n",
              "        `last modified: ${\n",
              "            file.lastModifiedDate ? file.lastModifiedDate.toLocaleDateString() :\n",
              "                                    'n/a'} - `));\n",
              "    const percent = span('0% done');\n",
              "    li.appendChild(percent);\n",
              "\n",
              "    outputElement.appendChild(li);\n",
              "\n",
              "    const fileDataPromise = new Promise((resolve) => {\n",
              "      const reader = new FileReader();\n",
              "      reader.onload = (e) => {\n",
              "        resolve(e.target.result);\n",
              "      };\n",
              "      reader.readAsArrayBuffer(file);\n",
              "    });\n",
              "    // Wait for the data to be ready.\n",
              "    let fileData = yield {\n",
              "      promise: fileDataPromise,\n",
              "      response: {\n",
              "        action: 'continue',\n",
              "      }\n",
              "    };\n",
              "\n",
              "    // Use a chunked sending to avoid message size limits. See b/62115660.\n",
              "    let position = 0;\n",
              "    do {\n",
              "      const length = Math.min(fileData.byteLength - position, MAX_PAYLOAD_SIZE);\n",
              "      const chunk = new Uint8Array(fileData, position, length);\n",
              "      position += length;\n",
              "\n",
              "      const base64 = btoa(String.fromCharCode.apply(null, chunk));\n",
              "      yield {\n",
              "        response: {\n",
              "          action: 'append',\n",
              "          file: file.name,\n",
              "          data: base64,\n",
              "        },\n",
              "      };\n",
              "\n",
              "      let percentDone = fileData.byteLength === 0 ?\n",
              "          100 :\n",
              "          Math.round((position / fileData.byteLength) * 100);\n",
              "      percent.textContent = `${percentDone}% done`;\n",
              "\n",
              "    } while (position < fileData.byteLength);\n",
              "  }\n",
              "\n",
              "  // All done.\n",
              "  yield {\n",
              "    response: {\n",
              "      action: 'complete',\n",
              "    }\n",
              "  };\n",
              "}\n",
              "\n",
              "scope.google = scope.google || {};\n",
              "scope.google.colab = scope.google.colab || {};\n",
              "scope.google.colab._files = {\n",
              "  _uploadFiles,\n",
              "  _uploadFilesContinue,\n",
              "};\n",
              "})(self);\n",
              "</script> "
            ]
          },
          "metadata": {}
        },
        {
          "output_type": "stream",
          "name": "stdout",
          "text": [
            "Saving ak91_age.csv to ak91_age.csv\n"
          ]
        },
        {
          "output_type": "execute_result",
          "data": {
            "text/plain": [
              "{'ak91_age.csv': b'QoB,YoB,logW,Educ,Q4,YoBQ\\r\\n1,30,5.889133363,12.280405,FALSE,30\\r\\n1,31,5.902136132,12.54043444,FALSE,31\\r\\n1,32,5.899809243,12.53393117,FALSE,32\\r\\n1,33,5.89194606,12.67319007,FALSE,33\\r\\n1,34,5.895157121,12.64726291,FALSE,34\\r\\n1,35,5.879843227,12.65090682,FALSE,35\\r\\n1,36,5.884937522,12.74304199,FALSE,36\\r\\n1,37,5.893044611,12.8322951,FALSE,37\\r\\n1,38,5.894380271,12.93867708,FALSE,38\\r\\n1,39,5.88634301,13.00298851,FALSE,39\\r\\n2,30,5.898006549,12.42841829,FALSE,30.25\\r\\n2,31,5.900507583,12.53104532,FALSE,31.25\\r\\n2,32,5.900542697,12.60959876,FALSE,32.25\\r\\n2,33,5.90049193,12.63470681,FALSE,33.25\\r\\n2,34,5.892411399,12.72796733,FALSE,34.25\\r\\n2,35,5.8866425,12.79692577,FALSE,35.25\\r\\n2,36,5.886672318,12.81107615,FALSE,36.25\\r\\n2,37,5.888091998,12.84404791,FALSE,37.25\\r\\n2,38,5.904968823,13.00766329,FALSE,38.25\\r\\n2,39,5.90243935,13.01339858,FALSE,39.25\\r\\n3,30,5.909365253,12.49185967,FALSE,30.5\\r\\n3,31,5.911184367,12.68671679,FALSE,31.5\\r\\n3,32,5.910271495,12.66045001,FALSE,32.5\\r\\n3,33,5.91150267,12.7539518,FALSE,33.5\\r\\n3,34,5.906088664,12.70804815,FALSE,34.5\\r\\n3,35,5.908398227,12.86135123,FALSE,35.5\\r\\n3,36,5.911827865,12.88623383,FALSE,36.5\\r\\n3,37,5.906132755,12.96217212,FALSE,37.5\\r\\n3,38,5.905870859,12.98655426,FALSE,38.5\\r\\n3,39,5.887899138,12.98925953,FALSE,39.5\\r\\n4,30,5.914354457,12.62467549,TRUE,30.75\\r\\n4,31,5.910587446,12.61211956,TRUE,31.75\\r\\n4,32,5.89055329,12.72711156,TRUE,32.75\\r\\n4,33,5.902947148,12.69226743,TRUE,33.75\\r\\n4,34,5.907582091,12.79786839,TRUE,34.75\\r\\n4,35,5.896256432,12.81963928,TRUE,35.75\\r\\n4,36,5.909518318,12.92801508,TRUE,36.75\\r\\n4,37,5.903191723,12.97098161,TRUE,37.75\\r\\n4,38,5.910036972,13.03013161,TRUE,38.75\\r\\n4,39,5.905519966,13.11652902,TRUE,39.75'}"
            ]
          },
          "metadata": {},
          "execution_count": 2
        }
      ]
    },
    {
      "cell_type": "code",
      "source": [
        "pathname = \"/content/ak91_age.csv\""
      ],
      "metadata": {
        "id": "QBCjtBpV9pGa"
      },
      "execution_count": null,
      "outputs": []
    },
    {
      "cell_type": "code",
      "source": [
        "path_amzn = \"/content/drive/MyDrive/lecture-data/AMZN.csv\""
      ],
      "metadata": {
        "id": "kQJsjOZc9yKp"
      },
      "execution_count": null,
      "outputs": []
    },
    {
      "cell_type": "code",
      "source": [
        "path2 = \"/content/drive/MyDrive/lecture-data/Citywide_Payroll_Data__Fiscal_Year__20240219.csv\""
      ],
      "metadata": {
        "id": "tEoF7yFl-gFm"
      },
      "execution_count": null,
      "outputs": []
    },
    {
      "cell_type": "markdown",
      "source": [
        "# PySaprk\n",
        "## SparkSession"
      ],
      "metadata": {
        "id": "m5jdwQ6x-0kI"
      }
    },
    {
      "cell_type": "code",
      "source": [
        "from pyspark.sql import SparkSession\n",
        "spark = SparkSession.builder.master(\"local[*]\").getOrCreate()"
      ],
      "metadata": {
        "id": "OOaUIBbv-zGS"
      },
      "execution_count": 3,
      "outputs": []
    },
    {
      "cell_type": "code",
      "source": [
        "spark"
      ],
      "metadata": {
        "colab": {
          "base_uri": "https://localhost:8080/",
          "height": 216
        },
        "id": "Bmp9S7n7--jI",
        "outputId": "980ff386-e18c-46b9-bd66-31bc0f30dd2e"
      },
      "execution_count": 4,
      "outputs": [
        {
          "output_type": "execute_result",
          "data": {
            "text/plain": [
              "<pyspark.sql.session.SparkSession at 0x7d1327227010>"
            ],
            "text/html": [
              "\n",
              "            <div>\n",
              "                <p><b>SparkSession - in-memory</b></p>\n",
              "                \n",
              "        <div>\n",
              "            <p><b>SparkContext</b></p>\n",
              "\n",
              "            <p><a href=\"http://2fef3ee7443e:4040\">Spark UI</a></p>\n",
              "\n",
              "            <dl>\n",
              "              <dt>Version</dt>\n",
              "                <dd><code>v3.5.4</code></dd>\n",
              "              <dt>Master</dt>\n",
              "                <dd><code>local[*]</code></dd>\n",
              "              <dt>AppName</dt>\n",
              "                <dd><code>pyspark-shell</code></dd>\n",
              "            </dl>\n",
              "        </div>\n",
              "        \n",
              "            </div>\n",
              "        "
            ]
          },
          "metadata": {},
          "execution_count": 4
        }
      ]
    },
    {
      "cell_type": "code",
      "source": [
        "path = '/content/drive/MyDrive/lecture-data/cces.csv'\n",
        "df = spark.read.csv(path,\n",
        "                    inferSchema=True,\n",
        "                    header=True)"
      ],
      "metadata": {
        "id": "t0FSuwrE_3OT"
      },
      "execution_count": 5,
      "outputs": []
    },
    {
      "cell_type": "code",
      "source": [
        "df.show()"
      ],
      "metadata": {
        "colab": {
          "base_uri": "https://localhost:8080/"
        },
        "id": "3Zi2s9_DAGhm",
        "outputId": "54fc8621-c4e8-472a-be91-cef1d95148a8"
      },
      "execution_count": 6,
      "outputs": [
        {
          "output_type": "stream",
          "name": "stdout",
          "text": [
            "+----------+------------------+-----+--------+----+-------+---+---+-------+------+-------+------------+----------+-------+------+----+------+----------+-----+-----+---------+--------------+--------+----------+----------+-----------+-----------+---------+-------+-------+--------+-------+-----------+---------+-----------+-----------+------------+-----------+\n",
            "|thomas_num|       thomas_name|icpsr|congress|year|st_name| cd|dem|elected|female|votepct|      dwnom1|deleg_size|speaker|subchr|afam|latino|votepct_sq|power|chair|state_leg|state_leg_prof|majority|maj_leader|min_leader|    meddist|    majdist|all_bills|all_aic|all_abc|all_pass|all_law|        les|seniority|  benchmark|expectation|TotalInParty|RankInParty|\n",
            "+----------+------------------+-----+--------+----+-------+---+---+-------+------+-------+------------+----------+-------+------+----+------+----------+-----+-----+---------+--------------+--------+----------+----------+-----------+-----------+---------+-------+-------+--------+-------+-----------+---------+-----------+-----------+------------+-----------+\n",
            "|       1.0|     Abdnor, James|14000|      93|1973|     SD|  2|  0|   1972|     0|     55|       0.228|         6|      0|     0|   0|     0|      3025|    0|    0|        1|   0.104000002|       0|         0|         0|0.275000006|0.547500014|       22|      0|      0|       0|      0|0.109570265|        1|0.271341175|          1|         197|        132|\n",
            "|       2.0|      Abzug, Bella|13001|      93|1973|     NY| 20|  1|   1970|     1|     56|-0.686999977|        39|      0|     0|   0|     0|      3136|    0|    0|        0|             0|       1|         0|         0|0.639999986|0.367499977|      136|      1|      1|       1|      1|0.762431085|        2|0.510812402|          2|         248|        119|\n",
            "|       3.0|      Adams, Brock|10700|      93|1973|     WA|  7|  1|   1964|     0|     85|-0.361000001|         7|      0|     1|   0|     0|      7225|    0|    0|        0|             0|       1|         0|         0| 0.31400001|0.041500002|       37|      2|      2|       2|      1|1.236478448|        5|1.530341387|          2|         248|         88|\n",
            "|       4.0|   Addabbo, Joseph|10500|      93|1973|     NY|  7|  1|   1960|     0|     75|-0.400000006|        39|      0|     1|   0|     0|      5625|    1|    0|        0|             0|       1|         0|         0|0.353000015|0.080500007|       38|      0|      0|       0|      0| 0.15505226|        7|1.584492803|          1|         248|        197|\n",
            "|       6.0|   Alexander, Bill|12000|      93|1973|     AR|  1|  1|   1968|     0|    100|-0.280999988|         4|      0|     1|   0|     0|     10000|    0|    0|        0|             0|       1|         0|         0|0.233999982|0.038500011|       53|      3|      3|       2|      1|1.875050545|        3|1.476189971|          2|         248|         64|\n",
            "|       8.0|   Anderson, Glenn|12001|      93|1973|     CA| 35|  1|   1968|     0|     75|-0.293000013|        43|      0|     0|   0|     0|      5625|    0|    0|        1|   0.526000023|       1|         0|         0|0.246000007|0.026499987|       87|      0|      0|       0|      0|0.446550518|        3| 0.53788811|          2|         248|        147|\n",
            "|       7.0|    Anderson, John|10501|      93|1973|     IL| 16|  0|   1960|     0|     72| 0.101999998|        24|      0|     0|   0|     0|      5184|    1|    0|        0|             0|       0|         0|         1|0.149000004|0.421499997|       55|      0|      0|       0|      0|0.289430887|        7|0.433795393|          2|         197|         67|\n",
            "|       9.0|      Andrews, Ike|14001|      93|1973|     NC|  4|  1|   1972|     0|     50|-0.097999997|        11|      0|     0|   0|     0|      2500|    0|    0|        1|   0.189999998|       1|         0|         0|0.050999999|0.221500009|       17|      0|      0|       0|      0|0.087862954|        1|0.483736724|          1|         248|        218|\n",
            "|      10.0|     Andrews, Mark|10569|      93|1973|     ND|  1|  0|   1963|     0|     73| 0.105999999|         1|      0|     0|   0|     0|      5329|    1|    0|        0|             0|       0|         0|         0|0.152999997|0.425500005|       23|      0|      0|       0|      0|0.106469221|        6|0.406719685|          1|         197|        135|\n",
            "|      11.0|   Annunzio, Frank|10703|      93|1973|     IL| 11|  1|   1964|     0|     53|-0.402999997|        24|      0|     1|   0|     0|      2809|    0|    0|        0|             0|       1|         0|         0|0.356000006|0.083499998|       53|      2|      2|       2|      1|0.627664626|        5|1.530341387|          1|         248|        129|\n",
            "|      12.0|      Archer, Bill|13002|      93|1973|     TX|  7|  0|   1970|     0|     82| 0.463999987|        24|      0|     0|   0|     0|      6724|    1|    0|        1|         0.191|       0|         0|         0|0.510999978|0.783500016|       35|      0|      0|       0|      0|0.180894315|        2|0.298416883|          2|         197|        103|\n",
            "|      13.0|    Arends, Leslie|  226|      93|1973|     IL| 15|  0|   1934|     0|     57| 0.296000004|        24|      0|     0|   0|     0|      3249|    0|    0|       NA|            NA|       0|         0|         1|0.342999995|0.615500033|        3|      0|      0|       0|      0|0.015505226|       20|0.785779536|          1|         197|        193|\n",
            "|      14.0|Armstrong, William|14002|      93|1973|     CO|  5|  0|   1972|     0|     62| 0.441000015|         5|      0|     0|   0|     0|      3844|    0|    0|        1|   0.284000009|       0|         0|         0|0.488000005|0.760500014|       11|      1|      1|       1|      1|0.137053624|        1|0.271341175|          2|         197|        126|\n",
            "|      15.0|    Ashbrook, John|10502|      93|1973|     OH| 17|  0|   1960|     0|     57| 0.601000011|        23|      0|     0|   0|     0|      3249|    0|    0|        1|   0.354999989|       0|         0|         0|0.648000002| 0.92050004|       34|      0|      0|       0|      0|0.171591178|        7|0.433795393|          1|         197|        108|\n",
            "|      16.0|    Ashley, Thomas|  267|      93|1973|     OH|  9|  1|   1954|     0|     69|-0.328999996|        23|      0|     1|   0|     0|      4761|    0|    0|        0|             0|       1|         0|         0|0.282000005|0.009499996|       28|      5|      5|       5|      2|3.763123989|       10|1.665719867|          3|         248|         26|\n",
            "|      17.0|        Aspin, Les|13003|      93|1973|     WI|  1|  1|   1970|     0|     64|-0.381999999|         9|      0|     0|   0|     0|      4096|    0|    0|        0|             0|       1|         0|         0|0.335000008|     0.0625|       93|      0|      0|       0|      0|0.472392559|        2|0.510812402|          2|         248|        146|\n",
            "|      18.0|   Badillo, Herman|13004|      93|1973|     NY| 21|  1|   1970|     0|     87|-0.619000018|        39|      0|     0|   0|     1|      7569|    0|    0|        0|             0|       1|         0|         0|0.572000027|0.299500018|       42|      0|      0|       0|      0|0.212938443|        2|0.510812402|          1|         248|        183|\n",
            "|      19.0|       Bafalis, L.|14003|      93|1973|     FL| 10|  0|   1972|     0|     62| 0.293000013|        15|      0|     0|   0|     0|      3844|    0|    0|        1|   0.224000007|       0|         0|         0|0.340000004|0.612500012|       10|      0|      0|       0|      0|0.051684089|        1|0.271341175|          1|         197|        172|\n",
            "|      20.0|      Baker, LaMar|13005|      93|1973|     TN|  3|  0|   1970|     0|     55| 0.338999987|         8|      0|     0|   0|     0|      3025|    0|    0|        1|   0.149000004|       0|         0|         0|0.385999978|0.658500016|       35|      2|      2|       1|      1|0.818845809|        2|0.298416883|          3|         197|         26|\n",
            "|      21.0|  Barrett, William|  465|      93|1973|     PA|  1|  1|   1948|     0|     66|-0.476999998|        25|      0|     1|   0|     0|      4356|    0|    0|        0|             0|       1|         0|         0|0.430000007|0.157499999|       28|      2|      2|       2|      1|1.654023051|       13| 1.74694705|          2|         248|         72|\n",
            "+----------+------------------+-----+--------+----+-------+---+---+-------+------+-------+------------+----------+-------+------+----+------+----------+-----+-----+---------+--------------+--------+----------+----------+-----------+-----------+---------+-------+-------+--------+-------+-----------+---------+-----------+-----------+------------+-----------+\n",
            "only showing top 20 rows\n",
            "\n"
          ]
        }
      ]
    },
    {
      "cell_type": "code",
      "source": [
        "type(df)"
      ],
      "metadata": {
        "colab": {
          "base_uri": "https://localhost:8080/",
          "height": 186
        },
        "id": "_S0aenG4ANTv",
        "outputId": "34a2c763-64d7-4aa3-d134-058350a57ff9"
      },
      "execution_count": 7,
      "outputs": [
        {
          "output_type": "execute_result",
          "data": {
            "text/plain": [
              "pyspark.sql.dataframe.DataFrame"
            ],
            "text/html": [
              "<div style=\"max-width:800px; border: 1px solid var(--colab-border-color);\"><style>\n",
              "      pre.function-repr-contents {\n",
              "        overflow-x: auto;\n",
              "        padding: 8px 12px;\n",
              "        max-height: 500px;\n",
              "      }\n",
              "\n",
              "      pre.function-repr-contents.function-repr-contents-collapsed {\n",
              "        cursor: pointer;\n",
              "        max-height: 100px;\n",
              "      }\n",
              "    </style>\n",
              "    <pre style=\"white-space: initial; background:\n",
              "         var(--colab-secondary-surface-color); padding: 8px 12px;\n",
              "         border-bottom: 1px solid var(--colab-border-color);\"><b>pyspark.sql.dataframe.DataFrame</b><br/>def __init__(jdf: JavaObject, sql_ctx: Union[&#x27;SQLContext&#x27;, &#x27;SparkSession&#x27;])</pre><pre class=\"function-repr-contents function-repr-contents-collapsed\" style=\"\"><a class=\"filepath\" style=\"display:none\" href=\"#\">/usr/local/lib/python3.11/dist-packages/pyspark/sql/dataframe.py</a>A distributed collection of data grouped into named columns.\n",
              "\n",
              ".. versionadded:: 1.3.0\n",
              "\n",
              ".. versionchanged:: 3.4.0\n",
              "    Supports Spark Connect.\n",
              "\n",
              "Examples\n",
              "--------\n",
              "A :class:`DataFrame` is equivalent to a relational table in Spark SQL,\n",
              "and can be created using various functions in :class:`SparkSession`:\n",
              "\n",
              "&gt;&gt;&gt; people = spark.createDataFrame([\n",
              "...     {&quot;deptId&quot;: 1, &quot;age&quot;: 40, &quot;name&quot;: &quot;Hyukjin Kwon&quot;, &quot;gender&quot;: &quot;M&quot;, &quot;salary&quot;: 50},\n",
              "...     {&quot;deptId&quot;: 1, &quot;age&quot;: 50, &quot;name&quot;: &quot;Takuya Ueshin&quot;, &quot;gender&quot;: &quot;M&quot;, &quot;salary&quot;: 100},\n",
              "...     {&quot;deptId&quot;: 2, &quot;age&quot;: 60, &quot;name&quot;: &quot;Xinrong Meng&quot;, &quot;gender&quot;: &quot;F&quot;, &quot;salary&quot;: 150},\n",
              "...     {&quot;deptId&quot;: 3, &quot;age&quot;: 20, &quot;name&quot;: &quot;Haejoon Lee&quot;, &quot;gender&quot;: &quot;M&quot;, &quot;salary&quot;: 200}\n",
              "... ])\n",
              "\n",
              "Once created, it can be manipulated using the various domain-specific-language\n",
              "(DSL) functions defined in: :class:`DataFrame`, :class:`Column`.\n",
              "\n",
              "To select a column from the :class:`DataFrame`, use the apply method:\n",
              "\n",
              "&gt;&gt;&gt; age_col = people.age\n",
              "\n",
              "A more concrete example:\n",
              "\n",
              "&gt;&gt;&gt; # To create DataFrame using SparkSession\n",
              "... department = spark.createDataFrame([\n",
              "...     {&quot;id&quot;: 1, &quot;name&quot;: &quot;PySpark&quot;},\n",
              "...     {&quot;id&quot;: 2, &quot;name&quot;: &quot;ML&quot;},\n",
              "...     {&quot;id&quot;: 3, &quot;name&quot;: &quot;Spark SQL&quot;}\n",
              "... ])\n",
              "\n",
              "&gt;&gt;&gt; people.filter(people.age &gt; 30).join(\n",
              "...     department, people.deptId == department.id).groupBy(\n",
              "...     department.name, &quot;gender&quot;).agg({&quot;salary&quot;: &quot;avg&quot;, &quot;age&quot;: &quot;max&quot;}).show()\n",
              "+-------+------+-----------+--------+\n",
              "|   name|gender|avg(salary)|max(age)|\n",
              "+-------+------+-----------+--------+\n",
              "|     ML|     F|      150.0|      60|\n",
              "|PySpark|     M|       75.0|      50|\n",
              "+-------+------+-----------+--------+\n",
              "\n",
              "Notes\n",
              "-----\n",
              "A DataFrame should only be created as described above. It should not be directly\n",
              "created via using the constructor.</pre>\n",
              "      <script>\n",
              "      if (google.colab.kernel.accessAllowed && google.colab.files && google.colab.files.view) {\n",
              "        for (const element of document.querySelectorAll('.filepath')) {\n",
              "          element.style.display = 'block'\n",
              "          element.onclick = (event) => {\n",
              "            event.preventDefault();\n",
              "            event.stopPropagation();\n",
              "            google.colab.files.view(element.textContent, 80);\n",
              "          };\n",
              "        }\n",
              "      }\n",
              "      for (const element of document.querySelectorAll('.function-repr-contents')) {\n",
              "        element.onclick = (event) => {\n",
              "          event.preventDefault();\n",
              "          event.stopPropagation();\n",
              "          element.classList.toggle('function-repr-contents-collapsed');\n",
              "        };\n",
              "      }\n",
              "      </script>\n",
              "      </div>"
            ]
          },
          "metadata": {},
          "execution_count": 7
        }
      ]
    },
    {
      "cell_type": "code",
      "source": [
        "path = 'https://bcdanl.github.io/data/dominick_oj.csv'\n",
        "df = spark.read.csv(path,\n",
        "                    inferSchema=True,\n",
        "                    header=True)\n",
        "df.show()"
      ],
      "metadata": {
        "colab": {
          "base_uri": "https://localhost:8080/",
          "height": 350
        },
        "id": "l3cgYV56Arm5",
        "outputId": "22368d52-2c18-45c6-e496-2e81141b6cb0"
      },
      "execution_count": 8,
      "outputs": [
        {
          "output_type": "error",
          "ename": "UnsupportedOperationException",
          "evalue": "None",
          "traceback": [
            "\u001b[0;31m---------------------------------------------------------------------------\u001b[0m",
            "\u001b[0;31mUnsupportedOperationException\u001b[0m             Traceback (most recent call last)",
            "\u001b[0;32m<ipython-input-8-d0db02a6c4c4>\u001b[0m in \u001b[0;36m<cell line: 0>\u001b[0;34m()\u001b[0m\n\u001b[1;32m      1\u001b[0m \u001b[0mpath\u001b[0m \u001b[0;34m=\u001b[0m \u001b[0;34m'https://bcdanl.github.io/data/dominick_oj.csv'\u001b[0m\u001b[0;34m\u001b[0m\u001b[0;34m\u001b[0m\u001b[0m\n\u001b[0;32m----> 2\u001b[0;31m df = spark.read.csv(path, \n\u001b[0m\u001b[1;32m      3\u001b[0m                     \u001b[0minferSchema\u001b[0m\u001b[0;34m=\u001b[0m\u001b[0;32mTrue\u001b[0m\u001b[0;34m,\u001b[0m\u001b[0;34m\u001b[0m\u001b[0;34m\u001b[0m\u001b[0m\n\u001b[1;32m      4\u001b[0m                     header=True)\n\u001b[1;32m      5\u001b[0m \u001b[0mdf\u001b[0m\u001b[0;34m.\u001b[0m\u001b[0mshow\u001b[0m\u001b[0;34m(\u001b[0m\u001b[0;34m)\u001b[0m\u001b[0;34m\u001b[0m\u001b[0;34m\u001b[0m\u001b[0m\n",
            "\u001b[0;32m/usr/local/lib/python3.11/dist-packages/pyspark/sql/readwriter.py\u001b[0m in \u001b[0;36mcsv\u001b[0;34m(self, path, schema, sep, encoding, quote, escape, comment, header, inferSchema, ignoreLeadingWhiteSpace, ignoreTrailingWhiteSpace, nullValue, nanValue, positiveInf, negativeInf, dateFormat, timestampFormat, maxColumns, maxCharsPerColumn, maxMalformedLogPerPartition, mode, columnNameOfCorruptRecord, multiLine, charToEscapeQuoteEscaping, samplingRatio, enforceSchema, emptyValue, locale, lineSep, pathGlobFilter, recursiveFileLookup, modifiedBefore, modifiedAfter, unescapedQuoteHandling)\u001b[0m\n\u001b[1;32m    738\u001b[0m         \u001b[0;32mif\u001b[0m \u001b[0mtype\u001b[0m\u001b[0;34m(\u001b[0m\u001b[0mpath\u001b[0m\u001b[0;34m)\u001b[0m \u001b[0;34m==\u001b[0m \u001b[0mlist\u001b[0m\u001b[0;34m:\u001b[0m\u001b[0;34m\u001b[0m\u001b[0;34m\u001b[0m\u001b[0m\n\u001b[1;32m    739\u001b[0m             \u001b[0;32massert\u001b[0m \u001b[0mself\u001b[0m\u001b[0;34m.\u001b[0m\u001b[0m_spark\u001b[0m\u001b[0;34m.\u001b[0m\u001b[0m_sc\u001b[0m\u001b[0;34m.\u001b[0m\u001b[0m_jvm\u001b[0m \u001b[0;32mis\u001b[0m \u001b[0;32mnot\u001b[0m \u001b[0;32mNone\u001b[0m\u001b[0;34m\u001b[0m\u001b[0;34m\u001b[0m\u001b[0m\n\u001b[0;32m--> 740\u001b[0;31m             \u001b[0;32mreturn\u001b[0m \u001b[0mself\u001b[0m\u001b[0;34m.\u001b[0m\u001b[0m_df\u001b[0m\u001b[0;34m(\u001b[0m\u001b[0mself\u001b[0m\u001b[0;34m.\u001b[0m\u001b[0m_jreader\u001b[0m\u001b[0;34m.\u001b[0m\u001b[0mcsv\u001b[0m\u001b[0;34m(\u001b[0m\u001b[0mself\u001b[0m\u001b[0;34m.\u001b[0m\u001b[0m_spark\u001b[0m\u001b[0;34m.\u001b[0m\u001b[0m_sc\u001b[0m\u001b[0;34m.\u001b[0m\u001b[0m_jvm\u001b[0m\u001b[0;34m.\u001b[0m\u001b[0mPythonUtils\u001b[0m\u001b[0;34m.\u001b[0m\u001b[0mtoSeq\u001b[0m\u001b[0;34m(\u001b[0m\u001b[0mpath\u001b[0m\u001b[0;34m)\u001b[0m\u001b[0;34m)\u001b[0m\u001b[0;34m)\u001b[0m\u001b[0;34m\u001b[0m\u001b[0;34m\u001b[0m\u001b[0m\n\u001b[0m\u001b[1;32m    741\u001b[0m         \u001b[0;32melif\u001b[0m \u001b[0misinstance\u001b[0m\u001b[0;34m(\u001b[0m\u001b[0mpath\u001b[0m\u001b[0;34m,\u001b[0m \u001b[0mRDD\u001b[0m\u001b[0;34m)\u001b[0m\u001b[0;34m:\u001b[0m\u001b[0;34m\u001b[0m\u001b[0;34m\u001b[0m\u001b[0m\n\u001b[1;32m    742\u001b[0m \u001b[0;34m\u001b[0m\u001b[0m\n",
            "\u001b[0;32m/usr/local/lib/python3.11/dist-packages/py4j/java_gateway.py\u001b[0m in \u001b[0;36m__call__\u001b[0;34m(self, *args)\u001b[0m\n\u001b[1;32m   1320\u001b[0m \u001b[0;34m\u001b[0m\u001b[0m\n\u001b[1;32m   1321\u001b[0m         \u001b[0manswer\u001b[0m \u001b[0;34m=\u001b[0m \u001b[0mself\u001b[0m\u001b[0;34m.\u001b[0m\u001b[0mgateway_client\u001b[0m\u001b[0;34m.\u001b[0m\u001b[0msend_command\u001b[0m\u001b[0;34m(\u001b[0m\u001b[0mcommand\u001b[0m\u001b[0;34m)\u001b[0m\u001b[0;34m\u001b[0m\u001b[0;34m\u001b[0m\u001b[0m\n\u001b[0;32m-> 1322\u001b[0;31m         return_value = get_return_value(\n\u001b[0m\u001b[1;32m   1323\u001b[0m             answer, self.gateway_client, self.target_id, self.name)\n\u001b[1;32m   1324\u001b[0m \u001b[0;34m\u001b[0m\u001b[0m\n",
            "\u001b[0;32m/usr/local/lib/python3.11/dist-packages/pyspark/errors/exceptions/captured.py\u001b[0m in \u001b[0;36mdeco\u001b[0;34m(*a, **kw)\u001b[0m\n\u001b[1;32m    183\u001b[0m                 \u001b[0;31m# Hide where the exception came from that shows a non-Pythonic\u001b[0m\u001b[0;34m\u001b[0m\u001b[0;34m\u001b[0m\u001b[0m\n\u001b[1;32m    184\u001b[0m                 \u001b[0;31m# JVM exception message.\u001b[0m\u001b[0;34m\u001b[0m\u001b[0;34m\u001b[0m\u001b[0m\n\u001b[0;32m--> 185\u001b[0;31m                 \u001b[0;32mraise\u001b[0m \u001b[0mconverted\u001b[0m \u001b[0;32mfrom\u001b[0m \u001b[0;32mNone\u001b[0m\u001b[0;34m\u001b[0m\u001b[0;34m\u001b[0m\u001b[0m\n\u001b[0m\u001b[1;32m    186\u001b[0m             \u001b[0;32melse\u001b[0m\u001b[0;34m:\u001b[0m\u001b[0;34m\u001b[0m\u001b[0;34m\u001b[0m\u001b[0m\n\u001b[1;32m    187\u001b[0m                 \u001b[0;32mraise\u001b[0m\u001b[0;34m\u001b[0m\u001b[0;34m\u001b[0m\u001b[0m\n",
            "\u001b[0;31mUnsupportedOperationException\u001b[0m: None"
          ]
        }
      ]
    },
    {
      "cell_type": "code",
      "source": [
        "path = 'https://bcdanl.github.io/data/dominick_oj.csv'\n",
        "\n",
        "import pandas as pd\n",
        "df_oj = pd.read_csv(path)\n",
        "df_oj"
      ],
      "metadata": {
        "colab": {
          "base_uri": "https://localhost:8080/",
          "height": 419
        },
        "id": "myL25ewWA-Zr",
        "outputId": "7e2c08d6-5fa5-41b8-f020-3bde6d259d95"
      },
      "execution_count": 9,
      "outputs": [
        {
          "output_type": "execute_result",
          "data": {
            "text/plain": [
              "         sales  price      brand  ad\n",
              "0       8256.0   3.87  tropicana   0\n",
              "1       6144.0   3.87  tropicana   0\n",
              "2       3840.0   3.87  tropicana   0\n",
              "3       8000.0   3.87  tropicana   0\n",
              "4       8896.0   3.87  tropicana   0\n",
              "...        ...    ...        ...  ..\n",
              "28942   2944.0   2.00  dominicks   0\n",
              "28943   4928.0   1.94  dominicks   0\n",
              "28944  13440.0   1.59  dominicks   0\n",
              "28945  55680.0   1.49  dominicks   0\n",
              "28946   7040.0   1.75  dominicks   0\n",
              "\n",
              "[28947 rows x 4 columns]"
            ],
            "text/html": [
              "\n",
              "  <div id=\"df-621ad250-2461-4b59-a87c-60c1d785aa3a\" class=\"colab-df-container\">\n",
              "    <div>\n",
              "<style scoped>\n",
              "    .dataframe tbody tr th:only-of-type {\n",
              "        vertical-align: middle;\n",
              "    }\n",
              "\n",
              "    .dataframe tbody tr th {\n",
              "        vertical-align: top;\n",
              "    }\n",
              "\n",
              "    .dataframe thead th {\n",
              "        text-align: right;\n",
              "    }\n",
              "</style>\n",
              "<table border=\"1\" class=\"dataframe\">\n",
              "  <thead>\n",
              "    <tr style=\"text-align: right;\">\n",
              "      <th></th>\n",
              "      <th>sales</th>\n",
              "      <th>price</th>\n",
              "      <th>brand</th>\n",
              "      <th>ad</th>\n",
              "    </tr>\n",
              "  </thead>\n",
              "  <tbody>\n",
              "    <tr>\n",
              "      <th>0</th>\n",
              "      <td>8256.0</td>\n",
              "      <td>3.87</td>\n",
              "      <td>tropicana</td>\n",
              "      <td>0</td>\n",
              "    </tr>\n",
              "    <tr>\n",
              "      <th>1</th>\n",
              "      <td>6144.0</td>\n",
              "      <td>3.87</td>\n",
              "      <td>tropicana</td>\n",
              "      <td>0</td>\n",
              "    </tr>\n",
              "    <tr>\n",
              "      <th>2</th>\n",
              "      <td>3840.0</td>\n",
              "      <td>3.87</td>\n",
              "      <td>tropicana</td>\n",
              "      <td>0</td>\n",
              "    </tr>\n",
              "    <tr>\n",
              "      <th>3</th>\n",
              "      <td>8000.0</td>\n",
              "      <td>3.87</td>\n",
              "      <td>tropicana</td>\n",
              "      <td>0</td>\n",
              "    </tr>\n",
              "    <tr>\n",
              "      <th>4</th>\n",
              "      <td>8896.0</td>\n",
              "      <td>3.87</td>\n",
              "      <td>tropicana</td>\n",
              "      <td>0</td>\n",
              "    </tr>\n",
              "    <tr>\n",
              "      <th>...</th>\n",
              "      <td>...</td>\n",
              "      <td>...</td>\n",
              "      <td>...</td>\n",
              "      <td>...</td>\n",
              "    </tr>\n",
              "    <tr>\n",
              "      <th>28942</th>\n",
              "      <td>2944.0</td>\n",
              "      <td>2.00</td>\n",
              "      <td>dominicks</td>\n",
              "      <td>0</td>\n",
              "    </tr>\n",
              "    <tr>\n",
              "      <th>28943</th>\n",
              "      <td>4928.0</td>\n",
              "      <td>1.94</td>\n",
              "      <td>dominicks</td>\n",
              "      <td>0</td>\n",
              "    </tr>\n",
              "    <tr>\n",
              "      <th>28944</th>\n",
              "      <td>13440.0</td>\n",
              "      <td>1.59</td>\n",
              "      <td>dominicks</td>\n",
              "      <td>0</td>\n",
              "    </tr>\n",
              "    <tr>\n",
              "      <th>28945</th>\n",
              "      <td>55680.0</td>\n",
              "      <td>1.49</td>\n",
              "      <td>dominicks</td>\n",
              "      <td>0</td>\n",
              "    </tr>\n",
              "    <tr>\n",
              "      <th>28946</th>\n",
              "      <td>7040.0</td>\n",
              "      <td>1.75</td>\n",
              "      <td>dominicks</td>\n",
              "      <td>0</td>\n",
              "    </tr>\n",
              "  </tbody>\n",
              "</table>\n",
              "<p>28947 rows × 4 columns</p>\n",
              "</div>\n",
              "    <div class=\"colab-df-buttons\">\n",
              "\n",
              "  <div class=\"colab-df-container\">\n",
              "    <button class=\"colab-df-convert\" onclick=\"convertToInteractive('df-621ad250-2461-4b59-a87c-60c1d785aa3a')\"\n",
              "            title=\"Convert this dataframe to an interactive table.\"\n",
              "            style=\"display:none;\">\n",
              "\n",
              "  <svg xmlns=\"http://www.w3.org/2000/svg\" height=\"24px\" viewBox=\"0 -960 960 960\">\n",
              "    <path d=\"M120-120v-720h720v720H120Zm60-500h600v-160H180v160Zm220 220h160v-160H400v160Zm0 220h160v-160H400v160ZM180-400h160v-160H180v160Zm440 0h160v-160H620v160ZM180-180h160v-160H180v160Zm440 0h160v-160H620v160Z\"/>\n",
              "  </svg>\n",
              "    </button>\n",
              "\n",
              "  <style>\n",
              "    .colab-df-container {\n",
              "      display:flex;\n",
              "      gap: 12px;\n",
              "    }\n",
              "\n",
              "    .colab-df-convert {\n",
              "      background-color: #E8F0FE;\n",
              "      border: none;\n",
              "      border-radius: 50%;\n",
              "      cursor: pointer;\n",
              "      display: none;\n",
              "      fill: #1967D2;\n",
              "      height: 32px;\n",
              "      padding: 0 0 0 0;\n",
              "      width: 32px;\n",
              "    }\n",
              "\n",
              "    .colab-df-convert:hover {\n",
              "      background-color: #E2EBFA;\n",
              "      box-shadow: 0px 1px 2px rgba(60, 64, 67, 0.3), 0px 1px 3px 1px rgba(60, 64, 67, 0.15);\n",
              "      fill: #174EA6;\n",
              "    }\n",
              "\n",
              "    .colab-df-buttons div {\n",
              "      margin-bottom: 4px;\n",
              "    }\n",
              "\n",
              "    [theme=dark] .colab-df-convert {\n",
              "      background-color: #3B4455;\n",
              "      fill: #D2E3FC;\n",
              "    }\n",
              "\n",
              "    [theme=dark] .colab-df-convert:hover {\n",
              "      background-color: #434B5C;\n",
              "      box-shadow: 0px 1px 3px 1px rgba(0, 0, 0, 0.15);\n",
              "      filter: drop-shadow(0px 1px 2px rgba(0, 0, 0, 0.3));\n",
              "      fill: #FFFFFF;\n",
              "    }\n",
              "  </style>\n",
              "\n",
              "    <script>\n",
              "      const buttonEl =\n",
              "        document.querySelector('#df-621ad250-2461-4b59-a87c-60c1d785aa3a button.colab-df-convert');\n",
              "      buttonEl.style.display =\n",
              "        google.colab.kernel.accessAllowed ? 'block' : 'none';\n",
              "\n",
              "      async function convertToInteractive(key) {\n",
              "        const element = document.querySelector('#df-621ad250-2461-4b59-a87c-60c1d785aa3a');\n",
              "        const dataTable =\n",
              "          await google.colab.kernel.invokeFunction('convertToInteractive',\n",
              "                                                    [key], {});\n",
              "        if (!dataTable) return;\n",
              "\n",
              "        const docLinkHtml = 'Like what you see? Visit the ' +\n",
              "          '<a target=\"_blank\" href=https://colab.research.google.com/notebooks/data_table.ipynb>data table notebook</a>'\n",
              "          + ' to learn more about interactive tables.';\n",
              "        element.innerHTML = '';\n",
              "        dataTable['output_type'] = 'display_data';\n",
              "        await google.colab.output.renderOutput(dataTable, element);\n",
              "        const docLink = document.createElement('div');\n",
              "        docLink.innerHTML = docLinkHtml;\n",
              "        element.appendChild(docLink);\n",
              "      }\n",
              "    </script>\n",
              "  </div>\n",
              "\n",
              "\n",
              "<div id=\"df-013709f3-f46d-42e8-aa57-bd9a49976e7d\">\n",
              "  <button class=\"colab-df-quickchart\" onclick=\"quickchart('df-013709f3-f46d-42e8-aa57-bd9a49976e7d')\"\n",
              "            title=\"Suggest charts\"\n",
              "            style=\"display:none;\">\n",
              "\n",
              "<svg xmlns=\"http://www.w3.org/2000/svg\" height=\"24px\"viewBox=\"0 0 24 24\"\n",
              "     width=\"24px\">\n",
              "    <g>\n",
              "        <path d=\"M19 3H5c-1.1 0-2 .9-2 2v14c0 1.1.9 2 2 2h14c1.1 0 2-.9 2-2V5c0-1.1-.9-2-2-2zM9 17H7v-7h2v7zm4 0h-2V7h2v10zm4 0h-2v-4h2v4z\"/>\n",
              "    </g>\n",
              "</svg>\n",
              "  </button>\n",
              "\n",
              "<style>\n",
              "  .colab-df-quickchart {\n",
              "      --bg-color: #E8F0FE;\n",
              "      --fill-color: #1967D2;\n",
              "      --hover-bg-color: #E2EBFA;\n",
              "      --hover-fill-color: #174EA6;\n",
              "      --disabled-fill-color: #AAA;\n",
              "      --disabled-bg-color: #DDD;\n",
              "  }\n",
              "\n",
              "  [theme=dark] .colab-df-quickchart {\n",
              "      --bg-color: #3B4455;\n",
              "      --fill-color: #D2E3FC;\n",
              "      --hover-bg-color: #434B5C;\n",
              "      --hover-fill-color: #FFFFFF;\n",
              "      --disabled-bg-color: #3B4455;\n",
              "      --disabled-fill-color: #666;\n",
              "  }\n",
              "\n",
              "  .colab-df-quickchart {\n",
              "    background-color: var(--bg-color);\n",
              "    border: none;\n",
              "    border-radius: 50%;\n",
              "    cursor: pointer;\n",
              "    display: none;\n",
              "    fill: var(--fill-color);\n",
              "    height: 32px;\n",
              "    padding: 0;\n",
              "    width: 32px;\n",
              "  }\n",
              "\n",
              "  .colab-df-quickchart:hover {\n",
              "    background-color: var(--hover-bg-color);\n",
              "    box-shadow: 0 1px 2px rgba(60, 64, 67, 0.3), 0 1px 3px 1px rgba(60, 64, 67, 0.15);\n",
              "    fill: var(--button-hover-fill-color);\n",
              "  }\n",
              "\n",
              "  .colab-df-quickchart-complete:disabled,\n",
              "  .colab-df-quickchart-complete:disabled:hover {\n",
              "    background-color: var(--disabled-bg-color);\n",
              "    fill: var(--disabled-fill-color);\n",
              "    box-shadow: none;\n",
              "  }\n",
              "\n",
              "  .colab-df-spinner {\n",
              "    border: 2px solid var(--fill-color);\n",
              "    border-color: transparent;\n",
              "    border-bottom-color: var(--fill-color);\n",
              "    animation:\n",
              "      spin 1s steps(1) infinite;\n",
              "  }\n",
              "\n",
              "  @keyframes spin {\n",
              "    0% {\n",
              "      border-color: transparent;\n",
              "      border-bottom-color: var(--fill-color);\n",
              "      border-left-color: var(--fill-color);\n",
              "    }\n",
              "    20% {\n",
              "      border-color: transparent;\n",
              "      border-left-color: var(--fill-color);\n",
              "      border-top-color: var(--fill-color);\n",
              "    }\n",
              "    30% {\n",
              "      border-color: transparent;\n",
              "      border-left-color: var(--fill-color);\n",
              "      border-top-color: var(--fill-color);\n",
              "      border-right-color: var(--fill-color);\n",
              "    }\n",
              "    40% {\n",
              "      border-color: transparent;\n",
              "      border-right-color: var(--fill-color);\n",
              "      border-top-color: var(--fill-color);\n",
              "    }\n",
              "    60% {\n",
              "      border-color: transparent;\n",
              "      border-right-color: var(--fill-color);\n",
              "    }\n",
              "    80% {\n",
              "      border-color: transparent;\n",
              "      border-right-color: var(--fill-color);\n",
              "      border-bottom-color: var(--fill-color);\n",
              "    }\n",
              "    90% {\n",
              "      border-color: transparent;\n",
              "      border-bottom-color: var(--fill-color);\n",
              "    }\n",
              "  }\n",
              "</style>\n",
              "\n",
              "  <script>\n",
              "    async function quickchart(key) {\n",
              "      const quickchartButtonEl =\n",
              "        document.querySelector('#' + key + ' button');\n",
              "      quickchartButtonEl.disabled = true;  // To prevent multiple clicks.\n",
              "      quickchartButtonEl.classList.add('colab-df-spinner');\n",
              "      try {\n",
              "        const charts = await google.colab.kernel.invokeFunction(\n",
              "            'suggestCharts', [key], {});\n",
              "      } catch (error) {\n",
              "        console.error('Error during call to suggestCharts:', error);\n",
              "      }\n",
              "      quickchartButtonEl.classList.remove('colab-df-spinner');\n",
              "      quickchartButtonEl.classList.add('colab-df-quickchart-complete');\n",
              "    }\n",
              "    (() => {\n",
              "      let quickchartButtonEl =\n",
              "        document.querySelector('#df-013709f3-f46d-42e8-aa57-bd9a49976e7d button');\n",
              "      quickchartButtonEl.style.display =\n",
              "        google.colab.kernel.accessAllowed ? 'block' : 'none';\n",
              "    })();\n",
              "  </script>\n",
              "</div>\n",
              "\n",
              "  <div id=\"id_9325391e-8e8f-440c-91ea-79e372f5dc7f\">\n",
              "    <style>\n",
              "      .colab-df-generate {\n",
              "        background-color: #E8F0FE;\n",
              "        border: none;\n",
              "        border-radius: 50%;\n",
              "        cursor: pointer;\n",
              "        display: none;\n",
              "        fill: #1967D2;\n",
              "        height: 32px;\n",
              "        padding: 0 0 0 0;\n",
              "        width: 32px;\n",
              "      }\n",
              "\n",
              "      .colab-df-generate:hover {\n",
              "        background-color: #E2EBFA;\n",
              "        box-shadow: 0px 1px 2px rgba(60, 64, 67, 0.3), 0px 1px 3px 1px rgba(60, 64, 67, 0.15);\n",
              "        fill: #174EA6;\n",
              "      }\n",
              "\n",
              "      [theme=dark] .colab-df-generate {\n",
              "        background-color: #3B4455;\n",
              "        fill: #D2E3FC;\n",
              "      }\n",
              "\n",
              "      [theme=dark] .colab-df-generate:hover {\n",
              "        background-color: #434B5C;\n",
              "        box-shadow: 0px 1px 3px 1px rgba(0, 0, 0, 0.15);\n",
              "        filter: drop-shadow(0px 1px 2px rgba(0, 0, 0, 0.3));\n",
              "        fill: #FFFFFF;\n",
              "      }\n",
              "    </style>\n",
              "    <button class=\"colab-df-generate\" onclick=\"generateWithVariable('df_oj')\"\n",
              "            title=\"Generate code using this dataframe.\"\n",
              "            style=\"display:none;\">\n",
              "\n",
              "  <svg xmlns=\"http://www.w3.org/2000/svg\" height=\"24px\"viewBox=\"0 0 24 24\"\n",
              "       width=\"24px\">\n",
              "    <path d=\"M7,19H8.4L18.45,9,17,7.55,7,17.6ZM5,21V16.75L18.45,3.32a2,2,0,0,1,2.83,0l1.4,1.43a1.91,1.91,0,0,1,.58,1.4,1.91,1.91,0,0,1-.58,1.4L9.25,21ZM18.45,9,17,7.55Zm-12,3A5.31,5.31,0,0,0,4.9,8.1,5.31,5.31,0,0,0,1,6.5,5.31,5.31,0,0,0,4.9,4.9,5.31,5.31,0,0,0,6.5,1,5.31,5.31,0,0,0,8.1,4.9,5.31,5.31,0,0,0,12,6.5,5.46,5.46,0,0,0,6.5,12Z\"/>\n",
              "  </svg>\n",
              "    </button>\n",
              "    <script>\n",
              "      (() => {\n",
              "      const buttonEl =\n",
              "        document.querySelector('#id_9325391e-8e8f-440c-91ea-79e372f5dc7f button.colab-df-generate');\n",
              "      buttonEl.style.display =\n",
              "        google.colab.kernel.accessAllowed ? 'block' : 'none';\n",
              "\n",
              "      buttonEl.onclick = () => {\n",
              "        google.colab.notebook.generateWithVariable('df_oj');\n",
              "      }\n",
              "      })();\n",
              "    </script>\n",
              "  </div>\n",
              "\n",
              "    </div>\n",
              "  </div>\n"
            ],
            "application/vnd.google.colaboratory.intrinsic+json": {
              "type": "dataframe",
              "variable_name": "df_oj",
              "summary": "{\n  \"name\": \"df_oj\",\n  \"rows\": 28947,\n  \"fields\": [\n    {\n      \"column\": \"sales\",\n      \"properties\": {\n        \"dtype\": \"number\",\n        \"std\": 27477.660437204595,\n        \"min\": 64.0,\n        \"max\": 716416.0001,\n        \"num_unique_values\": 1902,\n        \"samples\": [\n          72832.0,\n          12992.0,\n          89023.99997\n        ],\n        \"semantic_type\": \"\",\n        \"description\": \"\"\n      }\n    },\n    {\n      \"column\": \"price\",\n      \"properties\": {\n        \"dtype\": \"number\",\n        \"std\": 0.6480007152143514,\n        \"min\": 0.52,\n        \"max\": 3.87,\n        \"num_unique_values\": 245,\n        \"samples\": [\n          2.81,\n          2.59,\n          2.91\n        ],\n        \"semantic_type\": \"\",\n        \"description\": \"\"\n      }\n    },\n    {\n      \"column\": \"brand\",\n      \"properties\": {\n        \"dtype\": \"category\",\n        \"num_unique_values\": 3,\n        \"samples\": [\n          \"tropicana\",\n          \"minute.maid\",\n          \"dominicks\"\n        ],\n        \"semantic_type\": \"\",\n        \"description\": \"\"\n      }\n    },\n    {\n      \"column\": \"ad\",\n      \"properties\": {\n        \"dtype\": \"number\",\n        \"std\": 0,\n        \"min\": 0,\n        \"max\": 1,\n        \"num_unique_values\": 2,\n        \"samples\": [\n          1,\n          0\n        ],\n        \"semantic_type\": \"\",\n        \"description\": \"\"\n      }\n    }\n  ]\n}"
            }
          },
          "metadata": {},
          "execution_count": 9
        }
      ]
    },
    {
      "cell_type": "code",
      "source": [
        "spark_df = spark.createDataFrame(df_oj)\n"
      ],
      "metadata": {
        "id": "pLXNsLi6BI64"
      },
      "execution_count": 10,
      "outputs": []
    },
    {
      "cell_type": "code",
      "source": [
        "spark_df"
      ],
      "metadata": {
        "colab": {
          "base_uri": "https://localhost:8080/"
        },
        "id": "tbN3AfeIBVQF",
        "outputId": "a0e9b1c7-77f1-428a-9a6e-e7b858df7a0e"
      },
      "execution_count": 11,
      "outputs": [
        {
          "output_type": "execute_result",
          "data": {
            "text/plain": [
              "DataFrame[sales: double, price: double, brand: string, ad: bigint]"
            ]
          },
          "metadata": {},
          "execution_count": 11
        }
      ]
    },
    {
      "cell_type": "code",
      "source": [
        "spark_df.show()"
      ],
      "metadata": {
        "colab": {
          "base_uri": "https://localhost:8080/"
        },
        "id": "Uzoea8FiBkPA",
        "outputId": "81ee6217-0b2e-40dc-f301-f6802020283e"
      },
      "execution_count": 12,
      "outputs": [
        {
          "output_type": "stream",
          "name": "stdout",
          "text": [
            "+-------+-----+---------+---+\n",
            "|  sales|price|    brand| ad|\n",
            "+-------+-----+---------+---+\n",
            "| 8256.0| 3.87|tropicana|  0|\n",
            "| 6144.0| 3.87|tropicana|  0|\n",
            "| 3840.0| 3.87|tropicana|  0|\n",
            "| 8000.0| 3.87|tropicana|  0|\n",
            "| 8896.0| 3.87|tropicana|  0|\n",
            "| 7168.0| 3.87|tropicana|  0|\n",
            "|10880.0| 3.29|tropicana|  0|\n",
            "| 7744.0| 3.29|tropicana|  0|\n",
            "| 8512.0| 3.29|tropicana|  0|\n",
            "| 5504.0| 3.29|tropicana|  0|\n",
            "| 5888.0| 3.56|tropicana|  0|\n",
            "| 8384.0| 3.56|tropicana|  0|\n",
            "| 5952.0| 3.56|tropicana|  0|\n",
            "| 6848.0| 3.56|tropicana|  0|\n",
            "| 9216.0| 3.87|tropicana|  0|\n",
            "|12160.0| 2.99|tropicana|  0|\n",
            "|12672.0| 2.99|tropicana|  0|\n",
            "| 6528.0| 3.59|tropicana|  0|\n",
            "| 6144.0| 3.59|tropicana|  0|\n",
            "|21120.0| 2.39|tropicana|  0|\n",
            "+-------+-----+---------+---+\n",
            "only showing top 20 rows\n",
            "\n"
          ]
        }
      ]
    },
    {
      "cell_type": "code",
      "source": [
        "spark_df.show(5)"
      ],
      "metadata": {
        "colab": {
          "base_uri": "https://localhost:8080/"
        },
        "id": "Pm7YjsgbCICJ",
        "outputId": "4ce4c650-03a2-43fe-db0d-3783c314a01e"
      },
      "execution_count": 13,
      "outputs": [
        {
          "output_type": "stream",
          "name": "stdout",
          "text": [
            "+------+-----+---------+---+\n",
            "| sales|price|    brand| ad|\n",
            "+------+-----+---------+---+\n",
            "|8256.0| 3.87|tropicana|  0|\n",
            "|6144.0| 3.87|tropicana|  0|\n",
            "|3840.0| 3.87|tropicana|  0|\n",
            "|8000.0| 3.87|tropicana|  0|\n",
            "|8896.0| 3.87|tropicana|  0|\n",
            "+------+-----+---------+---+\n",
            "only showing top 5 rows\n",
            "\n"
          ]
        }
      ]
    },
    {
      "cell_type": "code",
      "source": [
        "spark_df.show(vertical=True)"
      ],
      "metadata": {
        "colab": {
          "base_uri": "https://localhost:8080/"
        },
        "id": "CqIfmRG8CfP_",
        "outputId": "a58b3a2a-c55e-4109-9056-87f4a96b72e8"
      },
      "execution_count": 14,
      "outputs": [
        {
          "output_type": "stream",
          "name": "stdout",
          "text": [
            "-RECORD 0----------\n",
            " sales | 8256.0    \n",
            " price | 3.87      \n",
            " brand | tropicana \n",
            " ad    | 0         \n",
            "-RECORD 1----------\n",
            " sales | 6144.0    \n",
            " price | 3.87      \n",
            " brand | tropicana \n",
            " ad    | 0         \n",
            "-RECORD 2----------\n",
            " sales | 3840.0    \n",
            " price | 3.87      \n",
            " brand | tropicana \n",
            " ad    | 0         \n",
            "-RECORD 3----------\n",
            " sales | 8000.0    \n",
            " price | 3.87      \n",
            " brand | tropicana \n",
            " ad    | 0         \n",
            "-RECORD 4----------\n",
            " sales | 8896.0    \n",
            " price | 3.87      \n",
            " brand | tropicana \n",
            " ad    | 0         \n",
            "-RECORD 5----------\n",
            " sales | 7168.0    \n",
            " price | 3.87      \n",
            " brand | tropicana \n",
            " ad    | 0         \n",
            "-RECORD 6----------\n",
            " sales | 10880.0   \n",
            " price | 3.29      \n",
            " brand | tropicana \n",
            " ad    | 0         \n",
            "-RECORD 7----------\n",
            " sales | 7744.0    \n",
            " price | 3.29      \n",
            " brand | tropicana \n",
            " ad    | 0         \n",
            "-RECORD 8----------\n",
            " sales | 8512.0    \n",
            " price | 3.29      \n",
            " brand | tropicana \n",
            " ad    | 0         \n",
            "-RECORD 9----------\n",
            " sales | 5504.0    \n",
            " price | 3.29      \n",
            " brand | tropicana \n",
            " ad    | 0         \n",
            "-RECORD 10---------\n",
            " sales | 5888.0    \n",
            " price | 3.56      \n",
            " brand | tropicana \n",
            " ad    | 0         \n",
            "-RECORD 11---------\n",
            " sales | 8384.0    \n",
            " price | 3.56      \n",
            " brand | tropicana \n",
            " ad    | 0         \n",
            "-RECORD 12---------\n",
            " sales | 5952.0    \n",
            " price | 3.56      \n",
            " brand | tropicana \n",
            " ad    | 0         \n",
            "-RECORD 13---------\n",
            " sales | 6848.0    \n",
            " price | 3.56      \n",
            " brand | tropicana \n",
            " ad    | 0         \n",
            "-RECORD 14---------\n",
            " sales | 9216.0    \n",
            " price | 3.87      \n",
            " brand | tropicana \n",
            " ad    | 0         \n",
            "-RECORD 15---------\n",
            " sales | 12160.0   \n",
            " price | 2.99      \n",
            " brand | tropicana \n",
            " ad    | 0         \n",
            "-RECORD 16---------\n",
            " sales | 12672.0   \n",
            " price | 2.99      \n",
            " brand | tropicana \n",
            " ad    | 0         \n",
            "-RECORD 17---------\n",
            " sales | 6528.0    \n",
            " price | 3.59      \n",
            " brand | tropicana \n",
            " ad    | 0         \n",
            "-RECORD 18---------\n",
            " sales | 6144.0    \n",
            " price | 3.59      \n",
            " brand | tropicana \n",
            " ad    | 0         \n",
            "-RECORD 19---------\n",
            " sales | 21120.0   \n",
            " price | 2.39      \n",
            " brand | tropicana \n",
            " ad    | 0         \n",
            "only showing top 20 rows\n",
            "\n"
          ]
        }
      ]
    },
    {
      "cell_type": "code",
      "source": [
        "df.printSchema()"
      ],
      "metadata": {
        "colab": {
          "base_uri": "https://localhost:8080/"
        },
        "id": "6WXzXKGiCrnV",
        "outputId": "f3a34f1c-cdfe-47ef-af24-1c1245a0b8d7"
      },
      "execution_count": 15,
      "outputs": [
        {
          "output_type": "stream",
          "name": "stdout",
          "text": [
            "root\n",
            " |-- thomas_num: double (nullable = true)\n",
            " |-- thomas_name: string (nullable = true)\n",
            " |-- icpsr: string (nullable = true)\n",
            " |-- congress: integer (nullable = true)\n",
            " |-- year: integer (nullable = true)\n",
            " |-- st_name: string (nullable = true)\n",
            " |-- cd: string (nullable = true)\n",
            " |-- dem: integer (nullable = true)\n",
            " |-- elected: integer (nullable = true)\n",
            " |-- female: integer (nullable = true)\n",
            " |-- votepct: string (nullable = true)\n",
            " |-- dwnom1: string (nullable = true)\n",
            " |-- deleg_size: string (nullable = true)\n",
            " |-- speaker: integer (nullable = true)\n",
            " |-- subchr: integer (nullable = true)\n",
            " |-- afam: integer (nullable = true)\n",
            " |-- latino: integer (nullable = true)\n",
            " |-- votepct_sq: string (nullable = true)\n",
            " |-- power: string (nullable = true)\n",
            " |-- chair: integer (nullable = true)\n",
            " |-- state_leg: string (nullable = true)\n",
            " |-- state_leg_prof: string (nullable = true)\n",
            " |-- majority: integer (nullable = true)\n",
            " |-- maj_leader: string (nullable = true)\n",
            " |-- min_leader: string (nullable = true)\n",
            " |-- meddist: string (nullable = true)\n",
            " |-- majdist: string (nullable = true)\n",
            " |-- all_bills: integer (nullable = true)\n",
            " |-- all_aic: integer (nullable = true)\n",
            " |-- all_abc: integer (nullable = true)\n",
            " |-- all_pass: integer (nullable = true)\n",
            " |-- all_law: integer (nullable = true)\n",
            " |-- les: double (nullable = true)\n",
            " |-- seniority: integer (nullable = true)\n",
            " |-- benchmark: double (nullable = true)\n",
            " |-- expectation: integer (nullable = true)\n",
            " |-- TotalInParty: integer (nullable = true)\n",
            " |-- RankInParty: integer (nullable = true)\n",
            "\n"
          ]
        }
      ]
    },
    {
      "cell_type": "code",
      "source": [
        "spark_df.printSchema()"
      ],
      "metadata": {
        "colab": {
          "base_uri": "https://localhost:8080/"
        },
        "id": "TmziTQE6C060",
        "outputId": "69585cf5-1649-49ed-eaf0-5bc9b6a395c8"
      },
      "execution_count": 16,
      "outputs": [
        {
          "output_type": "stream",
          "name": "stdout",
          "text": [
            "root\n",
            " |-- sales: double (nullable = true)\n",
            " |-- price: double (nullable = true)\n",
            " |-- brand: string (nullable = true)\n",
            " |-- ad: long (nullable = true)\n",
            "\n"
          ]
        }
      ]
    },
    {
      "cell_type": "code",
      "source": [
        "spark_df.dtypes"
      ],
      "metadata": {
        "colab": {
          "base_uri": "https://localhost:8080/"
        },
        "id": "sSzTIZudDAD2",
        "outputId": "94e0d718-000d-4946-c88f-df5e395dcd96"
      },
      "execution_count": 17,
      "outputs": [
        {
          "output_type": "execute_result",
          "data": {
            "text/plain": [
              "[('sales', 'double'),\n",
              " ('price', 'double'),\n",
              " ('brand', 'string'),\n",
              " ('ad', 'bigint')]"
            ]
          },
          "metadata": {},
          "execution_count": 17
        }
      ]
    },
    {
      "cell_type": "code",
      "source": [
        "# pandas DataFrame\n",
        "df_oj.dtypes"
      ],
      "metadata": {
        "colab": {
          "base_uri": "https://localhost:8080/",
          "height": 207
        },
        "id": "dwUdsGVwDG7P",
        "outputId": "a74803c7-b28a-4840-92b1-8a3d4b311409"
      },
      "execution_count": 18,
      "outputs": [
        {
          "output_type": "execute_result",
          "data": {
            "text/plain": [
              "sales    float64\n",
              "price    float64\n",
              "brand     object\n",
              "ad         int64\n",
              "dtype: object"
            ],
            "text/html": [
              "<div>\n",
              "<style scoped>\n",
              "    .dataframe tbody tr th:only-of-type {\n",
              "        vertical-align: middle;\n",
              "    }\n",
              "\n",
              "    .dataframe tbody tr th {\n",
              "        vertical-align: top;\n",
              "    }\n",
              "\n",
              "    .dataframe thead th {\n",
              "        text-align: right;\n",
              "    }\n",
              "</style>\n",
              "<table border=\"1\" class=\"dataframe\">\n",
              "  <thead>\n",
              "    <tr style=\"text-align: right;\">\n",
              "      <th></th>\n",
              "      <th>0</th>\n",
              "    </tr>\n",
              "  </thead>\n",
              "  <tbody>\n",
              "    <tr>\n",
              "      <th>sales</th>\n",
              "      <td>float64</td>\n",
              "    </tr>\n",
              "    <tr>\n",
              "      <th>price</th>\n",
              "      <td>float64</td>\n",
              "    </tr>\n",
              "    <tr>\n",
              "      <th>brand</th>\n",
              "      <td>object</td>\n",
              "    </tr>\n",
              "    <tr>\n",
              "      <th>ad</th>\n",
              "      <td>int64</td>\n",
              "    </tr>\n",
              "  </tbody>\n",
              "</table>\n",
              "</div><br><label><b>dtype:</b> object</label>"
            ]
          },
          "metadata": {},
          "execution_count": 18
        }
      ]
    },
    {
      "cell_type": "code",
      "source": [
        "# pandas DataFrame\n",
        "df_oj.describe()"
      ],
      "metadata": {
        "colab": {
          "base_uri": "https://localhost:8080/",
          "height": 297
        },
        "id": "_4r59j29DSvl",
        "outputId": "aa0ff800-526f-4eb2-a885-d8688cd53acd"
      },
      "execution_count": 19,
      "outputs": [
        {
          "output_type": "execute_result",
          "data": {
            "text/plain": [
              "               sales         price            ad\n",
              "count   28947.000000  28947.000000  28947.000000\n",
              "mean    17312.213356      2.282488      0.237261\n",
              "std     27477.660437      0.648001      0.425411\n",
              "min        64.000000      0.520000      0.000000\n",
              "25%      4864.000000      1.790000      0.000000\n",
              "50%      8384.000000      2.170000      0.000000\n",
              "75%     17408.000000      2.730000      0.000000\n",
              "max    716416.000100      3.870000      1.000000"
            ],
            "text/html": [
              "\n",
              "  <div id=\"df-f74e4deb-55ac-4c45-9b2d-d1b2351112f8\" class=\"colab-df-container\">\n",
              "    <div>\n",
              "<style scoped>\n",
              "    .dataframe tbody tr th:only-of-type {\n",
              "        vertical-align: middle;\n",
              "    }\n",
              "\n",
              "    .dataframe tbody tr th {\n",
              "        vertical-align: top;\n",
              "    }\n",
              "\n",
              "    .dataframe thead th {\n",
              "        text-align: right;\n",
              "    }\n",
              "</style>\n",
              "<table border=\"1\" class=\"dataframe\">\n",
              "  <thead>\n",
              "    <tr style=\"text-align: right;\">\n",
              "      <th></th>\n",
              "      <th>sales</th>\n",
              "      <th>price</th>\n",
              "      <th>ad</th>\n",
              "    </tr>\n",
              "  </thead>\n",
              "  <tbody>\n",
              "    <tr>\n",
              "      <th>count</th>\n",
              "      <td>28947.000000</td>\n",
              "      <td>28947.000000</td>\n",
              "      <td>28947.000000</td>\n",
              "    </tr>\n",
              "    <tr>\n",
              "      <th>mean</th>\n",
              "      <td>17312.213356</td>\n",
              "      <td>2.282488</td>\n",
              "      <td>0.237261</td>\n",
              "    </tr>\n",
              "    <tr>\n",
              "      <th>std</th>\n",
              "      <td>27477.660437</td>\n",
              "      <td>0.648001</td>\n",
              "      <td>0.425411</td>\n",
              "    </tr>\n",
              "    <tr>\n",
              "      <th>min</th>\n",
              "      <td>64.000000</td>\n",
              "      <td>0.520000</td>\n",
              "      <td>0.000000</td>\n",
              "    </tr>\n",
              "    <tr>\n",
              "      <th>25%</th>\n",
              "      <td>4864.000000</td>\n",
              "      <td>1.790000</td>\n",
              "      <td>0.000000</td>\n",
              "    </tr>\n",
              "    <tr>\n",
              "      <th>50%</th>\n",
              "      <td>8384.000000</td>\n",
              "      <td>2.170000</td>\n",
              "      <td>0.000000</td>\n",
              "    </tr>\n",
              "    <tr>\n",
              "      <th>75%</th>\n",
              "      <td>17408.000000</td>\n",
              "      <td>2.730000</td>\n",
              "      <td>0.000000</td>\n",
              "    </tr>\n",
              "    <tr>\n",
              "      <th>max</th>\n",
              "      <td>716416.000100</td>\n",
              "      <td>3.870000</td>\n",
              "      <td>1.000000</td>\n",
              "    </tr>\n",
              "  </tbody>\n",
              "</table>\n",
              "</div>\n",
              "    <div class=\"colab-df-buttons\">\n",
              "\n",
              "  <div class=\"colab-df-container\">\n",
              "    <button class=\"colab-df-convert\" onclick=\"convertToInteractive('df-f74e4deb-55ac-4c45-9b2d-d1b2351112f8')\"\n",
              "            title=\"Convert this dataframe to an interactive table.\"\n",
              "            style=\"display:none;\">\n",
              "\n",
              "  <svg xmlns=\"http://www.w3.org/2000/svg\" height=\"24px\" viewBox=\"0 -960 960 960\">\n",
              "    <path d=\"M120-120v-720h720v720H120Zm60-500h600v-160H180v160Zm220 220h160v-160H400v160Zm0 220h160v-160H400v160ZM180-400h160v-160H180v160Zm440 0h160v-160H620v160ZM180-180h160v-160H180v160Zm440 0h160v-160H620v160Z\"/>\n",
              "  </svg>\n",
              "    </button>\n",
              "\n",
              "  <style>\n",
              "    .colab-df-container {\n",
              "      display:flex;\n",
              "      gap: 12px;\n",
              "    }\n",
              "\n",
              "    .colab-df-convert {\n",
              "      background-color: #E8F0FE;\n",
              "      border: none;\n",
              "      border-radius: 50%;\n",
              "      cursor: pointer;\n",
              "      display: none;\n",
              "      fill: #1967D2;\n",
              "      height: 32px;\n",
              "      padding: 0 0 0 0;\n",
              "      width: 32px;\n",
              "    }\n",
              "\n",
              "    .colab-df-convert:hover {\n",
              "      background-color: #E2EBFA;\n",
              "      box-shadow: 0px 1px 2px rgba(60, 64, 67, 0.3), 0px 1px 3px 1px rgba(60, 64, 67, 0.15);\n",
              "      fill: #174EA6;\n",
              "    }\n",
              "\n",
              "    .colab-df-buttons div {\n",
              "      margin-bottom: 4px;\n",
              "    }\n",
              "\n",
              "    [theme=dark] .colab-df-convert {\n",
              "      background-color: #3B4455;\n",
              "      fill: #D2E3FC;\n",
              "    }\n",
              "\n",
              "    [theme=dark] .colab-df-convert:hover {\n",
              "      background-color: #434B5C;\n",
              "      box-shadow: 0px 1px 3px 1px rgba(0, 0, 0, 0.15);\n",
              "      filter: drop-shadow(0px 1px 2px rgba(0, 0, 0, 0.3));\n",
              "      fill: #FFFFFF;\n",
              "    }\n",
              "  </style>\n",
              "\n",
              "    <script>\n",
              "      const buttonEl =\n",
              "        document.querySelector('#df-f74e4deb-55ac-4c45-9b2d-d1b2351112f8 button.colab-df-convert');\n",
              "      buttonEl.style.display =\n",
              "        google.colab.kernel.accessAllowed ? 'block' : 'none';\n",
              "\n",
              "      async function convertToInteractive(key) {\n",
              "        const element = document.querySelector('#df-f74e4deb-55ac-4c45-9b2d-d1b2351112f8');\n",
              "        const dataTable =\n",
              "          await google.colab.kernel.invokeFunction('convertToInteractive',\n",
              "                                                    [key], {});\n",
              "        if (!dataTable) return;\n",
              "\n",
              "        const docLinkHtml = 'Like what you see? Visit the ' +\n",
              "          '<a target=\"_blank\" href=https://colab.research.google.com/notebooks/data_table.ipynb>data table notebook</a>'\n",
              "          + ' to learn more about interactive tables.';\n",
              "        element.innerHTML = '';\n",
              "        dataTable['output_type'] = 'display_data';\n",
              "        await google.colab.output.renderOutput(dataTable, element);\n",
              "        const docLink = document.createElement('div');\n",
              "        docLink.innerHTML = docLinkHtml;\n",
              "        element.appendChild(docLink);\n",
              "      }\n",
              "    </script>\n",
              "  </div>\n",
              "\n",
              "\n",
              "<div id=\"df-4a84265e-ba46-4fa5-b7e1-38b1602def56\">\n",
              "  <button class=\"colab-df-quickchart\" onclick=\"quickchart('df-4a84265e-ba46-4fa5-b7e1-38b1602def56')\"\n",
              "            title=\"Suggest charts\"\n",
              "            style=\"display:none;\">\n",
              "\n",
              "<svg xmlns=\"http://www.w3.org/2000/svg\" height=\"24px\"viewBox=\"0 0 24 24\"\n",
              "     width=\"24px\">\n",
              "    <g>\n",
              "        <path d=\"M19 3H5c-1.1 0-2 .9-2 2v14c0 1.1.9 2 2 2h14c1.1 0 2-.9 2-2V5c0-1.1-.9-2-2-2zM9 17H7v-7h2v7zm4 0h-2V7h2v10zm4 0h-2v-4h2v4z\"/>\n",
              "    </g>\n",
              "</svg>\n",
              "  </button>\n",
              "\n",
              "<style>\n",
              "  .colab-df-quickchart {\n",
              "      --bg-color: #E8F0FE;\n",
              "      --fill-color: #1967D2;\n",
              "      --hover-bg-color: #E2EBFA;\n",
              "      --hover-fill-color: #174EA6;\n",
              "      --disabled-fill-color: #AAA;\n",
              "      --disabled-bg-color: #DDD;\n",
              "  }\n",
              "\n",
              "  [theme=dark] .colab-df-quickchart {\n",
              "      --bg-color: #3B4455;\n",
              "      --fill-color: #D2E3FC;\n",
              "      --hover-bg-color: #434B5C;\n",
              "      --hover-fill-color: #FFFFFF;\n",
              "      --disabled-bg-color: #3B4455;\n",
              "      --disabled-fill-color: #666;\n",
              "  }\n",
              "\n",
              "  .colab-df-quickchart {\n",
              "    background-color: var(--bg-color);\n",
              "    border: none;\n",
              "    border-radius: 50%;\n",
              "    cursor: pointer;\n",
              "    display: none;\n",
              "    fill: var(--fill-color);\n",
              "    height: 32px;\n",
              "    padding: 0;\n",
              "    width: 32px;\n",
              "  }\n",
              "\n",
              "  .colab-df-quickchart:hover {\n",
              "    background-color: var(--hover-bg-color);\n",
              "    box-shadow: 0 1px 2px rgba(60, 64, 67, 0.3), 0 1px 3px 1px rgba(60, 64, 67, 0.15);\n",
              "    fill: var(--button-hover-fill-color);\n",
              "  }\n",
              "\n",
              "  .colab-df-quickchart-complete:disabled,\n",
              "  .colab-df-quickchart-complete:disabled:hover {\n",
              "    background-color: var(--disabled-bg-color);\n",
              "    fill: var(--disabled-fill-color);\n",
              "    box-shadow: none;\n",
              "  }\n",
              "\n",
              "  .colab-df-spinner {\n",
              "    border: 2px solid var(--fill-color);\n",
              "    border-color: transparent;\n",
              "    border-bottom-color: var(--fill-color);\n",
              "    animation:\n",
              "      spin 1s steps(1) infinite;\n",
              "  }\n",
              "\n",
              "  @keyframes spin {\n",
              "    0% {\n",
              "      border-color: transparent;\n",
              "      border-bottom-color: var(--fill-color);\n",
              "      border-left-color: var(--fill-color);\n",
              "    }\n",
              "    20% {\n",
              "      border-color: transparent;\n",
              "      border-left-color: var(--fill-color);\n",
              "      border-top-color: var(--fill-color);\n",
              "    }\n",
              "    30% {\n",
              "      border-color: transparent;\n",
              "      border-left-color: var(--fill-color);\n",
              "      border-top-color: var(--fill-color);\n",
              "      border-right-color: var(--fill-color);\n",
              "    }\n",
              "    40% {\n",
              "      border-color: transparent;\n",
              "      border-right-color: var(--fill-color);\n",
              "      border-top-color: var(--fill-color);\n",
              "    }\n",
              "    60% {\n",
              "      border-color: transparent;\n",
              "      border-right-color: var(--fill-color);\n",
              "    }\n",
              "    80% {\n",
              "      border-color: transparent;\n",
              "      border-right-color: var(--fill-color);\n",
              "      border-bottom-color: var(--fill-color);\n",
              "    }\n",
              "    90% {\n",
              "      border-color: transparent;\n",
              "      border-bottom-color: var(--fill-color);\n",
              "    }\n",
              "  }\n",
              "</style>\n",
              "\n",
              "  <script>\n",
              "    async function quickchart(key) {\n",
              "      const quickchartButtonEl =\n",
              "        document.querySelector('#' + key + ' button');\n",
              "      quickchartButtonEl.disabled = true;  // To prevent multiple clicks.\n",
              "      quickchartButtonEl.classList.add('colab-df-spinner');\n",
              "      try {\n",
              "        const charts = await google.colab.kernel.invokeFunction(\n",
              "            'suggestCharts', [key], {});\n",
              "      } catch (error) {\n",
              "        console.error('Error during call to suggestCharts:', error);\n",
              "      }\n",
              "      quickchartButtonEl.classList.remove('colab-df-spinner');\n",
              "      quickchartButtonEl.classList.add('colab-df-quickchart-complete');\n",
              "    }\n",
              "    (() => {\n",
              "      let quickchartButtonEl =\n",
              "        document.querySelector('#df-4a84265e-ba46-4fa5-b7e1-38b1602def56 button');\n",
              "      quickchartButtonEl.style.display =\n",
              "        google.colab.kernel.accessAllowed ? 'block' : 'none';\n",
              "    })();\n",
              "  </script>\n",
              "</div>\n",
              "\n",
              "    </div>\n",
              "  </div>\n"
            ],
            "application/vnd.google.colaboratory.intrinsic+json": {
              "type": "dataframe",
              "summary": "{\n  \"name\": \"df_oj\",\n  \"rows\": 8,\n  \"fields\": [\n    {\n      \"column\": \"sales\",\n      \"properties\": {\n        \"dtype\": \"number\",\n        \"std\": 248225.84954836068,\n        \"min\": 64.0,\n        \"max\": 716416.0001,\n        \"num_unique_values\": 8,\n        \"samples\": [\n          17312.21335553287,\n          8384.0,\n          28947.0\n        ],\n        \"semantic_type\": \"\",\n        \"description\": \"\"\n      }\n    },\n    {\n      \"column\": \"price\",\n      \"properties\": {\n        \"dtype\": \"number\",\n        \"std\": 10233.60241820303,\n        \"min\": 0.52,\n        \"max\": 28947.0,\n        \"num_unique_values\": 8,\n        \"samples\": [\n          2.2824879953017585,\n          2.17,\n          28947.0\n        ],\n        \"semantic_type\": \"\",\n        \"description\": \"\"\n      }\n    },\n    {\n      \"column\": \"ad\",\n      \"properties\": {\n        \"dtype\": \"number\",\n        \"std\": 10234.226025751397,\n        \"min\": 0.0,\n        \"max\": 28947.0,\n        \"num_unique_values\": 5,\n        \"samples\": [\n          0.23726120150620097,\n          1.0,\n          0.4254110667279397\n        ],\n        \"semantic_type\": \"\",\n        \"description\": \"\"\n      }\n    }\n  ]\n}"
            }
          },
          "metadata": {},
          "execution_count": 19
        }
      ]
    },
    {
      "cell_type": "code",
      "source": [
        "# spark DataFrame\n",
        "spark_df.describe()"
      ],
      "metadata": {
        "colab": {
          "base_uri": "https://localhost:8080/"
        },
        "id": "afZGXAJCDYXG",
        "outputId": "dc1a493f-2d6c-4736-9c2e-30ef70857b86"
      },
      "execution_count": 20,
      "outputs": [
        {
          "output_type": "execute_result",
          "data": {
            "text/plain": [
              "DataFrame[summary: string, sales: string, price: string, brand: string, ad: string]"
            ]
          },
          "metadata": {},
          "execution_count": 20
        }
      ]
    },
    {
      "cell_type": "code",
      "source": [
        "spark_df.describe().show()"
      ],
      "metadata": {
        "colab": {
          "base_uri": "https://localhost:8080/"
        },
        "id": "Xpf4gdRhDf06",
        "outputId": "73b9dff4-9d8e-4354-b8de-c6d27a4bea33"
      },
      "execution_count": 21,
      "outputs": [
        {
          "output_type": "stream",
          "name": "stdout",
          "text": [
            "+-------+------------------+------------------+---------+-------------------+\n",
            "|summary|             sales|             price|    brand|                 ad|\n",
            "+-------+------------------+------------------+---------+-------------------+\n",
            "|  count|             28947|             28947|    28947|              28947|\n",
            "|   mean|17312.213355532807|2.2824879953018553|     NULL|0.23726120150620097|\n",
            "| stddev|27477.660437204635|0.6480007152143781|     NULL| 0.4254110667279149|\n",
            "|    min|              64.0|              0.52|dominicks|                  0|\n",
            "|    max|       716416.0001|              3.87|tropicana|                  1|\n",
            "+-------+------------------+------------------+---------+-------------------+\n",
            "\n"
          ]
        }
      ]
    },
    {
      "cell_type": "markdown",
      "source": [
        "# Optional\n",
        "\n",
        "## Installing Java and PySpark on Google Colab"
      ],
      "metadata": {
        "id": "yvbkgHP1EQ0k"
      }
    },
    {
      "cell_type": "code",
      "source": [
        "!apt-get install openjdk-8-jdk-headless -qq > /dev/null"
      ],
      "metadata": {
        "id": "jCCA91vbEM4k"
      },
      "execution_count": 22,
      "outputs": []
    },
    {
      "cell_type": "code",
      "source": [
        "!wget -q https://downloads.apache.org/spark/spark-3.5.4/spark-3.5.4-bin-hadoop3.tgz"
      ],
      "metadata": {
        "id": "peiJvU7mEO_R"
      },
      "execution_count": 23,
      "outputs": []
    },
    {
      "cell_type": "code",
      "source": [
        "!tar xf spark-3.5.4-bin-hadoop3.tgz"
      ],
      "metadata": {
        "id": "g2LSV7MiEXY9"
      },
      "execution_count": 24,
      "outputs": []
    },
    {
      "cell_type": "code",
      "source": [
        "!pip install -q findspark"
      ],
      "metadata": {
        "id": "I1GatOeNEcR7"
      },
      "execution_count": 25,
      "outputs": []
    },
    {
      "cell_type": "code",
      "source": [
        "import os\n",
        "os.environ[\"JAVA_HOME\"] = \"/usr/lib/jvm/java-8-openjdk-amd64\"\n",
        "os.environ[\"SPARK_HOME\"] = \"/content/spark-3.5.4-bin-hadoop3\""
      ],
      "metadata": {
        "id": "4gnWnK6LEgoM"
      },
      "execution_count": 26,
      "outputs": []
    },
    {
      "cell_type": "code",
      "source": [
        "import findspark\n",
        "findspark.init()"
      ],
      "metadata": {
        "id": "PS0dED5UEmdO"
      },
      "execution_count": 27,
      "outputs": []
    },
    {
      "cell_type": "code",
      "source": [
        "findspark.find()"
      ],
      "metadata": {
        "colab": {
          "base_uri": "https://localhost:8080/",
          "height": 35
        },
        "id": "RXMsEovZEoPj",
        "outputId": "e34232ed-ad59-4399-b2eb-74415f775e1a"
      },
      "execution_count": 28,
      "outputs": [
        {
          "output_type": "execute_result",
          "data": {
            "text/plain": [
              "'/content/spark-3.5.4-bin-hadoop3'"
            ],
            "application/vnd.google.colaboratory.intrinsic+json": {
              "type": "string"
            }
          },
          "metadata": {},
          "execution_count": 28
        }
      ]
    }
  ]
}