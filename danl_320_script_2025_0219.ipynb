{
  "nbformat": 4,
  "nbformat_minor": 0,
  "metadata": {
    "colab": {
      "provenance": [],
      "toc_visible": true,
      "authorship_tag": "ABX9TyM4QzTs++Ph40L6X45B+r48",
      "include_colab_link": true
    },
    "kernelspec": {
      "name": "python3",
      "display_name": "Python 3"
    },
    "language_info": {
      "name": "python"
    }
  },
  "cells": [
    {
      "cell_type": "markdown",
      "metadata": {
        "id": "view-in-github",
        "colab_type": "text"
      },
      "source": [
        "<a href=\"https://colab.research.google.com/github/bcdanl/320-code/blob/main/danl_320_script_2025_0219.ipynb\" target=\"_parent\"><img src=\"https://colab.research.google.com/assets/colab-badge.svg\" alt=\"Open In Colab\"/></a>"
      ]
    },
    {
      "cell_type": "code",
      "execution_count": 32,
      "metadata": {
        "colab": {
          "base_uri": "https://localhost:8080/"
        },
        "id": "EZuQ3oBG5d-F",
        "outputId": "66eb98eb-493a-46b6-b559-1917815b1f89"
      },
      "outputs": [
        {
          "output_type": "stream",
          "name": "stdout",
          "text": [
            "+---------+-------+------------+--------------------+-----------------------+--------+----------+-----------------+----------------+-----------+----------------+-----------------+----------+---------+---+\n",
            "|sale.date|borough|borough_name|        neighborhood|building_class_category|zip_code|sale_price|residential_units|commercial_units|total_units|land_square_feet|gross_square_feet|year_built|sale_year|age|\n",
            "+---------+-------+------------+--------------------+-----------------------+--------+----------+-----------------+----------------+-----------+----------------+-----------------+----------+---------+---+\n",
            "|  8/31/18|      2|       Bronx|CASTLE HILL/UNION...|   01 ONE FAMILY DWE...|   10473|    492525|                1|               0|          1|            2250|             1540|      1960|     2018| 58|\n",
            "|  8/31/18|      2|       Bronx|           SOUNDVIEW|   01 ONE FAMILY DWE...|   10473|    105000|                1|               0|          1|            3980|             1025|      1910|     2018|108|\n",
            "|  8/31/18|      3|    Brooklyn|        BOROUGH PARK|   01 ONE FAMILY DWE...|   11204|   1765000|                1|               0|          1|            2805|             1864|      1930|     2018| 88|\n",
            "|  8/31/18|      3|    Brooklyn|          MILL BASIN|   01 ONE FAMILY DWE...|   11234|    950000|                1|               0|          1|            5200|             1852|      1960|     2018| 58|\n",
            "|  8/31/18|      4|      Queens|         FLORAL PARK|   01 ONE FAMILY DWE...|   11004|    566000|                1|               0|          1|            4000|              832|      1950|     2018| 68|\n",
            "|  8/31/18|      4|      Queens|      FLUSHING-NORTH|   01 ONE FAMILY DWE...|   11365|    839000|                1|               0|          1|            2600|             1438|      1950|     2018| 68|\n",
            "|  8/31/18|      4|      Queens|       FRESH MEADOWS|   01 ONE FAMILY DWE...|   11365|    985000|                1|               0|          1|            5900|             1668|      1945|     2018| 73|\n",
            "|  8/31/18|      4|      Queens|              HOLLIS|   01 ONE FAMILY DWE...|   11428|    499500|                1|               0|          1|            2400|             1152|      1925|     2018| 93|\n",
            "|  8/31/18|      4|      Queens|     JACKSON HEIGHTS|   01 ONE FAMILY DWE...|   11372|   1425000|                1|               0|          1|            3400|             2050|      1925|     2018| 93|\n",
            "|  8/31/18|      4|      Queens|           LAURELTON|   01 ONE FAMILY DWE...|   11413|    560000|                1|               0|          1|            3217|             1232|      1930|     2018| 88|\n",
            "|  8/31/18|      4|      Queens|      MIDDLE VILLAGE|   01 ONE FAMILY DWE...|   11378|    755000|                1|               0|          1|            1800|             1192|      1945|     2018| 73|\n",
            "|  8/31/18|      4|      Queens|          OZONE PARK|   01 ONE FAMILY DWE...|   11416|    499900|                1|               0|          1|            2500|             1224|      1915|     2018|103|\n",
            "|  8/31/18|      4|      Queens|          OZONE PARK|   01 ONE FAMILY DWE...|   11417|    560000|                1|               0|          1|            2800|             1272|      1925|     2018| 93|\n",
            "|  8/31/18|      4|      Queens| SPRINGFIELD GARDENS|   01 ONE FAMILY DWE...|   11434|    475000|                1|               0|          1|            3780|             1050|      1955|     2018| 63|\n",
            "|  8/31/18|      4|      Queens|          ST. ALBANS|   01 ONE FAMILY DWE...|   11412|    526875|                1|               0|          1|            5940|             1426|      1945|     2018| 73|\n",
            "|  8/31/18|      4|      Queens|          WHITESTONE|   01 ONE FAMILY DWE...|   11357|    773000|                1|               0|          1|            3770|             1056|      1950|     2018| 68|\n",
            "|  8/31/18|      4|      Queens|           WOODHAVEN|   01 ONE FAMILY DWE...|   11421|    665000|                1|               0|          1|            1710|             1364|      1920|     2018| 98|\n",
            "|  8/30/18|      2|       Bronx|           BRONXDALE|   01 ONE FAMILY DWE...|   10467|   1450000|                1|               1|          2|            6675|             2996|      1955|     2018| 63|\n",
            "|  8/30/18|      2|       Bronx|           RIVERDALE|   01 ONE FAMILY DWE...|   10463|    885000|                1|               0|          1|            5000|             2350|      1925|     2018| 93|\n",
            "|  8/30/18|      2|       Bronx|         THROGS NECK|   01 ONE FAMILY DWE...|   10465|    420000|                1|               0|          1|            3125|             2062|      1950|     2018| 68|\n",
            "+---------+-------+------------+--------------------+-----------------------+--------+----------+-----------------+----------------+-----------+----------------+-----------------+----------+---------+---+\n",
            "only showing top 20 rows\n",
            "\n"
          ]
        }
      ],
      "source": [
        "import pandas as pd\n",
        "from pyspark.sql import SparkSession\n",
        "from pyspark.sql.functions import rand, col, pow, mean, when\n",
        "from pyspark.ml.feature import VectorAssembler\n",
        "from pyspark.ml.regression import LinearRegression\n",
        "spark = SparkSession.builder.master(\"local[*]\").getOrCreate()\n",
        "\n",
        "# 1. Read CSV data from URL\n",
        "df_pd = pd.read_csv('https://bcdanl.github.io/data/home_sales_nyc.csv')\n",
        "sale_df = spark.createDataFrame(df_pd)\n",
        "sale_df.show()"
      ]
    },
    {
      "cell_type": "markdown",
      "source": [
        "# Split data into training-test"
      ],
      "metadata": {
        "id": "-nn8EodU9_Yo"
      }
    },
    {
      "cell_type": "code",
      "source": [
        "dtrain, dtest = sale_df.randomSplit([0.6, 0.4], seed = 123)\n"
      ],
      "metadata": {
        "id": "y44kO4O_9Zr_"
      },
      "execution_count": 33,
      "outputs": []
    },
    {
      "cell_type": "code",
      "source": [
        "dtrain.count()"
      ],
      "metadata": {
        "colab": {
          "base_uri": "https://localhost:8080/"
        },
        "id": "j7sbxAuV-H2z",
        "outputId": "9d72ecd6-5a58-49a9-b8be-db595808d03b"
      },
      "execution_count": 4,
      "outputs": [
        {
          "output_type": "execute_result",
          "data": {
            "text/plain": [
              "7553"
            ]
          },
          "metadata": {},
          "execution_count": 4
        }
      ]
    },
    {
      "cell_type": "code",
      "source": [
        "dtest.count()"
      ],
      "metadata": {
        "colab": {
          "base_uri": "https://localhost:8080/"
        },
        "id": "BLq_k_tC-MlU",
        "outputId": "ff041045-3d9b-467d-9af5-eff3bb178b81"
      },
      "execution_count": 5,
      "outputs": [
        {
          "output_type": "execute_result",
          "data": {
            "text/plain": [
              "5115"
            ]
          },
          "metadata": {},
          "execution_count": 5
        }
      ]
    },
    {
      "cell_type": "code",
      "source": [
        "sale_df.count()"
      ],
      "metadata": {
        "colab": {
          "base_uri": "https://localhost:8080/"
        },
        "id": "ccEJNnau-QUB",
        "outputId": "bbfe2345-aee9-48a1-8d0a-f1e6d322f134"
      },
      "execution_count": 6,
      "outputs": [
        {
          "output_type": "execute_result",
          "data": {
            "text/plain": [
              "12668"
            ]
          },
          "metadata": {},
          "execution_count": 6
        }
      ]
    },
    {
      "cell_type": "markdown",
      "source": [
        "# Model 1"
      ],
      "metadata": {
        "id": "D76HFGd2RXMQ"
      }
    },
    {
      "cell_type": "markdown",
      "source": [
        "## Assemble predictors into one column"
      ],
      "metadata": {
        "id": "-jETjbymQ0Oz"
      }
    },
    {
      "cell_type": "code",
      "source": [
        "# Now assemble predictors using the renamed column\n",
        "assembler1 = VectorAssembler(\n",
        "    inputCols=[\"gross_square_feet\"],\n",
        "    outputCol=\"predictors\")"
      ],
      "metadata": {
        "id": "UruPYJvM-kJ0"
      },
      "execution_count": 34,
      "outputs": []
    },
    {
      "cell_type": "code",
      "source": [
        "type(assembler1)"
      ],
      "metadata": {
        "colab": {
          "base_uri": "https://localhost:8080/",
          "height": 203
        },
        "id": "UNsysGnS-xqW",
        "outputId": "5b59b4c7-1d85-4931-8ebc-badb4b4becf3"
      },
      "execution_count": 8,
      "outputs": [
        {
          "output_type": "execute_result",
          "data": {
            "text/plain": [
              "pyspark.ml.feature.VectorAssembler"
            ],
            "text/html": [
              "<div style=\"max-width:800px; border: 1px solid var(--colab-border-color);\"><style>\n",
              "      pre.function-repr-contents {\n",
              "        overflow-x: auto;\n",
              "        padding: 8px 12px;\n",
              "        max-height: 500px;\n",
              "      }\n",
              "\n",
              "      pre.function-repr-contents.function-repr-contents-collapsed {\n",
              "        cursor: pointer;\n",
              "        max-height: 100px;\n",
              "      }\n",
              "    </style>\n",
              "    <pre style=\"white-space: initial; background:\n",
              "         var(--colab-secondary-surface-color); padding: 8px 12px;\n",
              "         border-bottom: 1px solid var(--colab-border-color);\"><b>pyspark.ml.feature.VectorAssembler</b><br/>def __init__(*, inputCols: Optional[List[str]]=None, outputCol: Optional[str]=None, handleInvalid: str=&#x27;error&#x27;)</pre><pre class=\"function-repr-contents function-repr-contents-collapsed\" style=\"\"><a class=\"filepath\" style=\"display:none\" href=\"#\">/usr/local/lib/python3.11/dist-packages/pyspark/ml/feature.py</a>A feature transformer that merges multiple columns into a vector column.\n",
              "\n",
              ".. versionadded:: 1.4.0\n",
              "\n",
              "Examples\n",
              "--------\n",
              "&gt;&gt;&gt; df = spark.createDataFrame([(1, 0, 3)], [&quot;a&quot;, &quot;b&quot;, &quot;c&quot;])\n",
              "&gt;&gt;&gt; vecAssembler = VectorAssembler(outputCol=&quot;features&quot;)\n",
              "&gt;&gt;&gt; vecAssembler.setInputCols([&quot;a&quot;, &quot;b&quot;, &quot;c&quot;])\n",
              "VectorAssembler...\n",
              "&gt;&gt;&gt; vecAssembler.transform(df).head().features\n",
              "DenseVector([1.0, 0.0, 3.0])\n",
              "&gt;&gt;&gt; vecAssembler.setParams(outputCol=&quot;freqs&quot;).transform(df).head().freqs\n",
              "DenseVector([1.0, 0.0, 3.0])\n",
              "&gt;&gt;&gt; params = {vecAssembler.inputCols: [&quot;b&quot;, &quot;a&quot;], vecAssembler.outputCol: &quot;vector&quot;}\n",
              "&gt;&gt;&gt; vecAssembler.transform(df, params).head().vector\n",
              "DenseVector([0.0, 1.0])\n",
              "&gt;&gt;&gt; vectorAssemblerPath = temp_path + &quot;/vector-assembler&quot;\n",
              "&gt;&gt;&gt; vecAssembler.save(vectorAssemblerPath)\n",
              "&gt;&gt;&gt; loadedAssembler = VectorAssembler.load(vectorAssemblerPath)\n",
              "&gt;&gt;&gt; loadedAssembler.transform(df).head().freqs == vecAssembler.transform(df).head().freqs\n",
              "True\n",
              "&gt;&gt;&gt; dfWithNullsAndNaNs = spark.createDataFrame(\n",
              "...    [(1.0, 2.0, None), (3.0, float(&quot;nan&quot;), 4.0), (5.0, 6.0, 7.0)], [&quot;a&quot;, &quot;b&quot;, &quot;c&quot;])\n",
              "&gt;&gt;&gt; vecAssembler2 = VectorAssembler(inputCols=[&quot;a&quot;, &quot;b&quot;, &quot;c&quot;], outputCol=&quot;features&quot;,\n",
              "...    handleInvalid=&quot;keep&quot;)\n",
              "&gt;&gt;&gt; vecAssembler2.transform(dfWithNullsAndNaNs).show()\n",
              "+---+---+----+-------------+\n",
              "|  a|  b|   c|     features|\n",
              "+---+---+----+-------------+\n",
              "|1.0|2.0|NULL|[1.0,2.0,NaN]|\n",
              "|3.0|NaN| 4.0|[3.0,NaN,4.0]|\n",
              "|5.0|6.0| 7.0|[5.0,6.0,7.0]|\n",
              "+---+---+----+-------------+\n",
              "...\n",
              "&gt;&gt;&gt; vecAssembler2.setParams(handleInvalid=&quot;skip&quot;).transform(dfWithNullsAndNaNs).show()\n",
              "+---+---+---+-------------+\n",
              "|  a|  b|  c|     features|\n",
              "+---+---+---+-------------+\n",
              "|5.0|6.0|7.0|[5.0,6.0,7.0]|\n",
              "+---+---+---+-------------+\n",
              "...</pre>\n",
              "      <script>\n",
              "      if (google.colab.kernel.accessAllowed && google.colab.files && google.colab.files.view) {\n",
              "        for (const element of document.querySelectorAll('.filepath')) {\n",
              "          element.style.display = 'block'\n",
              "          element.onclick = (event) => {\n",
              "            event.preventDefault();\n",
              "            event.stopPropagation();\n",
              "            google.colab.files.view(element.textContent, 5276);\n",
              "          };\n",
              "        }\n",
              "      }\n",
              "      for (const element of document.querySelectorAll('.function-repr-contents')) {\n",
              "        element.onclick = (event) => {\n",
              "          event.preventDefault();\n",
              "          event.stopPropagation();\n",
              "          element.classList.toggle('function-repr-contents-collapsed');\n",
              "        };\n",
              "      }\n",
              "      </script>\n",
              "      </div>"
            ]
          },
          "metadata": {},
          "execution_count": 8
        }
      ]
    },
    {
      "cell_type": "code",
      "source": [
        "assembler1.transform(dtrain).show()"
      ],
      "metadata": {
        "colab": {
          "base_uri": "https://localhost:8080/"
        },
        "id": "QOZWR3UT-zt9",
        "outputId": "74195253-29c9-4ba1-8d02-4c20faf4f55f"
      },
      "execution_count": 10,
      "outputs": [
        {
          "output_type": "stream",
          "name": "stdout",
          "text": [
            "+---------+-------+------------+--------------------+-----------------------+--------+----------+-----------------+----------------+-----------+----------------+-----------------+----------+---------+---+----------+\n",
            "|sale.date|borough|borough_name|        neighborhood|building_class_category|zip_code|sale_price|residential_units|commercial_units|total_units|land_square_feet|gross_square_feet|year_built|sale_year|age|predictors|\n",
            "+---------+-------+------------+--------------------+-----------------------+--------+----------+-----------------+----------------+-----------+----------------+-----------------+----------+---------+---+----------+\n",
            "|  2/27/18|      2|       Bronx|MORRIS PARK/VAN NEST|   01 ONE FAMILY DWE...|   10462|    349830|                1|               0|          1|            2500|             1742|      1915|     2018|103|  [1742.0]|\n",
            "|  2/27/18|      2|       Bronx|         THROGS NECK|   01 ONE FAMILY DWE...|   10465|    570000|                1|               0|          1|            3600|             2165|      1955|     2018| 63|  [2165.0]|\n",
            "|  2/27/18|      3|    Brooklyn|         BROWNSVILLE|   01 ONE FAMILY DWE...|   11212|    410000|                1|               0|          1|            1800|             1116|      1990|     2018| 28|  [1116.0]|\n",
            "|  2/27/18|      3|    Brooklyn|            CANARSIE|   01 ONE FAMILY DWE...|   11236|    260000|                1|               0|          1|            1600|             1120|      1960|     2018| 58|  [1120.0]|\n",
            "|  2/27/18|      3|    Brooklyn|      FLATBUSH-NORTH|   01 ONE FAMILY DWE...|   11203|    543556|                1|               0|          1|            1900|             2304|      1930|     2018| 88|  [2304.0]|\n",
            "|  2/27/18|      3|    Brooklyn|           FLATLANDS|   01 ONE FAMILY DWE...|   11234|    610000|                1|               0|          1|            1800|             1830|      1945|     2018| 73|  [1830.0]|\n",
            "|  2/27/18|      3|    Brooklyn|             MADISON|   01 ONE FAMILY DWE...|   11229|   1650000|                1|               0|          1|            4000|             4200|      1930|     2018| 88|  [4200.0]|\n",
            "|  2/27/18|      3|    Brooklyn|         MARINE PARK|   01 ONE FAMILY DWE...|   11234|    905000|                1|               0|          1|            2000|             1446|      1930|     2018| 88|  [1446.0]|\n",
            "|  2/27/18|      3|    Brooklyn| OCEAN PARKWAY-NORTH|   01 ONE FAMILY DWE...|   11230|   1150000|                1|               0|          1|            2000|             1445|      1925|     2018| 93|  [1445.0]|\n",
            "|  2/27/18|      3|    Brooklyn|         SUNSET PARK|   01 ONE FAMILY DWE...|   11220|    850000|                1|               0|          1|            1327|              978|      1925|     2018| 93|   [978.0]|\n",
            "|  2/27/18|      4|      Queens|             BAYSIDE|   01 ONE FAMILY DWE...|   11364|    980000|                1|               0|          1|            6000|             1444|      1950|     2018| 68|  [1444.0]|\n",
            "|  2/27/18|      4|      Queens|       COLLEGE POINT|   01 ONE FAMILY DWE...|   11356|   1130000|                1|               0|          1|            5000|             1510|      1950|     2018| 68|  [1510.0]|\n",
            "|  2/27/18|      4|      Queens|        FAR ROCKAWAY|   01 ONE FAMILY DWE...|   11691|    425000|                1|               0|          1|            2215|             1428|      1920|     2018| 98|  [1428.0]|\n",
            "|  2/27/18|      4|      Queens|      FLUSHING-NORTH|   01 ONE FAMILY DWE...|   11355|    860000|                1|               0|          1|            3000|             1712|      1935|     2018| 83|  [1712.0]|\n",
            "|  2/27/18|      4|      Queens|      FLUSHING-NORTH|   01 ONE FAMILY DWE...|   11358|   1020000|                1|               0|          1|            4000|             1200|      1950|     2018| 68|  [1200.0]|\n",
            "|  2/28/18|      2|       Bronx|           FIELDSTON|   01 ONE FAMILY DWE...|   10471|   1200000|                1|               0|          1|            9180|             2363|      1915|     2018|103|  [2363.0]|\n",
            "|  2/28/18|      2|       Bronx|SCHUYLERVILLE/PEL...|   01 ONE FAMILY DWE...|   10461|    427000|                1|               0|          1|            2375|             1197|      1901|     2018|117|  [1197.0]|\n",
            "|  2/28/18|      2|       Bronx|         THROGS NECK|   01 ONE FAMILY DWE...|   10465|    423000|                1|               0|          1|            2825|             1080|      1955|     2018| 63|  [1080.0]|\n",
            "|  2/28/18|      2|       Bronx|      WILLIAMSBRIDGE|   01 ONE FAMILY DWE...|   10466|    325000|                1|               0|          1|            1600|             1392|      1950|     2018| 68|  [1392.0]|\n",
            "|  2/28/18|      3|    Brooklyn|       FLATBUSH-EAST|   01 ONE FAMILY DWE...|   11210|    597000|                1|               0|          1|            2000|             1400|      1905|     2018|113|  [1400.0]|\n",
            "+---------+-------+------------+--------------------+-----------------------+--------+----------+-----------------+----------------+-----------+----------------+-----------------+----------+---------+---+----------+\n",
            "only showing top 20 rows\n",
            "\n"
          ]
        }
      ]
    },
    {
      "cell_type": "markdown",
      "source": [
        "## Add the column of \"predictors\" to dtrain and dtest"
      ],
      "metadata": {
        "id": "FnZhNAAfQ8lN"
      }
    },
    {
      "cell_type": "code",
      "source": [
        "dtrain1 = assembler1.transform(dtrain) # training data\n",
        "dtest1  = assembler1.transform(dtest)  # test data # for prediction purpose\n",
        "\n",
        "dtrain1.select(\"predictors\", \"sale_price\").show()\n",
        "dtest1.select(\"predictors\", \"sale_price\").show()"
      ],
      "metadata": {
        "colab": {
          "base_uri": "https://localhost:8080/"
        },
        "id": "ZKM-Btuj-_2S",
        "outputId": "bf2af5f0-dd9b-4756-f576-e72f76ac4b39"
      },
      "execution_count": 35,
      "outputs": [
        {
          "output_type": "stream",
          "name": "stdout",
          "text": [
            "+----------+----------+\n",
            "|predictors|sale_price|\n",
            "+----------+----------+\n",
            "|  [1742.0]|    349830|\n",
            "|  [2165.0]|    570000|\n",
            "|  [1116.0]|    410000|\n",
            "|  [1120.0]|    260000|\n",
            "|  [2304.0]|    543556|\n",
            "|  [1830.0]|    610000|\n",
            "|  [4200.0]|   1650000|\n",
            "|  [1446.0]|    905000|\n",
            "|  [1445.0]|   1150000|\n",
            "|   [978.0]|    850000|\n",
            "|  [1444.0]|    980000|\n",
            "|  [1510.0]|   1130000|\n",
            "|  [1428.0]|    425000|\n",
            "|  [1712.0]|    860000|\n",
            "|  [1200.0]|   1020000|\n",
            "|  [2363.0]|   1200000|\n",
            "|  [1197.0]|    427000|\n",
            "|  [1080.0]|    423000|\n",
            "|  [1392.0]|    325000|\n",
            "|  [1400.0]|    597000|\n",
            "+----------+----------+\n",
            "only showing top 20 rows\n",
            "\n",
            "+----------+----------+\n",
            "|predictors|sale_price|\n",
            "+----------+----------+\n",
            "|  [1080.0]|    495000|\n",
            "|  [2320.0]|    575000|\n",
            "|  [2844.0]|   1700000|\n",
            "|  [1696.0]|    650000|\n",
            "|  [2000.0]|   1350000|\n",
            "|  [2300.0]|   1500000|\n",
            "|  [1314.0]|    940000|\n",
            "|  [2452.0]|    550000|\n",
            "|  [1125.0]|    820000|\n",
            "|  [1690.0]|    235000|\n",
            "|  [2163.0]|    695000|\n",
            "|  [1870.0]|    590000|\n",
            "|  [2052.0]|    715000|\n",
            "|  [1728.0]|    999000|\n",
            "|  [1650.0]|    720000|\n",
            "|  [1682.0]|   1150000|\n",
            "|  [1140.0]|    770000|\n",
            "|  [1782.0]|    795000|\n",
            "|  [1292.0]|    836000|\n",
            "|  [2487.0]|   1075000|\n",
            "+----------+----------+\n",
            "only showing top 20 rows\n",
            "\n"
          ]
        }
      ]
    },
    {
      "cell_type": "markdown",
      "source": [
        "## Fit Linear Regression Model on Training Data"
      ],
      "metadata": {
        "id": "m4OMopswRFVR"
      }
    },
    {
      "cell_type": "code",
      "source": [
        "model1 = (\n",
        "    LinearRegression(\n",
        "        featuresCol= \"predictors\",\n",
        "        labelCol= \"sale_price\"\n",
        "    ).fit(dtrain1)\n",
        ")"
      ],
      "metadata": {
        "id": "HOVGUihf_CDB"
      },
      "execution_count": 36,
      "outputs": []
    },
    {
      "cell_type": "code",
      "source": [
        "model1.intercept"
      ],
      "metadata": {
        "colab": {
          "base_uri": "https://localhost:8080/"
        },
        "id": "0M1kBiy__-a-",
        "outputId": "9e8ae655-117c-4824-ba08-b2370fb87591"
      },
      "execution_count": 16,
      "outputs": [
        {
          "output_type": "execute_result",
          "data": {
            "text/plain": [
              "-28248.33125480523"
            ]
          },
          "metadata": {},
          "execution_count": 16
        }
      ]
    },
    {
      "cell_type": "code",
      "source": [
        "model1.coefficients\n"
      ],
      "metadata": {
        "colab": {
          "base_uri": "https://localhost:8080/"
        },
        "id": "dTj_bxzy__fN",
        "outputId": "c36077f1-167a-4abc-e3ca-f4a4d92b07f0"
      },
      "execution_count": 17,
      "outputs": [
        {
          "output_type": "execute_result",
          "data": {
            "text/plain": [
              "DenseVector([456.5836])"
            ]
          },
          "metadata": {},
          "execution_count": 17
        }
      ]
    },
    {
      "cell_type": "code",
      "source": [
        "model1.summary.coefficientStandardErrors\n"
      ],
      "metadata": {
        "colab": {
          "base_uri": "https://localhost:8080/"
        },
        "id": "zCKxTHRtAFf6",
        "outputId": "44722aa5-84fc-4f63-d6d3-5b6256f56689"
      },
      "execution_count": 18,
      "outputs": [
        {
          "output_type": "execute_result",
          "data": {
            "text/plain": [
              "[9.1585344019424, 14842.026122561703]"
            ]
          },
          "metadata": {},
          "execution_count": 18
        }
      ]
    },
    {
      "cell_type": "code",
      "source": [
        "model1.summary.rootMeanSquaredError\n"
      ],
      "metadata": {
        "colab": {
          "base_uri": "https://localhost:8080/"
        },
        "id": "JtSsVoUrANa0",
        "outputId": "1f645e27-f5a0-4a94-b74b-acc85980a84f"
      },
      "execution_count": 19,
      "outputs": [
        {
          "output_type": "execute_result",
          "data": {
            "text/plain": [
              "459852.1900902878"
            ]
          },
          "metadata": {},
          "execution_count": 19
        }
      ]
    },
    {
      "cell_type": "code",
      "source": [
        "model1.summary.r2"
      ],
      "metadata": {
        "colab": {
          "base_uri": "https://localhost:8080/"
        },
        "id": "tFs5zhK7AO6Z",
        "outputId": "f1b8cb7e-36ee-45db-8ea8-4d71eeb1f2fb"
      },
      "execution_count": 20,
      "outputs": [
        {
          "output_type": "execute_result",
          "data": {
            "text/plain": [
              "0.24763531485957802"
            ]
          },
          "metadata": {},
          "execution_count": 20
        }
      ]
    },
    {
      "cell_type": "markdown",
      "source": [
        "## Making a Regression Table"
      ],
      "metadata": {
        "id": "HCvZggw0RLdg"
      }
    },
    {
      "cell_type": "code",
      "source": [
        "import numpy as np\n",
        "import scipy.stats as stats\n",
        "from tabulate import tabulate\n",
        "\n",
        "def regression_table(model, assembler):\n",
        "    \"\"\"\n",
        "    Creates a formatted regression table from a fitted LinearRegression model and its VectorAssembler,\n",
        "    and inserts a dashed horizontal line after the Intercept row. The table includes separate columns\n",
        "    for the 95% confidence interval lower and upper bounds for each coefficient (computed at the 5% significance level)\n",
        "    and an \"Observations\" row (using model.summary.numInstances) above the R² row.\n",
        "    The RMSE row is placed as the last row.\n",
        "\n",
        "    The columns are ordered as:\n",
        "        Metric | Value | Significance | Std. Error | p-value | 95% CI Lower | 95% CI Upper\n",
        "\n",
        "    For the \"Value\", \"Std. Error\", \"95% CI Lower\", and \"95% CI Upper\" columns, commas are inserted every three digits,\n",
        "    with 3 decimal places (except for Observations which is formatted as an integer with commas).\n",
        "\n",
        "    Parameters:\n",
        "        model: A fitted LinearRegression model (with a .summary attribute).\n",
        "        assembler: The VectorAssembler used to assemble the features for the model.\n",
        "\n",
        "    Returns:\n",
        "        A formatted string containing the regression table.\n",
        "    \"\"\"\n",
        "    # Extract coefficients and standard errors as NumPy arrays\n",
        "    coeffs = model.coefficients.toArray()\n",
        "    std_errors_all = np.array(model.summary.coefficientStandardErrors)\n",
        "\n",
        "    # Check if the intercept's standard error is included (one extra element)\n",
        "    if len(std_errors_all) == len(coeffs) + 1:\n",
        "        intercept_se = std_errors_all[0]\n",
        "        std_errors = std_errors_all[1:]\n",
        "    else:\n",
        "        intercept_se = None\n",
        "        std_errors = std_errors_all\n",
        "\n",
        "    # Compute t-statistics for feature coefficients (t = beta / SE(beta))\n",
        "    # t_stats = coeffs / std_errors\n",
        "    t_stats = model.summary.tValues\n",
        "\n",
        "    # Degrees of freedom: number of instances minus number of predictors minus 1 (for intercept)\n",
        "    df = model.summary.numInstances - len(coeffs) - 1\n",
        "\n",
        "    # Compute the t-critical value for a 95% confidence interval (two-tailed, 5% significance)\n",
        "    t_critical = stats.t.ppf(0.975, df)\n",
        "\n",
        "    # Compute two-tailed p-values for each feature coefficient\n",
        "    # p_values = [2 * (1 - stats.t.cdf(np.abs(t), df)) for t in t_stats]\n",
        "    p_values = model.summary.pValues\n",
        "\n",
        "    # Function to assign significance stars based on p-value\n",
        "    def significance_stars(p):\n",
        "        if p < 0.01:\n",
        "            return \"***\"\n",
        "        elif p < 0.05:\n",
        "            return \"**\"\n",
        "        elif p < 0.1:\n",
        "            return \"*\"\n",
        "        else:\n",
        "            return \"\"\n",
        "\n",
        "    # Build the table rows.\n",
        "    # Order: Metric, Value, Significance, Std. Error, p-value, 95% CI Lower, 95% CI Upper.\n",
        "    table = []\n",
        "    for feature, beta, se, p in zip(assembler.getInputCols(), coeffs, std_errors, p_values):\n",
        "        ci_lower = beta - t_critical * se\n",
        "        ci_upper = beta + t_critical * se\n",
        "        table.append([\n",
        "            \"Beta: \" + feature,       # Metric name\n",
        "            beta,                     # Beta estimate (Value)\n",
        "            significance_stars(p),    # Significance stars\n",
        "            se,                       # Standard error\n",
        "            p,                        # p-value\n",
        "            ci_lower,                 # 95% CI lower bound\n",
        "            ci_upper                  # 95% CI upper bound\n",
        "        ])\n",
        "\n",
        "    # Compute and add the intercept row with its SE, p-value, significance, and CI (if available)\n",
        "    if intercept_se is not None:\n",
        "        intercept_t = model.intercept / intercept_se\n",
        "        intercept_p = 2 * (1 - stats.t.cdf(np.abs(intercept_t), df))\n",
        "        intercept_sig = significance_stars(intercept_p)\n",
        "        ci_intercept_lower = model.intercept - t_critical * intercept_se\n",
        "        ci_intercept_upper = model.intercept + t_critical * intercept_se\n",
        "    else:\n",
        "        intercept_se = \"\"\n",
        "        intercept_p = \"\"\n",
        "        intercept_sig = \"\"\n",
        "        ci_intercept_lower = \"\"\n",
        "        ci_intercept_upper = \"\"\n",
        "\n",
        "    table.append([\n",
        "        \"Intercept\",\n",
        "        model.intercept,\n",
        "        intercept_sig,\n",
        "        intercept_se,\n",
        "        intercept_p,\n",
        "        ci_intercept_lower,\n",
        "        ci_intercept_upper\n",
        "    ])\n",
        "\n",
        "    # Append overall model metrics:\n",
        "    # Insert an Observations row using model.summary.numInstances,\n",
        "    # then an R² row, and finally the RMSE row as the last row.\n",
        "    table.append([\"Observations\", model.summary.numInstances, \"\", \"\", \"\", \"\", \"\"])\n",
        "    table.append([\"R²\", model.summary.r2, \"\", \"\", \"\", \"\", \"\"])\n",
        "    table.append([\"RMSE\", model.summary.rootMeanSquaredError, \"\", \"\", \"\", \"\", \"\"])\n",
        "\n",
        "    # Format the table.\n",
        "    # For the \"Value\" (index 1), \"Std. Error\" (index 3), \"95% CI Lower\" (index 5), and \"95% CI Upper\" (index 6) columns,\n",
        "    # format with commas and 3 decimal places, except for Observations which should be an integer with commas.\n",
        "    # For the p-value (index 4), format to 3 decimal places.\n",
        "    formatted_table = []\n",
        "    for row in table:\n",
        "        formatted_row = []\n",
        "        for i, item in enumerate(row):\n",
        "            if row[0] == \"Observations\" and i == 1 and isinstance(item, (int, float, np.floating)) and item != \"\":\n",
        "                # Format Observations as integer with commas, no decimals.\n",
        "                formatted_row.append(f\"{int(item):,}\")\n",
        "            elif isinstance(item, (int, float, np.floating)) and item != \"\":\n",
        "                if i in [1, 3, 5, 6]:\n",
        "                    formatted_row.append(f\"{item:,.3f}\")\n",
        "                elif i == 4:\n",
        "                    formatted_row.append(f\"{item:.3f}\")\n",
        "                else:\n",
        "                    formatted_row.append(f\"{item:.3f}\")\n",
        "            else:\n",
        "                formatted_row.append(item)\n",
        "        formatted_table.append(formatted_row)\n",
        "\n",
        "    # Generate the table string using tabulate.\n",
        "    table_str = tabulate(\n",
        "        formatted_table,\n",
        "        headers=[\"Metric\", \"Value\", \"Sig.\", \"Std. Error\", \"p-value\", \"95% CI Lower\", \"95% CI Upper\"],\n",
        "        tablefmt=\"pretty\",\n",
        "        colalign=(\"left\", \"right\", \"center\", \"right\", \"right\", \"right\", \"right\")\n",
        "    )\n",
        "\n",
        "    # Insert a dashed line after the Intercept row for clarity.\n",
        "    lines = table_str.split(\"\\n\")\n",
        "    dash_line = '-' * len(lines[0])\n",
        "    for i, line in enumerate(lines):\n",
        "        if \"Intercept\" in line and not line.strip().startswith('+'):\n",
        "            lines.insert(i+1, dash_line)\n",
        "            break\n",
        "\n",
        "    return \"\\n\".join(lines)\n",
        "\n",
        "# Example usage:\n",
        "# print(regression_table(lr_model, assembler))"
      ],
      "metadata": {
        "id": "7cpBumSFAyPb"
      },
      "execution_count": 21,
      "outputs": []
    },
    {
      "cell_type": "code",
      "source": [
        "print( regression_table(model1, assembler1) )"
      ],
      "metadata": {
        "colab": {
          "base_uri": "https://localhost:8080/"
        },
        "id": "IEHmntYzA6sV",
        "outputId": "52cbe36d-d1df-416e-b8b7-044fd7ca1fc9"
      },
      "execution_count": 22,
      "outputs": [
        {
          "output_type": "stream",
          "name": "stdout",
          "text": [
            "+-------------------------+-------------+------+------------+---------+--------------+--------------+\n",
            "| Metric                  |       Value | Sig. | Std. Error | p-value | 95% CI Lower | 95% CI Upper |\n",
            "+-------------------------+-------------+------+------------+---------+--------------+--------------+\n",
            "| Beta: gross_square_feet |     456.584 | ***  | 14,842.026 |   0.000 |  -28,637.917 |   29,551.084 |\n",
            "| Intercept               | -28,248.331 | ***  |      9.159 |   0.000 |  -28,266.285 |  -28,230.378 |\n",
            "-----------------------------------------------------------------------------------------------------\n",
            "| Observations            |       7,553 |      |            |         |              |              |\n",
            "| R²                      |       0.248 |      |            |         |              |              |\n",
            "| RMSE                    | 459,852.190 |      |            |         |              |              |\n",
            "+-------------------------+-------------+------+------------+---------+--------------+--------------+\n"
          ]
        }
      ]
    },
    {
      "cell_type": "markdown",
      "source": [
        "## Making a Prediction"
      ],
      "metadata": {
        "id": "ZnDkUZhfRP57"
      }
    },
    {
      "cell_type": "code",
      "source": [
        "# making a prediction\n",
        "dtest1  = model1.transform(dtest1)\n"
      ],
      "metadata": {
        "id": "Mb4yGJz7BpCW"
      },
      "execution_count": 38,
      "outputs": []
    },
    {
      "cell_type": "code",
      "source": [
        "dtest1.show()"
      ],
      "metadata": {
        "colab": {
          "base_uri": "https://localhost:8080/"
        },
        "id": "9ASvBxX_B2fc",
        "outputId": "ade0ba37-1963-495c-9eec-d6b439bba09f"
      },
      "execution_count": 25,
      "outputs": [
        {
          "output_type": "stream",
          "name": "stdout",
          "text": [
            "+---------+-------+------------+--------------------+-----------------------+--------+----------+-----------------+----------------+-----------+----------------+-----------------+----------+---------+---+----------+------------------+\n",
            "|sale.date|borough|borough_name|        neighborhood|building_class_category|zip_code|sale_price|residential_units|commercial_units|total_units|land_square_feet|gross_square_feet|year_built|sale_year|age|predictors|        prediction|\n",
            "+---------+-------+------------+--------------------+-----------------------+--------+----------+-----------------+----------------+-----------+----------------+-----------------+----------+---------+---+----------+------------------+\n",
            "|  2/27/18|      2|       Bronx|MORRIS PARK/VAN NEST|   01 ONE FAMILY DWE...|   10462|    495000|                1|               0|          1|            2500|             1080|      1905|     2018|113|  [1080.0]|464861.95271934435|\n",
            "|  2/27/18|      2|       Bronx|PELHAM PARKWAY NORTH|   01 ONE FAMILY DWE...|   10469|    575000|                1|               0|          1|            2500|             2320|      1920|     2018| 98|  [2320.0]|1031025.6120970717|\n",
            "|  2/27/18|      3|    Brooklyn|FLATBUSH-LEFFERTS...|   01 ONE FAMILY DWE...|   11225|   1700000|                1|               0|          1|            2000|             2844|      1901|     2018|117|  [2844.0]|1270275.4165437885|\n",
            "|  2/27/18|      3|    Brooklyn|             MADISON|   01 ONE FAMILY DWE...|   11229|    650000|                1|               0|          1|            2000|             1696|      1930|     2018| 88|  [1696.0]| 746117.4480231185|\n",
            "|  2/27/18|      3|    Brooklyn|         MARINE PARK|   01 ONE FAMILY DWE...|   11234|   1350000|                1|               0|          1|            4325|             2000|      1920|     2018| 98|  [2000.0]| 884918.8612899162|\n",
            "|  2/27/18|      3|    Brooklyn|             MIDWOOD|   01 ONE FAMILY DWE...|   11230|   1500000|                1|               1|          2|            2000|             2300|      1931|     2018| 87|  [2300.0]|1021893.9401716243|\n",
            "|  2/27/18|      4|      Queens|              CORONA|   01 ONE FAMILY DWE...|   11368|    940000|                1|               0|          1|            3500|             1314|      1910|     2018|108|  [1314.0]| 571702.5142470767|\n",
            "|  2/27/18|      4|      Queens|        HOWARD BEACH|   01 ONE FAMILY DWE...|   11414|    550000|                1|               0|          1|            4000|             2452|      1965|     2018| 53|  [2452.0]|1091294.6468050233|\n",
            "|  2/27/18|      4|      Queens|        HOWARD BEACH|   01 ONE FAMILY DWE...|   11414|    820000|                1|               0|          1|            6000|             1125|      1950|     2018| 68|  [1125.0]|485408.21455160057|\n",
            "|  2/28/18|      2|       Bronx|      WILLIAMSBRIDGE|   01 ONE FAMILY DWE...|   10466|    235000|                1|               0|          1|            2298|             1690|      1960|     2018| 58|  [1690.0]| 743377.9464454844|\n",
            "|  2/28/18|      3|    Brooklyn|        BERGEN BEACH|   01 ONE FAMILY DWE...|   11234|    695000|                1|               0|          1|            2455|             2163|      1996|     2018| 22|  [2163.0]|  959341.987482311|\n",
            "|  2/28/18|      3|    Brooklyn|            CANARSIE|   01 ONE FAMILY DWE...|   11236|    590000|                1|               0|          1|            2600|             1870|      1965|     2018| 53|  [1870.0]| 825562.9937745093|\n",
            "|  2/28/18|      3|    Brooklyn|           FLATLANDS|   01 ONE FAMILY DWE...|   11234|    715000|                1|               0|          1|            2067|             2052|      1930|     2018| 88|  [2052.0]|  908661.208296079|\n",
            "|  2/28/18|      3|    Brooklyn|             MADISON|   01 ONE FAMILY DWE...|   11229|    999000|                1|               0|          1|            2660|             1728|      1920|     2018| 98|  [1728.0]| 760728.1231038341|\n",
            "|  2/28/18|      3|    Brooklyn|             MIDWOOD|   01 ONE FAMILY DWE...|   11210|    720000|                1|               0|          1|            2100|             1650|      1930|     2018| 88|  [1650.0]| 725114.6025945899|\n",
            "|  2/28/18|      3|    Brooklyn|          OCEAN HILL|   01 ONE FAMILY DWE...|   11233|   1150000|                1|               0|          1|            1274|             1682|      2016|     2018|  2|  [1682.0]| 739725.2776753055|\n",
            "|  2/28/18|      4|      Queens|         FLORAL PARK|   01 ONE FAMILY DWE...|   11001|    770000|                1|               0|          1|            5880|             1140|      1955|     2018| 63|  [1140.0]|  492256.968495686|\n",
            "|  2/28/18|      4|      Queens|      FLUSHING-NORTH|   01 ONE FAMILY DWE...|   11358|    795000|                1|               0|          1|            1800|             1782|      1955|     2018| 63|  [1782.0]| 785383.6373025415|\n",
            "|  2/28/18|      4|      Queens|      FLUSHING-SOUTH|   01 ONE FAMILY DWE...|   11367|    836000|                1|               0|          1|            1800|             1292|      1950|     2018| 68|  [1292.0]| 561657.6751290848|\n",
            "|  2/28/18|      4|      Queens|        HOLLIS HILLS|   01 ONE FAMILY DWE...|   11427|   1075000|                1|               0|          1|            5500|             2487|      1950|     2018| 68|  [2487.0]| 1107275.072674556|\n",
            "+---------+-------+------------+--------------------+-----------------------+--------+----------+-----------------+----------------+-----------+----------------+-----------------+----------+---------+---+----------+------------------+\n",
            "only showing top 20 rows\n",
            "\n"
          ]
        }
      ]
    },
    {
      "cell_type": "markdown",
      "source": [
        "# Model 2 - Multivariate Linear Regression"
      ],
      "metadata": {
        "id": "3YZFeskJRSoL"
      }
    },
    {
      "cell_type": "code",
      "source": [
        "assembler2 = VectorAssembler(\n",
        "                    inputCols=[\"gross_square_feet\", \"age\"],\n",
        "                    outputCol=\"predictors\")"
      ],
      "metadata": {
        "id": "KaTuCWYLDi1e"
      },
      "execution_count": 39,
      "outputs": []
    },
    {
      "cell_type": "code",
      "source": [
        "dtrain2 = assembler2.transform(dtrain)\n",
        "dtest2  = assembler2.transform(dtest)"
      ],
      "metadata": {
        "id": "g5Ea90v7Dozn"
      },
      "execution_count": 40,
      "outputs": []
    },
    {
      "cell_type": "code",
      "source": [
        "model2 = (\n",
        "    LinearRegression(\n",
        "                featuresCol=\"predictors\",\n",
        "                labelCol=\"sale_price\")\n",
        "        .fit(dtrain2)\n",
        ")\n",
        "dtest2 = model2.transform(dtest2)\n",
        "\n",
        "print(regression_table(model2, assembler2))"
      ],
      "metadata": {
        "colab": {
          "base_uri": "https://localhost:8080/"
        },
        "id": "VKkBeXRHEOIr",
        "outputId": "dc1f4725-5ec7-4a78-98d3-c173847069eb"
      },
      "execution_count": 41,
      "outputs": [
        {
          "output_type": "stream",
          "name": "stdout",
          "text": [
            "+-------------------------+--------------+------+------------+---------+--------------+--------------+\n",
            "| Metric                  |        Value | Sig. | Std. Error | p-value | 95% CI Lower | 95% CI Upper |\n",
            "+-------------------------+--------------+------+------------+---------+--------------+--------------+\n",
            "| Beta: gross_square_feet |      463.107 | ***  |    192.136 |   0.000 |       86.467 |      839.748 |\n",
            "| Beta: age               |    2,429.358 | ***  | 20,938.514 |   0.000 |  -38,615.955 |   43,474.670 |\n",
            "| Intercept               | -216,925.023 | ***  |      9.078 |   0.000 | -216,942.819 | -216,907.227 |\n",
            "------------------------------------------------------------------------------------------------------\n",
            "| Observations            |        7,553 |      |            |         |              |              |\n",
            "| R²                      |        0.263 |      |            |         |              |              |\n",
            "| RMSE                    |  455,059.540 |      |            |         |              |              |\n",
            "+-------------------------+--------------+------+------------+---------+--------------+--------------+\n"
          ]
        }
      ]
    },
    {
      "cell_type": "code",
      "source": [
        "sale_df.select(\"borough_name\").distinct().show()"
      ],
      "metadata": {
        "colab": {
          "base_uri": "https://localhost:8080/"
        },
        "id": "3fPOkVOSFjbY",
        "outputId": "565e15a5-7e1e-4bb4-b7ad-762d865e0b8c"
      },
      "execution_count": 46,
      "outputs": [
        {
          "output_type": "stream",
          "name": "stdout",
          "text": [
            "+-------------+\n",
            "| borough_name|\n",
            "+-------------+\n",
            "|       Queens|\n",
            "|     Brooklyn|\n",
            "|Staten Island|\n",
            "|    Manhattan|\n",
            "|        Bronx|\n",
            "+-------------+\n",
            "\n"
          ]
        }
      ]
    },
    {
      "cell_type": "markdown",
      "source": [
        "# Dummy Variable Linear Regression"
      ],
      "metadata": {
        "id": "uklNbjgpH-0n"
      }
    },
    {
      "cell_type": "code",
      "source": [
        "def add_dummy_variables(var_name, reference_level):\n",
        "    \"\"\"\n",
        "    Creates dummy variables for the specified column in the global DataFrames dtrain and dtest.\n",
        "    If the variable contains boolean values, they are converted to strings.\n",
        "\n",
        "    Parameters:\n",
        "        var_name (str): The name of the categorical column (e.g., \"borough_name\").\n",
        "        reference_level (int): The index (after sorting the categories) of the category\n",
        "                               to be used as the reference (dummy omitted).\n",
        "\n",
        "    Returns:\n",
        "        dummy_cols (list): List of dummy column names to be used in subsequent analysis\n",
        "                           (the reference category dummy is omitted).\n",
        "        ref_category (str): The category value that has been chosen as the reference.\n",
        "    \"\"\"\n",
        "    global dtrain, dtest\n",
        "\n",
        "    # Get distinct categories from the training set.\n",
        "    categories = dtrain.select(var_name).distinct().rdd.flatMap(lambda x: x).collect()\n",
        "\n",
        "    # If any category is a boolean, convert all categories to string.\n",
        "    categories = [str(c) if isinstance(c, bool) else c for c in categories]\n",
        "\n",
        "    # Sort the categories.\n",
        "    categories = sorted(categories)\n",
        "\n",
        "    # Check that reference_level is valid\n",
        "    if reference_level < 0 or reference_level >= len(categories):\n",
        "        raise ValueError(f\"reference_level must be between 0 and {len(categories) - 1}\")\n",
        "\n",
        "    # Determine the reference category based on the reference level\n",
        "    ref_category = categories[reference_level]\n",
        "    print(\"Reference category (dummy omitted):\", ref_category)\n",
        "\n",
        "    # Create dummy variables for all categories\n",
        "    for cat in categories:\n",
        "        # Always convert the category value to string and replace spaces.\n",
        "        dummy_col_name = var_name + \"_\" + str(cat).replace(\" \", \"_\")\n",
        "        dtrain = dtrain.withColumn(dummy_col_name, when(col(var_name) == cat, 1).otherwise(0))\n",
        "        dtest  = dtest.withColumn(dummy_col_name, when(col(var_name) == cat, 1).otherwise(0))\n",
        "\n",
        "    # Build a list of dummy column names for regression (exclude reference category)\n",
        "    dummy_cols = [var_name + \"_\" + str(cat).replace(\" \", \"_\") for cat in categories if cat != ref_category]\n",
        "\n",
        "    return dummy_cols, ref_category"
      ],
      "metadata": {
        "id": "_IdeXcE3H_8W"
      },
      "execution_count": 47,
      "outputs": []
    },
    {
      "cell_type": "code",
      "source": [
        "# Distinct categories:\n",
        "(\n",
        "    dtrain\n",
        "    .select(\"borough_name\")\n",
        "    .distinct()\n",
        "    .orderBy(\"borough_name\")\n",
        "    .show()\n",
        ")"
      ],
      "metadata": {
        "colab": {
          "base_uri": "https://localhost:8080/"
        },
        "id": "fZb3p-ZPIORX",
        "outputId": "fd640872-a8e5-47b5-c99d-41260ec52f9b"
      },
      "execution_count": 48,
      "outputs": [
        {
          "output_type": "stream",
          "name": "stdout",
          "text": [
            "+-------------+\n",
            "| borough_name|\n",
            "+-------------+\n",
            "|        Bronx|\n",
            "|     Brooklyn|\n",
            "|    Manhattan|\n",
            "|       Queens|\n",
            "|Staten Island|\n",
            "+-------------+\n",
            "\n"
          ]
        }
      ]
    },
    {
      "cell_type": "code",
      "source": [
        "# Number of categories\n",
        "(\n",
        "    dtrain\n",
        "    .select(\"borough_name\")\n",
        "    .distinct()\n",
        "    .count()\n",
        ")"
      ],
      "metadata": {
        "colab": {
          "base_uri": "https://localhost:8080/"
        },
        "id": "LKS-Z6tqITDH",
        "outputId": "dc08eace-455a-4f00-dc51-783ce4351015"
      },
      "execution_count": 49,
      "outputs": [
        {
          "output_type": "execute_result",
          "data": {
            "text/plain": [
              "5"
            ]
          },
          "metadata": {},
          "execution_count": 49
        }
      ]
    },
    {
      "cell_type": "code",
      "source": [
        "# 0: Bronx, 1: Brooklyn, 2: Manhattan, 3: Queens, 4: Staten Island\n",
        "dummy_cols, ref_category = add_dummy_variables(\"borough_name\", 2)\n",
        "# To see dummy variables\n",
        "dtrain.select(['borough_name'] + dummy_cols).show()"
      ],
      "metadata": {
        "colab": {
          "base_uri": "https://localhost:8080/"
        },
        "id": "5LAyrY9HIbBe",
        "outputId": "4af895d8-63cd-4fbd-e71f-76109406122e"
      },
      "execution_count": 50,
      "outputs": [
        {
          "output_type": "stream",
          "name": "stdout",
          "text": [
            "Reference category (dummy omitted): Manhattan\n",
            "+------------+------------------+---------------------+-------------------+--------------------------+\n",
            "|borough_name|borough_name_Bronx|borough_name_Brooklyn|borough_name_Queens|borough_name_Staten_Island|\n",
            "+------------+------------------+---------------------+-------------------+--------------------------+\n",
            "|       Bronx|                 1|                    0|                  0|                         0|\n",
            "|       Bronx|                 1|                    0|                  0|                         0|\n",
            "|    Brooklyn|                 0|                    1|                  0|                         0|\n",
            "|    Brooklyn|                 0|                    1|                  0|                         0|\n",
            "|    Brooklyn|                 0|                    1|                  0|                         0|\n",
            "|    Brooklyn|                 0|                    1|                  0|                         0|\n",
            "|    Brooklyn|                 0|                    1|                  0|                         0|\n",
            "|    Brooklyn|                 0|                    1|                  0|                         0|\n",
            "|    Brooklyn|                 0|                    1|                  0|                         0|\n",
            "|    Brooklyn|                 0|                    1|                  0|                         0|\n",
            "|      Queens|                 0|                    0|                  1|                         0|\n",
            "|      Queens|                 0|                    0|                  1|                         0|\n",
            "|      Queens|                 0|                    0|                  1|                         0|\n",
            "|      Queens|                 0|                    0|                  1|                         0|\n",
            "|      Queens|                 0|                    0|                  1|                         0|\n",
            "|       Bronx|                 1|                    0|                  0|                         0|\n",
            "|       Bronx|                 1|                    0|                  0|                         0|\n",
            "|       Bronx|                 1|                    0|                  0|                         0|\n",
            "|       Bronx|                 1|                    0|                  0|                         0|\n",
            "|    Brooklyn|                 0|                    1|                  0|                         0|\n",
            "+------------+------------------+---------------------+-------------------+--------------------------+\n",
            "only showing top 20 rows\n",
            "\n"
          ]
        }
      ]
    },
    {
      "cell_type": "code",
      "source": [
        "dtrain.select(['borough_name'] + dummy_cols).filter(col('borough_name') == \"Manhattan\").show()"
      ],
      "metadata": {
        "colab": {
          "base_uri": "https://localhost:8080/"
        },
        "id": "4f-fYfjIIqJI",
        "outputId": "34bd0ef7-b5e1-46d7-83dc-c9bb7cca77df"
      },
      "execution_count": 51,
      "outputs": [
        {
          "output_type": "stream",
          "name": "stdout",
          "text": [
            "+------------+------------------+---------------------+-------------------+--------------------------+\n",
            "|borough_name|borough_name_Bronx|borough_name_Brooklyn|borough_name_Queens|borough_name_Staten_Island|\n",
            "+------------+------------------+---------------------+-------------------+--------------------------+\n",
            "|   Manhattan|                 0|                    0|                  0|                         0|\n",
            "|   Manhattan|                 0|                    0|                  0|                         0|\n",
            "|   Manhattan|                 0|                    0|                  0|                         0|\n",
            "|   Manhattan|                 0|                    0|                  0|                         0|\n",
            "|   Manhattan|                 0|                    0|                  0|                         0|\n",
            "|   Manhattan|                 0|                    0|                  0|                         0|\n",
            "|   Manhattan|                 0|                    0|                  0|                         0|\n",
            "|   Manhattan|                 0|                    0|                  0|                         0|\n",
            "|   Manhattan|                 0|                    0|                  0|                         0|\n",
            "|   Manhattan|                 0|                    0|                  0|                         0|\n",
            "|   Manhattan|                 0|                    0|                  0|                         0|\n",
            "|   Manhattan|                 0|                    0|                  0|                         0|\n",
            "|   Manhattan|                 0|                    0|                  0|                         0|\n",
            "|   Manhattan|                 0|                    0|                  0|                         0|\n",
            "|   Manhattan|                 0|                    0|                  0|                         0|\n",
            "|   Manhattan|                 0|                    0|                  0|                         0|\n",
            "|   Manhattan|                 0|                    0|                  0|                         0|\n",
            "|   Manhattan|                 0|                    0|                  0|                         0|\n",
            "|   Manhattan|                 0|                    0|                  0|                         0|\n",
            "|   Manhattan|                 0|                    0|                  0|                         0|\n",
            "+------------+------------------+---------------------+-------------------+--------------------------+\n",
            "only showing top 20 rows\n",
            "\n"
          ]
        }
      ]
    },
    {
      "cell_type": "code",
      "source": [
        "dummy_cols"
      ],
      "metadata": {
        "colab": {
          "base_uri": "https://localhost:8080/"
        },
        "id": "5HksTZl4IvDG",
        "outputId": "865f5928-bd4c-4896-ac2d-a88f63a7075d"
      },
      "execution_count": 52,
      "outputs": [
        {
          "output_type": "execute_result",
          "data": {
            "text/plain": [
              "['borough_name_Bronx',\n",
              " 'borough_name_Brooklyn',\n",
              " 'borough_name_Queens',\n",
              " 'borough_name_Staten_Island']"
            ]
          },
          "metadata": {},
          "execution_count": 52
        }
      ]
    },
    {
      "cell_type": "code",
      "source": [
        "# Define the list of predictor columns:\n",
        "# Two numeric predictors plus the dummy variables (excluding the reference dummy)\n",
        "conti_cols = [\"gross_square_feet\", \"age\"]\n",
        "assembler_predictors = conti_cols + dummy_cols\n",
        "assembler_predictors"
      ],
      "metadata": {
        "colab": {
          "base_uri": "https://localhost:8080/"
        },
        "id": "WBX1J_iaI5Ws",
        "outputId": "bc5f0efa-b151-4033-dc0d-2b3657d4ae80"
      },
      "execution_count": 53,
      "outputs": [
        {
          "output_type": "execute_result",
          "data": {
            "text/plain": [
              "['gross_square_feet',\n",
              " 'age',\n",
              " 'borough_name_Bronx',\n",
              " 'borough_name_Brooklyn',\n",
              " 'borough_name_Queens',\n",
              " 'borough_name_Staten_Island']"
            ]
          },
          "metadata": {},
          "execution_count": 53
        }
      ]
    },
    {
      "cell_type": "code",
      "source": [
        "\n",
        "assembler3 = VectorAssembler(\n",
        "    inputCols = assembler_predictors,\n",
        "    outputCol = \"predictors\"\n",
        ")\n",
        "dtrain3 = assembler3.transform(dtrain)\n",
        "dtest3  = assembler3.transform(dtest)\n",
        "model3 = LinearRegression(featuresCol=\"predictors\", labelCol=\"sale_price\").fit(dtrain3)\n",
        "dtest3 = model3.transform(dtest3)\n",
        "\n",
        "# For model3 and assembler3:\n",
        "print(regression_table(model3, assembler3))"
      ],
      "metadata": {
        "colab": {
          "base_uri": "https://localhost:8080/"
        },
        "id": "r-L2OCYZI6Os",
        "outputId": "8eef6a3b-a920-4391-9051-927bbbf98c7d"
      },
      "execution_count": 54,
      "outputs": [
        {
          "output_type": "stream",
          "name": "stdout",
          "text": [
            "+----------------------------------+----------------+------+------------+---------+----------------+----------------+\n",
            "| Metric                           |          Value | Sig. | Std. Error | p-value |   95% CI Lower |   95% CI Upper |\n",
            "+----------------------------------+----------------+------+------------+---------+----------------+----------------+\n",
            "| Beta: gross_square_feet          |        391.989 | ***  |    204.243 |   0.000 |         -8.384 |        792.362 |\n",
            "| Beta: age                        |         -7.449 |      | 75,441.043 |   0.971 |   -147,892.897 |    147,877.998 |\n",
            "| Beta: borough_name_Bronx         | -3,107,734.887 | ***  | 74,462.161 |   0.000 | -3,253,701.453 | -2,961,768.320 |\n",
            "| Beta: borough_name_Brooklyn      | -2,659,313.821 | ***  | 74,276.127 |   0.000 | -2,804,915.709 | -2,513,711.933 |\n",
            "| Beta: borough_name_Queens        | -2,870,994.746 | ***  | 75,420.358 |   0.000 | -3,018,839.645 | -2,723,149.847 |\n",
            "| Beta: borough_name_Staten_Island | -3,023,379.363 | ***  | 80,985.266 |   0.000 | -3,182,133.032 | -2,864,625.694 |\n",
            "| Intercept                        |  2,953,483.693 | ***  |      8.252 |   0.000 |  2,953,467.518 |  2,953,499.869 |\n",
            "---------------------------------------------------------------------------------------------------------------------\n",
            "| Observations                     |          7,553 |      |            |         |                |                |\n",
            "| R²                               |          0.427 |      |            |         |                |                |\n",
            "| RMSE                             |    401,379.450 |      |            |         |                |                |\n",
            "+----------------------------------+----------------+------+------------+---------+----------------+----------------+\n"
          ]
        }
      ]
    },
    {
      "cell_type": "code",
      "source": [
        "# 0: Bronx, 1: Brooklyn, 2: Manhattan, 3: Queens, 4: Staten Island\n",
        "dummy_cols, ref_category = add_dummy_variables(\"borough_name\", 0)"
      ],
      "metadata": {
        "colab": {
          "base_uri": "https://localhost:8080/"
        },
        "id": "vghPKaa8Jm45",
        "outputId": "67f6519c-a53d-4316-9946-5c38a6eff008"
      },
      "execution_count": 55,
      "outputs": [
        {
          "output_type": "stream",
          "name": "stdout",
          "text": [
            "Reference category (dummy omitted): Bronx\n"
          ]
        }
      ]
    },
    {
      "cell_type": "code",
      "source": [
        "dtrain.select(['borough_name'] + dummy_cols).show()"
      ],
      "metadata": {
        "colab": {
          "base_uri": "https://localhost:8080/"
        },
        "id": "pPen43SyJrst",
        "outputId": "5164f71b-85e1-487d-e39a-61c8e9b8697d"
      },
      "execution_count": 56,
      "outputs": [
        {
          "output_type": "stream",
          "name": "stdout",
          "text": [
            "+------------+---------------------+----------------------+-------------------+--------------------------+\n",
            "|borough_name|borough_name_Brooklyn|borough_name_Manhattan|borough_name_Queens|borough_name_Staten_Island|\n",
            "+------------+---------------------+----------------------+-------------------+--------------------------+\n",
            "|       Bronx|                    0|                     0|                  0|                         0|\n",
            "|       Bronx|                    0|                     0|                  0|                         0|\n",
            "|    Brooklyn|                    1|                     0|                  0|                         0|\n",
            "|    Brooklyn|                    1|                     0|                  0|                         0|\n",
            "|    Brooklyn|                    1|                     0|                  0|                         0|\n",
            "|    Brooklyn|                    1|                     0|                  0|                         0|\n",
            "|    Brooklyn|                    1|                     0|                  0|                         0|\n",
            "|    Brooklyn|                    1|                     0|                  0|                         0|\n",
            "|    Brooklyn|                    1|                     0|                  0|                         0|\n",
            "|    Brooklyn|                    1|                     0|                  0|                         0|\n",
            "|      Queens|                    0|                     0|                  1|                         0|\n",
            "|      Queens|                    0|                     0|                  1|                         0|\n",
            "|      Queens|                    0|                     0|                  1|                         0|\n",
            "|      Queens|                    0|                     0|                  1|                         0|\n",
            "|      Queens|                    0|                     0|                  1|                         0|\n",
            "|       Bronx|                    0|                     0|                  0|                         0|\n",
            "|       Bronx|                    0|                     0|                  0|                         0|\n",
            "|       Bronx|                    0|                     0|                  0|                         0|\n",
            "|       Bronx|                    0|                     0|                  0|                         0|\n",
            "|    Brooklyn|                    1|                     0|                  0|                         0|\n",
            "+------------+---------------------+----------------------+-------------------+--------------------------+\n",
            "only showing top 20 rows\n",
            "\n"
          ]
        }
      ]
    },
    {
      "cell_type": "code",
      "source": [
        "conti_cols = [\"gross_square_feet\", \"age\"]\n",
        "assembler_predictors = conti_cols + dummy_cols\n",
        "\n",
        "assembler3 = VectorAssembler(\n",
        "    inputCols = assembler_predictors,\n",
        "    outputCol = \"predictors\"\n",
        ")\n",
        "dtrain3 = assembler3.transform(dtrain)\n",
        "dtest3  = assembler3.transform(dtest)\n",
        "model3 = LinearRegression(featuresCol=\"predictors\", labelCol=\"sale_price\").fit(dtrain3)\n",
        "dtest3 = model3.transform(dtest3)\n",
        "\n",
        "# For model3 and assembler3:\n",
        "print(regression_table(model3, assembler3))"
      ],
      "metadata": {
        "colab": {
          "base_uri": "https://localhost:8080/"
        },
        "id": "wVLh6eP2Jzb1",
        "outputId": "b531f605-9883-497d-9860-5db095e585df"
      },
      "execution_count": 57,
      "outputs": [
        {
          "output_type": "stream",
          "name": "stdout",
          "text": [
            "+----------------------------------+---------------+------+------------+---------+---------------+---------------+\n",
            "| Metric                           |         Value | Sig. | Std. Error | p-value |  95% CI Lower |  95% CI Upper |\n",
            "+----------------------------------+---------------+------+------------+---------+---------------+---------------+\n",
            "| Beta: gross_square_feet          |       391.989 | ***  |    204.243 |   0.000 |        -8.384 |       792.362 |\n",
            "| Beta: age                        |        -7.449 |      | 19,920.723 |   0.971 |   -39,057.612 |    39,042.713 |\n",
            "| Beta: borough_name_Brooklyn      |   448,421.065 | ***  | 75,441.043 |   0.000 |   300,535.618 |   596,306.513 |\n",
            "| Beta: borough_name_Manhattan     | 3,107,734.887 | ***  | 17,740.096 |   0.000 | 3,072,959.359 | 3,142,510.414 |\n",
            "| Beta: borough_name_Queens        |   236,740.140 | ***  | 19,926.890 |   0.000 |   197,677.888 |   275,802.393 |\n",
            "| Beta: borough_name_Staten_Island |    84,355.524 | ***  | 27,918.613 |   0.000 |    29,627.270 |   139,083.777 |\n",
            "| Intercept                        |  -154,251.193 | ***  |      8.252 |   0.000 |  -154,267.368 |  -154,235.018 |\n",
            "------------------------------------------------------------------------------------------------------------------\n",
            "| Observations                     |         7,553 |      |            |         |               |               |\n",
            "| R²                               |         0.427 |      |            |         |               |               |\n",
            "| RMSE                             |   401,379.450 |      |            |         |               |               |\n",
            "+----------------------------------+---------------+------+------------+---------+---------------+---------------+\n"
          ]
        }
      ]
    }
  ]
}