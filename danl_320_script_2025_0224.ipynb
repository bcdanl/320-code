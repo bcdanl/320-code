{
  "nbformat": 4,
  "nbformat_minor": 0,
  "metadata": {
    "colab": {
      "provenance": [],
      "toc_visible": true,
      "authorship_tag": "ABX9TyNmbXJatpYzp7ZTrgbZQzro",
      "include_colab_link": true
    },
    "kernelspec": {
      "name": "python3",
      "display_name": "Python 3"
    },
    "language_info": {
      "name": "python"
    }
  },
  "cells": [
    {
      "cell_type": "markdown",
      "metadata": {
        "id": "view-in-github",
        "colab_type": "text"
      },
      "source": [
        "<a href=\"https://colab.research.google.com/github/bcdanl/320-code/blob/main/danl_320_script_2025_0224.ipynb\" target=\"_parent\"><img src=\"https://colab.research.google.com/assets/colab-badge.svg\" alt=\"Open In Colab\"/></a>"
      ]
    },
    {
      "cell_type": "markdown",
      "source": [
        "# Classwork 8 - Dummy Variable Linear Regression"
      ],
      "metadata": {
        "id": "u7iIq5zn7OA4"
      }
    },
    {
      "cell_type": "code",
      "execution_count": 1,
      "metadata": {
        "id": "Pr59DtyjyFGw"
      },
      "outputs": [],
      "source": [
        "import pandas as pd\n",
        "import numpy as np\n",
        "from tabulate import tabulate  # for table summary\n",
        "import scipy.stats as stats\n",
        "import matplotlib.pyplot as plt\n",
        "import statsmodels.api as sm  # for lowess smoothing\n",
        "\n",
        "from pyspark.sql import SparkSession\n",
        "from pyspark.sql.functions import rand, col, pow, mean, when, log\n",
        "from pyspark.ml.feature import VectorAssembler\n",
        "from pyspark.ml.regression import LinearRegression\n",
        "\n",
        "spark = SparkSession.builder.master(\"local[*]\").getOrCreate()"
      ]
    },
    {
      "cell_type": "markdown",
      "source": [
        "# UDF for Regression Table"
      ],
      "metadata": {
        "id": "06d6p2Qm7LCi"
      }
    },
    {
      "cell_type": "code",
      "source": [
        "def regression_table(model, assembler):\n",
        "    \"\"\"\n",
        "    Creates a formatted regression table from a fitted LinearRegression model and its VectorAssembler,\n",
        "    and inserts a dashed horizontal line after the Intercept row. The table includes separate columns\n",
        "    for the 95% confidence interval lower and upper bounds for each coefficient (computed at the 5% significance level)\n",
        "    and an \"Observations\" row (using model.summary.numInstances) above the R² row.\n",
        "    The RMSE row is placed as the last row.\n",
        "\n",
        "    The columns are ordered as:\n",
        "        Metric | Value | Significance | Std. Error | p-value | 95% CI Lower | 95% CI Upper\n",
        "\n",
        "    For the \"Value\", \"Std. Error\", \"95% CI Lower\", and \"95% CI Upper\" columns, commas are inserted every three digits,\n",
        "    with 3 decimal places (except for Observations which is formatted as an integer with commas).\n",
        "\n",
        "    Parameters:\n",
        "        model: A fitted LinearRegression model (with a .summary attribute).\n",
        "        assembler: The VectorAssembler used to assemble the features for the model.\n",
        "\n",
        "    Returns:\n",
        "        A formatted string containing the regression table.\n",
        "    \"\"\"\n",
        "    # Extract coefficients and standard errors as NumPy arrays\n",
        "    coeffs = model.coefficients.toArray()\n",
        "    std_errors_all = np.array(model.summary.coefficientStandardErrors)\n",
        "\n",
        "    # Check if the intercept's standard error is included (one extra element)\n",
        "    if len(std_errors_all) == len(coeffs) + 1:\n",
        "        intercept_se = std_errors_all[0]\n",
        "        std_errors = std_errors_all[1:]\n",
        "    else:\n",
        "        intercept_se = None\n",
        "        std_errors = std_errors_all\n",
        "\n",
        "    # Compute t-statistics for feature coefficients (t = beta / SE(beta))\n",
        "    # t_stats = coeffs / std_errors\n",
        "    t_stats = model.summary.tValues\n",
        "\n",
        "    # Degrees of freedom: number of instances minus number of predictors minus 1 (for intercept)\n",
        "    df = model.summary.numInstances - len(coeffs) - 1\n",
        "\n",
        "    # Compute the t-critical value for a 95% confidence interval (two-tailed, 5% significance)\n",
        "    t_critical = stats.t.ppf(0.975, df)\n",
        "\n",
        "    # Compute two-tailed p-values for each feature coefficient\n",
        "    # p_values = [2 * (1 - stats.t.cdf(np.abs(t), df)) for t in t_stats]\n",
        "    p_values = model.summary.pValues\n",
        "\n",
        "    # Function to assign significance stars based on p-value\n",
        "    def significance_stars(p):\n",
        "        if p < 0.01:\n",
        "            return \"***\"\n",
        "        elif p < 0.05:\n",
        "            return \"**\"\n",
        "        elif p < 0.1:\n",
        "            return \"*\"\n",
        "        else:\n",
        "            return \"\"\n",
        "\n",
        "    # Build the table rows.\n",
        "    # Order: Metric, Value, Significance, Std. Error, p-value, 95% CI Lower, 95% CI Upper.\n",
        "    table = []\n",
        "    for feature, beta, se, p in zip(assembler.getInputCols(), coeffs, std_errors, p_values):\n",
        "        ci_lower = beta - t_critical * se\n",
        "        ci_upper = beta + t_critical * se\n",
        "        table.append([\n",
        "            \"Beta: \" + feature,       # Metric name\n",
        "            beta,                     # Beta estimate (Value)\n",
        "            significance_stars(p),    # Significance stars\n",
        "            se,                       # Standard error\n",
        "            p,                        # p-value\n",
        "            ci_lower,                 # 95% CI lower bound\n",
        "            ci_upper                  # 95% CI upper bound\n",
        "        ])\n",
        "\n",
        "    # Compute and add the intercept row with its SE, p-value, significance, and CI (if available)\n",
        "    if intercept_se is not None:\n",
        "        intercept_t = model.intercept / intercept_se\n",
        "        intercept_p = 2 * (1 - stats.t.cdf(np.abs(intercept_t), df))\n",
        "        intercept_sig = significance_stars(intercept_p)\n",
        "        ci_intercept_lower = model.intercept - t_critical * intercept_se\n",
        "        ci_intercept_upper = model.intercept + t_critical * intercept_se\n",
        "    else:\n",
        "        intercept_se = \"\"\n",
        "        intercept_p = \"\"\n",
        "        intercept_sig = \"\"\n",
        "        ci_intercept_lower = \"\"\n",
        "        ci_intercept_upper = \"\"\n",
        "\n",
        "    table.append([\n",
        "        \"Intercept\",\n",
        "        model.intercept,\n",
        "        intercept_sig,\n",
        "        intercept_se,\n",
        "        intercept_p,\n",
        "        ci_intercept_lower,\n",
        "        ci_intercept_upper\n",
        "    ])\n",
        "\n",
        "    # Append overall model metrics:\n",
        "    # Insert an Observations row using model.summary.numInstances,\n",
        "    # then an R² row, and finally the RMSE row as the last row.\n",
        "    table.append([\"Observations\", model.summary.numInstances, \"\", \"\", \"\", \"\", \"\"])\n",
        "    table.append([\"R²\", model.summary.r2, \"\", \"\", \"\", \"\", \"\"])\n",
        "    table.append([\"RMSE\", model.summary.rootMeanSquaredError, \"\", \"\", \"\", \"\", \"\"])\n",
        "\n",
        "    # Format the table.\n",
        "    # For the \"Value\" (index 1), \"Std. Error\" (index 3), \"95% CI Lower\" (index 5), and \"95% CI Upper\" (index 6) columns,\n",
        "    # format with commas and 3 decimal places, except for Observations which should be an integer with commas.\n",
        "    # For the p-value (index 4), format to 3 decimal places.\n",
        "    formatted_table = []\n",
        "    for row in table:\n",
        "        formatted_row = []\n",
        "        for i, item in enumerate(row):\n",
        "            if row[0] == \"Observations\" and i == 1 and isinstance(item, (int, float, np.floating)) and item != \"\":\n",
        "                # Format Observations as integer with commas, no decimals.\n",
        "                formatted_row.append(f\"{int(item):,}\")\n",
        "            elif isinstance(item, (int, float, np.floating)) and item != \"\":\n",
        "                if i in [1, 3, 5, 6]:\n",
        "                    formatted_row.append(f\"{item:,.3f}\")\n",
        "                elif i == 4:\n",
        "                    formatted_row.append(f\"{item:.3f}\")\n",
        "                else:\n",
        "                    formatted_row.append(f\"{item:.3f}\")\n",
        "            else:\n",
        "                formatted_row.append(item)\n",
        "        formatted_table.append(formatted_row)\n",
        "\n",
        "    # Generate the table string using tabulate.\n",
        "    table_str = tabulate(\n",
        "        formatted_table,\n",
        "        headers=[\"Metric\", \"Value\", \"Sig.\", \"Std. Error\", \"p-value\", \"95% CI Lower\", \"95% CI Upper\"],\n",
        "        tablefmt=\"pretty\",\n",
        "        colalign=(\"left\", \"right\", \"center\", \"right\", \"right\", \"right\", \"right\")\n",
        "    )\n",
        "\n",
        "    # Insert a dashed line after the Intercept row for clarity.\n",
        "    lines = table_str.split(\"\\n\")\n",
        "    dash_line = '-' * len(lines[0])\n",
        "    for i, line in enumerate(lines):\n",
        "        if \"Intercept\" in line and not line.strip().startswith('+'):\n",
        "            lines.insert(i+1, dash_line)\n",
        "            break\n",
        "\n",
        "    return \"\\n\".join(lines)\n",
        "\n",
        "# Example usage:\n",
        "# print(regression_table(MODEL, ASSEMBLER))"
      ],
      "metadata": {
        "id": "Ut2J355SyPP0"
      },
      "execution_count": 2,
      "outputs": []
    },
    {
      "cell_type": "markdown",
      "source": [
        "## UDF for dummies"
      ],
      "metadata": {
        "id": "x0RLjXoW2-In"
      }
    },
    {
      "cell_type": "code",
      "source": [
        "def add_dummy_variables(var_name, reference_level, category_order=None):\n",
        "    \"\"\"\n",
        "    Creates dummy variables for the specified column in the global DataFrames dtrain and dtest.\n",
        "    Allows manual setting of category order.\n",
        "\n",
        "    Parameters:\n",
        "        var_name (str): The name of the categorical column (e.g., \"borough_name\").\n",
        "        reference_level (int): Index of the category to be used as the reference (dummy omitted).\n",
        "        category_order (list, optional): List of categories in the desired order. If None, categories are sorted.\n",
        "\n",
        "    Returns:\n",
        "        dummy_cols (list): List of dummy column names excluding the reference category.\n",
        "        ref_category (str): The category chosen as the reference.\n",
        "    \"\"\"\n",
        "    global dtrain, dtest\n",
        "\n",
        "    # Get distinct categories from the training set.\n",
        "    categories = dtrain.select(var_name).distinct().rdd.flatMap(lambda x: x).collect()\n",
        "\n",
        "    # Convert booleans to strings if present.\n",
        "    categories = [str(c) if isinstance(c, bool) else c for c in categories]\n",
        "\n",
        "    # Use manual category order if provided; otherwise, sort categories.\n",
        "    if category_order:\n",
        "        # Ensure all categories are present in the user-defined order\n",
        "        missing = set(categories) - set(category_order)\n",
        "        if missing:\n",
        "            raise ValueError(f\"These categories are missing from your custom order: {missing}\")\n",
        "        categories = category_order\n",
        "    else:\n",
        "        categories = sorted(categories)\n",
        "\n",
        "    # Validate reference_level\n",
        "    if reference_level < 0 or reference_level >= len(categories):\n",
        "        raise ValueError(f\"reference_level must be between 0 and {len(categories) - 1}\")\n",
        "\n",
        "    # Define the reference category\n",
        "    ref_category = categories[reference_level]\n",
        "    print(\"Reference category (dummy omitted):\", ref_category)\n",
        "\n",
        "    # Create dummy variables for all categories\n",
        "    for cat in categories:\n",
        "        dummy_col_name = var_name + \"_\" + str(cat).replace(\" \", \"_\")\n",
        "        dtrain = dtrain.withColumn(dummy_col_name, when(col(var_name) == cat, 1).otherwise(0))\n",
        "        dtest = dtest.withColumn(dummy_col_name, when(col(var_name) == cat, 1).otherwise(0))\n",
        "\n",
        "    # List of dummy columns, excluding the reference category\n",
        "    dummy_cols = [var_name + \"_\" + str(cat).replace(\" \", \"_\") for cat in categories if cat != ref_category]\n",
        "\n",
        "    return dummy_cols, ref_category\n",
        "\n",
        "\n",
        "# Example usage without category_order:\n",
        "# dummy_cols_year, ref_category_year = add_dummy_variables('year', 0)\n",
        "\n",
        "# Example usage with category_order:\n",
        "# custom_order_wkday = ['sunday', 'monday', 'tuesday', 'wednesday', 'thursday', 'friday', 'saturday']\n",
        "# dummy_cols_wkday, ref_category_wkday = add_dummy_variables('wkday', reference_level=0, category_order = custom_order_wkday)"
      ],
      "metadata": {
        "id": "sjLhcKCryShl"
      },
      "execution_count": 3,
      "outputs": []
    },
    {
      "cell_type": "markdown",
      "source": [
        "# Classwork 8 - Dummy Variable Regression"
      ],
      "metadata": {
        "id": "OZHegHaWy0q6"
      }
    },
    {
      "cell_type": "markdown",
      "source": [
        "## Q1"
      ],
      "metadata": {
        "id": "Gu_4orHiy3kO"
      }
    },
    {
      "cell_type": "code",
      "source": [
        "# 1. Read CSV data from URL\n",
        "df_pd = pd.read_csv('https://bcdanl.github.io/data/bikeshare_cleaned.csv')\n",
        "df = spark.createDataFrame(df_pd)\n",
        "df.show()"
      ],
      "metadata": {
        "colab": {
          "base_uri": "https://localhost:8080/"
        },
        "id": "IoaGIsJwy4pw",
        "outputId": "c721e6b2-15e5-4ed0-ad08-5442f5522c52"
      },
      "execution_count": 4,
      "outputs": [
        {
          "output_type": "stream",
          "name": "stdout",
          "text": [
            "+---+----+-----+----+---+--------+-------+-------+--------------------+------------------+-----------------+------------------+\n",
            "|cnt|year|month|date| hr|   wkday|holiday|seasons|        weather_cond|              temp|              hum|         windspeed|\n",
            "+---+----+-----+----+---+--------+-------+-------+--------------------+------------------+-----------------+------------------+\n",
            "| 16|2011|    1|   1|  0|saturday|      0| spring| Clear or Few Cloudy| -1.33460918694128|0.947345243330896|  -1.5538438052971|\n",
            "| 40|2011|    1|   1|  1|saturday|      0| spring| Clear or Few Cloudy| -1.43847500990342|0.895512927978679|  -1.5538438052971|\n",
            "| 32|2011|    1|   1|  2|saturday|      0| spring| Clear or Few Cloudy| -1.43847500990342|0.895512927978679|  -1.5538438052971|\n",
            "| 13|2011|    1|   1|  3|saturday|      0| spring| Clear or Few Cloudy| -1.33460918694128|0.636351351217591|  -1.5538438052971|\n",
            "|  1|2011|    1|   1|  4|saturday|      0| spring| Clear or Few Cloudy| -1.33460918694128|0.636351351217591|  -1.5538438052971|\n",
            "|  1|2011|    1|   1|  5|saturday|      0| spring|      Mist or Cloudy| -1.33460918694128|0.636351351217591|-0.821460017517193|\n",
            "|  2|2011|    1|   1|  6|saturday|      0| spring| Clear or Few Cloudy| -1.43847500990342|0.895512927978679|  -1.5538438052971|\n",
            "|  3|2011|    1|   1|  7|saturday|      0| spring| Clear or Few Cloudy| -1.54234083286556| 1.20650682009198|  -1.5538438052971|\n",
            "|  8|2011|    1|   1|  8|saturday|      0| spring| Clear or Few Cloudy| -1.33460918694128|0.636351351217591|  -1.5538438052971|\n",
            "| 14|2011|    1|   1|  9|saturday|      0| spring| Clear or Few Cloudy|-0.919145895092722|0.688183666569809|  -1.5538438052971|\n",
            "| 36|2011|    1|   1| 10|saturday|      0| spring| Clear or Few Cloudy|-0.607548426206302|0.688183666569809| 0.519881272378821|\n",
            "| 56|2011|    1|   1| 11|saturday|      0| spring| Clear or Few Cloudy|-0.711414249168442|0.947345243330896| 0.764281665845554|\n",
            "| 84|2011|    1|   1| 12|saturday|      0| spring| Clear or Few Cloudy|-0.399816780282022|0.740015981922026| 0.764281665845554|\n",
            "| 94|2011|    1|   1| 13|saturday|      0| spring|      Mist or Cloudy|-0.192085134357741|0.480854405160939| 0.886073166268775|\n",
            "|106|2011|    1|   1| 14|saturday|      0| spring|      Mist or Cloudy|-0.192085134357741|0.480854405160939| 0.764281665845554|\n",
            "|110|2011|    1|   1| 15|saturday|      0| spring|      Mist or Cloudy|-0.295950957319881|0.740015981922026| 0.886073166268775|\n",
            "| 93|2011|    1|   1| 16|saturday|      0| spring|      Mist or Cloudy|-0.399816780282022|0.999177558683113| 0.886073166268775|\n",
            "| 67|2011|    1|   1| 17|saturday|      0| spring|      Mist or Cloudy|-0.295950957319881|0.999177558683113| 0.764281665845554|\n",
            "| 35|2011|    1|   1| 18|saturday|      0| spring|Light Snow or Lig...|-0.399816780282022| 1.31017145079642| 0.519881272378821|\n",
            "| 37|2011|    1|   1| 19|saturday|      0| spring|Light Snow or Lig...|-0.399816780282022| 1.31017145079642| 0.519881272378821|\n",
            "+---+----+-----+----+---+--------+-------+-------+--------------------+------------------+-----------------+------------------+\n",
            "only showing top 20 rows\n",
            "\n"
          ]
        }
      ]
    },
    {
      "cell_type": "code",
      "source": [
        "df.count()"
      ],
      "metadata": {
        "colab": {
          "base_uri": "https://localhost:8080/"
        },
        "id": "LiS51jUkzyu1",
        "outputId": "df4cbd0b-adc8-4a3d-e33b-c86240c28f17"
      },
      "execution_count": 7,
      "outputs": [
        {
          "output_type": "execute_result",
          "data": {
            "text/plain": [
              "17376"
            ]
          },
          "metadata": {},
          "execution_count": 7
        }
      ]
    },
    {
      "cell_type": "code",
      "source": [
        "(\n",
        "    df\n",
        "    .select('year')\n",
        "    .distinct()\n",
        "    .show()\n",
        ")"
      ],
      "metadata": {
        "colab": {
          "base_uri": "https://localhost:8080/"
        },
        "id": "M3XEohyGzSnb",
        "outputId": "21589063-16c4-4751-b73c-dc1631db2142"
      },
      "execution_count": 6,
      "outputs": [
        {
          "output_type": "stream",
          "name": "stdout",
          "text": [
            "+----+\n",
            "|year|\n",
            "+----+\n",
            "|2011|\n",
            "|2012|\n",
            "+----+\n",
            "\n"
          ]
        }
      ]
    },
    {
      "cell_type": "code",
      "source": [
        "(\n",
        "    df\n",
        "    .select('hr')\n",
        "    .distinct()\n",
        "    .orderBy('hr')\n",
        "    .show(25)\n",
        ")"
      ],
      "metadata": {
        "colab": {
          "base_uri": "https://localhost:8080/"
        },
        "id": "yFoZyOsxz6q5",
        "outputId": "ba3b1288-1b4d-42d9-f1da-87e1b807a758"
      },
      "execution_count": 10,
      "outputs": [
        {
          "output_type": "stream",
          "name": "stdout",
          "text": [
            "+---+\n",
            "| hr|\n",
            "+---+\n",
            "|  0|\n",
            "|  1|\n",
            "|  2|\n",
            "|  3|\n",
            "|  4|\n",
            "|  5|\n",
            "|  6|\n",
            "|  7|\n",
            "|  8|\n",
            "|  9|\n",
            "| 10|\n",
            "| 11|\n",
            "| 12|\n",
            "| 13|\n",
            "| 14|\n",
            "| 15|\n",
            "| 16|\n",
            "| 17|\n",
            "| 18|\n",
            "| 19|\n",
            "| 20|\n",
            "| 21|\n",
            "| 22|\n",
            "| 23|\n",
            "+---+\n",
            "\n"
          ]
        }
      ]
    },
    {
      "cell_type": "code",
      "source": [
        "df.describe().show()"
      ],
      "metadata": {
        "colab": {
          "base_uri": "https://localhost:8080/"
        },
        "id": "oBbuPs9K1GkT",
        "outputId": "05967202-addb-4c09-c739-c90780227bdf"
      },
      "execution_count": 11,
      "outputs": [
        {
          "output_type": "stream",
          "name": "stdout",
          "text": [
            "+-------+-----------------+------------------+------------------+------------------+------------------+---------+--------------------+-------+-------------------+--------------------+--------------------+--------------------+\n",
            "|summary|              cnt|              year|             month|              date|                hr|    wkday|             holiday|seasons|       weather_cond|                temp|                 hum|           windspeed|\n",
            "+-------+-----------------+------------------+------------------+------------------+------------------+---------+--------------------+-------+-------------------+--------------------+--------------------+--------------------+\n",
            "|  count|            17376|             17376|             17376|             17376|             17376|    17376|               17376|  17376|              17376|               17376|               17376|               17376|\n",
            "|   mean|189.4829650092081| 2011.502532228361| 6.538731583793738|15.682895948434622|11.546731123388582|     NULL|0.028775322283609576|   NULL|               NULL|2.782432173414443E-4|-2.29186617616944...|-1.96196719787483...|\n",
            "| stddev|181.3950218567111|0.5000079758750275|3.4383025228315445| 8.789544988430704| 6.914283222380914|     NULL|  0.1671792797835931|   NULL|               NULL|  0.9998593726137501|  0.9999316512968688|  1.0000301062750698|\n",
            "|    min|                1|              2011|                 1|                 1|                 0|   friday|                   0|   fall|Clear or Few Cloudy|   -2.47713323952482|   -3.25107230019872|    -1.5538438052971|\n",
            "|    max|              977|              2012|                12|                31|                23|wednesday|                   1| winter|     Mist or Cloudy|    2.61229208562004|    1.93215923502303|    5.39971521551057|\n",
            "+-------+-----------------+------------------+------------------+------------------+------------------+---------+--------------------+-------+-------------------+--------------------+--------------------+--------------------+\n",
            "\n"
          ]
        }
      ]
    },
    {
      "cell_type": "code",
      "source": [
        "df.describe().show()"
      ],
      "metadata": {
        "id": "ATkZHYji1P_f"
      },
      "execution_count": null,
      "outputs": []
    },
    {
      "cell_type": "code",
      "source": [
        "(\n",
        "    df\n",
        "    .select('holiday')\n",
        "    .distinct()\n",
        "    .show()\n",
        ")"
      ],
      "metadata": {
        "colab": {
          "base_uri": "https://localhost:8080/"
        },
        "id": "DYzU_W-M1TV0",
        "outputId": "03d916b9-665a-4001-db17-11a19d0eeebc"
      },
      "execution_count": 12,
      "outputs": [
        {
          "output_type": "stream",
          "name": "stdout",
          "text": [
            "+-------+\n",
            "|holiday|\n",
            "+-------+\n",
            "|      0|\n",
            "|      1|\n",
            "+-------+\n",
            "\n"
          ]
        }
      ]
    },
    {
      "cell_type": "code",
      "source": [
        "df.groupBy(\"holiday\").count().show()"
      ],
      "metadata": {
        "colab": {
          "base_uri": "https://localhost:8080/"
        },
        "id": "yE7r0aO81ihH",
        "outputId": "43deff00-397f-4cb7-80e0-f35bfaa2d375"
      },
      "execution_count": 14,
      "outputs": [
        {
          "output_type": "stream",
          "name": "stdout",
          "text": [
            "+-------+-----+\n",
            "|holiday|count|\n",
            "+-------+-----+\n",
            "|      0|16876|\n",
            "|      1|  500|\n",
            "+-------+-----+\n",
            "\n"
          ]
        }
      ]
    },
    {
      "cell_type": "code",
      "source": [
        "df.groupBy(\"weather_cond\").count().show(truncate = False)"
      ],
      "metadata": {
        "colab": {
          "base_uri": "https://localhost:8080/"
        },
        "id": "iVlZ9aQw1pRO",
        "outputId": "460dc6da-9648-4548-ee36-ef7f8f7644c6"
      },
      "execution_count": 16,
      "outputs": [
        {
          "output_type": "stream",
          "name": "stdout",
          "text": [
            "+------------------------+-----+\n",
            "|weather_cond            |count|\n",
            "+------------------------+-----+\n",
            "|Light Snow or Light Rain|1419 |\n",
            "|Clear or Few Cloudy     |11413|\n",
            "|Mist or Cloudy          |4544 |\n",
            "+------------------------+-----+\n",
            "\n"
          ]
        }
      ]
    },
    {
      "cell_type": "code",
      "source": [
        "df.groupBy(\"hr\").count().show()"
      ],
      "metadata": {
        "colab": {
          "base_uri": "https://localhost:8080/"
        },
        "id": "CEe3Ge9D14B4",
        "outputId": "26b40685-bacc-41c6-d4d5-8fb50a14e74e"
      },
      "execution_count": 17,
      "outputs": [
        {
          "output_type": "stream",
          "name": "stdout",
          "text": [
            "+---+-----+\n",
            "| hr|count|\n",
            "+---+-----+\n",
            "| 19|  728|\n",
            "|  0|  726|\n",
            "| 22|  728|\n",
            "|  7|  727|\n",
            "|  6|  725|\n",
            "|  9|  727|\n",
            "| 17|  730|\n",
            "|  5|  717|\n",
            "|  1|  723|\n",
            "| 10|  727|\n",
            "|  3|  697|\n",
            "| 12|  728|\n",
            "|  8|  727|\n",
            "| 11|  727|\n",
            "|  2|  715|\n",
            "|  4|  697|\n",
            "| 13|  729|\n",
            "| 18|  727|\n",
            "| 14|  729|\n",
            "| 21|  728|\n",
            "+---+-----+\n",
            "only showing top 20 rows\n",
            "\n"
          ]
        }
      ]
    },
    {
      "cell_type": "code",
      "source": [
        "df.groupBy('seasons').count().show()"
      ],
      "metadata": {
        "colab": {
          "base_uri": "https://localhost:8080/"
        },
        "id": "eq_4fUjI312R",
        "outputId": "8d0f90ab-5803-4070-a97a-e8682602ef47"
      },
      "execution_count": 19,
      "outputs": [
        {
          "output_type": "stream",
          "name": "stdout",
          "text": [
            "+-------+-----+\n",
            "|seasons|count|\n",
            "+-------+-----+\n",
            "| winter| 4232|\n",
            "| summer| 4409|\n",
            "| spring| 4239|\n",
            "|   fall| 4496|\n",
            "+-------+-----+\n",
            "\n"
          ]
        }
      ]
    },
    {
      "cell_type": "markdown",
      "source": [
        "## Q2"
      ],
      "metadata": {
        "id": "CCCUa3tQ2Dtv"
      }
    },
    {
      "cell_type": "code",
      "source": [
        "dtrain, dtest = df.randomSplit([0.6, 0.4], seed = 1234)\n"
      ],
      "metadata": {
        "id": "hMTgFnLe2FTS"
      },
      "execution_count": 18,
      "outputs": []
    },
    {
      "cell_type": "markdown",
      "source": [
        "## Q3-Q4"
      ],
      "metadata": {
        "id": "UxSqptQT2Pxt"
      }
    },
    {
      "cell_type": "code",
      "source": [
        "dummy_cols_year, ref_category_year = add_dummy_variables('year', 0)\n",
        "dummy_cols_month, ref_category_month = add_dummy_variables('month', 0)\n",
        "dummy_cols_hr, ref_category_hr = add_dummy_variables('hr', 0)\n",
        "\n",
        "# Example usage with category_order:\n",
        "custom_order_wkday = ['sunday', 'monday', 'tuesday', 'wednesday', 'thursday', 'friday', 'saturday']\n",
        "dummy_cols_wkday, ref_category_wkday = add_dummy_variables('wkday', reference_level=0, category_order = custom_order_wkday)\n",
        "\n",
        "dummy_cols_holiday, ref_category_holiday = add_dummy_variables('holiday', 0)\n",
        "\n",
        "# Example usage with category_order:\n",
        "custom_order_seasons = ['spring', 'summer', 'fall', 'winter']\n",
        "dummy_cols_seasons, ref_category_seasons = add_dummy_variables('seasons', 0, custom_order_seasons)\n",
        "\n",
        "dummy_cols_weather_cond, ref_category_weather_cond = add_dummy_variables('weather_cond', 0)\n"
      ],
      "metadata": {
        "colab": {
          "base_uri": "https://localhost:8080/"
        },
        "id": "SoESvhjA2Ph1",
        "outputId": "f1c69f09-f816-495a-a7c2-5786e25780aa"
      },
      "execution_count": 20,
      "outputs": [
        {
          "output_type": "stream",
          "name": "stdout",
          "text": [
            "Reference category (dummy omitted): 2011\n",
            "Reference category (dummy omitted): 1\n",
            "Reference category (dummy omitted): 0\n",
            "Reference category (dummy omitted): sunday\n",
            "Reference category (dummy omitted): 0\n",
            "Reference category (dummy omitted): spring\n",
            "Reference category (dummy omitted): Clear or Few Cloudy\n"
          ]
        }
      ]
    },
    {
      "cell_type": "code",
      "source": [
        "dtrain.show()"
      ],
      "metadata": {
        "colab": {
          "base_uri": "https://localhost:8080/"
        },
        "id": "KNBxWMUc4g1C",
        "outputId": "538d5a4c-2309-4c47-84d1-f8c1533476c5"
      },
      "execution_count": 21,
      "outputs": [
        {
          "output_type": "stream",
          "name": "stdout",
          "text": [
            "+---+----+-----+----+---+---------+-------+-------+--------------------+------------------+------------------+------------------+---------+---------+-------+-------+-------+-------+-------+-------+-------+-------+-------+--------+--------+--------+----+----+----+----+----+----+----+----+----+----+-----+-----+-----+-----+-----+-----+-----+-----+-----+-----+-----+-----+-----+-----+------------+------------+-------------+---------------+--------------+------------+--------------+---------+---------+--------------+--------------+------------+--------------+--------------------------------+-------------------------------------+---------------------------+\n",
            "|cnt|year|month|date| hr|    wkday|holiday|seasons|        weather_cond|              temp|               hum|         windspeed|year_2011|year_2012|month_1|month_2|month_3|month_4|month_5|month_6|month_7|month_8|month_9|month_10|month_11|month_12|hr_0|hr_1|hr_2|hr_3|hr_4|hr_5|hr_6|hr_7|hr_8|hr_9|hr_10|hr_11|hr_12|hr_13|hr_14|hr_15|hr_16|hr_17|hr_18|hr_19|hr_20|hr_21|hr_22|hr_23|wkday_sunday|wkday_monday|wkday_tuesday|wkday_wednesday|wkday_thursday|wkday_friday|wkday_saturday|holiday_0|holiday_1|seasons_spring|seasons_summer|seasons_fall|seasons_winter|weather_cond_Clear_or_Few_Cloudy|weather_cond_Light_Snow_or_Light_Rain|weather_cond_Mist_or_Cloudy|\n",
            "+---+----+-----+----+---+---------+-------+-------+--------------------+------------------+------------------+------------------+---------+---------+-------+-------+-------+-------+-------+-------+-------+-------+-------+--------+--------+--------+----+----+----+----+----+----+----+----+----+----+-----+-----+-----+-----+-----+-----+-----+-----+-----+-----+-----+-----+-----+-----+------------+------------+-------------+---------------+--------------+------------+--------------+---------+---------+--------------+--------------+------------+--------------+--------------------------------+-------------------------------------+---------------------------+\n",
            "|  1|2011|    1|   2|  7|   sunday|      0| spring|      Mist or Cloudy|-0.503682603244161| 0.688183666569809|0.0318978780656464|        1|        0|      1|      0|      0|      0|      0|      0|      0|      0|      0|       0|       0|       0|   0|   0|   0|   0|   0|   0|   0|   1|   0|   0|    0|    0|    0|    0|    0|    0|    0|    0|    0|    0|    0|    0|    0|    0|           1|           0|            0|              0|             0|           0|             0|        1|        0|             1|             0|           0|             0|                               0|                                    0|                          1|\n",
            "|  1|2011|    1|   3|  4|   monday|      0| spring| Clear or Few Cloudy| -1.75007247878984|-0.814953478644498|  1.61845695404868|        1|        0|      1|      0|      0|      0|      0|      0|      0|      0|      0|       0|       0|       0|   0|   0|   0|   0|   1|   0|   0|   0|   0|   0|    0|    0|    0|    0|    0|    0|    0|    0|    0|    0|    0|    0|    0|    0|           0|           1|            0|              0|             0|           0|             0|        1|        0|             1|             0|           0|             0|                               1|                                    0|                          0|\n",
            "|  1|2011|    1|   6|  4| thursday|      0| spring|      Mist or Cloudy| -1.75007247878984|0.0661958823431994|-0.821460017517193|        1|        0|      1|      0|      0|      0|      0|      0|      0|      0|      0|       0|       0|       0|   0|   0|   0|   0|   1|   0|   0|   0|   0|   0|    0|    0|    0|    0|    0|    0|    0|    0|    0|    0|    0|    0|    0|    0|           0|           0|            0|              0|             1|           0|             0|        1|        0|             1|             0|           0|             0|                               0|                                    0|                          1|\n",
            "|  1|2011|    1|   7|  2|   friday|      0| spring|      Mist or Cloudy| -1.54234083286556| 0.325357459104286| 0.276298271532379|        1|        0|      1|      0|      0|      0|      0|      0|      0|      0|      0|       0|       0|       0|   0|   0|   1|   0|   0|   0|   0|   0|   0|   0|    0|    0|    0|    0|    0|    0|    0|    0|    0|    0|    0|    0|    0|    0|           0|           0|            0|              0|             0|           1|             0|        1|        0|             1|             0|           0|             0|                               0|                                    0|                          1|\n",
            "|  1|2011|    1|   7|  4|   friday|      0| spring|      Mist or Cloudy| -1.54234083286556| 0.325357459104286|-0.456085516247529|        1|        0|      1|      0|      0|      0|      0|      0|      0|      0|      0|       0|       0|       0|   0|   0|   0|   0|   1|   0|   0|   0|   0|   0|    0|    0|    0|    0|    0|    0|    0|    0|    0|    0|    0|    0|    0|    0|           0|           0|            0|              0|             0|           1|             0|        1|        0|             1|             0|           0|             0|                               0|                                    0|                          1|\n",
            "|  1|2011|    1|   8|  4| saturday|      0| spring|Light Snow or Lig...|  -1.6462066558277|-0.400294955826758|-0.211685122780796|        1|        0|      1|      0|      0|      0|      0|      0|      0|      0|      0|       0|       0|       0|   0|   0|   0|   0|   1|   0|   0|   0|   0|   0|    0|    0|    0|    0|    0|    0|    0|    0|    0|    0|    0|    0|    0|    0|           0|           0|            0|              0|             0|           0|             1|        1|        0|             1|             0|           0|             0|                               0|                                    1|                          0|\n",
            "|  1|2011|    1|   9|  5|   sunday|      0| spring| Clear or Few Cloudy|  -2.1655357706384|-0.503959586531193|0.0318978780656464|        1|        0|      1|      0|      0|      0|      0|      0|      0|      0|      0|       0|       0|       0|   0|   0|   0|   0|   0|   1|   0|   0|   0|   0|    0|    0|    0|    0|    0|    0|    0|    0|    0|    0|    0|    0|    0|    0|           1|           0|            0|              0|             0|           0|             0|        1|        0|             1|             0|           0|             0|                               1|                                    0|                          0|\n",
            "|  1|2011|    1|   9|  6|   sunday|      0| spring| Clear or Few Cloudy| -2.06166994767626|-0.711288847940063| 0.764281665845554|        1|        0|      1|      0|      0|      0|      0|      0|      0|      0|      0|       0|       0|       0|   0|   0|   0|   0|   0|   0|   1|   0|   0|   0|    0|    0|    0|    0|    0|    0|    0|    0|    0|    0|    0|    0|    0|    0|           1|           0|            0|              0|             0|           0|             0|        1|        0|             1|             0|           0|             0|                               1|                                    0|                          0|\n",
            "|  1|2011|    1|  10|  1|   monday|      0| spring| Clear or Few Cloudy| -1.95780412471412|-0.659456532587845| 0.764281665845554|        1|        0|      1|      0|      0|      0|      0|      0|      0|      0|      0|       0|       0|       0|   0|   1|   0|   0|   0|   0|   0|   0|   0|   0|    0|    0|    0|    0|    0|    0|    0|    0|    0|    0|    0|    0|    0|    0|           0|           1|            0|              0|             0|           0|             0|        1|        0|             1|             0|           0|             0|                               1|                                    0|                          0|\n",
            "|  1|2011|    1|  12|  2|wednesday|      0| spring| Clear or Few Cloudy| -1.85393830175198|  1.20650682009198|-0.456085516247529|        1|        0|      1|      0|      0|      0|      0|      0|      0|      0|      0|       0|       0|       0|   0|   0|   1|   0|   0|   0|   0|   0|   0|   0|    0|    0|    0|    0|    0|    0|    0|    0|    0|    0|    0|    0|    0|    0|           0|           0|            0|              1|             0|           0|             0|        1|        0|             1|             0|           0|             0|                               1|                                    0|                          0|\n",
            "|  1|2011|    1|  14|  3|   friday|      0| spring| Clear or Few Cloudy| -2.06166994767626|-0.452127271178975|-0.699668517093971|        1|        0|      1|      0|      0|      0|      0|      0|      0|      0|      0|       0|       0|       0|   0|   0|   0|   1|   0|   0|   0|   0|   0|   0|    0|    0|    0|    0|    0|    0|    0|    0|    0|    0|    0|    0|    0|    0|           0|           0|            0|              0|             0|           1|             0|        1|        0|             1|             0|           0|             0|                               1|                                    0|                          0|\n",
            "|  1|2011|    1|  15|  5| saturday|      0| spring| Clear or Few Cloudy| -1.75007247878984|-0.192965694417888|  -1.5538438052971|        1|        0|      1|      0|      0|      0|      0|      0|      0|      0|      0|       0|       0|       0|   0|   0|   0|   0|   0|   1|   0|   0|   0|   0|    0|    0|    0|    0|    0|    0|    0|    0|    0|    0|    0|    0|    0|    0|           0|           0|            0|              0|             0|           0|             1|        1|        0|             1|             0|           0|             0|                               1|                                    0|                          0|\n",
            "|  1|2011|    1|  16|  4|   sunday|      0| spring| Clear or Few Cloudy| -1.23074336397914| -0.34846264047454|-0.211685122780796|        1|        0|      1|      0|      0|      0|      0|      0|      0|      0|      0|       0|       0|       0|   0|   0|   0|   0|   1|   0|   0|   0|   0|   0|    0|    0|    0|    0|    0|    0|    0|    0|    0|    0|    0|    0|    0|    0|           1|           0|            0|              0|             0|           0|             0|        1|        0|             1|             0|           0|             0|                               1|                                    0|                          0|\n",
            "|  1|2011|    1|  16|  6|   sunday|      0| spring|      Mist or Cloudy| -1.23074336397914| -0.34846264047454|-0.211685122780796|        1|        0|      1|      0|      0|      0|      0|      0|      0|      0|      0|       0|       0|       0|   0|   0|   0|   0|   0|   0|   1|   0|   0|   0|    0|    0|    0|    0|    0|    0|    0|    0|    0|    0|    0|    0|    0|    0|           1|           0|            0|              0|             0|           0|             0|        1|        0|             1|             0|           0|             0|                               0|                                    0|                          1|\n",
            "|  1|2011|    1|  17|  5|   monday|      1| spring|      Mist or Cloudy|  -1.6462066558277| -1.02228274005337|-0.211685122780796|        1|        0|      1|      0|      0|      0|      0|      0|      0|      0|      0|       0|       0|       0|   0|   0|   0|   0|   0|   1|   0|   0|   0|   0|    0|    0|    0|    0|    0|    0|    0|    0|    0|    0|    0|    0|    0|    0|           0|           1|            0|              0|             0|           0|             0|        0|        1|             1|             0|           0|             0|                               0|                                    0|                          1|\n",
            "|  1|2011|    1|  20|  4| thursday|      0| spring| Clear or Few Cloudy| -1.23074336397914| -0.34846264047454|-0.211685122780796|        1|        0|      1|      0|      0|      0|      0|      0|      0|      0|      0|       0|       0|       0|   0|   0|   0|   0|   1|   0|   0|   0|   0|   0|    0|    0|    0|    0|    0|    0|    0|    0|    0|    0|    0|    0|    0|    0|           0|           0|            0|              0|             1|           0|             0|        1|        0|             1|             0|           0|             0|                               1|                                    0|                          0|\n",
            "|  1|2011|    1|  21|  3|   friday|      0| spring|Light Snow or Lig...| -1.43847500990342| 0.895512927978679| 0.886073166268775|        1|        0|      1|      0|      0|      0|      0|      0|      0|      0|      0|       0|       0|       0|   0|   0|   0|   1|   0|   0|   0|   0|   0|   0|    0|    0|    0|    0|    0|    0|    0|    0|    0|    0|    0|    0|    0|    0|           0|           0|            0|              0|             0|           1|             0|        1|        0|             1|             0|           0|             0|                               0|                                    1|                          0|\n",
            "|  1|2011|    1|  24|  4|   monday|      0| spring| Clear or Few Cloudy| -2.47713323952482| -0.76312116329228|-0.456085516247529|        1|        0|      1|      0|      0|      0|      0|      0|      0|      0|      0|       0|       0|       0|   0|   0|   0|   0|   1|   0|   0|   0|   0|   0|    0|    0|    0|    0|    0|    0|    0|    0|    0|    0|    0|    0|    0|    0|           0|           1|            0|              0|             0|           0|             0|        1|        0|             1|             0|           0|             0|                               1|                                    0|                          0|\n",
            "|  1|2011|    1|  26|  5|wednesday|      0| spring|Light Snow or Lig...| -1.54234083286556|  1.20650682009198| 0.764281665845554|        1|        0|      1|      0|      0|      0|      0|      0|      0|      0|      0|       0|       0|       0|   0|   0|   0|   0|   0|   1|   0|   0|   0|   0|    0|    0|    0|    0|    0|    0|    0|    0|    0|    0|    0|    0|    0|    0|           0|           0|            0|              1|             0|           0|             0|        1|        0|             1|             0|           0|             0|                               0|                                    1|                          0|\n",
            "|  1|2011|    2|   2|  4|wednesday|      0| spring|Light Snow or Lig...| -1.43847500990342|  1.56933302755751| 0.764281665845554|        1|        0|      0|      1|      0|      0|      0|      0|      0|      0|      0|       0|       0|       0|   0|   0|   0|   0|   1|   0|   0|   0|   0|   0|    0|    0|    0|    0|    0|    0|    0|    0|    0|    0|    0|    0|    0|    0|           0|           0|            0|              1|             0|           0|             0|        1|        0|             1|             0|           0|             0|                               0|                                    1|                          0|\n",
            "+---+----+-----+----+---+---------+-------+-------+--------------------+------------------+------------------+------------------+---------+---------+-------+-------+-------+-------+-------+-------+-------+-------+-------+--------+--------+--------+----+----+----+----+----+----+----+----+----+----+-----+-----+-----+-----+-----+-----+-----+-----+-----+-----+-----+-----+-----+-----+------------+------------+-------------+---------------+--------------+------------+--------------+---------+---------+--------------+--------------+------------+--------------+--------------------------------+-------------------------------------+---------------------------+\n",
            "only showing top 20 rows\n",
            "\n"
          ]
        }
      ]
    },
    {
      "cell_type": "code",
      "source": [
        "conti_cols = [\"temp\", \"hum\", \"windspeed\"]\n",
        "assembler_predictors = conti_cols + dummy_cols_year + dummy_cols_month + dummy_cols_hr + dummy_cols_wkday + dummy_cols_holiday + dummy_cols_seasons + dummy_cols_weather_cond\n",
        "\n",
        "assembler = VectorAssembler(\n",
        "    inputCols = assembler_predictors,\n",
        "    outputCol = \"predictors\"\n",
        ")\n",
        "dtrain_dum = assembler.transform(dtrain)\n",
        "dtest_dum  = assembler.transform(dtest)\n",
        "model_dum = LinearRegression(featuresCol=\"predictors\", labelCol=\"cnt\").fit(dtrain_dum)\n",
        "dtest_dum = model_dum.transform(dtest_dum) # Q4. adding prediction column to test data\n",
        "\n",
        "# For model_dum and assembler:\n",
        "print( regression_table(model_dum, assembler) )"
      ],
      "metadata": {
        "colab": {
          "base_uri": "https://localhost:8080/"
        },
        "id": "4iAXQX0i4n3r",
        "outputId": "5a4ffc9d-ecc1-4c18-89cd-9d58a9dba552"
      },
      "execution_count": 24,
      "outputs": [
        {
          "output_type": "stream",
          "name": "stdout",
          "text": [
            "+---------------------------------------------+---------+------+------------+---------+--------------+--------------+\n",
            "| Metric                                      |   Value | Sig. | Std. Error | p-value | 95% CI Lower | 95% CI Upper |\n",
            "+---------------------------------------------+---------+------+------------+---------+--------------+--------------+\n",
            "| Beta: temp                                  |  45.307 | ***  |      1.395 |   0.000 |       42.573 |       48.042 |\n",
            "| Beta: hum                                   | -17.193 | ***  |      1.095 |   0.000 |      -19.339 |      -15.046 |\n",
            "| Beta: windspeed                             |  -4.617 | ***  |      2.029 |   0.000 |       -8.595 |       -0.639 |\n",
            "| Beta: year_2012                             |  85.361 | ***  |      5.129 |   0.000 |       75.308 |       95.414 |\n",
            "| Beta: month_2                               |   8.508 |  *   |      5.765 |   0.097 |       -2.792 |       19.809 |\n",
            "| Beta: month_3                               |  18.322 | ***  |      8.557 |   0.001 |        1.550 |       35.095 |\n",
            "| Beta: month_4                               |  10.784 |      |      9.177 |   0.208 |       -7.205 |       28.772 |\n",
            "| Beta: month_5                               |  25.990 | ***  |      9.402 |   0.005 |        7.561 |       44.420 |\n",
            "| Beta: month_6                               |   4.947 |      |     10.543 |   0.599 |      -15.720 |       25.613 |\n",
            "| Beta: month_7                               | -10.677 |      |     10.250 |   0.311 |      -30.768 |        9.415 |\n",
            "| Beta: month_8                               |  10.144 |      |      9.119 |   0.322 |       -7.732 |       28.020 |\n",
            "| Beta: month_9                               |  34.887 | ***  |      8.440 |   0.000 |       18.343 |       51.432 |\n",
            "| Beta: month_10                              |  18.646 |  **  |      8.105 |   0.027 |        2.758 |       34.534 |\n",
            "| Beta: month_11                              |  -6.450 |      |      6.482 |   0.426 |      -19.155 |        6.256 |\n",
            "| Beta: month_12                              |  -5.341 |      |      6.938 |   0.410 |      -18.940 |        8.258 |\n",
            "| Beta: hr_1                                  | -19.935 | ***  |      6.964 |   0.004 |      -33.585 |       -6.285 |\n",
            "| Beta: hr_2                                  | -26.234 | ***  |      6.986 |   0.000 |      -39.929 |      -12.540 |\n",
            "| Beta: hr_3                                  | -40.899 | ***  |      6.919 |   0.000 |      -54.461 |      -27.336 |\n",
            "| Beta: hr_4                                  | -41.142 | ***  |      6.974 |   0.000 |      -54.813 |      -27.472 |\n",
            "| Beta: hr_5                                  | -24.888 | ***  |      6.922 |   0.000 |      -38.456 |      -11.321 |\n",
            "| Beta: hr_6                                  |  31.898 | ***  |      6.991 |   0.000 |       18.194 |       45.601 |\n",
            "| Beta: hr_7                                  | 166.868 | ***  |      6.959 |   0.000 |      153.228 |      180.508 |\n",
            "| Beta: hr_8                                  | 294.758 | ***  |      6.915 |   0.000 |      281.203 |      308.312 |\n",
            "| Beta: hr_9                                  | 163.694 | ***  |      6.967 |   0.000 |      150.037 |      177.351 |\n",
            "| Beta: hr_10                                 | 109.802 | ***  |      7.056 |   0.000 |       95.971 |      123.634 |\n",
            "| Beta: hr_11                                 | 134.459 | ***  |      7.085 |   0.000 |      120.571 |      148.347 |\n",
            "| Beta: hr_12                                 | 176.590 | ***  |      7.132 |   0.000 |      162.609 |      190.570 |\n",
            "| Beta: hr_13                                 | 166.123 | ***  |      7.152 |   0.000 |      152.105 |      180.142 |\n",
            "| Beta: hr_14                                 | 151.832 | ***  |      7.053 |   0.000 |      138.006 |      165.657 |\n",
            "| Beta: hr_15                                 | 160.555 | ***  |      7.208 |   0.000 |      146.427 |      174.683 |\n",
            "| Beta: hr_16                                 | 224.717 | ***  |      7.129 |   0.000 |      210.742 |      238.691 |\n",
            "| Beta: hr_17                                 | 378.531 | ***  |      7.007 |   0.000 |      364.796 |      392.265 |\n",
            "| Beta: hr_18                                 | 339.843 | ***  |      6.962 |   0.000 |      326.196 |      353.490 |\n",
            "| Beta: hr_19                                 | 233.479 | ***  |      6.963 |   0.000 |      219.830 |      247.127 |\n",
            "| Beta: hr_20                                 | 156.485 | ***  |      6.922 |   0.000 |      142.917 |      170.053 |\n",
            "| Beta: hr_21                                 | 109.363 | ***  |      6.866 |   0.000 |       95.904 |      122.821 |\n",
            "| Beta: hr_22                                 |  69.689 | ***  |      6.903 |   0.000 |       56.157 |       83.220 |\n",
            "| Beta: hr_23                                 |  29.770 | ***  |      3.861 |   0.000 |       22.201 |       37.339 |\n",
            "| Beta: wkday_monday                          |  11.570 | ***  |      3.760 |   0.003 |        4.200 |       18.940 |\n",
            "| Beta: wkday_tuesday                         |  11.127 | ***  |      3.798 |   0.003 |        3.682 |       18.571 |\n",
            "| Beta: wkday_wednesday                       |  11.043 | ***  |      3.770 |   0.004 |        3.653 |       18.433 |\n",
            "| Beta: wkday_thursday                        |  15.072 | ***  |      3.757 |   0.000 |        7.707 |       22.437 |\n",
            "| Beta: wkday_friday                          |  18.413 | ***  |      3.757 |   0.000 |       11.048 |       25.778 |\n",
            "| Beta: wkday_saturday                        |  22.575 | ***  |      6.324 |   0.000 |       10.179 |       34.971 |\n",
            "| Beta: holiday_1                             | -27.635 | ***  |      6.360 |   0.000 |      -40.102 |      -15.169 |\n",
            "| Beta: seasons_summer                        |  37.101 | ***  |      7.501 |   0.000 |       22.398 |       51.803 |\n",
            "| Beta: seasons_fall                          |  32.195 | ***  |      6.345 |   0.000 |       19.758 |       44.631 |\n",
            "| Beta: seasons_winter                        |  68.404 | ***  |      4.235 |   0.000 |       60.102 |       76.706 |\n",
            "| Beta: weather_cond_Light_Snow_or_Light_Rain | -57.274 | ***  |      2.495 |   0.000 |      -62.166 |      -52.383 |\n",
            "| Beta: weather_cond_Mist_or_Cloudy           | -10.256 | ***  |      7.526 |   0.000 |      -25.008 |        4.496 |\n",
            "| Intercept                                   | -25.277 | ***  |      2.362 |   0.000 |      -29.906 |      -20.648 |\n",
            "---------------------------------------------------------------------------------------------------------------------\n",
            "| Observations                                |  10,431 |      |            |         |              |              |\n",
            "| R²                                          |   0.685 |      |            |         |              |              |\n",
            "| RMSE                                        | 102.177 |      |            |         |              |              |\n",
            "+---------------------------------------------+---------+------+------------+---------+--------------+--------------+\n"
          ]
        }
      ]
    }
  ]
}