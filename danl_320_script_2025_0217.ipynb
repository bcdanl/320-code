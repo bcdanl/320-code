{
  "nbformat": 4,
  "nbformat_minor": 0,
  "metadata": {
    "colab": {
      "provenance": [],
      "authorship_tag": "ABX9TyOUhZZY1vYqfCjGl4gbKD0T",
      "include_colab_link": true
    },
    "kernelspec": {
      "name": "python3",
      "display_name": "Python 3"
    },
    "language_info": {
      "name": "python"
    }
  },
  "cells": [
    {
      "cell_type": "markdown",
      "metadata": {
        "id": "view-in-github",
        "colab_type": "text"
      },
      "source": [
        "<a href=\"https://colab.research.google.com/github/bcdanl/320-code/blob/main/danl_320_script_2025_0217.ipynb\" target=\"_parent\"><img src=\"https://colab.research.google.com/assets/colab-badge.svg\" alt=\"Open In Colab\"/></a>"
      ]
    },
    {
      "cell_type": "markdown",
      "source": [
        "# CW 7"
      ],
      "metadata": {
        "id": "39pZ-TETno8e"
      }
    },
    {
      "cell_type": "code",
      "source": [
        "from pyspark.sql.functions import min, max, mean, col, avg, std"
      ],
      "metadata": {
        "id": "VSji8kPDsaLG"
      },
      "execution_count": 22,
      "outputs": []
    },
    {
      "cell_type": "code",
      "execution_count": 2,
      "metadata": {
        "colab": {
          "base_uri": "https://localhost:8080/"
        },
        "id": "exjte0KhlIWr",
        "outputId": "90a9b2f6-2755-4694-ba92-f2c2f8028388"
      },
      "outputs": [
        {
          "output_type": "stream",
          "name": "stdout",
          "text": [
            "+--------------------+--------------+----+--------+-----+------+\n",
            "|                Name|  Manufacturer|Type|Calories|Fiber|Sugars|\n",
            "+--------------------+--------------+----+--------+-----+------+\n",
            "|           100% Bran|       Nabisco|Cold|      70| 10.0|     6|\n",
            "|   100% Natural Bran|   Quaker Oats|Cold|     120|  2.0|     8|\n",
            "|            All-Bran|     Kellogg's|Cold|      70|  9.0|     5|\n",
            "|All-Bran with Ext...|     Kellogg's|Cold|      50| 14.0|     0|\n",
            "|      Almond Delight|Ralston Purina|Cold|     110|  1.0|     8|\n",
            "|Apple Cinnamon Ch...| General Mills|Cold|     110|  1.5|    10|\n",
            "|         Apple Jacks|     Kellogg's|Cold|     110|  1.0|    14|\n",
            "|             Basic 4| General Mills|Cold|     130|  2.0|     8|\n",
            "|           Bran Chex|Ralston Purina|Cold|      90|  4.0|     6|\n",
            "|         Bran Flakes|          Post|Cold|      90|  5.0|     5|\n",
            "|        Cap'n'Crunch|   Quaker Oats|Cold|     120|  0.0|    12|\n",
            "|            Cheerios| General Mills|Cold|     110|  2.0|     1|\n",
            "|Cinnamon Toast Cr...| General Mills|Cold|     120|  0.0|     9|\n",
            "|            Clusters| General Mills|Cold|     110|  2.0|     7|\n",
            "|         Cocoa Puffs| General Mills|Cold|     110|  0.0|    13|\n",
            "|           Corn Chex|Ralston Purina|Cold|     110|  0.0|     3|\n",
            "|         Corn Flakes|     Kellogg's|Cold|     100|  1.0|     2|\n",
            "|           Corn Pops|     Kellogg's|Cold|     110|  1.0|    12|\n",
            "|       Count Chocula| General Mills|Cold|     110|  0.0|    13|\n",
            "|  Cracklin' Oat Bran|     Kellogg's|Cold|     110|  4.0|     7|\n",
            "+--------------------+--------------+----+--------+-----+------+\n",
            "only showing top 20 rows\n",
            "\n"
          ]
        }
      ],
      "source": [
        "import pandas as pd\n",
        "from pyspark.sql import SparkSession\n",
        "from pyspark.sql.functions import min, max, mean, col, avg, sd\n",
        "from pyspark.sql.window import Window\n",
        "\n",
        "spark = SparkSession.builder.master(\"local[*]\").getOrCreate()\n",
        "df_pd = pd.read_csv('https://bcdanl.github.io/data/cereal_oatmeal.csv')\n",
        "cereal = spark.createDataFrame(df_pd)\n",
        "cereal.show()"
      ]
    },
    {
      "cell_type": "code",
      "source": [
        "cereal.printSchema()"
      ],
      "metadata": {
        "colab": {
          "base_uri": "https://localhost:8080/"
        },
        "id": "OlE6NWr7pV2u",
        "outputId": "3b35c710-6d31-478f-e980-21f5cf3a9b95"
      },
      "execution_count": 3,
      "outputs": [
        {
          "output_type": "stream",
          "name": "stdout",
          "text": [
            "root\n",
            " |-- Name: string (nullable = true)\n",
            " |-- Manufacturer: string (nullable = true)\n",
            " |-- Type: string (nullable = true)\n",
            " |-- Calories: long (nullable = true)\n",
            " |-- Fiber: double (nullable = true)\n",
            " |-- Sugars: long (nullable = true)\n",
            "\n"
          ]
        }
      ]
    },
    {
      "cell_type": "code",
      "source": [
        "cereal.describe().show(truncate = False)"
      ],
      "metadata": {
        "colab": {
          "base_uri": "https://localhost:8080/"
        },
        "id": "oqm_Sc-5pZU2",
        "outputId": "01da56e6-9833-4f5f-cc23-096e9da1dec9"
      },
      "execution_count": 5,
      "outputs": [
        {
          "output_type": "stream",
          "name": "stdout",
          "text": [
            "+-------+-------------------+---------------------------+----+------------------+------------------+------------------+\n",
            "|summary|Name               |Manufacturer               |Type|Calories          |Fiber             |Sugars            |\n",
            "+-------+-------------------+---------------------------+----+------------------+------------------+------------------+\n",
            "|count  |77                 |77                         |77  |77                |77                |77                |\n",
            "|mean   |NULL               |NULL                       |NULL|106.88311688311688|2.1519480519480516|6.922077922077922 |\n",
            "|stddev |NULL               |NULL                       |NULL|19.48411905682084 |2.3833639643872226|4.4448853924193585|\n",
            "|min    |100% Bran          |American Home Food Products|Cold|50                |0.0               |-1                |\n",
            "|max    |Wheaties Honey Gold|Ralston Purina             |Hot |160               |14.0              |15                |\n",
            "+-------+-------------------+---------------------------+----+------------------+------------------+------------------+\n",
            "\n"
          ]
        }
      ]
    },
    {
      "cell_type": "markdown",
      "source": [
        "## Q1\n",
        "Group the cereal DataFrame, using the Manufacturer variable.\n",
        "\n"
      ],
      "metadata": {
        "id": "YRLEbHTqoRkp"
      }
    },
    {
      "cell_type": "code",
      "source": [
        "grouped_df = cereal.groupBy(\"Manufacturer\")\n",
        "grouped_df"
      ],
      "metadata": {
        "colab": {
          "base_uri": "https://localhost:8080/"
        },
        "id": "hUDnMYuvoPAi",
        "outputId": "341d185b-07d9-41f7-a479-11f49283e81c"
      },
      "execution_count": 6,
      "outputs": [
        {
          "output_type": "execute_result",
          "data": {
            "text/plain": [
              "GroupedData[grouping expressions: [Manufacturer], value: [Name: string, Manufacturer: string ... 4 more fields], type: GroupBy]"
            ]
          },
          "metadata": {},
          "execution_count": 6
        }
      ]
    },
    {
      "cell_type": "markdown",
      "source": [
        "## Q2\n",
        "Determine the total number of groups, and the number of cereals per group.\n",
        "\n"
      ],
      "metadata": {
        "id": "cdjXoENDoalJ"
      }
    },
    {
      "cell_type": "code",
      "source": [
        "(\n",
        "    cereal\n",
        "    .select(\"Manufacturer\")\n",
        "    .distinct()\n",
        "    .count()\n",
        ")"
      ],
      "metadata": {
        "colab": {
          "base_uri": "https://localhost:8080/"
        },
        "id": "SzDa9mdzobAX",
        "outputId": "6697db73-dd7c-4b41-e472-44bbf0508a66"
      },
      "execution_count": 7,
      "outputs": [
        {
          "output_type": "execute_result",
          "data": {
            "text/plain": [
              "7"
            ]
          },
          "metadata": {},
          "execution_count": 7
        }
      ]
    },
    {
      "cell_type": "code",
      "source": [
        "grouped_df.count().show(truncate = False)"
      ],
      "metadata": {
        "colab": {
          "base_uri": "https://localhost:8080/"
        },
        "id": "_STLjIjJqCza",
        "outputId": "440c5738-d106-46b6-e423-22013cd6d12f"
      },
      "execution_count": 10,
      "outputs": [
        {
          "output_type": "stream",
          "name": "stdout",
          "text": [
            "+---------------------------+-----+\n",
            "|Manufacturer               |count|\n",
            "+---------------------------+-----+\n",
            "|General Mills              |22   |\n",
            "|Kellogg's                  |23   |\n",
            "|Nabisco                    |6    |\n",
            "|Ralston Purina             |8    |\n",
            "|Quaker Oats                |8    |\n",
            "|Post                       |9    |\n",
            "|American Home Food Products|1    |\n",
            "+---------------------------+-----+\n",
            "\n"
          ]
        }
      ]
    },
    {
      "cell_type": "markdown",
      "source": [
        "## Q3\n",
        "Extract the cereals that belong to the manufacturer \"Kellogg's\".\n",
        "\n"
      ],
      "metadata": {
        "id": "ajLf3Na8obPk"
      }
    },
    {
      "cell_type": "code",
      "source": [
        "q3 = cereal.filter(col(\"Manufacturer\") == \"Kellogg's\")\n",
        "q3.show(n = q3.count(),\n",
        "        truncate=False)"
      ],
      "metadata": {
        "colab": {
          "base_uri": "https://localhost:8080/"
        },
        "id": "sKAOjw7dobpF",
        "outputId": "567f27fe-815e-44ae-9503-8f3e60eee1e3"
      },
      "execution_count": 14,
      "outputs": [
        {
          "output_type": "stream",
          "name": "stdout",
          "text": [
            "+---------------------------+------------+----+--------+-----+------+\n",
            "|Name                       |Manufacturer|Type|Calories|Fiber|Sugars|\n",
            "+---------------------------+------------+----+--------+-----+------+\n",
            "|All-Bran                   |Kellogg's   |Cold|70      |9.0  |5     |\n",
            "|All-Bran with Extra Fiber  |Kellogg's   |Cold|50      |14.0 |0     |\n",
            "|Apple Jacks                |Kellogg's   |Cold|110     |1.0  |14    |\n",
            "|Corn Flakes                |Kellogg's   |Cold|100     |1.0  |2     |\n",
            "|Corn Pops                  |Kellogg's   |Cold|110     |1.0  |12    |\n",
            "|Cracklin' Oat Bran         |Kellogg's   |Cold|110     |4.0  |7     |\n",
            "|Crispix                    |Kellogg's   |Cold|110     |1.0  |3     |\n",
            "|Froot Loops                |Kellogg's   |Cold|110     |1.0  |13    |\n",
            "|Frosted Flakes             |Kellogg's   |Cold|110     |1.0  |11    |\n",
            "|Frosted Mini-Wheats        |Kellogg's   |Cold|100     |3.0  |7     |\n",
            "|Fruitful Bran              |Kellogg's   |Cold|120     |5.0  |12    |\n",
            "|Just Right Crunchy  Nuggets|Kellogg's   |Cold|110     |1.0  |6     |\n",
            "|Just Right Fruit & Nut     |Kellogg's   |Cold|140     |2.0  |9     |\n",
            "|Mueslix Crispy Blend       |Kellogg's   |Cold|160     |3.0  |13    |\n",
            "|Nut&Honey Crunch           |Kellogg's   |Cold|120     |0.0  |9     |\n",
            "|Nutri-Grain Almond-Raisin  |Kellogg's   |Cold|140     |3.0  |7     |\n",
            "|Nutri-grain Wheat          |Kellogg's   |Cold|90      |3.0  |2     |\n",
            "|Product 19                 |Kellogg's   |Cold|100     |1.0  |3     |\n",
            "|Raisin Bran                |Kellogg's   |Cold|120     |5.0  |12    |\n",
            "|Raisin Squares             |Kellogg's   |Cold|90      |2.0  |6     |\n",
            "|Rice Krispies              |Kellogg's   |Cold|110     |0.0  |3     |\n",
            "|Smacks                     |Kellogg's   |Cold|110     |1.0  |15    |\n",
            "|Special K                  |Kellogg's   |Cold|110     |1.0  |3     |\n",
            "+---------------------------+------------+----+--------+-----+------+\n",
            "\n"
          ]
        }
      ]
    },
    {
      "cell_type": "markdown",
      "source": [
        "## Q4\n",
        "Calculate the average of values in the Calories, Fiber, and Sugars variables for each manufacturer.\n",
        "\n"
      ],
      "metadata": {
        "id": "etpzhiNLob6z"
      }
    },
    {
      "cell_type": "code",
      "source": [
        "cereal.printSchema()"
      ],
      "metadata": {
        "colab": {
          "base_uri": "https://localhost:8080/"
        },
        "id": "ljqsACPzrGP7",
        "outputId": "1c4bcd0e-853b-4985-b1af-9d2fd499cdc2"
      },
      "execution_count": 15,
      "outputs": [
        {
          "output_type": "stream",
          "name": "stdout",
          "text": [
            "root\n",
            " |-- Name: string (nullable = true)\n",
            " |-- Manufacturer: string (nullable = true)\n",
            " |-- Type: string (nullable = true)\n",
            " |-- Calories: long (nullable = true)\n",
            " |-- Fiber: double (nullable = true)\n",
            " |-- Sugars: long (nullable = true)\n",
            "\n"
          ]
        }
      ]
    },
    {
      "cell_type": "code",
      "source": [
        "(\n",
        "    grouped_df\n",
        "    .agg(\n",
        "        avg(\"Calories\").alias(\"mean_Calories\"),\n",
        "        avg(\"Fiber\").alias(\"mean_Fiber\"),\n",
        "        avg(\"Sugars\").alias(\"mean_Sugars\")\n",
        "    ).show()\n",
        ")"
      ],
      "metadata": {
        "colab": {
          "base_uri": "https://localhost:8080/"
        },
        "id": "MixR0wspoclh",
        "outputId": "b4d4c8ff-30c2-47a5-dbf6-79c18702ed78"
      },
      "execution_count": 16,
      "outputs": [
        {
          "output_type": "stream",
          "name": "stdout",
          "text": [
            "+--------------------+------------------+------------------+------------------+\n",
            "|        Manufacturer|     mean_Calories|        mean_Fiber|       mean_Sugars|\n",
            "+--------------------+------------------+------------------+------------------+\n",
            "|       General Mills|111.36363636363636|1.2727272727272727| 7.954545454545454|\n",
            "|           Kellogg's|108.69565217391305| 2.739130434782609| 7.565217391304348|\n",
            "|             Nabisco| 86.66666666666667|               4.0|1.8333333333333333|\n",
            "|      Ralston Purina|             115.0|             1.875|             6.125|\n",
            "|         Quaker Oats|              95.0|            1.3375|              5.25|\n",
            "|                Post|108.88888888888889|2.7777777777777777| 8.777777777777779|\n",
            "|American Home Foo...|             100.0|               0.0|               3.0|\n",
            "+--------------------+------------------+------------------+------------------+\n",
            "\n"
          ]
        }
      ]
    },
    {
      "cell_type": "markdown",
      "source": [
        "## Q5\n",
        "Find the maximum value in the Sugars variable for each manufacturer.\n",
        "\n"
      ],
      "metadata": {
        "id": "AwZ9j2N0odAd"
      }
    },
    {
      "cell_type": "code",
      "source": [
        "grouped_df.max(\"Sugars\").show()"
      ],
      "metadata": {
        "colab": {
          "base_uri": "https://localhost:8080/"
        },
        "id": "FSXfFJaSodXh",
        "outputId": "cbd75aa2-f1bd-4b72-c5e6-c19d7978d5f5"
      },
      "execution_count": 19,
      "outputs": [
        {
          "output_type": "stream",
          "name": "stdout",
          "text": [
            "+--------------------+-----------+\n",
            "|        Manufacturer|max(Sugars)|\n",
            "+--------------------+-----------+\n",
            "|       General Mills|         14|\n",
            "|           Kellogg's|         15|\n",
            "|             Nabisco|          6|\n",
            "|      Ralston Purina|         11|\n",
            "|         Quaker Oats|         12|\n",
            "|                Post|         15|\n",
            "|American Home Foo...|          3|\n",
            "+--------------------+-----------+\n",
            "\n"
          ]
        }
      ]
    },
    {
      "cell_type": "markdown",
      "source": [
        "## Q6\n",
        "Find the minimum value in the Fiber variable for each manufacturer.\n",
        "\n"
      ],
      "metadata": {
        "id": "oyi-98Mhodno"
      }
    },
    {
      "cell_type": "code",
      "source": [
        "grouped_df.min(\"Fiber\").show()"
      ],
      "metadata": {
        "colab": {
          "base_uri": "https://localhost:8080/"
        },
        "id": "5jG62k4uoeA5",
        "outputId": "cc0910f7-1b8d-4937-b6db-2265fc98d8f0"
      },
      "execution_count": 20,
      "outputs": [
        {
          "output_type": "stream",
          "name": "stdout",
          "text": [
            "+--------------------+----------+\n",
            "|        Manufacturer|min(Fiber)|\n",
            "+--------------------+----------+\n",
            "|       General Mills|       0.0|\n",
            "|           Kellogg's|       0.0|\n",
            "|             Nabisco|       1.0|\n",
            "|      Ralston Purina|       0.0|\n",
            "|         Quaker Oats|       0.0|\n",
            "|                Post|       0.0|\n",
            "|American Home Foo...|       0.0|\n",
            "+--------------------+----------+\n",
            "\n"
          ]
        }
      ]
    },
    {
      "cell_type": "markdown",
      "source": [
        "## Q7\n",
        "Calculate a ‘Normalized_Sugars’ variable for each product by Manufacturer, where the normalization formula is\n",
        "\n",
        "$$\n",
        "\\text{Normalized\\_Sugars} = \\frac{\\text{Sugars} - \\text{mean(Sugars)}}{\\text{std(Sugars)}}\n",
        "$$\n",
        "\n",
        "for each Manufacturer group. This formula adjusts the sugar content of each product by subtracting the mean sugar content of its manufacturer and then dividing by the standard deviation of the sugar content within its manufacturer."
      ],
      "metadata": {
        "id": "wtT-AyYWoepJ"
      }
    },
    {
      "cell_type": "code",
      "source": [
        "# Define a window partitioned by \"Type\"\n",
        "w = Window.partitionBy(\"Manufacturer\")\n",
        "\n",
        "df_with_standardized = cereal.withColumn(\n",
        "    \"normalized_sugar_by_company\",\n",
        "    (col(\"Sugars\") - mean(col(\"Sugars\")).over(w) ) / std(col(\"Sugars\")).over(w)\n",
        ")\n",
        "df_with_standardized.show()"
      ],
      "metadata": {
        "colab": {
          "base_uri": "https://localhost:8080/"
        },
        "id": "lh-T2-L4oe8j",
        "outputId": "90508edf-ec0c-473d-a873-562ba6d90f32"
      },
      "execution_count": 23,
      "outputs": [
        {
          "output_type": "stream",
          "name": "stdout",
          "text": [
            "+--------------------+--------------------+----+--------+-----+------+---------------------------+\n",
            "|                Name|        Manufacturer|Type|Calories|Fiber|Sugars|normalized_sugar_by_company|\n",
            "+--------------------+--------------------+----+--------+-----+------+---------------------------+\n",
            "|               Maypo|American Home Foo...| Hot|     100|  0.0|     3|                       NULL|\n",
            "|Apple Cinnamon Ch...|       General Mills|Cold|     110|  1.5|    10|         0.5281722017019429|\n",
            "|             Basic 4|       General Mills|Cold|     130|  2.0|     8|       0.011737160037821054|\n",
            "|            Cheerios|       General Mills|Cold|     110|  2.0|     1|        -1.7957854857866051|\n",
            "|Cinnamon Toast Cr...|       General Mills|Cold|     120|  0.0|     9|        0.26995468086988195|\n",
            "|            Clusters|       General Mills|Cold|     110|  2.0|     7|       -0.24648036079423985|\n",
            "|         Cocoa Puffs|       General Mills|Cold|     110|  0.0|    13|         1.3028247641981254|\n",
            "|       Count Chocula|       General Mills|Cold|     110|  0.0|    13|         1.3028247641981254|\n",
            "|Crispy Wheat & Ra...|       General Mills|Cold|     100|  2.0|    10|         0.5281722017019429|\n",
            "|      Golden Grahams|       General Mills|Cold|     110|  0.0|     9|        0.26995468086988195|\n",
            "|  Honey Nut Cheerios|       General Mills|Cold|     110|  1.5|    10|         0.5281722017019429|\n",
            "|                 Kix|       General Mills|Cold|     110|  0.0|     3|        -1.2793504441224834|\n",
            "|        Lucky Charms|       General Mills|Cold|     110|  0.0|    12|         1.0446072433660647|\n",
            "|Multi-Grain Cheerios|       General Mills|Cold|     100|  2.0|     6|        -0.5046978816263007|\n",
            "|Oatmeal Raisin Crisp|       General Mills|Cold|     130|  1.5|    10|         0.5281722017019429|\n",
            "|     Raisin Nut Bran|       General Mills|Cold|     100|  2.5|     8|       0.011737160037821054|\n",
            "|   Total Corn Flakes|       General Mills|Cold|     110|  0.0|     3|        -1.2793504441224834|\n",
            "|   Total Raisin Bran|       General Mills|Cold|     140|  4.0|    14|         1.5610422850301864|\n",
            "|   Total Whole Grain|       General Mills|Cold|     100|  3.0|     3|        -1.2793504441224834|\n",
            "|             Triples|       General Mills|Cold|     110|  0.0|     3|        -1.2793504441224834|\n",
            "+--------------------+--------------------+----+--------+-----+------+---------------------------+\n",
            "only showing top 20 rows\n",
            "\n"
          ]
        }
      ]
    }
  ]
}