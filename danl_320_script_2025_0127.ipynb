{
  "nbformat": 4,
  "nbformat_minor": 0,
  "metadata": {
    "colab": {
      "provenance": [],
      "authorship_tag": "ABX9TyPiYtN/NYqVF9A1ehWSFGG8",
      "include_colab_link": true
    },
    "kernelspec": {
      "name": "python3",
      "display_name": "Python 3"
    },
    "language_info": {
      "name": "python"
    }
  },
  "cells": [
    {
      "cell_type": "markdown",
      "metadata": {
        "id": "view-in-github",
        "colab_type": "text"
      },
      "source": [
        "<a href=\"https://colab.research.google.com/github/bcdanl/320-code/blob/main/danl_320_script_2025_0127.ipynb\" target=\"_parent\"><img src=\"https://colab.research.google.com/assets/colab-badge.svg\" alt=\"Open In Colab\"/></a>"
      ]
    },
    {
      "cell_type": "code",
      "execution_count": null,
      "metadata": {
        "colab": {
          "base_uri": "https://localhost:8080/"
        },
        "id": "sxJmSfOqooal",
        "outputId": "fa3f4a7a-589c-4666-97ef-ba9882b7103f"
      },
      "outputs": [
        {
          "output_type": "execute_result",
          "data": {
            "text/plain": [
              "17"
            ]
          },
          "metadata": {},
          "execution_count": 1
        }
      ],
      "source": [
        "# Here we assign the integer value 5 to the variable x.\n",
        "x = 5\n",
        "\n",
        "# Now we can use the variable x in the next line.\n",
        "y = x + 12\n",
        "y"
      ]
    },
    {
      "cell_type": "markdown",
      "source": [
        "Here we assign the integer value 5 to the variable x.\n"
      ],
      "metadata": {
        "id": "YX1ojYOPo9cp"
      }
    },
    {
      "cell_type": "code",
      "source": [
        "x = 5\n"
      ],
      "metadata": {
        "id": "bMSatCx7o_qT"
      },
      "execution_count": null,
      "outputs": []
    },
    {
      "cell_type": "code",
      "source": [
        "list_example = [10, 1.23, \"like this\", True, None]\n",
        "print(list_example)"
      ],
      "metadata": {
        "colab": {
          "base_uri": "https://localhost:8080/"
        },
        "id": "7YXyP-AvpXVk",
        "outputId": "a56b5d66-223a-4cf4-a3b7-34f95b957cf6"
      },
      "execution_count": null,
      "outputs": [
        {
          "output_type": "stream",
          "name": "stdout",
          "text": [
            "[10, 1.23, 'like this', True, None]\n"
          ]
        }
      ]
    },
    {
      "cell_type": "code",
      "source": [
        "type(list_example)"
      ],
      "metadata": {
        "colab": {
          "base_uri": "https://localhost:8080/"
        },
        "id": "_DaYzsN4pYwu",
        "outputId": "d86ce06c-ebac-4428-fe9a-bc4dd2b84059"
      },
      "execution_count": null,
      "outputs": [
        {
          "output_type": "execute_result",
          "data": {
            "text/plain": [
              "list"
            ]
          },
          "metadata": {},
          "execution_count": 3
        }
      ]
    },
    {
      "cell_type": "code",
      "source": [
        "vector = ['a', 'b']\n",
        "vector[1]"
      ],
      "metadata": {
        "colab": {
          "base_uri": "https://localhost:8080/",
          "height": 35
        },
        "id": "i_BF6mF7qZPu",
        "outputId": "a1c41221-abb3-4e80-d207-0f29959dcec5"
      },
      "execution_count": null,
      "outputs": [
        {
          "output_type": "execute_result",
          "data": {
            "text/plain": [
              "'b'"
            ],
            "application/vnd.google.colaboratory.intrinsic+json": {
              "type": "string"
            }
          },
          "metadata": {},
          "execution_count": 5
        }
      ]
    },
    {
      "cell_type": "code",
      "source": [
        "{'a', 'b'}  # set\n",
        "type({'a', 'b'})"
      ],
      "metadata": {
        "colab": {
          "base_uri": "https://localhost:8080/"
        },
        "id": "IUqSPhcJqlTs",
        "outputId": "9949515f-e3b0-4d89-8036-3df9258620b6"
      },
      "execution_count": null,
      "outputs": [
        {
          "output_type": "execute_result",
          "data": {
            "text/plain": [
              "set"
            ]
          },
          "metadata": {},
          "execution_count": 7
        }
      ]
    },
    {
      "cell_type": "code",
      "source": [
        "{'first_letter': 'a', 'second_letter': 'b'}  # dictionary"
      ],
      "metadata": {
        "colab": {
          "base_uri": "https://localhost:8080/"
        },
        "id": "GVHYxdKRqnZR",
        "outputId": "32c47266-0712-43b6-e1da-a51d042a1e9c"
      },
      "execution_count": null,
      "outputs": [
        {
          "output_type": "execute_result",
          "data": {
            "text/plain": [
              "{'first_letter': 'a', 'second_letter': 'b'}"
            ]
          },
          "metadata": {},
          "execution_count": 8
        }
      ]
    },
    {
      "cell_type": "code",
      "source": [
        "type({'first_letter': 'a', 'second_letter': 'b'})"
      ],
      "metadata": {
        "colab": {
          "base_uri": "https://localhost:8080/"
        },
        "id": "J59_d2_PqrO2",
        "outputId": "c1a84d87-99c4-47d6-9357-7e921e08075d"
      },
      "execution_count": null,
      "outputs": [
        {
          "output_type": "execute_result",
          "data": {
            "text/plain": [
              "dict"
            ]
          },
          "metadata": {},
          "execution_count": 9
        }
      ]
    },
    {
      "cell_type": "code",
      "source": [
        "num_tup = (1, 2, 3)\n",
        "sum(num_tup)"
      ],
      "metadata": {
        "colab": {
          "base_uri": "https://localhost:8080/"
        },
        "id": "zoVPiGQfqxZz",
        "outputId": "890f27ec-4280-4a57-bfaa-5e528be69415"
      },
      "execution_count": null,
      "outputs": [
        {
          "output_type": "execute_result",
          "data": {
            "text/plain": [
              "6"
            ]
          },
          "metadata": {},
          "execution_count": 10
        }
      ]
    },
    {
      "cell_type": "code",
      "source": [
        "string_one = \"This is an example \"\n",
        "string_two = \"of string concatenation\"\n",
        "string_full = string_one + string_two\n",
        "print(string_full)"
      ],
      "metadata": {
        "colab": {
          "base_uri": "https://localhost:8080/"
        },
        "id": "pSyWd1zmq8tB",
        "outputId": "1090b014-4d84-4803-ff99-205bd3e66dac"
      },
      "execution_count": null,
      "outputs": [
        {
          "output_type": "stream",
          "name": "stdout",
          "text": [
            "This is an example of string concatenation\n"
          ]
        }
      ]
    },
    {
      "cell_type": "code",
      "source": [
        "list_one = [\"apples\", \"oranges\"]\n",
        "list_two = [\"pears\", \"satsumas\"]\n",
        "list_full = list_one + list_two\n",
        "print(list_full)"
      ],
      "metadata": {
        "colab": {
          "base_uri": "https://localhost:8080/"
        },
        "id": "9toKhNVcrRVe",
        "outputId": "1a42fdba-382d-4031-d6d1-04d1832359f2"
      },
      "execution_count": null,
      "outputs": [
        {
          "output_type": "stream",
          "name": "stdout",
          "text": [
            "['apples', 'oranges', 'pears', 'satsumas']\n"
          ]
        }
      ]
    },
    {
      "cell_type": "code",
      "source": [
        "string = \"apples, \"\n",
        "print(string * 3)"
      ],
      "metadata": {
        "colab": {
          "base_uri": "https://localhost:8080/"
        },
        "id": "k6oIeR1zrdO7",
        "outputId": "2c3d2f77-98f3-44d3-bfc8-3f1937bdab18"
      },
      "execution_count": null,
      "outputs": [
        {
          "output_type": "stream",
          "name": "stdout",
          "text": [
            "apples, apples, apples, \n"
          ]
        }
      ]
    },
    {
      "cell_type": "markdown",
      "source": [
        "# Classwork 4\n",
        "## Quetsion 1"
      ],
      "metadata": {
        "id": "8K8sC-O-rwzZ"
      }
    },
    {
      "cell_type": "code",
      "source": [
        "ans = 2**5 / ( 7 * (4 - 2**3) )\n",
        "ans"
      ],
      "metadata": {
        "colab": {
          "base_uri": "https://localhost:8080/"
        },
        "id": "nF3ZU2QSrzK8",
        "outputId": "d49913eb-f45b-4779-a610-bc0ffe13494b"
      },
      "execution_count": null,
      "outputs": [
        {
          "output_type": "execute_result",
          "data": {
            "text/plain": [
              "-1.1428571428571428"
            ]
          },
          "metadata": {},
          "execution_count": 14
        }
      ]
    },
    {
      "cell_type": "markdown",
      "source": [
        "# Boolean and Conditions\n"
      ],
      "metadata": {
        "id": "nhNXpVEmsRoJ"
      }
    },
    {
      "cell_type": "code",
      "source": [
        "10 == 20"
      ],
      "metadata": {
        "colab": {
          "base_uri": "https://localhost:8080/"
        },
        "id": "Vt8l4US5sQSK",
        "outputId": "4adf2087-0ee3-44bf-ca61-f24c495ffdf8"
      },
      "execution_count": null,
      "outputs": [
        {
          "output_type": "execute_result",
          "data": {
            "text/plain": [
              "False"
            ]
          },
          "metadata": {},
          "execution_count": 15
        }
      ]
    },
    {
      "cell_type": "code",
      "source": [
        "10 == '10'"
      ],
      "metadata": {
        "colab": {
          "base_uri": "https://localhost:8080/"
        },
        "id": "LnRPhagCsVI0",
        "outputId": "cb6507d0-dd09-4142-c4e6-c64fe9d868fd"
      },
      "execution_count": null,
      "outputs": [
        {
          "output_type": "execute_result",
          "data": {
            "text/plain": [
              "False"
            ]
          },
          "metadata": {},
          "execution_count": 16
        }
      ]
    },
    {
      "cell_type": "code",
      "source": [],
      "metadata": {
        "id": "UiaC8GpPsZ4L"
      },
      "execution_count": null,
      "outputs": []
    },
    {
      "cell_type": "code",
      "source": [
        "boolean_condition1 = 10 == 20\n",
        "print(boolean_condition1)"
      ],
      "metadata": {
        "colab": {
          "base_uri": "https://localhost:8080/"
        },
        "id": "HMQ8p3YNs9Eq",
        "outputId": "e5475af6-32df-4af2-afe7-e97728ccc115"
      },
      "execution_count": null,
      "outputs": [
        {
          "output_type": "stream",
          "name": "stdout",
          "text": [
            "False\n"
          ]
        }
      ]
    },
    {
      "cell_type": "code",
      "source": [
        "boolean_condition2 = 10 == '10'\n",
        "print(boolean_condition2)"
      ],
      "metadata": {
        "colab": {
          "base_uri": "https://localhost:8080/"
        },
        "id": "hT408Isgs-9T",
        "outputId": "0c4f798a-2bca-4bfb-8908-abd0bf3cabb3"
      },
      "execution_count": null,
      "outputs": [
        {
          "output_type": "stream",
          "name": "stdout",
          "text": [
            "False\n"
          ]
        }
      ]
    },
    {
      "cell_type": "code",
      "source": [
        "not (not True)"
      ],
      "metadata": {
        "colab": {
          "base_uri": "https://localhost:8080/"
        },
        "id": "N9ZOK9lTtNGR",
        "outputId": "49919e75-bac9-4633-c2d9-65947f643a5f"
      },
      "execution_count": null,
      "outputs": [
        {
          "output_type": "execute_result",
          "data": {
            "text/plain": [
              "True"
            ]
          },
          "metadata": {},
          "execution_count": 19
        }
      ]
    },
    {
      "cell_type": "markdown",
      "source": [
        "## Question 2"
      ],
      "metadata": {
        "id": "Nx_6MBoAttgM"
      }
    },
    {
      "cell_type": "code",
      "source": [
        "x = 4.0\n",
        "y = .5\n",
        "\n",
        "x < y or 3*y < x"
      ],
      "metadata": {
        "colab": {
          "base_uri": "https://localhost:8080/"
        },
        "id": "wv-76iY9turR",
        "outputId": "35ee8506-b98f-4ae4-9a43-b0fa98a6a9a4"
      },
      "execution_count": null,
      "outputs": [
        {
          "output_type": "execute_result",
          "data": {
            "text/plain": [
              "True"
            ]
          },
          "metadata": {},
          "execution_count": 20
        }
      ]
    },
    {
      "cell_type": "code",
      "source": [
        "name = \"Geneseo\"\n",
        "score = 99\n",
        "\n",
        "if name == \"Geneseo\" and score > 90:\n",
        "    print(\"Geneseo, you achieved a high score.\")\n"
      ],
      "metadata": {
        "id": "6poohC9suJlx"
      },
      "execution_count": null,
      "outputs": []
    },
    {
      "cell_type": "code",
      "source": [
        "\n",
        "if name == \"Geneseo\" or score > 90:\n",
        "    print(\"You could be called Geneseo or have a high score\")\n"
      ],
      "metadata": {
        "colab": {
          "base_uri": "https://localhost:8080/"
        },
        "id": "ktv-3RpPuRyp",
        "outputId": "08e7f59d-49d4-4293-a9a7-4b20b9c8a65d"
      },
      "execution_count": null,
      "outputs": [
        {
          "output_type": "stream",
          "name": "stdout",
          "text": [
            "You could be called Geneseo or have a high score\n"
          ]
        }
      ]
    },
    {
      "cell_type": "code",
      "source": [
        "if name != \"Geneseo\" and score > 90:\n",
        "    print(\"You are not called Geneseo and you have a high score\")"
      ],
      "metadata": {
        "id": "EVqlwh10uW9k"
      },
      "execution_count": null,
      "outputs": []
    },
    {
      "cell_type": "code",
      "source": [
        "name_list = [\"Lovelace\", \"Smith\", \"Hopper\", \"Babbage\"]\n",
        "\n",
        "print(\"Lovelace\" in name_list)\n",
        "\n",
        "print(\"Bob\" in name_list)"
      ],
      "metadata": {
        "colab": {
          "base_uri": "https://localhost:8080/"
        },
        "id": "GEvJnxQrusLS",
        "outputId": "9a235759-942b-4f42-da95-a8b3509eabd2"
      },
      "execution_count": null,
      "outputs": [
        {
          "output_type": "stream",
          "name": "stdout",
          "text": [
            "True\n",
            "False\n"
          ]
        }
      ]
    }
  ]
}