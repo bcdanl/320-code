{
  "nbformat": 4,
  "nbformat_minor": 0,
  "metadata": {
    "colab": {
      "provenance": [],
      "authorship_tag": "ABX9TyNT41CGJAQA0ug2ln3IYfsM",
      "include_colab_link": true
    },
    "kernelspec": {
      "name": "python3",
      "display_name": "Python 3"
    },
    "language_info": {
      "name": "python"
    }
  },
  "cells": [
    {
      "cell_type": "markdown",
      "metadata": {
        "id": "view-in-github",
        "colab_type": "text"
      },
      "source": [
        "<a href=\"https://colab.research.google.com/github/bcdanl/320-code/blob/main/danl_320_script_2025_0203.ipynb\" target=\"_parent\"><img src=\"https://colab.research.google.com/assets/colab-badge.svg\" alt=\"Open In Colab\"/></a>"
      ]
    },
    {
      "cell_type": "code",
      "execution_count": 1,
      "metadata": {
        "colab": {
          "base_uri": "https://localhost:8080/"
        },
        "id": "JFE3NiovgrA8",
        "outputId": "35c8f919-c912-47c5-df2a-589e47f63dff"
      },
      "outputs": [
        {
          "output_type": "stream",
          "name": "stdout",
          "text": [
            "t\n",
            "h\n"
          ]
        }
      ],
      "source": [
        "word = 'thud'\n",
        "for letter in word:\n",
        "  if letter == 'u':\n",
        "    break\n",
        "  print(letter)"
      ]
    },
    {
      "cell_type": "code",
      "source": [
        "word = 'thud'\n",
        "for letter in word:\n",
        "  if letter == 'u':\n",
        "    continue\n",
        "  print(letter)"
      ],
      "metadata": {
        "colab": {
          "base_uri": "https://localhost:8080/"
        },
        "id": "JfzgjnvIh0rt",
        "outputId": "295537ac-79cc-44ae-bf69-da17d99df515"
      },
      "execution_count": 2,
      "outputs": [
        {
          "output_type": "stream",
          "name": "stdout",
          "text": [
            "t\n",
            "h\n",
            "d\n"
          ]
        }
      ]
    },
    {
      "cell_type": "code",
      "source": [
        "for x in range(0,3):\n",
        "  print(x)"
      ],
      "metadata": {
        "colab": {
          "base_uri": "https://localhost:8080/"
        },
        "id": "LRe6fQNjiFT9",
        "outputId": "286c4fa5-9669-4647-998a-61c951d191f2"
      },
      "execution_count": 3,
      "outputs": [
        {
          "output_type": "stream",
          "name": "stdout",
          "text": [
            "0\n",
            "1\n",
            "2\n"
          ]
        }
      ]
    },
    {
      "cell_type": "code",
      "source": [
        "list(range(0,3))"
      ],
      "metadata": {
        "colab": {
          "base_uri": "https://localhost:8080/"
        },
        "id": "C-aQ0nPWiKof",
        "outputId": "ab6826dc-8e15-4893-bdfe-15aff05efd2c"
      },
      "execution_count": 4,
      "outputs": [
        {
          "output_type": "execute_result",
          "data": {
            "text/plain": [
              "[0, 1, 2]"
            ]
          },
          "metadata": {},
          "execution_count": 4
        }
      ]
    },
    {
      "cell_type": "code",
      "source": [
        "for x in range(0,3,1):\n",
        "  print(x)"
      ],
      "metadata": {
        "colab": {
          "base_uri": "https://localhost:8080/"
        },
        "id": "clpduomxiNel",
        "outputId": "5f1aceba-11b8-4996-8081-24148e086bef"
      },
      "execution_count": 6,
      "outputs": [
        {
          "output_type": "stream",
          "name": "stdout",
          "text": [
            "0\n",
            "1\n",
            "2\n"
          ]
        }
      ]
    },
    {
      "cell_type": "code",
      "source": [
        "for x in range(3):\n",
        "  print(x)"
      ],
      "metadata": {
        "colab": {
          "base_uri": "https://localhost:8080/"
        },
        "id": "BUm-YYk4iVSY",
        "outputId": "f84f6402-a9d7-44e9-e5d9-c569ddc9a804"
      },
      "execution_count": 7,
      "outputs": [
        {
          "output_type": "stream",
          "name": "stdout",
          "text": [
            "0\n",
            "1\n",
            "2\n"
          ]
        }
      ]
    },
    {
      "cell_type": "code",
      "source": [
        "word = 'thud'\n",
        "for letter in word:\n",
        "    if letter == 'x':\n",
        "        print(\"Eek! An 'x'!\")\n",
        "        break\n",
        "    print(letter)\n",
        "else:\n",
        "    print(\"No 'x' in there.\")"
      ],
      "metadata": {
        "colab": {
          "base_uri": "https://localhost:8080/"
        },
        "id": "Yhp363cxivTa",
        "outputId": "b06ce31d-9a0b-44b5-8f49-a406482eac8f"
      },
      "execution_count": 8,
      "outputs": [
        {
          "output_type": "stream",
          "name": "stdout",
          "text": [
            "t\n",
            "h\n",
            "u\n",
            "d\n",
            "No 'x' in there.\n"
          ]
        }
      ]
    },
    {
      "cell_type": "markdown",
      "source": [
        "# CW 4.5"
      ],
      "metadata": {
        "id": "AXm5uhgrjP36"
      }
    },
    {
      "cell_type": "code",
      "source": [
        "vals = [3, 2, 1, 0]"
      ],
      "metadata": {
        "id": "6xFrO0R4jROE"
      },
      "execution_count": 9,
      "outputs": []
    },
    {
      "cell_type": "code",
      "source": [
        "len(vals)"
      ],
      "metadata": {
        "colab": {
          "base_uri": "https://localhost:8080/"
        },
        "id": "qGQiIyW_kon2",
        "outputId": "cc1406b4-1ce0-4f8d-f752-12189987225a"
      },
      "execution_count": 11,
      "outputs": [
        {
          "output_type": "execute_result",
          "data": {
            "text/plain": [
              "4"
            ]
          },
          "metadata": {},
          "execution_count": 11
        }
      ]
    },
    {
      "cell_type": "markdown",
      "source": [
        "- Use a `while` loop to print each value of the list [3, 2, 1, 0], one at a time.\n",
        "\n"
      ],
      "metadata": {
        "id": "pxNBvZG_jRx8"
      }
    },
    {
      "cell_type": "code",
      "source": [
        "i = 0\n",
        "while i < len(vals):\n",
        "  print(vals[i])\n",
        "  i += 1"
      ],
      "metadata": {
        "colab": {
          "base_uri": "https://localhost:8080/"
        },
        "id": "t4DCYaigjTtI",
        "outputId": "956cd1d8-38a7-4dc2-ca51-72ee0c8cfa21"
      },
      "execution_count": 10,
      "outputs": [
        {
          "output_type": "stream",
          "name": "stdout",
          "text": [
            "3\n",
            "2\n",
            "1\n",
            "0\n"
          ]
        }
      ]
    },
    {
      "cell_type": "markdown",
      "source": [
        "- Use a `for` loop to print each value of the list [3, 2, 1, 0], one at a time."
      ],
      "metadata": {
        "id": "nYqIccREjXSx"
      }
    },
    {
      "cell_type": "code",
      "source": [
        "for i in range(len(vals)):\n",
        "  print(vals[i])"
      ],
      "metadata": {
        "colab": {
          "base_uri": "https://localhost:8080/"
        },
        "id": "YbSkHxqejX5N",
        "outputId": "8e56acf7-56ee-4366-81a1-74f0555644b2"
      },
      "execution_count": 12,
      "outputs": [
        {
          "output_type": "stream",
          "name": "stdout",
          "text": [
            "3\n",
            "2\n",
            "1\n",
            "0\n"
          ]
        }
      ]
    },
    {
      "cell_type": "markdown",
      "source": [
        "# CW 4.6\n",
        "\n",
        "Assign the value 7 to the variable guess_me, and the value 1 to the variable number.\n",
        "\n",
        "Write a while loop that compares number with guess_me.\n",
        "\n",
        "- Print ‘too low’ if number is less than guess me.\n",
        "- If number equals guess_me, print ‘found it!’ and then exit the loop.\n",
        "- If number is greater than guess_me, print ‘oops’ and then exit the loop.\n",
        "\n",
        "- Increment number at the end of the loop."
      ],
      "metadata": {
        "id": "hlAx0kTgk2Ro"
      }
    },
    {
      "cell_type": "code",
      "source": [
        "guess_me = 7\n",
        "number = 1\n",
        "while True:\n",
        "  if number < guess_me:\n",
        "    print(\"too low\")\n",
        "  elif number == guess_me:\n",
        "    print(\"found it!\")\n",
        "    break\n",
        "  else:\n",
        "    print(\"oops\")\n",
        "    break\n",
        "  number = number + 1\n",
        "\n"
      ],
      "metadata": {
        "colab": {
          "base_uri": "https://localhost:8080/"
        },
        "id": "INd0qlzUk7Mx",
        "outputId": "f481c7ce-01d6-435c-d7d6-7179fd4dd95e"
      },
      "execution_count": 13,
      "outputs": [
        {
          "output_type": "stream",
          "name": "stdout",
          "text": [
            "too low\n",
            "too low\n",
            "too low\n",
            "too low\n",
            "too low\n",
            "too low\n",
            "found it!\n"
          ]
        }
      ]
    },
    {
      "cell_type": "markdown",
      "source": [
        "Write a for loop that compares number with guess_me.\n",
        "\n",
        "Print ‘too low’ if number is less than guess me.\n",
        "If number equals guess_me, print ‘found it!’ and then exit the loop.\n",
        "If number is greater than guess_me, print ‘oops’ and then exit the loop.\n",
        "Increment number at the end of the loop."
      ],
      "metadata": {
        "id": "RmuYpBBvk7hl"
      }
    },
    {
      "cell_type": "code",
      "source": [
        "guess_me = 7\n",
        "for number in range(1, guess_me + 1):\n",
        "  if number < guess_me:\n",
        "    print(\"too low\")\n",
        "  elif number == guess_me:\n",
        "    print(\"found it!\")\n",
        "    break\n",
        "  else:\n",
        "    print(\"oops\")\n",
        "    break\n",
        "  number = number + 1\n"
      ],
      "metadata": {
        "colab": {
          "base_uri": "https://localhost:8080/"
        },
        "id": "_PUZt1BKk8IT",
        "outputId": "a454fdc7-cfb6-477c-c5dc-93d9dd2abafd"
      },
      "execution_count": 14,
      "outputs": [
        {
          "output_type": "stream",
          "name": "stdout",
          "text": [
            "too low\n",
            "too low\n",
            "too low\n",
            "too low\n",
            "too low\n",
            "too low\n",
            "found it!\n"
          ]
        }
      ]
    },
    {
      "cell_type": "markdown",
      "source": [
        "# try-except"
      ],
      "metadata": {
        "id": "p3GfM3PdoFkl"
      }
    },
    {
      "cell_type": "code",
      "source": [
        "short_list = [1, 2, 3]\n",
        "position = 5\n",
        "short_list[position]"
      ],
      "metadata": {
        "colab": {
          "base_uri": "https://localhost:8080/",
          "height": 190
        },
        "id": "WBrtt6-coGzZ",
        "outputId": "16c1d91f-611c-4107-d940-74f0079c441a"
      },
      "execution_count": 15,
      "outputs": [
        {
          "output_type": "error",
          "ename": "IndexError",
          "evalue": "list index out of range",
          "traceback": [
            "\u001b[0;31m---------------------------------------------------------------------------\u001b[0m",
            "\u001b[0;31mIndexError\u001b[0m                                Traceback (most recent call last)",
            "\u001b[0;32m<ipython-input-15-f5eaf9cc45f2>\u001b[0m in \u001b[0;36m<cell line: 0>\u001b[0;34m()\u001b[0m\n\u001b[1;32m      1\u001b[0m \u001b[0mshort_list\u001b[0m \u001b[0;34m=\u001b[0m \u001b[0;34m[\u001b[0m\u001b[0;36m1\u001b[0m\u001b[0;34m,\u001b[0m \u001b[0;36m2\u001b[0m\u001b[0;34m,\u001b[0m \u001b[0;36m3\u001b[0m\u001b[0;34m]\u001b[0m\u001b[0;34m\u001b[0m\u001b[0;34m\u001b[0m\u001b[0m\n\u001b[1;32m      2\u001b[0m \u001b[0mposition\u001b[0m \u001b[0;34m=\u001b[0m \u001b[0;36m5\u001b[0m\u001b[0;34m\u001b[0m\u001b[0;34m\u001b[0m\u001b[0m\n\u001b[0;32m----> 3\u001b[0;31m \u001b[0mshort_list\u001b[0m\u001b[0;34m[\u001b[0m\u001b[0mposition\u001b[0m\u001b[0;34m]\u001b[0m\u001b[0;34m\u001b[0m\u001b[0;34m\u001b[0m\u001b[0m\n\u001b[0m",
            "\u001b[0;31mIndexError\u001b[0m: list index out of range"
          ]
        }
      ]
    },
    {
      "cell_type": "code",
      "source": [
        "short_list = [1, 2, 3]\n",
        "position = 5\n",
        "\n",
        "try:\n",
        "    short_list[position]\n",
        "except:\n",
        "    print('Need a position between 0 and', len(short_list)-1, 'but got',\n",
        "    position)"
      ],
      "metadata": {
        "colab": {
          "base_uri": "https://localhost:8080/"
        },
        "id": "79CVEqI9oY_C",
        "outputId": "bda2259d-105f-48fb-ff54-68e55236fb60"
      },
      "execution_count": 16,
      "outputs": [
        {
          "output_type": "stream",
          "name": "stdout",
          "text": [
            "Need a position between 0 and 2  but got 5\n"
          ]
        }
      ]
    },
    {
      "cell_type": "code",
      "source": [
        "short_list = [1, 2, 3]\n",
        "while True:\n",
        "    value = input('Position [q to quit]? ')\n",
        "    if value == 'q':\n",
        "        break\n",
        "    try:\n",
        "        position = int(value)\n",
        "        print(short_list[position])\n",
        "    except IndexError as err:\n",
        "        print('Bad index:', position)\n",
        "    except Exception as other:\n",
        "        print('Something else broke:', other)"
      ],
      "metadata": {
        "colab": {
          "base_uri": "https://localhost:8080/"
        },
        "id": "hPDcrmhtpGxE",
        "outputId": "5507ada6-62e6-424c-a84c-6d99afc528f8"
      },
      "execution_count": 17,
      "outputs": [
        {
          "name": "stdout",
          "output_type": "stream",
          "text": [
            "Position [q to quit]? 0\n",
            "1\n",
            "Position [q to quit]? 2\n",
            "3\n",
            "Position [q to quit]? 5\n",
            "Bad index: 5\n",
            "Position [q to quit]? a\n",
            "Something else broke: invalid literal for int() with base 10: 'a'\n",
            "Position [q to quit]? q\n"
          ]
        }
      ]
    },
    {
      "cell_type": "code",
      "source": [
        "short_list['a']"
      ],
      "metadata": {
        "colab": {
          "base_uri": "https://localhost:8080/",
          "height": 157
        },
        "id": "gWujm6BipY0P",
        "outputId": "a8dbc556-a44c-4294-d0b8-ff71d1bb19aa"
      },
      "execution_count": 18,
      "outputs": [
        {
          "output_type": "error",
          "ename": "TypeError",
          "evalue": "list indices must be integers or slices, not str",
          "traceback": [
            "\u001b[0;31m---------------------------------------------------------------------------\u001b[0m",
            "\u001b[0;31mTypeError\u001b[0m                                 Traceback (most recent call last)",
            "\u001b[0;32m<ipython-input-18-82a91b1ab60c>\u001b[0m in \u001b[0;36m<cell line: 0>\u001b[0;34m()\u001b[0m\n\u001b[0;32m----> 1\u001b[0;31m \u001b[0mshort_list\u001b[0m\u001b[0;34m[\u001b[0m\u001b[0;34m'a'\u001b[0m\u001b[0;34m]\u001b[0m\u001b[0;34m\u001b[0m\u001b[0;34m\u001b[0m\u001b[0m\n\u001b[0m",
            "\u001b[0;31mTypeError\u001b[0m: list indices must be integers or slices, not str"
          ]
        }
      ]
    },
    {
      "cell_type": "code",
      "source": [
        "int('a')"
      ],
      "metadata": {
        "colab": {
          "base_uri": "https://localhost:8080/",
          "height": 157
        },
        "id": "nIhr8kOOpnbu",
        "outputId": "30921428-65e2-4dce-c889-a9537ce326e9"
      },
      "execution_count": 19,
      "outputs": [
        {
          "output_type": "error",
          "ename": "ValueError",
          "evalue": "invalid literal for int() with base 10: 'a'",
          "traceback": [
            "\u001b[0;31m---------------------------------------------------------------------------\u001b[0m",
            "\u001b[0;31mValueError\u001b[0m                                Traceback (most recent call last)",
            "\u001b[0;32m<ipython-input-19-233884bacd4e>\u001b[0m in \u001b[0;36m<cell line: 0>\u001b[0;34m()\u001b[0m\n\u001b[0;32m----> 1\u001b[0;31m \u001b[0mint\u001b[0m\u001b[0;34m(\u001b[0m\u001b[0;34m'a'\u001b[0m\u001b[0;34m)\u001b[0m\u001b[0;34m\u001b[0m\u001b[0;34m\u001b[0m\u001b[0m\n\u001b[0m",
            "\u001b[0;31mValueError\u001b[0m: invalid literal for int() with base 10: 'a'"
          ]
        }
      ]
    },
    {
      "cell_type": "code",
      "source": [
        "short_list = [1, 2, 3]\n",
        "while True:\n",
        "    value = input('Position [q to quit]? ')\n",
        "    if value == 'q':\n",
        "        break\n",
        "    try:\n",
        "        position = int(value)\n",
        "        print(short_list[position])\n",
        "    except IndexError as err:\n",
        "        print('Bad index:', position)\n",
        "    except ValueError as other:\n",
        "        print('Something else broke:', other)"
      ],
      "metadata": {
        "colab": {
          "base_uri": "https://localhost:8080/"
        },
        "id": "0OCJJGE5pq-Q",
        "outputId": "035457de-3033-49ee-ab17-5bafb5462716"
      },
      "execution_count": 20,
      "outputs": [
        {
          "name": "stdout",
          "output_type": "stream",
          "text": [
            "Position [q to quit]? a\n",
            "Something else broke: invalid literal for int() with base 10: 'a'\n",
            "Position [q to quit]? q\n"
          ]
        }
      ]
    },
    {
      "cell_type": "markdown",
      "source": [
        "# CW 4.7\n",
        "\n",
        "\n",
        "Write a Python program to:\n",
        "Attempt to convert value to a floating-point number using float().\n",
        "If the conversion is successful, print: “You entered: value” (e.g., \"You entered: 320\").\n",
        "If the conversion fails (e.g., the value is not a valid number), print: “That’s not a valid number!”.\n",
        "Use a try-except block to handle the potential error."
      ],
      "metadata": {
        "id": "lz54lLH5qKIs"
      }
    },
    {
      "cell_type": "code",
      "source": [
        "value = \"$320\""
      ],
      "metadata": {
        "id": "gU-Z04QKqMyF"
      },
      "execution_count": 22,
      "outputs": []
    },
    {
      "cell_type": "code",
      "source": [
        "val_n = float(value)"
      ],
      "metadata": {
        "colab": {
          "base_uri": "https://localhost:8080/",
          "height": 157
        },
        "id": "S7kqoHZlqXtk",
        "outputId": "e93247a5-f2a6-4812-fb2c-54d51f2e30fd"
      },
      "execution_count": 23,
      "outputs": [
        {
          "output_type": "error",
          "ename": "ValueError",
          "evalue": "could not convert string to float: '$320'",
          "traceback": [
            "\u001b[0;31m---------------------------------------------------------------------------\u001b[0m",
            "\u001b[0;31mValueError\u001b[0m                                Traceback (most recent call last)",
            "\u001b[0;32m<ipython-input-23-1849d51e52e3>\u001b[0m in \u001b[0;36m<cell line: 0>\u001b[0;34m()\u001b[0m\n\u001b[0;32m----> 1\u001b[0;31m \u001b[0mval_n\u001b[0m \u001b[0;34m=\u001b[0m \u001b[0mfloat\u001b[0m\u001b[0;34m(\u001b[0m\u001b[0mvalue\u001b[0m\u001b[0;34m)\u001b[0m\u001b[0;34m\u001b[0m\u001b[0;34m\u001b[0m\u001b[0m\n\u001b[0m",
            "\u001b[0;31mValueError\u001b[0m: could not convert string to float: '$320'"
          ]
        }
      ]
    },
    {
      "cell_type": "code",
      "source": [
        "try:\n",
        "  val_n = float(value)\n",
        "except:\n",
        "  print(\"That’s not a valid number!\")"
      ],
      "metadata": {
        "colab": {
          "base_uri": "https://localhost:8080/"
        },
        "id": "-bSjOehUqPzb",
        "outputId": "9d64092d-d605-444c-d5aa-24fdbd9b3a0c"
      },
      "execution_count": 24,
      "outputs": [
        {
          "output_type": "stream",
          "name": "stdout",
          "text": [
            "That’s not a valid number!\n"
          ]
        }
      ]
    },
    {
      "cell_type": "markdown",
      "source": [
        "# CW 4.8\n",
        "\n",
        "\n",
        "- Import the pandas library as pd.\n",
        "- Install the itables library.\n",
        "- From itables, import the functions init_notebook_mode and show."
      ],
      "metadata": {
        "id": "Xvg93ZJxrXxf"
      }
    },
    {
      "cell_type": "code",
      "source": [
        "import pandas as pd"
      ],
      "metadata": {
        "id": "F9BfhJYhra4u"
      },
      "execution_count": 25,
      "outputs": []
    },
    {
      "cell_type": "code",
      "source": [
        "pip install itables"
      ],
      "metadata": {
        "colab": {
          "base_uri": "https://localhost:8080/"
        },
        "id": "XduX7WxhrcKI",
        "outputId": "61c79c25-0ba5-472a-f5d0-e9fe0a4e3bdb"
      },
      "execution_count": 26,
      "outputs": [
        {
          "output_type": "stream",
          "name": "stdout",
          "text": [
            "Collecting itables\n",
            "  Downloading itables-2.2.4-py3-none-any.whl.metadata (8.4 kB)\n",
            "Requirement already satisfied: ipython in /usr/local/lib/python3.11/dist-packages (from itables) (7.34.0)\n",
            "Requirement already satisfied: numpy in /usr/local/lib/python3.11/dist-packages (from itables) (1.26.4)\n",
            "Requirement already satisfied: pandas in /usr/local/lib/python3.11/dist-packages (from itables) (2.2.2)\n",
            "Requirement already satisfied: setuptools>=18.5 in /usr/local/lib/python3.11/dist-packages (from ipython->itables) (75.1.0)\n",
            "Collecting jedi>=0.16 (from ipython->itables)\n",
            "  Downloading jedi-0.19.2-py2.py3-none-any.whl.metadata (22 kB)\n",
            "Requirement already satisfied: decorator in /usr/local/lib/python3.11/dist-packages (from ipython->itables) (4.4.2)\n",
            "Requirement already satisfied: pickleshare in /usr/local/lib/python3.11/dist-packages (from ipython->itables) (0.7.5)\n",
            "Requirement already satisfied: traitlets>=4.2 in /usr/local/lib/python3.11/dist-packages (from ipython->itables) (5.7.1)\n",
            "Requirement already satisfied: prompt-toolkit!=3.0.0,!=3.0.1,<3.1.0,>=2.0.0 in /usr/local/lib/python3.11/dist-packages (from ipython->itables) (3.0.50)\n",
            "Requirement already satisfied: pygments in /usr/local/lib/python3.11/dist-packages (from ipython->itables) (2.18.0)\n",
            "Requirement already satisfied: backcall in /usr/local/lib/python3.11/dist-packages (from ipython->itables) (0.2.0)\n",
            "Requirement already satisfied: matplotlib-inline in /usr/local/lib/python3.11/dist-packages (from ipython->itables) (0.1.7)\n",
            "Requirement already satisfied: pexpect>4.3 in /usr/local/lib/python3.11/dist-packages (from ipython->itables) (4.9.0)\n",
            "Requirement already satisfied: python-dateutil>=2.8.2 in /usr/local/lib/python3.11/dist-packages (from pandas->itables) (2.8.2)\n",
            "Requirement already satisfied: pytz>=2020.1 in /usr/local/lib/python3.11/dist-packages (from pandas->itables) (2024.2)\n",
            "Requirement already satisfied: tzdata>=2022.7 in /usr/local/lib/python3.11/dist-packages (from pandas->itables) (2025.1)\n",
            "Requirement already satisfied: parso<0.9.0,>=0.8.4 in /usr/local/lib/python3.11/dist-packages (from jedi>=0.16->ipython->itables) (0.8.4)\n",
            "Requirement already satisfied: ptyprocess>=0.5 in /usr/local/lib/python3.11/dist-packages (from pexpect>4.3->ipython->itables) (0.7.0)\n",
            "Requirement already satisfied: wcwidth in /usr/local/lib/python3.11/dist-packages (from prompt-toolkit!=3.0.0,!=3.0.1,<3.1.0,>=2.0.0->ipython->itables) (0.2.13)\n",
            "Requirement already satisfied: six>=1.5 in /usr/local/lib/python3.11/dist-packages (from python-dateutil>=2.8.2->pandas->itables) (1.17.0)\n",
            "Downloading itables-2.2.4-py3-none-any.whl (1.4 MB)\n",
            "\u001b[2K   \u001b[90m━━━━━━━━━━━━━━━━━━━━━━━━━━━━━━━━━━━━━━━━\u001b[0m \u001b[32m1.4/1.4 MB\u001b[0m \u001b[31m20.9 MB/s\u001b[0m eta \u001b[36m0:00:00\u001b[0m\n",
            "\u001b[?25hDownloading jedi-0.19.2-py2.py3-none-any.whl (1.6 MB)\n",
            "\u001b[2K   \u001b[90m━━━━━━━━━━━━━━━━━━━━━━━━━━━━━━━━━━━━━━━━\u001b[0m \u001b[32m1.6/1.6 MB\u001b[0m \u001b[31m66.6 MB/s\u001b[0m eta \u001b[36m0:00:00\u001b[0m\n",
            "\u001b[?25hInstalling collected packages: jedi, itables\n",
            "Successfully installed itables-2.2.4 jedi-0.19.2\n"
          ]
        }
      ]
    },
    {
      "cell_type": "code",
      "source": [
        "from itables import show, init_notebook_mode"
      ],
      "metadata": {
        "id": "MNbJDJ5frjva"
      },
      "execution_count": 27,
      "outputs": []
    },
    {
      "cell_type": "code",
      "source": [
        "from pandas import read_csv"
      ],
      "metadata": {
        "id": "lWQYDKZOruSj"
      },
      "execution_count": 28,
      "outputs": []
    },
    {
      "cell_type": "code",
      "source": [
        "read_csv()"
      ],
      "metadata": {
        "id": "1aIK8FCcrxvy"
      },
      "execution_count": null,
      "outputs": []
    }
  ]
}