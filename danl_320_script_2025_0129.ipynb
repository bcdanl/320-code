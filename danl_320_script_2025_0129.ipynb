{
  "nbformat": 4,
  "nbformat_minor": 0,
  "metadata": {
    "colab": {
      "provenance": [],
      "authorship_tag": "ABX9TyMBi04HrevGQiszLL+w9oZf",
      "include_colab_link": true
    },
    "kernelspec": {
      "name": "python3",
      "display_name": "Python 3"
    },
    "language_info": {
      "name": "python"
    }
  },
  "cells": [
    {
      "cell_type": "markdown",
      "metadata": {
        "id": "view-in-github",
        "colab_type": "text"
      },
      "source": [
        "<a href=\"https://colab.research.google.com/github/bcdanl/320-code/blob/main/danl_320_script_2025_0129.ipynb\" target=\"_parent\"><img src=\"https://colab.research.google.com/assets/colab-badge.svg\" alt=\"Open In Colab\"/></a>"
      ]
    },
    {
      "cell_type": "code",
      "execution_count": 1,
      "metadata": {
        "colab": {
          "base_uri": "https://localhost:8080/"
        },
        "id": "Ty0ALZw7wQbw",
        "outputId": "9bac1d2f-12a4-4252-edc7-c1c8c1d17844"
      },
      "outputs": [
        {
          "output_type": "execute_result",
          "data": {
            "text/plain": [
              "True"
            ]
          },
          "metadata": {},
          "execution_count": 1
        }
      ],
      "source": [
        "\"a\" in \"Sun Devil Arena\""
      ]
    },
    {
      "cell_type": "code",
      "source": [
        "\"a\" in \"Anyone\""
      ],
      "metadata": {
        "colab": {
          "base_uri": "https://localhost:8080/"
        },
        "id": "0Mbxu2HuxyHR",
        "outputId": "e614d04e-75a0-4900-e391-e7288eb31d7a"
      },
      "execution_count": 2,
      "outputs": [
        {
          "output_type": "execute_result",
          "data": {
            "text/plain": [
              "False"
            ]
          },
          "metadata": {},
          "execution_count": 2
        }
      ]
    },
    {
      "cell_type": "code",
      "source": [
        "score = 98\n",
        "\n",
        "if score == 100:\n",
        "    print(\"Top marks!\")\n",
        "elif score > 90 and score < 100:\n",
        "    print(\"High score!\")\n",
        "elif score > 10 and score <= 90:\n",
        "    pass\n",
        "else:\n",
        "    print(\"Better luck next time.\")"
      ],
      "metadata": {
        "colab": {
          "base_uri": "https://localhost:8080/"
        },
        "id": "7_ealolwxzvG",
        "outputId": "57148f92-787f-4c6c-832b-0ef2ce65d218"
      },
      "execution_count": 3,
      "outputs": [
        {
          "output_type": "stream",
          "name": "stdout",
          "text": [
            "High score!\n"
          ]
        }
      ]
    },
    {
      "cell_type": "code",
      "source": [
        "score = 90\n",
        "\n",
        "if score == 100:\n",
        "    print(\"Top marks!\")\n",
        "elif score > 90 and score < 100:\n",
        "    print(\"High score!\")\n",
        "elif score > 10 and score <= 90:\n",
        "    pass\n",
        "else:\n",
        "    print(\"Better luck next time.\")"
      ],
      "metadata": {
        "id": "pHbuQ64dymAB"
      },
      "execution_count": 4,
      "outputs": []
    },
    {
      "cell_type": "code",
      "source": [
        "score = 1\n",
        "\n",
        "if score == 100:\n",
        "    print(\"Top marks!\")\n",
        "elif score > 90 and score < 100:\n",
        "    print(\"High score!\")\n",
        "elif score > 10 and score <= 90:\n",
        "    pass\n",
        "else:\n",
        "    print(\"Better luck next time.\")"
      ],
      "metadata": {
        "colab": {
          "base_uri": "https://localhost:8080/"
        },
        "id": "eIoRpG6SyrPR",
        "outputId": "862e2362-b3c8-49a3-d636-4a507510fa1e"
      },
      "execution_count": 5,
      "outputs": [
        {
          "output_type": "stream",
          "name": "stdout",
          "text": [
            "Better luck next time.\n"
          ]
        }
      ]
    },
    {
      "cell_type": "markdown",
      "source": [
        "# Casting Values"
      ],
      "metadata": {
        "id": "34hxik1RzBzi"
      }
    },
    {
      "cell_type": "code",
      "source": [
        "orig_number = 4.39898498\n",
        "type(orig_number)"
      ],
      "metadata": {
        "colab": {
          "base_uri": "https://localhost:8080/"
        },
        "id": "XhII3dHTzBjT",
        "outputId": "fc637779-1a6a-49c8-b70c-0e0fb7f53c8b"
      },
      "execution_count": 6,
      "outputs": [
        {
          "output_type": "execute_result",
          "data": {
            "text/plain": [
              "float"
            ]
          },
          "metadata": {},
          "execution_count": 6
        }
      ]
    },
    {
      "cell_type": "code",
      "source": [
        "mod_number = int(orig_number)\n",
        "mod_number"
      ],
      "metadata": {
        "colab": {
          "base_uri": "https://localhost:8080/"
        },
        "id": "rjm7XQ7izFEu",
        "outputId": "02fbd6cc-15eb-4a23-a243-26bfa1f13b56"
      },
      "execution_count": 7,
      "outputs": [
        {
          "output_type": "execute_result",
          "data": {
            "text/plain": [
              "4"
            ]
          },
          "metadata": {},
          "execution_count": 7
        }
      ]
    },
    {
      "cell_type": "code",
      "source": [
        "\n",
        "type(mod_number)"
      ],
      "metadata": {
        "colab": {
          "base_uri": "https://localhost:8080/"
        },
        "id": "_NTthkRyzOA8",
        "outputId": "bcdc1bb1-b5a4-4535-c12b-c26698213e1b"
      },
      "execution_count": 8,
      "outputs": [
        {
          "output_type": "execute_result",
          "data": {
            "text/plain": [
              "int"
            ]
          },
          "metadata": {},
          "execution_count": 8
        }
      ]
    },
    {
      "cell_type": "code",
      "source": [
        "orig_number2 = 4.75\n",
        "mod_number2 = int(orig_number2)\n",
        "mod_number2"
      ],
      "metadata": {
        "colab": {
          "base_uri": "https://localhost:8080/"
        },
        "id": "nalbmRaCzQcT",
        "outputId": "08c2ae61-6faa-4d0c-e543-a8b013984b20"
      },
      "execution_count": 9,
      "outputs": [
        {
          "output_type": "execute_result",
          "data": {
            "text/plain": [
              "4"
            ]
          },
          "metadata": {},
          "execution_count": 9
        }
      ]
    },
    {
      "cell_type": "code",
      "source": [
        "dollar_val = \"$4.99\"\n",
        "type(dollar_val)"
      ],
      "metadata": {
        "colab": {
          "base_uri": "https://localhost:8080/"
        },
        "id": "tdnPQaojzoDJ",
        "outputId": "3e08a57e-8c77-4982-a1cb-1eca1ef65270"
      },
      "execution_count": 10,
      "outputs": [
        {
          "output_type": "execute_result",
          "data": {
            "text/plain": [
              "str"
            ]
          },
          "metadata": {},
          "execution_count": 10
        }
      ]
    },
    {
      "cell_type": "code",
      "source": [
        "int(dollar_val)"
      ],
      "metadata": {
        "colab": {
          "base_uri": "https://localhost:8080/",
          "height": 139
        },
        "id": "hpW1I_uozwvM",
        "outputId": "9e783456-5fcc-4899-c5a8-76d37fad735f"
      },
      "execution_count": 11,
      "outputs": [
        {
          "output_type": "error",
          "ename": "ValueError",
          "evalue": "invalid literal for int() with base 10: '$4.99'",
          "traceback": [
            "\u001b[0;31m---------------------------------------------------------------------------\u001b[0m",
            "\u001b[0;31mValueError\u001b[0m                                Traceback (most recent call last)",
            "\u001b[0;32m<ipython-input-11-424e078a6a03>\u001b[0m in \u001b[0;36m<cell line: 0>\u001b[0;34m()\u001b[0m\n\u001b[0;32m----> 1\u001b[0;31m \u001b[0mint\u001b[0m\u001b[0;34m(\u001b[0m\u001b[0mdollar_val\u001b[0m\u001b[0;34m)\u001b[0m\u001b[0;34m\u001b[0m\u001b[0;34m\u001b[0m\u001b[0m\n\u001b[0m",
            "\u001b[0;31mValueError\u001b[0m: invalid literal for int() with base 10: '$4.99'"
          ]
        }
      ]
    },
    {
      "cell_type": "code",
      "source": [
        "score = 1\n",
        "\n",
        "if score == 100:\n",
        "print(\"Top marks!\")\n",
        "elif score > 90 and score < 100:\n",
        "    print(\"High score!\")\n",
        "elif score > 10 and score <= 90:\n",
        "    pass\n",
        "else:\n",
        "    print(\"Better luck next time.\")"
      ],
      "metadata": {
        "colab": {
          "base_uri": "https://localhost:8080/",
          "height": 105
        },
        "id": "uV6e6vX30dfV",
        "outputId": "6b30a893-17b5-460c-bc5a-15fee22efe19"
      },
      "execution_count": 12,
      "outputs": [
        {
          "output_type": "error",
          "ename": "IndentationError",
          "evalue": "expected an indented block after 'if' statement on line 3 (<ipython-input-12-21b1a5a9ebd6>, line 4)",
          "traceback": [
            "\u001b[0;36m  File \u001b[0;32m\"<ipython-input-12-21b1a5a9ebd6>\"\u001b[0;36m, line \u001b[0;32m4\u001b[0m\n\u001b[0;31m    print(\"Top marks!\")\u001b[0m\n\u001b[0m    ^\u001b[0m\n\u001b[0;31mIndentationError\u001b[0m\u001b[0;31m:\u001b[0m expected an indented block after 'if' statement on line 3\n"
          ]
        }
      ]
    },
    {
      "cell_type": "code",
      "source": [
        "cities_to_temps = {\"Paris\": 28, \"London\": 22, \"New York\": 36, \"Seoul\": 29}\n",
        "cities_to_temps"
      ],
      "metadata": {
        "colab": {
          "base_uri": "https://localhost:8080/"
        },
        "id": "iMb17vyv04qF",
        "outputId": "d33a7334-87b5-4342-c3cd-aaa8d8a79362"
      },
      "execution_count": 13,
      "outputs": [
        {
          "output_type": "execute_result",
          "data": {
            "text/plain": [
              "{'Paris': 28, 'London': 22, 'New York': 36, 'Seoul': 29}"
            ]
          },
          "metadata": {},
          "execution_count": 13
        }
      ]
    },
    {
      "cell_type": "code",
      "source": [
        "\n",
        "cities_to_temps.keys()"
      ],
      "metadata": {
        "colab": {
          "base_uri": "https://localhost:8080/"
        },
        "id": "CPFls3eY0-VD",
        "outputId": "84e2ca70-5aa4-4e8d-fcd4-7c72a135f488"
      },
      "execution_count": 14,
      "outputs": [
        {
          "output_type": "execute_result",
          "data": {
            "text/plain": [
              "dict_keys(['Paris', 'London', 'New York', 'Seoul'])"
            ]
          },
          "metadata": {},
          "execution_count": 14
        }
      ]
    },
    {
      "cell_type": "code",
      "source": [
        "\n",
        "cities_to_temps.values()"
      ],
      "metadata": {
        "colab": {
          "base_uri": "https://localhost:8080/"
        },
        "id": "QZF-QEUJ1DCa",
        "outputId": "507f7e59-b37b-4f20-a0a0-80def55e922e"
      },
      "execution_count": 15,
      "outputs": [
        {
          "output_type": "execute_result",
          "data": {
            "text/plain": [
              "dict_values([28, 22, 36, 29])"
            ]
          },
          "metadata": {},
          "execution_count": 15
        }
      ]
    },
    {
      "cell_type": "code",
      "source": [
        "\n",
        "cities_to_temps.items()"
      ],
      "metadata": {
        "colab": {
          "base_uri": "https://localhost:8080/"
        },
        "id": "xFIxQ7at1E2m",
        "outputId": "0a144c94-c24a-4c2f-c0f6-b68903712160"
      },
      "execution_count": 16,
      "outputs": [
        {
          "output_type": "execute_result",
          "data": {
            "text/plain": [
              "dict_items([('Paris', 28), ('London', 22), ('New York', 36), ('Seoul', 29)])"
            ]
          },
          "metadata": {},
          "execution_count": 16
        }
      ]
    },
    {
      "cell_type": "code",
      "source": [
        "type([])"
      ],
      "metadata": {
        "colab": {
          "base_uri": "https://localhost:8080/"
        },
        "id": "rvs-BA5V1p67",
        "outputId": "add6ab3b-58a3-4205-c7af-e99a42f788c2"
      },
      "execution_count": 17,
      "outputs": [
        {
          "output_type": "execute_result",
          "data": {
            "text/plain": [
              "list"
            ]
          },
          "metadata": {},
          "execution_count": 17
        }
      ]
    },
    {
      "cell_type": "markdown",
      "source": [
        "# Slicing"
      ],
      "metadata": {
        "id": "9igNJg5-2YHO"
      }
    },
    {
      "cell_type": "code",
      "source": [
        "string = \"cheesecake\"\n",
        "print( string[-4:] )"
      ],
      "metadata": {
        "colab": {
          "base_uri": "https://localhost:8080/"
        },
        "id": "Ambr6zP72Zs2",
        "outputId": "65be506b-8d29-4c97-b0cd-e5c510b35977"
      },
      "execution_count": 18,
      "outputs": [
        {
          "output_type": "stream",
          "name": "stdout",
          "text": [
            "cake\n"
          ]
        }
      ]
    },
    {
      "cell_type": "code",
      "source": [
        "string = \"cheesecake\"\n",
        "print(\"String has length:\")\n",
        "print( len(string) )"
      ],
      "metadata": {
        "colab": {
          "base_uri": "https://localhost:8080/"
        },
        "id": "a_QsU6YD2p-t",
        "outputId": "5dfd87f8-3b23-45a6-c897-92cb12e694db"
      },
      "execution_count": 19,
      "outputs": [
        {
          "output_type": "stream",
          "name": "stdout",
          "text": [
            "String has length:\n",
            "10\n"
          ]
        }
      ]
    },
    {
      "cell_type": "code",
      "source": [
        "list_of_numbers = range(1, 20)\n",
        "print(\"List of numbers has length:\")\n",
        "print( len(list_of_numbers) )"
      ],
      "metadata": {
        "colab": {
          "base_uri": "https://localhost:8080/"
        },
        "id": "a1bKAL9M2sgu",
        "outputId": "4e1acccc-aa48-4247-a940-9749a32aeb8d"
      },
      "execution_count": 20,
      "outputs": [
        {
          "output_type": "stream",
          "name": "stdout",
          "text": [
            "List of numbers has length:\n",
            "19\n"
          ]
        }
      ]
    },
    {
      "cell_type": "markdown",
      "source": [
        "# Dot operation with strings"
      ],
      "metadata": {
        "id": "JUQqVFew3RZA"
      }
    },
    {
      "cell_type": "code",
      "source": [
        "tasks = 'get gloves,get mask,give cat vitamins,call ambulance'\n",
        "tasks.split(',')\n"
      ],
      "metadata": {
        "colab": {
          "base_uri": "https://localhost:8080/"
        },
        "id": "25bHC0M_3TOI",
        "outputId": "acffbd33-c600-4bc2-c2c2-a04360a92944"
      },
      "execution_count": 21,
      "outputs": [
        {
          "output_type": "execute_result",
          "data": {
            "text/plain": [
              "['get gloves', 'get mask', 'give cat vitamins', 'call ambulance']"
            ]
          },
          "metadata": {},
          "execution_count": 21
        }
      ]
    },
    {
      "cell_type": "code",
      "source": [
        "tasks.split()"
      ],
      "metadata": {
        "colab": {
          "base_uri": "https://localhost:8080/"
        },
        "id": "xii550II3XFL",
        "outputId": "c1c955d0-9743-433d-a9d5-ccc08bf5d03f"
      },
      "execution_count": 22,
      "outputs": [
        {
          "output_type": "execute_result",
          "data": {
            "text/plain": [
              "['get', 'gloves,get', 'mask,give', 'cat', 'vitamins,call', 'ambulance']"
            ]
          },
          "metadata": {},
          "execution_count": 22
        }
      ]
    },
    {
      "cell_type": "code",
      "source": [
        "crypto_list = ['Yeti', 'Bigfoot', 'Loch Ness Monster']\n",
        "crypto_string = ', '.join(crypto_list)\n",
        "crypto_string"
      ],
      "metadata": {
        "colab": {
          "base_uri": "https://localhost:8080/",
          "height": 35
        },
        "id": "zxhQ1CYL3r0G",
        "outputId": "c0fb68eb-f788-461f-8bbf-d7881b53d6f5"
      },
      "execution_count": 24,
      "outputs": [
        {
          "output_type": "execute_result",
          "data": {
            "text/plain": [
              "'Yeti, Bigfoot, Loch Ness Monster'"
            ],
            "application/vnd.google.colaboratory.intrinsic+json": {
              "type": "string"
            }
          },
          "metadata": {},
          "execution_count": 24
        }
      ]
    },
    {
      "cell_type": "markdown",
      "source": [
        "# Slicing with strings"
      ],
      "metadata": {
        "id": "w5s84BRL4N7_"
      }
    },
    {
      "cell_type": "code",
      "source": [
        "letters = 'abcdefghij'\n",
        "letters[-50:]"
      ],
      "metadata": {
        "colab": {
          "base_uri": "https://localhost:8080/",
          "height": 35
        },
        "id": "_fgsh7jf4NGm",
        "outputId": "c3fac5a7-e436-41ff-cf6a-63f1d3758fe0"
      },
      "execution_count": 25,
      "outputs": [
        {
          "output_type": "execute_result",
          "data": {
            "text/plain": [
              "'abcdefghij'"
            ],
            "application/vnd.google.colaboratory.intrinsic+json": {
              "type": "string"
            }
          },
          "metadata": {},
          "execution_count": 25
        }
      ]
    },
    {
      "cell_type": "code",
      "source": [
        "\n",
        "letters[4:]"
      ],
      "metadata": {
        "colab": {
          "base_uri": "https://localhost:8080/",
          "height": 35
        },
        "id": "wzD7cX0Z4Rme",
        "outputId": "ca9cce17-93ad-4d2c-da08-6564844db664"
      },
      "execution_count": 26,
      "outputs": [
        {
          "output_type": "execute_result",
          "data": {
            "text/plain": [
              "'efghij'"
            ],
            "application/vnd.google.colaboratory.intrinsic+json": {
              "type": "string"
            }
          },
          "metadata": {},
          "execution_count": 26
        }
      ]
    },
    {
      "cell_type": "code",
      "source": [
        "\n",
        "letters[2:]"
      ],
      "metadata": {
        "colab": {
          "base_uri": "https://localhost:8080/",
          "height": 35
        },
        "id": "ahk1n_si4TMO",
        "outputId": "8c7c0d86-3ef2-4bf3-a8a3-bf375c089153"
      },
      "execution_count": 27,
      "outputs": [
        {
          "output_type": "execute_result",
          "data": {
            "text/plain": [
              "'cdefghij'"
            ],
            "application/vnd.google.colaboratory.intrinsic+json": {
              "type": "string"
            }
          },
          "metadata": {},
          "execution_count": 27
        }
      ]
    },
    {
      "cell_type": "code",
      "source": [
        "\n",
        "letters[-3:]"
      ],
      "metadata": {
        "colab": {
          "base_uri": "https://localhost:8080/",
          "height": 35
        },
        "id": "3M7gReay4T8E",
        "outputId": "c6a51177-08e8-4794-8d54-9b550dd844e2"
      },
      "execution_count": 28,
      "outputs": [
        {
          "output_type": "execute_result",
          "data": {
            "text/plain": [
              "'hij'"
            ],
            "application/vnd.google.colaboratory.intrinsic+json": {
              "type": "string"
            }
          },
          "metadata": {},
          "execution_count": 28
        }
      ]
    },
    {
      "cell_type": "code",
      "source": [
        "letters = 'abcdefghij'\n",
        "letters[:3]"
      ],
      "metadata": {
        "colab": {
          "base_uri": "https://localhost:8080/",
          "height": 35
        },
        "id": "AzMSJyEV4ebz",
        "outputId": "225c883c-e1cf-41ae-97a2-74bf3f1e80aa"
      },
      "execution_count": 29,
      "outputs": [
        {
          "output_type": "execute_result",
          "data": {
            "text/plain": [
              "'abc'"
            ],
            "application/vnd.google.colaboratory.intrinsic+json": {
              "type": "string"
            }
          },
          "metadata": {},
          "execution_count": 29
        }
      ]
    },
    {
      "cell_type": "code",
      "source": [
        "\n",
        "letters[:-3]"
      ],
      "metadata": {
        "colab": {
          "base_uri": "https://localhost:8080/",
          "height": 35
        },
        "id": "pf74lxBv4lAA",
        "outputId": "2a17679d-b3fe-4702-f5b0-63976eca153d"
      },
      "execution_count": 30,
      "outputs": [
        {
          "output_type": "execute_result",
          "data": {
            "text/plain": [
              "'abcdefg'"
            ],
            "application/vnd.google.colaboratory.intrinsic+json": {
              "type": "string"
            }
          },
          "metadata": {},
          "execution_count": 30
        }
      ]
    },
    {
      "cell_type": "code",
      "source": [
        "\n",
        "letters[:70]"
      ],
      "metadata": {
        "colab": {
          "base_uri": "https://localhost:8080/",
          "height": 35
        },
        "id": "Mc2kKiJJ4pNz",
        "outputId": "a20209d5-edb6-4010-e9b6-5bc87de37a49"
      },
      "execution_count": 31,
      "outputs": [
        {
          "output_type": "execute_result",
          "data": {
            "text/plain": [
              "'abcdefghij'"
            ],
            "application/vnd.google.colaboratory.intrinsic+json": {
              "type": "string"
            }
          },
          "metadata": {},
          "execution_count": 31
        }
      ]
    },
    {
      "cell_type": "code",
      "source": [
        "letters = 'abcdefghij'\n",
        "letters[2:5]"
      ],
      "metadata": {
        "colab": {
          "base_uri": "https://localhost:8080/",
          "height": 35
        },
        "id": "D5koFnbD4x5j",
        "outputId": "ee689f19-060a-437f-b84d-06764f4588d1"
      },
      "execution_count": 32,
      "outputs": [
        {
          "output_type": "execute_result",
          "data": {
            "text/plain": [
              "'cde'"
            ],
            "application/vnd.google.colaboratory.intrinsic+json": {
              "type": "string"
            }
          },
          "metadata": {},
          "execution_count": 32
        }
      ]
    },
    {
      "cell_type": "code",
      "source": [
        "\n",
        "letters[-26:-24]"
      ],
      "metadata": {
        "colab": {
          "base_uri": "https://localhost:8080/",
          "height": 35
        },
        "id": "3FK-kMtj4yzp",
        "outputId": "9968caca-0750-4060-b8a2-b352219501e3"
      },
      "execution_count": 33,
      "outputs": [
        {
          "output_type": "execute_result",
          "data": {
            "text/plain": [
              "''"
            ],
            "application/vnd.google.colaboratory.intrinsic+json": {
              "type": "string"
            }
          },
          "metadata": {},
          "execution_count": 33
        }
      ]
    },
    {
      "cell_type": "code",
      "source": [
        "\n",
        "letters[35:37]"
      ],
      "metadata": {
        "colab": {
          "base_uri": "https://localhost:8080/",
          "height": 35
        },
        "id": "ttgW9ovs4zmj",
        "outputId": "da5ae79f-16d6-4913-a72d-0e9fbf3df39f"
      },
      "execution_count": 34,
      "outputs": [
        {
          "output_type": "execute_result",
          "data": {
            "text/plain": [
              "''"
            ],
            "application/vnd.google.colaboratory.intrinsic+json": {
              "type": "string"
            }
          },
          "metadata": {},
          "execution_count": 34
        }
      ]
    },
    {
      "cell_type": "code",
      "source": [
        "letters[2 : 6 : 2]   # From index 2 to 5, by steps of 2 characters\n"
      ],
      "metadata": {
        "colab": {
          "base_uri": "https://localhost:8080/",
          "height": 35
        },
        "id": "Eg0QAGVP48gc",
        "outputId": "754f99da-175b-4994-c53a-97086480bdd4"
      },
      "execution_count": 35,
      "outputs": [
        {
          "output_type": "execute_result",
          "data": {
            "text/plain": [
              "'ce'"
            ],
            "application/vnd.google.colaboratory.intrinsic+json": {
              "type": "string"
            }
          },
          "metadata": {},
          "execution_count": 35
        }
      ]
    },
    {
      "cell_type": "code",
      "source": [
        "letters[ : : 3]     # From the start to the end, in steps of 3 characters\n"
      ],
      "metadata": {
        "colab": {
          "base_uri": "https://localhost:8080/",
          "height": 35
        },
        "id": "0-Q9bA855Dmy",
        "outputId": "e6205fc7-de4d-470f-92b8-bc648de3a4c9"
      },
      "execution_count": 36,
      "outputs": [
        {
          "output_type": "execute_result",
          "data": {
            "text/plain": [
              "'adgj'"
            ],
            "application/vnd.google.colaboratory.intrinsic+json": {
              "type": "string"
            }
          },
          "metadata": {},
          "execution_count": 36
        }
      ]
    },
    {
      "cell_type": "code",
      "source": [
        "letters[: : -1 ]\n"
      ],
      "metadata": {
        "colab": {
          "base_uri": "https://localhost:8080/",
          "height": 35
        },
        "id": "2ird6MHv5NoH",
        "outputId": "0995d602-1ecd-44d0-c1d7-7ba53479ed54"
      },
      "execution_count": 37,
      "outputs": [
        {
          "output_type": "execute_result",
          "data": {
            "text/plain": [
              "'jihgfedcba'"
            ],
            "application/vnd.google.colaboratory.intrinsic+json": {
              "type": "string"
            }
          },
          "metadata": {},
          "execution_count": 37
        }
      ]
    },
    {
      "cell_type": "code",
      "source": [
        "list_example = ['one', 'two', 'three']\n",
        "list_example[ 0 : 1 ]\n"
      ],
      "metadata": {
        "colab": {
          "base_uri": "https://localhost:8080/"
        },
        "id": "ezStqJ6T5h8l",
        "outputId": "9aa4a2dd-15d9-412e-c442-94add0fac1cf"
      },
      "execution_count": 38,
      "outputs": [
        {
          "output_type": "execute_result",
          "data": {
            "text/plain": [
              "['one']"
            ]
          },
          "metadata": {},
          "execution_count": 38
        }
      ]
    },
    {
      "cell_type": "code",
      "source": [
        "list_example[ 1 : 3 ]"
      ],
      "metadata": {
        "colab": {
          "base_uri": "https://localhost:8080/"
        },
        "id": "8qN3vaOK5jhL",
        "outputId": "bd8f30e2-6c47-4ed9-df3f-e4cbf14d6872"
      },
      "execution_count": 39,
      "outputs": [
        {
          "output_type": "execute_result",
          "data": {
            "text/plain": [
              "['two', 'three']"
            ]
          },
          "metadata": {},
          "execution_count": 39
        }
      ]
    },
    {
      "cell_type": "code",
      "source": [
        "suny = ['Geneseo', 'Brockport', 'Oswego', 'Binghamton',\n",
        "        'Stony Brook', 'New Paltz']"
      ],
      "metadata": {
        "id": "GOi8m7X750yV"
      },
      "execution_count": 42,
      "outputs": []
    },
    {
      "cell_type": "code",
      "source": [
        "suny[2]\n"
      ],
      "metadata": {
        "colab": {
          "base_uri": "https://localhost:8080/",
          "height": 35
        },
        "id": "biCjHooK52_J",
        "outputId": "bc6f228d-96ab-4a40-d6f2-4b35a002c9b2"
      },
      "execution_count": 45,
      "outputs": [
        {
          "output_type": "execute_result",
          "data": {
            "text/plain": [
              "'Oswego'"
            ],
            "application/vnd.google.colaboratory.intrinsic+json": {
              "type": "string"
            }
          },
          "metadata": {},
          "execution_count": 45
        }
      ]
    },
    {
      "cell_type": "code",
      "source": [
        "suny[7]"
      ],
      "metadata": {
        "colab": {
          "base_uri": "https://localhost:8080/",
          "height": 139
        },
        "id": "CEqrU5TN541C",
        "outputId": "ee23f271-c205-4ea1-d1b3-a980d091d1f4"
      },
      "execution_count": 43,
      "outputs": [
        {
          "output_type": "error",
          "ename": "IndexError",
          "evalue": "list index out of range",
          "traceback": [
            "\u001b[0;31m---------------------------------------------------------------------------\u001b[0m",
            "\u001b[0;31mIndexError\u001b[0m                                Traceback (most recent call last)",
            "\u001b[0;32m<ipython-input-43-e975ef6d1cb4>\u001b[0m in \u001b[0;36m<cell line: 0>\u001b[0;34m()\u001b[0m\n\u001b[0;32m----> 1\u001b[0;31m \u001b[0msuny\u001b[0m\u001b[0;34m[\u001b[0m\u001b[0;36m7\u001b[0m\u001b[0;34m]\u001b[0m\u001b[0;34m\u001b[0m\u001b[0;34m\u001b[0m\u001b[0m\n\u001b[0m",
            "\u001b[0;31mIndexError\u001b[0m: list index out of range"
          ]
        }
      ]
    },
    {
      "cell_type": "markdown",
      "source": [
        "# Classwork 4.3"
      ],
      "metadata": {
        "id": "PGo23seH6aRo"
      }
    },
    {
      "cell_type": "code",
      "source": [
        "fare = \"$10.00\"\n",
        "tip = \"2.00$\"\n",
        "tax = \"$ 0.80\""
      ],
      "metadata": {
        "id": "EX-JtRlK6dJv"
      },
      "execution_count": 51,
      "outputs": []
    },
    {
      "cell_type": "code",
      "source": [
        "fare = float(fare[1:])\n",
        "tip = float(tip[:-2])\n",
        "tax = float(tax[3:])"
      ],
      "metadata": {
        "id": "seeKGUQs6emm"
      },
      "execution_count": 52,
      "outputs": []
    },
    {
      "cell_type": "code",
      "source": [
        "tot = fare + tip + tax\n",
        "tot"
      ],
      "metadata": {
        "colab": {
          "base_uri": "https://localhost:8080/"
        },
        "id": "U9EVq4nD64g8",
        "outputId": "5dda67a6-688c-4500-bcee-50f94ed1ea2c"
      },
      "execution_count": 57,
      "outputs": [
        {
          "output_type": "execute_result",
          "data": {
            "text/plain": [
              "12.8"
            ]
          },
          "metadata": {},
          "execution_count": 57
        }
      ]
    },
    {
      "cell_type": "code",
      "source": [
        "print(\"The total trip cost is: $\", tot)"
      ],
      "metadata": {
        "colab": {
          "base_uri": "https://localhost:8080/"
        },
        "id": "EmsWCdBD7BXz",
        "outputId": "c7a74792-2f94-4081-888b-4f5d30051549"
      },
      "execution_count": 58,
      "outputs": [
        {
          "output_type": "stream",
          "name": "stdout",
          "text": [
            "The total trip cost is: $ 12.8\n"
          ]
        }
      ]
    },
    {
      "cell_type": "code",
      "source": [
        "tot = str(tot)"
      ],
      "metadata": {
        "id": "K_Owv0Pd7OZZ"
      },
      "execution_count": 59,
      "outputs": []
    },
    {
      "cell_type": "code",
      "source": [
        "string = \"The total trip cost is: $\" + tot + \"0\"\n",
        "print(string)"
      ],
      "metadata": {
        "colab": {
          "base_uri": "https://localhost:8080/"
        },
        "id": "pMYHQYlW7TsK",
        "outputId": "fc15fd96-d31c-4aac-99e0-fda57173419d"
      },
      "execution_count": 61,
      "outputs": [
        {
          "output_type": "stream",
          "name": "stdout",
          "text": [
            "The total trip cost is: $12.80\n"
          ]
        }
      ]
    },
    {
      "cell_type": "code",
      "source": [
        "# f-string might be more efficient to solve this question!"
      ],
      "metadata": {
        "id": "CsmmbiFA7dHd"
      },
      "execution_count": null,
      "outputs": []
    },
    {
      "cell_type": "code",
      "source": [
        "print(\"Cherry\", \"Strawberry\", \"Key Lime\")"
      ],
      "metadata": {
        "colab": {
          "base_uri": "https://localhost:8080/"
        },
        "id": "miWq6WxQ70P9",
        "outputId": "cc68a374-2daa-4aee-bba8-23c198293ad9"
      },
      "execution_count": 62,
      "outputs": [
        {
          "output_type": "stream",
          "name": "stdout",
          "text": [
            "Cherry Strawberry Key Lime\n"
          ]
        }
      ]
    },
    {
      "cell_type": "code",
      "source": [
        "\n",
        "print(\"Cherry\", \"Strawberry\", \"Key Lime\", sep = \"!\")\n"
      ],
      "metadata": {
        "colab": {
          "base_uri": "https://localhost:8080/"
        },
        "id": "guVRqdPe72YW",
        "outputId": "12ab1d4f-9e89-48e8-a435-10ffa1326908"
      },
      "execution_count": 63,
      "outputs": [
        {
          "output_type": "stream",
          "name": "stdout",
          "text": [
            "Cherry!Strawberry!Key Lime\n"
          ]
        }
      ]
    },
    {
      "cell_type": "code",
      "source": [
        "print(\"Cherry\", \"Strawberry\", \"Key Lime\", sep=\" \")"
      ],
      "metadata": {
        "colab": {
          "base_uri": "https://localhost:8080/"
        },
        "id": "_zfcu7vd75gw",
        "outputId": "5a86597f-eabd-4b25-d027-a17fdc0e0d97"
      },
      "execution_count": 64,
      "outputs": [
        {
          "output_type": "stream",
          "name": "stdout",
          "text": [
            "Cherry Strawberry Key Lime\n"
          ]
        }
      ]
    },
    {
      "cell_type": "markdown",
      "source": [
        "# Classwork 4.4"
      ],
      "metadata": {
        "id": "gjx8H4Dt8Ro0"
      }
    },
    {
      "cell_type": "code",
      "source": [
        "list_variable = [100, 144, 169, 1000, 8]\n",
        "max_n = max(list_variable)\n",
        "max_n"
      ],
      "metadata": {
        "colab": {
          "base_uri": "https://localhost:8080/"
        },
        "id": "lzyw0HdZ8TqC",
        "outputId": "d09286a5-2250-4eb9-a6f0-334ea9cd9212"
      },
      "execution_count": 66,
      "outputs": [
        {
          "output_type": "execute_result",
          "data": {
            "text/plain": [
              "1000"
            ]
          },
          "metadata": {},
          "execution_count": 66
        }
      ]
    },
    {
      "cell_type": "code",
      "source": [
        "print(\"The largest value in the list is:\", max_n)"
      ],
      "metadata": {
        "colab": {
          "base_uri": "https://localhost:8080/"
        },
        "id": "ze8bdXeq8b18",
        "outputId": "bb49df12-806e-488c-daab-a55ab1d5a280"
      },
      "execution_count": 67,
      "outputs": [
        {
          "output_type": "stream",
          "name": "stdout",
          "text": [
            "The largest value in the list is: 1000\n"
          ]
        }
      ]
    },
    {
      "cell_type": "markdown",
      "source": [
        "# While Loop"
      ],
      "metadata": {
        "id": "rrzM8tr0-SfM"
      }
    },
    {
      "cell_type": "code",
      "source": [
        "count = 1\n",
        "count += 1 # count = count + 1"
      ],
      "metadata": {
        "id": "SDrn2pJp8yn6"
      },
      "execution_count": 68,
      "outputs": []
    },
    {
      "cell_type": "code",
      "source": [
        "count"
      ],
      "metadata": {
        "colab": {
          "base_uri": "https://localhost:8080/"
        },
        "id": "pZe93bXa876r",
        "outputId": "8314e303-5ae7-472e-b45a-45c543b0a6fe"
      },
      "execution_count": 69,
      "outputs": [
        {
          "output_type": "execute_result",
          "data": {
            "text/plain": [
              "2"
            ]
          },
          "metadata": {},
          "execution_count": 69
        }
      ]
    },
    {
      "cell_type": "code",
      "source": [
        "count = 1\n",
        "while count <= 5:\n",
        "  print(count)\n",
        "  count += 1"
      ],
      "metadata": {
        "colab": {
          "base_uri": "https://localhost:8080/"
        },
        "id": "--Tl1g7l84V7",
        "outputId": "f4dfabd7-2d5a-493f-8987-9344e49c2ad8"
      },
      "execution_count": 71,
      "outputs": [
        {
          "output_type": "stream",
          "name": "stdout",
          "text": [
            "1\n",
            "2\n",
            "3\n",
            "4\n",
            "5\n"
          ]
        }
      ]
    },
    {
      "cell_type": "code",
      "source": [
        "stuff = input()"
      ],
      "metadata": {
        "colab": {
          "base_uri": "https://localhost:8080/"
        },
        "id": "2XpVQv4k96pk",
        "outputId": "d2aafff0-71dc-4c3e-c227-83c4dda42b5e"
      },
      "execution_count": 72,
      "outputs": [
        {
          "name": "stdout",
          "output_type": "stream",
          "text": [
            "10\n"
          ]
        }
      ]
    },
    {
      "cell_type": "code",
      "source": [
        "stuff"
      ],
      "metadata": {
        "colab": {
          "base_uri": "https://localhost:8080/",
          "height": 35
        },
        "id": "bzwHHKCg9_2m",
        "outputId": "89c61a50-ad6f-4f6b-f1ca-2cb0d2127044"
      },
      "execution_count": 73,
      "outputs": [
        {
          "output_type": "execute_result",
          "data": {
            "text/plain": [
              "'10'"
            ],
            "application/vnd.google.colaboratory.intrinsic+json": {
              "type": "string"
            }
          },
          "metadata": {},
          "execution_count": 73
        }
      ]
    },
    {
      "cell_type": "code",
      "source": [
        "while True:\n",
        "    user_input = input(\"Enter 'yes' to continue or 'no' to stop: \")\n",
        "    if user_input.lower() == 'no':\n",
        "        print(\"Exiting the loop. Goodbye!\")\n",
        "        break\n",
        "    elif user_input.lower() == 'yes':\n",
        "        print(\"You chose to continue.\")\n",
        "    else:\n",
        "        print(\"Invalid input, please enter 'yes' or 'no'.\")"
      ],
      "metadata": {
        "colab": {
          "base_uri": "https://localhost:8080/"
        },
        "id": "nJhfR0y8-UCJ",
        "outputId": "c9a622a4-a95e-4cd7-87c4-c80da4b43e08"
      },
      "execution_count": 74,
      "outputs": [
        {
          "output_type": "stream",
          "name": "stdout",
          "text": [
            "Enter 'yes' to continue or 'no' to stop: yes\n",
            "You chose to continue.\n",
            "Enter 'yes' to continue or 'no' to stop: yesssssss\n",
            "Invalid input, please enter 'yes' or 'no'.\n",
            "Enter 'yes' to continue or 'no' to stop: no\n",
            "Exiting the loop. Goodbye!\n"
          ]
        }
      ]
    },
    {
      "cell_type": "code",
      "source": [
        "while True:\n",
        "    value = input(\"Integer, please [q to quit]: \")\n",
        "    if value == 'q': # quit\n",
        "        break\n",
        "    number = int(value)\n",
        "    if number % 2 == 0: # an even number\n",
        "        continue\n",
        "    print(number, \"squared is\", number*number)"
      ],
      "metadata": {
        "colab": {
          "base_uri": "https://localhost:8080/"
        },
        "id": "Miyi27Sa_nO2",
        "outputId": "39789bd7-fa6b-46bf-b47b-5c9c18a69ed6"
      },
      "execution_count": 75,
      "outputs": [
        {
          "name": "stdout",
          "output_type": "stream",
          "text": [
            "Integer, please [q to quit]: 4\n",
            "Integer, please [q to quit]: 3\n",
            "3 squared is 9\n",
            "Integer, please [q to quit]: q\n"
          ]
        }
      ]
    },
    {
      "cell_type": "code",
      "source": [
        "numbers = [1, 3, 5]\n",
        "position = 0\n",
        "\n",
        "while position < len(numbers):\n",
        "    number = numbers[position]\n",
        "    if number > 4:  # Condition changed to checking if the number is greater than 4\n",
        "        print('Found a number greater than 4:', number)\n",
        "        break\n",
        "    position += 1\n",
        "else:  # break not called\n",
        "    print('No number greater than 4 found')"
      ],
      "metadata": {
        "colab": {
          "base_uri": "https://localhost:8080/"
        },
        "id": "RCfHT7dTAjs8",
        "outputId": "426fc49f-e9bd-4bfa-efbe-16748a6ca32f"
      },
      "execution_count": 76,
      "outputs": [
        {
          "output_type": "stream",
          "name": "stdout",
          "text": [
            "Found a number greater than 4: 5\n"
          ]
        }
      ]
    },
    {
      "cell_type": "code",
      "source": [
        "numbers = [1, 3, 4]\n",
        "position = 0\n",
        "\n",
        "while position < len(numbers):\n",
        "    number = numbers[position]\n",
        "    if number > 4:  # Condition changed to checking if the number is greater than 4\n",
        "        print('Found a number greater than 4:', number)\n",
        "        break\n",
        "    position += 1\n",
        "else:  # break not called\n",
        "    print('No number greater than 4 found')"
      ],
      "metadata": {
        "colab": {
          "base_uri": "https://localhost:8080/"
        },
        "id": "HskSGsKeAodx",
        "outputId": "4adbb842-13b6-430f-ec30-bd3dc5954207"
      },
      "execution_count": 77,
      "outputs": [
        {
          "output_type": "stream",
          "name": "stdout",
          "text": [
            "No number greater than 4 found\n"
          ]
        }
      ]
    },
    {
      "cell_type": "markdown",
      "source": [
        "# For loop"
      ],
      "metadata": {
        "id": "R9X0sWEgBPkY"
      }
    },
    {
      "cell_type": "code",
      "source": [
        "word = 'thud'\n",
        "offset = 0\n",
        "while offset < len(word):\n",
        "    print(word[offset])\n",
        "    offset += 1"
      ],
      "metadata": {
        "colab": {
          "base_uri": "https://localhost:8080/"
        },
        "id": "OCmQGjSHBPLE",
        "outputId": "2625d527-ede3-4225-99e6-790217fa4a43"
      },
      "execution_count": 78,
      "outputs": [
        {
          "output_type": "stream",
          "name": "stdout",
          "text": [
            "t\n",
            "h\n",
            "u\n",
            "d\n"
          ]
        }
      ]
    },
    {
      "cell_type": "code",
      "source": [
        "word = 'thud'\n",
        "for j in word:\n",
        "    print(j)"
      ],
      "metadata": {
        "colab": {
          "base_uri": "https://localhost:8080/"
        },
        "id": "3ZUtVHtqBSWa",
        "outputId": "3a9d3baa-9e05-4816-d544-2074599e7812"
      },
      "execution_count": 80,
      "outputs": [
        {
          "output_type": "stream",
          "name": "stdout",
          "text": [
            "t\n",
            "h\n",
            "u\n",
            "d\n"
          ]
        }
      ]
    },
    {
      "cell_type": "code",
      "source": [
        "word = 'thud'\n",
        "for letter in word:\n",
        "    if letter == 'u':\n",
        "        continue\n",
        "    print(letter)"
      ],
      "metadata": {
        "colab": {
          "base_uri": "https://localhost:8080/"
        },
        "id": "oWvoKnWZBgU0",
        "outputId": "9121f5d6-27c6-44f4-cd67-512ad177d811"
      },
      "execution_count": 81,
      "outputs": [
        {
          "output_type": "stream",
          "name": "stdout",
          "text": [
            "t\n",
            "h\n",
            "d\n"
          ]
        }
      ]
    },
    {
      "cell_type": "code",
      "source": [
        "for x in range(0, 3):\n",
        "    print(x)\n",
        "list( range(0, 3) )"
      ],
      "metadata": {
        "colab": {
          "base_uri": "https://localhost:8080/"
        },
        "id": "4LNjfjgaBpGN",
        "outputId": "b679a4d3-4fe9-4447-e675-341b921ecb69"
      },
      "execution_count": 82,
      "outputs": [
        {
          "output_type": "stream",
          "name": "stdout",
          "text": [
            "0\n",
            "1\n",
            "2\n"
          ]
        },
        {
          "output_type": "execute_result",
          "data": {
            "text/plain": [
              "[0, 1, 2]"
            ]
          },
          "metadata": {},
          "execution_count": 82
        }
      ]
    }
  ]
}